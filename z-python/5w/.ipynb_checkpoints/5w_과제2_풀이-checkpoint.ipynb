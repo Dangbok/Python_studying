{
 "cells": [
  {
   "cell_type": "code",
   "execution_count": 12,
   "metadata": {},
   "outputs": [
    {
     "name": "stdout",
     "output_type": "stream",
     "text": [
      "python 3.9.7 (default, Sep 16 2021, 16:59:28) [MSC v.1916 64 bit (AMD64)]\n",
      "numpy 1.20.3\n",
      "pandas 1.4.1\n"
     ]
    }
   ],
   "source": [
    "import sys\n",
    "print('python', sys.version)\n",
    "\n",
    "import numpy as np\n",
    "print('numpy', np.__version__)\n",
    "\n",
    "import pandas as pd\n",
    "print('pandas', pd.__version__)\n",
    "\n",
    "# 결과 확인을 용이하게 하기 위한 코드\n",
    "from IPython.core.interactiveshell import InteractiveShell\n",
    "InteractiveShell.ast_node_interactivity = 'all'"
   ]
  },
  {
   "cell_type": "markdown",
   "metadata": {},
   "source": [
    "## 과제 2-1"
   ]
  },
  {
   "cell_type": "code",
   "execution_count": 15,
   "metadata": {},
   "outputs": [
    {
     "data": {
      "text/plain": [
       "array([[ 2, 14, 16, 16, 16,  4],\n",
       "       [ 0, 10,  4,  2, 14,  4],\n",
       "       [ 4, 18, 12, 10,  6, 18],\n",
       "       [12,  8, 12,  8,  8, 12],\n",
       "       [20, 18,  8, 20,  0,  4],\n",
       "       [20, 16, 16,  0, 16, 12]])"
      ]
     },
     "execution_count": 15,
     "metadata": {},
     "output_type": "execute_result"
    },
    {
     "data": {
      "text/plain": [
       "array([ 2, 10, 12,  8,  0, 12])"
      ]
     },
     "execution_count": 15,
     "metadata": {},
     "output_type": "execute_result"
    },
    {
     "data": {
      "text/plain": [
       "array([[ 2, 10, 12],\n",
       "       [ 8,  0, 12]])"
      ]
     },
     "execution_count": 15,
     "metadata": {},
     "output_type": "execute_result"
    }
   ],
   "source": [
    "# (0,2,4,6,8,10,12,14,16,18,20) 에서 랜덤하게 값을 뽑아서 6x6을 만들고,\n",
    "# 그 대각값을 가지고 2x3 matrix를 만드시오 (단 replacement 허용, 복원추출)\n",
    "\n",
    "ar1=np.arange(0,21,2)\n",
    "ar2=np.random.choice(ar1, size=(6,6))\n",
    "ar2\n",
    "ar3=np.diag(ar2)\n",
    "ar3\n",
    "ar4=ar3.reshape(2,3)\n",
    "ar4"
   ]
  },
  {
   "cell_type": "markdown",
   "metadata": {},
   "source": [
    "## 과제 2-2"
   ]
  },
  {
   "cell_type": "code",
   "execution_count": 16,
   "metadata": {},
   "outputs": [
    {
     "data": {
      "text/plain": [
       "array([[[76, 68, 23, 64],\n",
       "        [51, 97, 51, 59],\n",
       "        [76, 36, 47, 97],\n",
       "        [20, 98,  6, 18]],\n",
       "\n",
       "       [[10, 84, 96, 97],\n",
       "        [94, 61, 42, 84],\n",
       "        [ 0,  5, 65, 30],\n",
       "        [23, 84, 26, 25]],\n",
       "\n",
       "       [[ 2, 22, 17, 95],\n",
       "        [99, 87, 69, 85],\n",
       "        [28, 51, 52, 41],\n",
       "        [ 2, 24, 32, 26]]])"
      ]
     },
     "execution_count": 16,
     "metadata": {},
     "output_type": "execute_result"
    },
    {
     "data": {
      "text/plain": [
       "array([[ 2, 22, 17, 64],\n",
       "       [51, 61, 42, 59],\n",
       "       [ 0,  5, 47, 30],\n",
       "       [ 2, 24,  6, 18]])"
      ]
     },
     "execution_count": 16,
     "metadata": {},
     "output_type": "execute_result"
    },
    {
     "data": {
      "text/plain": [
       "array([ 0,  5,  6, 18])"
      ]
     },
     "execution_count": 16,
     "metadata": {},
     "output_type": "execute_result"
    }
   ],
   "source": [
    "# 0~99까지의 정수로 이루어진 random array (3,4,4)를 만들고, 각 matrix의 모든 열에서 가장 작은 값을 구하시오\n",
    "\n",
    "ar1=np.random.randint(100, size=(3,4,4))\n",
    "ar1\n",
    "ar2=ar1.min(axis=0)\n",
    "ar2\n",
    "ar3=ar2.min(axis=0)\n",
    "ar3"
   ]
  },
  {
   "cell_type": "markdown",
   "metadata": {},
   "source": [
    "## 과제 2-3"
   ]
  },
  {
   "cell_type": "code",
   "execution_count": 9,
   "metadata": {},
   "outputs": [],
   "source": [
    "import matplotlib.pyplot as plt\n",
    "\n",
    "def draw_hist(ar1, nbin=20):\n",
    "    fig, ax=plt.subplots()\n",
    "    _=ax.hist(ar1, bins=nbin, edgecolor='r')"
   ]
  },
  {
   "cell_type": "code",
   "execution_count": 10,
   "metadata": {},
   "outputs": [
    {
     "data": {
      "image/png": "[encoded data removed]",
      "text/plain": [
       "<Figure size 432x288 with 1 Axes>"
      ]
     },
     "metadata": {
      "needs_background": "light"
     },
     "output_type": "display_data"
    }
   ],
   "source": [
    "## 모분포 (uniform(1,2))에서 크기가 10,000인 샘플을 추출한 후에, 샘플(표본)의 분포를 그리시오\n",
    "s1=np.random.uniform(1,2,size=10000)\n",
    "draw_hist(s1)"
   ]
  },
  {
   "cell_type": "code",
   "execution_count": 11,
   "metadata": {},
   "outputs": [
    {
     "data": {
      "image/png": "[encoded data removed]",
      "text/plain": [
       "<Figure size 432x288 with 1 Axes>"
      ]
     },
     "metadata": {
      "needs_background": "light"
     },
     "output_type": "display_data"
    }
   ],
   "source": [
    "# 위의 모분포에서, 표본의 크기가 10인 2,000개의 표본들에 대해서 표본 중앙값의 분포를 그리시오\n",
    "s2=np.random.uniform(1,2, size=(2000,10))\n",
    "m1=np.median(s2,axis=1)\n",
    "draw_hist(m1)"
   ]
  }
 ],
 "metadata": {
  "kernelspec": {
   "display_name": "Python 3 (ipykernel)",
   "language": "python",
   "name": "python3"
  },
  "language_info": {
   "codemirror_mode": {
    "name": "ipython",
    "version": 3
   },
   "file_extension": ".py",
   "mimetype": "text/x-python",
   "name": "python",
   "nbconvert_exporter": "python",
   "pygments_lexer": "ipython3",
   "version": "3.9.7"
  },
  "toc": {
   "base_numbering": 1,
   "nav_menu": {},
   "number_sections": true,
   "sideBar": true,
   "skip_h1_title": false,
   "title_cell": "Table of Contents",
   "title_sidebar": "Contents",
   "toc_cell": false,
   "toc_position": {
    "height": "calc(100% - 180px)",
    "left": "10px",
    "top": "150px",
    "width": "200.817px"
   },
   "toc_section_display": true,
   "toc_window_display": true
  },
  "varInspector": {
   "cols": {
    "lenName": 16,
    "lenType": 16,
    "lenVar": 40
   },
   "kernels_config": {
    "python": {
     "delete_cmd_postfix": "",
     "delete_cmd_prefix": "del ",
     "library": "var_list.py",
     "varRefreshCmd": "print(var_dic_list())"
    },
    "r": {
     "delete_cmd_postfix": ") ",
     "delete_cmd_prefix": "rm(",
     "library": "var_list.r",
     "varRefreshCmd": "cat(var_dic_list()) "
    }
   },
   "types_to_exclude": [
    "module",
    "function",
    "builtin_function_or_method",
    "instance",
    "_Feature"
   ],
   "window_display": false
  }
 },
 "nbformat": 4,
 "nbformat_minor": 2
}
