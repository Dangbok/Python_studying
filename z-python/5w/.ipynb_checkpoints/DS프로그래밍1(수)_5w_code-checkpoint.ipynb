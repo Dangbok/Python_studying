{
 "cells": [
  {
   "cell_type": "markdown",
   "metadata": {},
   "source": [
    "# 버전 체크"
   ]
  },
  {
   "cell_type": "code",
   "execution_count": 1,
   "metadata": {},
   "outputs": [
    {
     "name": "stdout",
     "output_type": "stream",
     "text": [
      "python 3.7.6 (default, Jan  8 2020, 20:23:39) [MSC v.1916 64 bit (AMD64)]\n",
      "numpy 1.18.1\n",
      "pandas 1.0.1\n"
     ]
    }
   ],
   "source": [
    "import sys\n",
    "print('python', sys.version)\n",
    "\n",
    "import numpy as np\n",
    "print('numpy', np.__version__)\n",
    "\n",
    "import pandas as pd\n",
    "print('pandas', pd.__version__)\n",
    "\n",
    "# 결과 확인을 용이하게 하기 위한 코드\n",
    "from IPython.core.interactiveshell import InteractiveShell\n",
    "InteractiveShell.ast_node_interactivity = 'all'"
   ]
  },
  {
   "cell_type": "markdown",
   "metadata": {},
   "source": [
    "# 5주차"
   ]
  },
  {
   "cell_type": "markdown",
   "metadata": {},
   "source": [
    "## matplotlib hist"
   ]
  },
  {
   "cell_type": "code",
   "execution_count": 11,
   "metadata": {},
   "outputs": [
    {
     "name": "stderr",
     "output_type": "stream",
     "text": [
      "C:\\Users\\jjmsk\\anaconda3\\lib\\site-packages\\ipykernel_launcher.py:6: UserWarning: Matplotlib is currently using module://ipykernel.pylab.backend_inline, which is a non-GUI backend, so cannot show the figure.\n",
      "  \n"
     ]
    },
    {
     "data": {
      "image/png": "[encoded data removed]",
      "text/plain": [
       "<Figure size 432x288 with 1 Axes>"
      ]
     },
     "metadata": {
      "needs_background": "light"
     },
     "output_type": "display_data"
    }
   ],
   "source": [
    "import matplotlib.pyplot as plt\n",
    "ar1=np.random.normal(3,1,size=10000)\n",
    "\n",
    "fig, ax=plt.subplots()\n",
    "_=ax.hist(ar1, bins=10, edgecolor='r')\n",
    "fig.show()"
   ]
  },
  {
   "cell_type": "markdown",
   "metadata": {},
   "source": [
    "## 실습1"
   ]
  },
  {
   "cell_type": "code",
   "execution_count": 3,
   "metadata": {},
   "outputs": [
    {
     "name": "stderr",
     "output_type": "stream",
     "text": [
      "C:\\Users\\jmjun\\anaconda3\\envs\\ds2020\\lib\\site-packages\\ipykernel_launcher.py:8: UserWarning: Matplotlib is currently using module://ipykernel.pylab.backend_inline, which is a non-GUI backend, so cannot show the figure.\n",
      "  \n",
      "C:\\Users\\jmjun\\anaconda3\\envs\\ds2020\\lib\\site-packages\\ipykernel_launcher.py:14: UserWarning: Matplotlib is currently using module://ipykernel.pylab.backend_inline, which is a non-GUI backend, so cannot show the figure.\n",
      "  \n"
     ]
    },
    {
     "data": {
      "image/png": "[encoded data removed]",
      "text/plain": [
       "<Figure size 432x288 with 1 Axes>"
      ]
     },
     "metadata": {
      "needs_background": "light"
     },
     "output_type": "display_data"
    },
    {
     "data": {
      "image/png": "[encoded data removed]",
      "text/plain": [
       "<Figure size 432x288 with 1 Axes>"
      ]
     },
     "metadata": {
      "needs_background": "light"
     },
     "output_type": "display_data"
    }
   ],
   "source": [
    "import matplotlib.pyplot as plt\n",
    "\n",
    "# 1)\n",
    "ar1=np.random.normal(3,1,size=10)\n",
    "\n",
    "fig, ax=plt.subplots()\n",
    "_=ax.hist(ar1, bins=10, edgecolor='r')\n",
    "fig.show()\n",
    "\n",
    "# 2)\n",
    "ar2=np.random.normal(3,1,size=10000)\n",
    "fig, ax=plt.subplots()\n",
    "_=ax.hist(ar2, bins=10, edgecolor='r')\n",
    "fig.show()"
   ]
  },
  {
   "cell_type": "markdown",
   "metadata": {},
   "source": [
    "## 실습2"
   ]
  },
  {
   "cell_type": "code",
   "execution_count": 50,
   "metadata": {},
   "outputs": [
    {
     "data": {
      "text/plain": [
       "array([[ 0,  3,  6,  9, 12],\n",
       "       [15, 18, 21, 24, 27],\n",
       "       [30, 33, 36, 39, 42],\n",
       "       [45, 48, 51, 54, 57]])"
      ]
     },
     "execution_count": 50,
     "metadata": {},
     "output_type": "execute_result"
    },
    {
     "data": {
      "text/plain": [
       "570"
      ]
     },
     "execution_count": 50,
     "metadata": {},
     "output_type": "execute_result"
    },
    {
     "data": {
      "text/plain": [
       "array([ 30, 105, 180, 255])"
      ]
     },
     "execution_count": 50,
     "metadata": {},
     "output_type": "execute_result"
    },
    {
     "data": {
      "text/plain": [
       "array([22.5, 25.5, 28.5, 31.5, 34.5])"
      ]
     },
     "execution_count": 50,
     "metadata": {},
     "output_type": "execute_result"
    }
   ],
   "source": [
    "a1=np.arange(0,58,3).reshape(4,5)\n",
    "a1\n",
    "a1.sum()\n",
    "a1.sum(axis=1)\n",
    "a1.mean(axis=0)"
   ]
  },
  {
   "cell_type": "markdown",
   "metadata": {},
   "source": [
    "## 실습3"
   ]
  },
  {
   "cell_type": "code",
   "execution_count": 52,
   "metadata": {},
   "outputs": [
    {
     "data": {
      "text/plain": [
       "array([[90, 24,  8, 71, 76],\n",
       "       [94,  8, 38,  7, 50],\n",
       "       [ 2, 99, 55, 87,  5],\n",
       "       [83, 58, 98, 69,  4]])"
      ]
     },
     "execution_count": 52,
     "metadata": {},
     "output_type": "execute_result"
    },
    {
     "data": {
      "text/plain": [
       "array([0, 0, 1, 2], dtype=int64)"
      ]
     },
     "execution_count": 52,
     "metadata": {},
     "output_type": "execute_result"
    }
   ],
   "source": [
    "m1=np.random.randint(100, size=(4,5))\n",
    "m1\n",
    "m1.argmax(axis=1)"
   ]
  },
  {
   "cell_type": "markdown",
   "metadata": {},
   "source": [
    "## 실습4"
   ]
  },
  {
   "cell_type": "code",
   "execution_count": 54,
   "metadata": {},
   "outputs": [
    {
     "data": {
      "text/plain": [
       "array([[ 0,  1,  2,  3,  4,  5,  6,  7,  8],\n",
       "       [ 9, 10, 11, 12, 13, 14, 15, 16, 17],\n",
       "       [18, 19, 20, 21, 22, 23, 24, 25, 26],\n",
       "       [27, 28, 29, 30, 31, 32, 33, 34, 35]])"
      ]
     },
     "execution_count": 54,
     "metadata": {},
     "output_type": "execute_result"
    },
    {
     "data": {
      "text/plain": [
       "array([[ 2,  5,  8],\n",
       "       [11, 14, 17],\n",
       "       [20, 23, 26],\n",
       "       [29, 32, 35]])"
      ]
     },
     "execution_count": 54,
     "metadata": {},
     "output_type": "execute_result"
    },
    {
     "data": {
      "text/plain": [
       "array([15.5, 18.5, 21.5])"
      ]
     },
     "execution_count": 54,
     "metadata": {},
     "output_type": "execute_result"
    },
    {
     "data": {
      "text/plain": [
       "array([10.0623059, 10.0623059, 10.0623059])"
      ]
     },
     "execution_count": 54,
     "metadata": {},
     "output_type": "execute_result"
    }
   ],
   "source": [
    "m1=np.arange(36).reshape(4,9)\n",
    "m2=m1[:,2::3]\n",
    "m1\n",
    "m2\n",
    "m2.mean(axis=0)\n",
    "m2.std(axis=0)"
   ]
  },
  {
   "cell_type": "markdown",
   "metadata": {},
   "source": [
    "## 실습5"
   ]
  },
  {
   "cell_type": "code",
   "execution_count": 3,
   "metadata": {},
   "outputs": [
    {
     "data": {
      "text/plain": [
       "array([[[89, 89, 26, 89, 34],\n",
       "        [99, 43, 80, 70, 86],\n",
       "        [92, 58, 99, 95, 92],\n",
       "        [83, 67, 20, 68, 94]],\n",
       "\n",
       "       [[ 9, 84, 39, 95, 84],\n",
       "        [41,  1, 89, 43,  7],\n",
       "        [64,  2, 86, 15, 21],\n",
       "        [92, 27, 57, 80, 41]],\n",
       "\n",
       "       [[ 9, 61, 87, 38, 93],\n",
       "        [49, 67, 27, 11, 17],\n",
       "        [96, 53, 52, 78, 83],\n",
       "        [24, 38, 18,  5, 65]]])"
      ]
     },
     "execution_count": 3,
     "metadata": {},
     "output_type": "execute_result"
    },
    {
     "data": {
      "text/plain": [
       "array([[89., 80., 92., 68.],\n",
       "       [84., 41., 21., 57.],\n",
       "       [61., 27., 78., 24.]])"
      ]
     },
     "execution_count": 3,
     "metadata": {},
     "output_type": "execute_result"
    },
    {
     "data": {
      "text/plain": [
       "array([[99, 89, 99, 95, 94],\n",
       "       [92, 84, 89, 95, 84],\n",
       "       [96, 67, 87, 78, 93]])"
      ]
     },
     "execution_count": 3,
     "metadata": {},
     "output_type": "execute_result"
    },
    {
     "data": {
      "text/plain": [
       "array([99, 95, 96])"
      ]
     },
     "execution_count": 3,
     "metadata": {},
     "output_type": "execute_result"
    }
   ],
   "source": [
    "# 주어진 array\n",
    "a1=np.random.randint(100, size=(3,4,5))\n",
    "a1\n",
    "\n",
    "# 1)\n",
    "a2=np.median(a1, axis=2)\n",
    "a2\n",
    "\n",
    "# 2)\n",
    "a3=a1.max(axis=1)\n",
    "a3\n",
    "a4=a3.max(axis=1)\n",
    "a4"
   ]
  },
  {
   "cell_type": "markdown",
   "metadata": {},
   "source": [
    "## 중심극한정리"
   ]
  },
  {
   "cell_type": "code",
   "execution_count": 2,
   "metadata": {},
   "outputs": [],
   "source": [
    "import matplotlib.pyplot as plt\n",
    "\n",
    "def draw_hist(ar1, nbin=20):\n",
    "    fig, ax=plt.subplots()\n",
    "    _=ax.hist(ar1, bins=nbin, edgecolor='r')\n",
    "    fig.show()    "
   ]
  },
  {
   "cell_type": "code",
   "execution_count": 17,
   "metadata": {},
   "outputs": [
    {
     "name": "stdout",
     "output_type": "stream",
     "text": [
      "sample dist> mean: 4.0039, std: 0.5774\n"
     ]
    },
    {
     "name": "stderr",
     "output_type": "stream",
     "text": [
      "C:\\Users\\jmjun\\anaconda3\\envs\\ds2020\\lib\\site-packages\\ipykernel_launcher.py:6: UserWarning: Matplotlib is currently using module://ipykernel.pylab.backend_inline, which is a non-GUI backend, so cannot show the figure.\n",
      "  \n"
     ]
    },
    {
     "data": {
      "text/plain": [
       "array([[4.36121515, 4.92635287, 3.07504361, 4.53727477, 3.40961787],\n",
       "       [4.77656242, 4.6259401 , 3.30775013, 4.08162553, 4.01411629],\n",
       "       [4.42342971, 3.60968432, 3.23592884, 4.21452079, 3.02949515],\n",
       "       [3.3019899 , 3.62596379, 4.59605638, 3.57365649, 3.71594504],\n",
       "       [4.77462853, 3.83003272, 4.8311413 , 4.63735623, 3.11411662]])"
      ]
     },
     "execution_count": 17,
     "metadata": {},
     "output_type": "execute_result"
    },
    {
     "name": "stdout",
     "output_type": "stream",
     "text": [
      "sample mean dist> mean: 3.9999, std: 0.0057\n"
     ]
    },
    {
     "data": {
      "image/png": "[encoded data removed]",
      "text/plain": [
       "<Figure size 432x288 with 1 Axes>"
      ]
     },
     "metadata": {
      "needs_background": "light"
     },
     "output_type": "display_data"
    },
    {
     "data": {
      "image/png": "[encoded data removed]",
      "text/plain": [
       "<Figure size 432x288 with 1 Axes>"
      ]
     },
     "metadata": {
      "needs_background": "light"
     },
     "output_type": "display_data"
    }
   ],
   "source": [
    "### uniform\n",
    "s1=np.random.uniform(3,5,size=10000)\n",
    "draw_hist(s1)\n",
    "print('sample dist> mean: {:.4f}, std: {:.4f}'.format(s1.mean(),s1.std()))\n",
    "\n",
    "s2=np.random.uniform(3,5, size=(2000,10000))\n",
    "s2[:5,:5]\n",
    "m1=s2.mean(axis=1)\n",
    "draw_hist(m1)\n",
    "print('sample mean dist> mean: {:.4f}, std: {:.4f}'.format(m1.mean(),m1.std()))"
   ]
  },
  {
   "cell_type": "code",
   "execution_count": 12,
   "metadata": {},
   "outputs": [
    {
     "name": "stderr",
     "output_type": "stream",
     "text": [
      "C:\\Users\\jmjun\\anaconda3\\envs\\ds2020\\lib\\site-packages\\ipykernel_launcher.py:6: UserWarning: Matplotlib is currently using module://ipykernel.pylab.backend_inline, which is a non-GUI backend, so cannot show the figure.\n",
      "  \n"
     ]
    },
    {
     "name": "stdout",
     "output_type": "stream",
     "text": [
      "sample dist> mean: 2.9837, std: 1.9963\n",
      "sample mean dist> mean: 3.0002, std: 0.0196\n"
     ]
    },
    {
     "data": {
      "image/png": "[encoded data removed]",
      "text/plain": [
       "<Figure size 432x288 with 1 Axes>"
      ]
     },
     "metadata": {
      "needs_background": "light"
     },
     "output_type": "display_data"
    },
    {
     "data": {
      "image/png": "[encoded data removed]",
      "text/plain": [
       "<Figure size 432x288 with 1 Axes>"
      ]
     },
     "metadata": {
      "needs_background": "light"
     },
     "output_type": "display_data"
    }
   ],
   "source": [
    "### normal\n",
    "s1=np.random.normal(3,2,size=10000)\n",
    "draw_hist(s1)\n",
    "print('sample dist> mean: {:.4f}, std: {:.4f}'.format(s1.mean(),s1.std()))\n",
    "\n",
    "s2=np.random.normal(3,2, size=(2000,10000))\n",
    "m1=s2.mean(axis=1)\n",
    "draw_hist(m1)\n",
    "print('sample mean dist> mean: {:.4f}, std: {:.4f}'.format(m1.mean(),m1.std()))"
   ]
  },
  {
   "cell_type": "code",
   "execution_count": 13,
   "metadata": {},
   "outputs": [
    {
     "name": "stderr",
     "output_type": "stream",
     "text": [
      "C:\\Users\\jmjun\\anaconda3\\envs\\ds2020\\lib\\site-packages\\ipykernel_launcher.py:6: UserWarning: Matplotlib is currently using module://ipykernel.pylab.backend_inline, which is a non-GUI backend, so cannot show the figure.\n",
      "  \n"
     ]
    },
    {
     "name": "stdout",
     "output_type": "stream",
     "text": [
      "sample dist> mean: 64.5723, std: 41.3607\n",
      "sample mean dist> mean: 64.5005, std: 0.4338\n"
     ]
    },
    {
     "data": {
      "image/png": "[encoded data removed]",
      "text/plain": [
       "<Figure size 432x288 with 1 Axes>"
      ]
     },
     "metadata": {
      "needs_background": "light"
     },
     "output_type": "display_data"
    },
    {
     "data": {
      "image/png": "[encoded data removed]",
      "text/plain": [
       "<Figure size 432x288 with 1 Axes>"
      ]
     },
     "metadata": {
      "needs_background": "light"
     },
     "output_type": "display_data"
    }
   ],
   "source": [
    "## a certain distribution\n",
    "ar1=np.concatenate((np.arange(0,100), np.arange(50,150), np.arange(0,20), np.arange(10,30)))\n",
    "s1=np.random.choice(ar1, size=10000)\n",
    "draw_hist(s1)\n",
    "print('sample dist> mean: {:.4f}, std: {:.4f}'.format(s1.mean(),s1.std()))\n",
    "\n",
    "s2=np.random.choice(ar1, size=(2000,10000))\n",
    "m1=s2.mean(axis=1)\n",
    "draw_hist(m1)\n",
    "print('sample mean dist> mean: {:.4f}, std: {:.4f}'.format(m1.mean(),m1.std()))"
   ]
  },
  {
   "cell_type": "markdown",
   "metadata": {},
   "source": [
    "# 4주차"
   ]
  },
  {
   "cell_type": "markdown",
   "metadata": {},
   "source": [
    "## reshape 예제"
   ]
  },
  {
   "cell_type": "code",
   "execution_count": 155,
   "metadata": {
    "scrolled": false
   },
   "outputs": [
    {
     "data": {
      "text/plain": [
       "numpy.ndarray"
      ]
     },
     "execution_count": 155,
     "metadata": {},
     "output_type": "execute_result"
    },
    {
     "data": {
      "text/plain": [
       "dtype('float64')"
      ]
     },
     "execution_count": 155,
     "metadata": {},
     "output_type": "execute_result"
    },
    {
     "data": {
      "text/plain": [
       "(28, 28)"
      ]
     },
     "execution_count": 155,
     "metadata": {},
     "output_type": "execute_result"
    },
    {
     "data": {
      "text/plain": [
       "<matplotlib.image.AxesImage at 0x218ff571ec8>"
      ]
     },
     "execution_count": 155,
     "metadata": {},
     "output_type": "execute_result"
    },
    {
     "data": {
      "text/plain": [
       "(784,)"
      ]
     },
     "execution_count": 155,
     "metadata": {},
     "output_type": "execute_result"
    },
    {
     "data": {
      "text/plain": [
       "(784,)"
      ]
     },
     "execution_count": 155,
     "metadata": {},
     "output_type": "execute_result"
    },
    {
     "data": {
      "image/png": "[encoded data removed]",
      "text/plain": [
       "<Figure size 432x288 with 1 Axes>"
      ]
     },
     "metadata": {
      "needs_background": "light"
     },
     "output_type": "display_data"
    }
   ],
   "source": [
    "m1=np.loadtxt('mnist_data1.txt')\n",
    "type(m1)\n",
    "m1.dtype\n",
    "m1.shape\n",
    "\n",
    "import matplotlib.pyplot as plt\n",
    "plt.imshow(m1, cmap='gray')\n",
    "\n",
    "v1=m1.reshape(-1,)\n",
    "v2=m1.reshape(m1.size,)\n",
    "v1.shape\n",
    "v2.shape"
   ]
  },
  {
   "cell_type": "markdown",
   "metadata": {},
   "source": [
    "## 실습1"
   ]
  },
  {
   "cell_type": "code",
   "execution_count": 7,
   "metadata": {},
   "outputs": [
    {
     "data": {
      "text/plain": [
       "array([[[ 1,  2,  3,  4],\n",
       "        [ 5,  6,  7,  8],\n",
       "        [ 9, 10, 11, 12]],\n",
       "\n",
       "       [[13, 14, 15, 16],\n",
       "        [17, 18, 19, 20],\n",
       "        [21, 22, 23, 24]],\n",
       "\n",
       "       [[25, 26, 27, 28],\n",
       "        [29, 30, 31, 32],\n",
       "        [33, 34, 35, 36]],\n",
       "\n",
       "       [[37, 38, 39, 40],\n",
       "        [41, 42, 43, 44],\n",
       "        [45, 46, 47, 48]],\n",
       "\n",
       "       [[49, 50, 51, 52],\n",
       "        [53, 54, 55, 56],\n",
       "        [57, 58, 59, 60]]])"
      ]
     },
     "execution_count": 7,
     "metadata": {},
     "output_type": "execute_result"
    },
    {
     "data": {
      "text/plain": [
       "array([ 1,  2,  3,  4,  5,  6,  7,  8,  9, 10, 11, 12, 13, 14, 15, 16, 17,\n",
       "       18, 19, 20, 21, 22, 23, 24, 25, 26, 27, 28, 29, 30, 31, 32, 33, 34,\n",
       "       35, 36, 37, 38, 39, 40, 41, 42, 43, 44, 45, 46, 47, 48, 49, 50, 51,\n",
       "       52, 53, 54, 55, 56, 57, 58, 59, 60])"
      ]
     },
     "execution_count": 7,
     "metadata": {},
     "output_type": "execute_result"
    },
    {
     "data": {
      "text/plain": [
       "array([[ 1,  2,  3,  4,  5,  6,  7,  8,  9, 10, 11, 12, 13, 14, 15, 16,\n",
       "        17, 18, 19, 20, 21, 22, 23, 24, 25, 26, 27, 28, 29, 30, 31, 32,\n",
       "        33, 34, 35, 36, 37, 38, 39, 40, 41, 42, 43, 44, 45, 46, 47, 48,\n",
       "        49, 50, 51, 52, 53, 54, 55, 56, 57, 58, 59, 60]])"
      ]
     },
     "execution_count": 7,
     "metadata": {},
     "output_type": "execute_result"
    },
    {
     "data": {
      "text/plain": [
       "array([[ 1,  2,  3,  4,  5,  6,  7,  8,  9, 10],\n",
       "       [11, 12, 13, 14, 15, 16, 17, 18, 19, 20],\n",
       "       [21, 22, 23, 24, 25, 26, 27, 28, 29, 30],\n",
       "       [31, 32, 33, 34, 35, 36, 37, 38, 39, 40],\n",
       "       [41, 42, 43, 44, 45, 46, 47, 48, 49, 50],\n",
       "       [51, 52, 53, 54, 55, 56, 57, 58, 59, 60]])"
      ]
     },
     "execution_count": 7,
     "metadata": {},
     "output_type": "execute_result"
    }
   ],
   "source": [
    "# 1)\n",
    "ar1=np.arange(1,61).reshape(5,3,4)\n",
    "ar1\n",
    "\n",
    "# 2)\n",
    "ar2_v=ar1.reshape(-1,)\n",
    "ar2_m=ar1.reshape(1,-1)\n",
    "ar2_v\n",
    "ar2_m\n",
    "\n",
    "# 3)\n",
    "ar3=ar2_v.reshape(-1,10)\n",
    "ar3"
   ]
  },
  {
   "cell_type": "markdown",
   "metadata": {},
   "source": [
    "## 실습2"
   ]
  },
  {
   "cell_type": "code",
   "execution_count": 11,
   "metadata": {},
   "outputs": [
    {
     "data": {
      "text/plain": [
       "array([[ 0,  1,  2,  3,  4],\n",
       "       [ 5,  6,  7,  8,  9],\n",
       "       [10, 11, 12, 13, 14]])"
      ]
     },
     "execution_count": 11,
     "metadata": {},
     "output_type": "execute_result"
    },
    {
     "data": {
      "text/plain": [
       "array([[   0,    1,    2,    3,    4],\n",
       "       [   5,    6,    7, 1000,    9],\n",
       "       [  10,   11,   12,   13,   14]])"
      ]
     },
     "execution_count": 11,
     "metadata": {},
     "output_type": "execute_result"
    },
    {
     "data": {
      "text/plain": [
       "array([[[ 0,  1,  2,  3,  4],\n",
       "        [ 5,  6,  7,  8,  9]],\n",
       "\n",
       "       [[10, 11, 12, 13, 14],\n",
       "        [15, 16, 17, 18, 19]],\n",
       "\n",
       "       [[20, 21, 22, 23, 24],\n",
       "        [25, 26, 27, 28, 29]],\n",
       "\n",
       "       [[30, 31, 32, 33, 34],\n",
       "        [35, 36, 37, 38, 39]],\n",
       "\n",
       "       [[40, 41, 42, 43, 44],\n",
       "        [45, 46, 47, 48, 49]],\n",
       "\n",
       "       [[50, 51, 52, 53, 54],\n",
       "        [55, 56, 57, 58, 59]]])"
      ]
     },
     "execution_count": 11,
     "metadata": {},
     "output_type": "execute_result"
    },
    {
     "data": {
      "text/plain": [
       "array([[[   0,    1,    2,    3,    4],\n",
       "        [   5,    6,    7,    8,    9]],\n",
       "\n",
       "       [[  10,   11,   12,   13,   14],\n",
       "        [  15,   16,   17,   18,   19]],\n",
       "\n",
       "       [[  20,   21,   22,   23,   24],\n",
       "        [  25,   26,   27,   28,   29]],\n",
       "\n",
       "       [[  30,   31,   32,   33, 1000],\n",
       "        [  35,   36,   37,   38,   39]],\n",
       "\n",
       "       [[  40,   41,   42,   43,   44],\n",
       "        [  45,   46,   47,   48,   49]],\n",
       "\n",
       "       [[  50,   51,   52,   53,   54],\n",
       "        [  55,   56,   57,   58,   59]]])"
      ]
     },
     "execution_count": 11,
     "metadata": {},
     "output_type": "execute_result"
    }
   ],
   "source": [
    "# 1)\n",
    "ar1=np.array(range(15)).reshape(3,5)\n",
    "ar1\n",
    "ar1[1,3]=1000\n",
    "ar1\n",
    "\n",
    "# 1)\n",
    "ar1=np.array(range(60)).reshape(6,2,5)\n",
    "ar1\n",
    "ar1[3,0,-1]=1000\n",
    "ar1"
   ]
  },
  {
   "cell_type": "markdown",
   "metadata": {},
   "source": [
    "## 실습3"
   ]
  },
  {
   "cell_type": "code",
   "execution_count": 158,
   "metadata": {},
   "outputs": [
    {
     "data": {
      "text/plain": [
       "array([[13, 14, 15],\n",
       "       [19, 20, 21]])"
      ]
     },
     "execution_count": 158,
     "metadata": {},
     "output_type": "execute_result"
    },
    {
     "data": {
      "text/plain": [
       "array([[ 0,  1,  2,  3,  4,  5],\n",
       "       [ 6,  7,  8,  9, 10, 11],\n",
       "       [12, -1, -2, -3, 16, 17],\n",
       "       [18, -4, -5, -6, 22, 23]])"
      ]
     },
     "execution_count": 158,
     "metadata": {},
     "output_type": "execute_result"
    }
   ],
   "source": [
    "# 1)\n",
    "m1=np.arange(24).reshape(4,6)\n",
    "a1=m1[2:,1:4]\n",
    "a1\n",
    "\n",
    "# 2)\n",
    "m1[2:,1:4] = np.array([-1,-2,-3,-4,-5,-6]).reshape(2,3)\n",
    "m1"
   ]
  },
  {
   "cell_type": "markdown",
   "metadata": {},
   "source": [
    "## 실습4"
   ]
  },
  {
   "cell_type": "code",
   "execution_count": 165,
   "metadata": {},
   "outputs": [
    {
     "data": {
      "text/plain": [
       "array([[ 0,  4,  8],\n",
       "       [12, 16, 20]])"
      ]
     },
     "execution_count": 165,
     "metadata": {},
     "output_type": "execute_result"
    },
    {
     "data": {
      "text/plain": [
       "array([[ 0,  4,  8],\n",
       "       [12, 16, 20]])"
      ]
     },
     "execution_count": 165,
     "metadata": {},
     "output_type": "execute_result"
    }
   ],
   "source": [
    "# 1)\n",
    "m1=np.arange(24).reshape(2,12)\n",
    "m1[:,::4]\n",
    "\n",
    "# 2)\n",
    "m2=np.arange(0,21,4).reshape(2,3)\n",
    "m2"
   ]
  },
  {
   "cell_type": "markdown",
   "metadata": {},
   "source": [
    "## 실습5"
   ]
  },
  {
   "cell_type": "code",
   "execution_count": 129,
   "metadata": {},
   "outputs": [
    {
     "data": {
      "text/plain": [
       "array([[0, 0, 0, 0],\n",
       "       [0, 0, 0, 0],\n",
       "       [0, 0, 0, 0],\n",
       "       [0, 0, 0, 0]], dtype=int8)"
      ]
     },
     "execution_count": 129,
     "metadata": {},
     "output_type": "execute_result"
    },
    {
     "data": {
      "text/plain": [
       "array([[0, 0, 0, 0],\n",
       "       [2, 2, 2, 2],\n",
       "       [0, 0, 0, 0],\n",
       "       [0, 0, 0, 0]], dtype=int8)"
      ]
     },
     "execution_count": 129,
     "metadata": {},
     "output_type": "execute_result"
    },
    {
     "data": {
      "text/plain": [
       "array([[0, 0, 4, 0],\n",
       "       [2, 2, 4, 2],\n",
       "       [0, 0, 4, 0],\n",
       "       [0, 0, 4, 0]], dtype=int8)"
      ]
     },
     "execution_count": 129,
     "metadata": {},
     "output_type": "execute_result"
    }
   ],
   "source": [
    "# 1)\n",
    "m1=np.zeros(shape=(4,4),dtype=np.int8)\n",
    "m1\n",
    "m1[1,:] = np.array([2,2,2,2])\n",
    "m1\n",
    "m1[:,2] = np.array([4,4,4,4])\n",
    "m1"
   ]
  },
  {
   "cell_type": "code",
   "execution_count": 130,
   "metadata": {},
   "outputs": [
    {
     "data": {
      "text/plain": [
       "array([[0, 0, 0, 0],\n",
       "       [0, 0, 0, 0],\n",
       "       [0, 0, 0, 0],\n",
       "       [0, 0, 0, 0]], dtype=int8)"
      ]
     },
     "execution_count": 130,
     "metadata": {},
     "output_type": "execute_result"
    },
    {
     "data": {
      "text/plain": [
       "array([[0, 0, 0, 0],\n",
       "       [2, 2, 0, 0],\n",
       "       [0, 0, 0, 0],\n",
       "       [0, 0, 0, 0]], dtype=int8)"
      ]
     },
     "execution_count": 130,
     "metadata": {},
     "output_type": "execute_result"
    },
    {
     "data": {
      "text/plain": [
       "array([[0, 0, 0, 0],\n",
       "       [2, 2, 0, 2],\n",
       "       [0, 0, 0, 0],\n",
       "       [0, 0, 0, 0]], dtype=int8)"
      ]
     },
     "execution_count": 130,
     "metadata": {},
     "output_type": "execute_result"
    },
    {
     "data": {
      "text/plain": [
       "array([[0, 0, 4, 0],\n",
       "       [2, 2, 4, 2],\n",
       "       [0, 0, 4, 0],\n",
       "       [0, 0, 4, 0]], dtype=int8)"
      ]
     },
     "execution_count": 130,
     "metadata": {},
     "output_type": "execute_result"
    }
   ],
   "source": [
    "# 2)\n",
    "m1=np.zeros(shape=(4,4),dtype=np.int8)\n",
    "m1\n",
    "m1[1,:2] = np.array([2,2])\n",
    "m1\n",
    "m1[1,-1] = 2\n",
    "m1\n",
    "m1[:,2] = np.array([4,4,4,4])\n",
    "m1"
   ]
  },
  {
   "cell_type": "markdown",
   "metadata": {},
   "source": [
    "## 실습6"
   ]
  },
  {
   "cell_type": "code",
   "execution_count": 131,
   "metadata": {},
   "outputs": [
    {
     "data": {
      "text/plain": [
       "array([[ 2.48165489, -1.36222317, -0.97658075, -2.59730618, -1.24060205],\n",
       "       [ 3.11236237,  2.38893221, -0.72651788,  0.09585564,  0.26192577],\n",
       "       [-0.06056725,  0.01602991,  1.09187102, -2.1549947 ,  0.79358464]])"
      ]
     },
     "execution_count": 131,
     "metadata": {},
     "output_type": "execute_result"
    },
    {
     "data": {
      "text/plain": [
       "array([[ 2.48165489, -0.97658075, -2.59730618],\n",
       "       [ 3.11236237, -0.72651788,  0.09585564],\n",
       "       [-0.06056725,  1.09187102, -2.1549947 ]])"
      ]
     },
     "execution_count": 131,
     "metadata": {},
     "output_type": "execute_result"
    }
   ],
   "source": [
    "m1=np.random.normal(loc=0, scale=2.0, size=(3,5))\n",
    "m1\n",
    "m1[:,[0,2,3]]"
   ]
  },
  {
   "cell_type": "markdown",
   "metadata": {},
   "source": [
    "## 실습7"
   ]
  },
  {
   "cell_type": "code",
   "execution_count": 134,
   "metadata": {},
   "outputs": [
    {
     "data": {
      "text/plain": [
       "array([[[10, 14, 10],\n",
       "        [13, 10, 11]],\n",
       "\n",
       "       [[13, 13, 14],\n",
       "        [15, 13, 15]],\n",
       "\n",
       "       [[14, 12, 15],\n",
       "        [14, 10, 13]],\n",
       "\n",
       "       [[13, 14, 13],\n",
       "        [11, 12, 15]]])"
      ]
     },
     "execution_count": 134,
     "metadata": {},
     "output_type": "execute_result"
    },
    {
     "data": {
      "text/plain": [
       "array([[14, 12, 15],\n",
       "       [14, 10, 13]])"
      ]
     },
     "execution_count": 134,
     "metadata": {},
     "output_type": "execute_result"
    }
   ],
   "source": [
    "t1=np.random.randint(10,16,size=(4,2,3))\n",
    "t1\n",
    "t1[2,:,:]"
   ]
  },
  {
   "cell_type": "markdown",
   "metadata": {},
   "source": [
    "## 실습8"
   ]
  },
  {
   "cell_type": "code",
   "execution_count": 132,
   "metadata": {},
   "outputs": [
    {
     "data": {
      "text/plain": [
       "array([1, 5, 3])"
      ]
     },
     "execution_count": 132,
     "metadata": {},
     "output_type": "execute_result"
    }
   ],
   "source": [
    "t1=np.random.choice(np.arange(6),size=(3,),replace=False)\n",
    "t1\n"
   ]
  },
  {
   "cell_type": "markdown",
   "metadata": {},
   "source": [
    "## 과제1"
   ]
  },
  {
   "cell_type": "code",
   "execution_count": 14,
   "metadata": {},
   "outputs": [
    {
     "data": {
      "text/plain": [
       "array([[ 0. ,  0.5,  1. ,  1.5,  2. ,  2.5],\n",
       "       [ 3. ,  3.5,  4. ,  4.5,  5. ,  5.5],\n",
       "       [ 6. ,  6.5,  7. ,  7.5,  8. ,  8.5],\n",
       "       [ 9. ,  9.5, 10. , 10.5, 11. , 11.5]])"
      ]
     },
     "execution_count": 14,
     "metadata": {},
     "output_type": "execute_result"
    },
    {
     "data": {
      "text/plain": [
       "array([[ 0.5,  1.5,  2.5],\n",
       "       [ 3.5,  4.5,  5.5],\n",
       "       [ 6.5,  7.5,  8.5],\n",
       "       [ 9.5, 10.5, 11.5]])"
      ]
     },
     "execution_count": 14,
     "metadata": {},
     "output_type": "execute_result"
    },
    {
     "data": {
      "text/plain": [
       "array([ 0.5,  1.5,  2.5,  3.5,  4.5,  5.5,  6.5,  7.5,  8.5,  9.5, 10.5,\n",
       "       11.5])"
      ]
     },
     "execution_count": 14,
     "metadata": {},
     "output_type": "execute_result"
    }
   ],
   "source": [
    "ar1=np.arange(0,11.6,0.5).reshape(4,-1)\n",
    "ar1\n",
    "ar2=ar1[:,1::2]\n",
    "ar2\n",
    "ar3=ar2.flatten()\n",
    "ar3"
   ]
  },
  {
   "cell_type": "markdown",
   "metadata": {},
   "source": [
    "## 과제2"
   ]
  },
  {
   "cell_type": "code",
   "execution_count": 13,
   "metadata": {},
   "outputs": [
    {
     "data": {
      "text/plain": [
       "array([ 0,  2,  4,  6,  8, 10, 12, 14, 16, 18, 20])"
      ]
     },
     "execution_count": 13,
     "metadata": {},
     "output_type": "execute_result"
    },
    {
     "data": {
      "text/plain": [
       "array([[ 8, 14, 16,  2, 20,  6],\n",
       "       [18, 16,  4, 20, 10,  0],\n",
       "       [ 2,  2,  6,  2,  4, 20],\n",
       "       [14,  4, 12, 20,  2,  0],\n",
       "       [20, 16,  8,  6, 20, 20],\n",
       "       [18, 18,  4, 16,  6,  2]])"
      ]
     },
     "execution_count": 13,
     "metadata": {},
     "output_type": "execute_result"
    },
    {
     "data": {
      "text/plain": [
       "array([ 8, 16,  6, 20, 20,  2])"
      ]
     },
     "execution_count": 13,
     "metadata": {},
     "output_type": "execute_result"
    },
    {
     "data": {
      "text/plain": [
       "array([[ 8, 16,  6],\n",
       "       [20, 20,  2]])"
      ]
     },
     "execution_count": 13,
     "metadata": {},
     "output_type": "execute_result"
    }
   ],
   "source": [
    "ar1=np.arange(0,21,2)\n",
    "ar1\n",
    "ar2=np.random.choice(ar1, size=(6,6))\n",
    "ar2\n",
    "ar3=np.diag(ar2)\n",
    "ar3\n",
    "ar4=ar3.reshape(2,3)\n",
    "ar4"
   ]
  },
  {
   "cell_type": "markdown",
   "metadata": {},
   "source": [
    "# 3주차"
   ]
  },
  {
   "cell_type": "markdown",
   "metadata": {},
   "source": [
    "## 실습1"
   ]
  },
  {
   "cell_type": "code",
   "execution_count": 56,
   "metadata": {},
   "outputs": [
    {
     "data": {
      "text/plain": [
       "100"
      ]
     },
     "execution_count": 56,
     "metadata": {},
     "output_type": "execute_result"
    },
    {
     "data": {
      "text/plain": [
       "110"
      ]
     },
     "execution_count": 56,
     "metadata": {},
     "output_type": "execute_result"
    },
    {
     "data": {
      "text/plain": [
       "90"
      ]
     },
     "execution_count": 56,
     "metadata": {},
     "output_type": "execute_result"
    }
   ],
   "source": [
    "class man:\n",
    "    def __init__(self,en1):\n",
    "        self.energy=en1\n",
    "    def get_item(self):\n",
    "        self.energy+=10\n",
    "    def meet_lion(self):\n",
    "        self.energy-=20    \n",
    "        \n",
    "m1=man(100)\n",
    "m1.energy\n",
    "m1.get_item()\n",
    "m1.energy\n",
    "m1.meet_lion()\n",
    "m1.energy"
   ]
  },
  {
   "cell_type": "markdown",
   "metadata": {},
   "source": [
    "## 실습2"
   ]
  },
  {
   "cell_type": "code",
   "execution_count": 58,
   "metadata": {},
   "outputs": [
    {
     "data": {
      "text/plain": [
       "array([[6, 5, 4],\n",
       "       [3, 2, 1]])"
      ]
     },
     "execution_count": 58,
     "metadata": {},
     "output_type": "execute_result"
    },
    {
     "data": {
      "text/plain": [
       "dtype('int32')"
      ]
     },
     "execution_count": 58,
     "metadata": {},
     "output_type": "execute_result"
    },
    {
     "data": {
      "text/plain": [
       "(2, 3)"
      ]
     },
     "execution_count": 58,
     "metadata": {},
     "output_type": "execute_result"
    },
    {
     "data": {
      "text/plain": [
       "6"
      ]
     },
     "execution_count": 58,
     "metadata": {},
     "output_type": "execute_result"
    },
    {
     "data": {
      "text/plain": [
       "24"
      ]
     },
     "execution_count": 58,
     "metadata": {},
     "output_type": "execute_result"
    },
    {
     "data": {
      "text/plain": [
       "array([[6., 5., 4.],\n",
       "       [3., 2., 1.]], dtype=float16)"
      ]
     },
     "execution_count": 58,
     "metadata": {},
     "output_type": "execute_result"
    },
    {
     "data": {
      "text/plain": [
       "dtype('float16')"
      ]
     },
     "execution_count": 58,
     "metadata": {},
     "output_type": "execute_result"
    },
    {
     "data": {
      "text/plain": [
       "(2, 3)"
      ]
     },
     "execution_count": 58,
     "metadata": {},
     "output_type": "execute_result"
    },
    {
     "data": {
      "text/plain": [
       "6"
      ]
     },
     "execution_count": 58,
     "metadata": {},
     "output_type": "execute_result"
    },
    {
     "data": {
      "text/plain": [
       "12"
      ]
     },
     "execution_count": 58,
     "metadata": {},
     "output_type": "execute_result"
    }
   ],
   "source": [
    "o1=np.array([[6,5,4],[3,2,1]], dtype=int)\n",
    "o1\n",
    "o1.dtype\n",
    "o1.shape\n",
    "o1.size\n",
    "o1.nbytes\n",
    "\n",
    "o2=np.array([[6,5,4],[3,2,1]], dtype=np.float16)\n",
    "o2\n",
    "o2.dtype\n",
    "o2.shape\n",
    "o2.size\n",
    "o2.nbytes"
   ]
  },
  {
   "cell_type": "markdown",
   "metadata": {},
   "source": [
    "## 실습3"
   ]
  },
  {
   "cell_type": "code",
   "execution_count": 3,
   "metadata": {},
   "outputs": [
    {
     "name": "stdout",
     "output_type": "stream",
     "text": [
      "[[1 2 3 4 5 6]]\n",
      "[[1 2 3]\n",
      " [4 5 6]]\n",
      "[[1 2]\n",
      " [3 4]\n",
      " [5 6]]\n",
      "[[1]\n",
      " [2]\n",
      " [3]\n",
      " [4]\n",
      " [5]\n",
      " [6]]\n"
     ]
    }
   ],
   "source": [
    "ar1=np.array([1,2,3,4,5,6])\n",
    "\n",
    "resh1=ar1.reshape(1,6)\n",
    "resh2=ar1.reshape(2,3)\n",
    "resh3=ar1.reshape(3,2)\n",
    "resh4=ar1.reshape(6,1)\n",
    "\n",
    "print(resh1)\n",
    "print(resh2)\n",
    "print(resh3)\n",
    "print(resh4)"
   ]
  },
  {
   "cell_type": "markdown",
   "metadata": {},
   "source": [
    "## 과제1"
   ]
  },
  {
   "cell_type": "code",
   "execution_count": 4,
   "metadata": {},
   "outputs": [
    {
     "name": "stdout",
     "output_type": "stream",
     "text": [
      "### 1) ####\n"
     ]
    },
    {
     "data": {
      "text/plain": [
       "array([[[1, 2],\n",
       "        [3, 4]],\n",
       "\n",
       "       [[1, 2],\n",
       "        [3, 4]],\n",
       "\n",
       "       [[1, 2],\n",
       "        [3, 4]]], dtype=int16)"
      ]
     },
     "execution_count": 4,
     "metadata": {},
     "output_type": "execute_result"
    },
    {
     "data": {
      "text/plain": [
       "dtype('int16')"
      ]
     },
     "execution_count": 4,
     "metadata": {},
     "output_type": "execute_result"
    },
    {
     "name": "stdout",
     "output_type": "stream",
     "text": [
      "### 2) ####\n"
     ]
    },
    {
     "data": {
      "text/plain": [
       "[1, 2, 3, 4, 1, 2, 3, 4, 1, 2, 3, 4]"
      ]
     },
     "execution_count": 4,
     "metadata": {},
     "output_type": "execute_result"
    },
    {
     "data": {
      "text/plain": [
       "array([[[1, 2],\n",
       "        [3, 4]],\n",
       "\n",
       "       [[1, 2],\n",
       "        [3, 4]],\n",
       "\n",
       "       [[1, 2],\n",
       "        [3, 4]]], dtype=int16)"
      ]
     },
     "execution_count": 4,
     "metadata": {},
     "output_type": "execute_result"
    },
    {
     "data": {
      "text/plain": [
       "dtype('int16')"
      ]
     },
     "execution_count": 4,
     "metadata": {},
     "output_type": "execute_result"
    }
   ],
   "source": [
    "# 1)\n",
    "print('### 1) ####')\n",
    "ar1=np.array([[[1,2],[3,4]],[[1,2],[3,4]],[[1,2],[3,4]]], dtype=np.int16)\n",
    "ar1\n",
    "ar1.dtype\n",
    "\n",
    "# 2)\n",
    "print('### 2) ####')\n",
    "l1=[1,2,3,4]*3\n",
    "l1\n",
    "ar1=np.array(l1, dtype=np.int16).reshape(3,2,2)\n",
    "ar1\n",
    "ar1.dtype"
   ]
  },
  {
   "cell_type": "markdown",
   "metadata": {},
   "source": [
    "## 과제2"
   ]
  },
  {
   "cell_type": "code",
   "execution_count": 3,
   "metadata": {},
   "outputs": [
    {
     "name": "stdout",
     "output_type": "stream",
     "text": [
      "[[   1    2    3]\n",
      " [   4    5 6000]]\n",
      "[[  1   2   3]\n",
      " [  4   5 112]]\n",
      "## ar2의 경우 메모리크기가 표현하려는 데이터에 비해 작아서 데이터의 왜곡이 생김, 따라서 ar1의 int32가 더 적합함\n"
     ]
    }
   ],
   "source": [
    "ar1=np.array([[1,2,3],[4,5,6000]], dtype=np.int32)\n",
    "print(ar1)\n",
    "ar1=np.array([[1,2,3],[4,5,6000]], dtype=np.int8)\n",
    "print(ar1)\n",
    "print(\"## ar2의 경우 메모리크기가 표현하려는 데이터에 비해 작아서 데이터의 왜곡이 생김, 따라서 ar1의 int32가 더 적합함\")"
   ]
  },
  {
   "cell_type": "markdown",
   "metadata": {},
   "source": [
    "# 2주차"
   ]
  },
  {
   "cell_type": "code",
   "execution_count": 3,
   "metadata": {},
   "outputs": [
    {
     "name": "stdout",
     "output_type": "stream",
     "text": [
      "1st number: 12\n",
      "2nd number: 32\n",
      "44.0\n"
     ]
    }
   ],
   "source": [
    "## 실습1\n",
    "n1 = float(input(\"1st number: \"))\n",
    "n2 = float(input(\"2nd number: \"))\n",
    "s1 = (n1+n2)\n",
    "print(s1)"
   ]
  },
  {
   "cell_type": "code",
   "execution_count": 4,
   "metadata": {},
   "outputs": [
    {
     "name": "stdout",
     "output_type": "stream",
     "text": [
      "n=15, k=3\n",
      "[0, 1, 2, 3, 4, 5, 6, 7, 8, 9, 10, 11, 12, 13, 14]\n",
      "[0, 3, 6, 9, 12]\n",
      "sum:  30\n"
     ]
    }
   ],
   "source": [
    "# 실습2\n",
    "n=15\n",
    "k=3\n",
    "\n",
    "l1 = list(range(n))\n",
    "print('n={}, k={}'.format(n,k))\n",
    "print(l1)\n",
    "l2 = l1[::k]\n",
    "print(l2)\n",
    "print(\"sum: \", sum(l2))"
   ]
  },
  {
   "cell_type": "code",
   "execution_count": 6,
   "metadata": {},
   "outputs": [
    {
     "name": "stdout",
     "output_type": "stream",
     "text": [
      "## 결과\n",
      "suwon_data\n",
      "['_', 'a', 'a', 'd', 'n', 'o', 's', 't', 'u', 'w']\n",
      "t\n"
     ]
    }
   ],
   "source": [
    "# 실습3\n",
    "str1 = 'suwon_data'\n",
    "l1 = list(str1)\n",
    "l1.sort()\n",
    "ch1 = l1[-3]\n",
    "print(\"## 결과\")\n",
    "print(str1)\n",
    "print(l1)\n",
    "print(ch1)"
   ]
  },
  {
   "cell_type": "code",
   "execution_count": 7,
   "metadata": {},
   "outputs": [
    {
     "name": "stdout",
     "output_type": "stream",
     "text": [
      "7\n",
      "14\n",
      "21\n",
      "28\n",
      "35\n",
      "42\n",
      "49\n"
     ]
    }
   ],
   "source": [
    "# 실습4\n",
    "for ii in range(1,51):\n",
    "    if ii%7==0:\n",
    "        print(ii)"
   ]
  },
  {
   "cell_type": "code",
   "execution_count": 1,
   "metadata": {},
   "outputs": [
    {
     "name": "stdout",
     "output_type": "stream",
     "text": [
      "1\n",
      "3\n",
      "6\n",
      "10\n"
     ]
    }
   ],
   "source": [
    "s1=0\n",
    "for ii in [1,2,3,4]:\n",
    "    s1+=ii\n",
    "    print(s1)\n"
   ]
  },
  {
   "cell_type": "code",
   "execution_count": 8,
   "metadata": {},
   "outputs": [
    {
     "name": "stdout",
     "output_type": "stream",
     "text": [
      "input a number: 12\n",
      "input a number: 12\n",
      "input a number: 12\n",
      "input a number: -1000\n",
      "합: 36.0\n"
     ]
    }
   ],
   "source": [
    "# 실습5\n",
    "s1=0\n",
    "while(True):\n",
    "    n1 = float(input(\"input a number: \"))\n",
    "    if n1==-1000:\n",
    "        break\n",
    "    s1+=n1\n",
    "print(\"합: {}\".format(s1))"
   ]
  },
  {
   "cell_type": "code",
   "execution_count": 10,
   "metadata": {},
   "outputs": [
    {
     "name": "stdout",
     "output_type": "stream",
     "text": [
      "a 1\n",
      "b 2\n",
      "c 3\n",
      "d 4\n",
      "e 1\n"
     ]
    }
   ],
   "source": [
    "# 실습6\n",
    "str1 = 'abbcccdddde'\n",
    "count_dic={}\n",
    "for ch in str1:\n",
    "    if ch not in count_dic.keys():\n",
    "        count_dic[ch]=1\n",
    "    else:\n",
    "        count_dic[ch]+=1\n",
    "    \n",
    "for key, val in count_dic.items():\n",
    "    print(key, val)"
   ]
  },
  {
   "cell_type": "code",
   "execution_count": 11,
   "metadata": {},
   "outputs": [
    {
     "name": "stdout",
     "output_type": "stream",
     "text": [
      "D\n"
     ]
    }
   ],
   "source": [
    "# 실습7\n",
    "score = 67\n",
    "if   score >= 90:\n",
    "    grade = 'A'\n",
    "elif score >= 80:\n",
    "    grade = 'B'\n",
    "elif score >= 70:\n",
    "    grade = 'C'\n",
    "else:\n",
    "    grade = 'D'\n",
    "\n",
    "print(grade)"
   ]
  },
  {
   "cell_type": "code",
   "execution_count": 16,
   "metadata": {},
   "outputs": [
    {
     "name": "stdout",
     "output_type": "stream",
     "text": [
      "c\n",
      "f\n"
     ]
    }
   ],
   "source": [
    "# 실습 8\n",
    "f1=open(\"1w_file1.txt\",\"r\")\n",
    "\n",
    "for row in f1:\n",
    "    row = row.replace(\"\\n\",\"\")\n",
    "    s1,v1,v2 = row.split(\"\\t\")\n",
    "    v3=int(v1)+int(v2)\n",
    "    if v3%2==0:\n",
    "        print(s1)\n",
    "\n",
    "f1.close()"
   ]
  },
  {
   "cell_type": "code",
   "execution_count": 17,
   "metadata": {},
   "outputs": [
    {
     "name": "stdout",
     "output_type": "stream",
     "text": [
      "5\n",
      "6\n"
     ]
    }
   ],
   "source": [
    "# 실습 9\n",
    "def foo(v1, v2):\n",
    "    print(v1+v2)\n",
    "    \n",
    "foo(3,2)\n",
    "foo(1,5)"
   ]
  },
  {
   "cell_type": "code",
   "execution_count": 14,
   "metadata": {},
   "outputs": [
    {
     "name": "stdout",
     "output_type": "stream",
     "text": [
      "5\n",
      "-4\n"
     ]
    }
   ],
   "source": [
    "# 실습 9-1\n",
    "def foo(v1, v2,op):\n",
    "    if op=='+':\n",
    "        print(v1+v2)\n",
    "    if op=='-':\n",
    "        print(v1-v2)\n",
    "    if op=='*':\n",
    "        print(v1*v2)\n",
    "    if op=='/':\n",
    "        print(v1/v2)\n",
    "foo(3,2,'+')\n",
    "foo(1,5,'-')"
   ]
  },
  {
   "cell_type": "code",
   "execution_count": 16,
   "metadata": {},
   "outputs": [
    {
     "name": "stdout",
     "output_type": "stream",
     "text": [
      "7\n",
      "7\n",
      "-4\n"
     ]
    }
   ],
   "source": [
    "# 실습 9-2\n",
    "def foo(v1, v2,op='+'):\n",
    "    if op=='+':\n",
    "        print(v1+v2)\n",
    "    if op=='-':\n",
    "        print(v1-v2)\n",
    "    if op=='*':\n",
    "        print(v1*v2)\n",
    "    if op=='/':\n",
    "        print(v1/v2)\n",
    "foo(3,4)\n",
    "foo(3,4,'+')\n",
    "foo(1,5,'-')"
   ]
  }
 ],
 "metadata": {
  "kernelspec": {
   "display_name": "Python 3",
   "language": "python",
   "name": "python3"
  },
  "language_info": {
   "codemirror_mode": {
    "name": "ipython",
    "version": 3
   },
   "file_extension": ".py",
   "mimetype": "text/x-python",
   "name": "python",
   "nbconvert_exporter": "python",
   "pygments_lexer": "ipython3",
   "version": "3.7.6"
  }
 },
 "nbformat": 4,
 "nbformat_minor": 2
}
