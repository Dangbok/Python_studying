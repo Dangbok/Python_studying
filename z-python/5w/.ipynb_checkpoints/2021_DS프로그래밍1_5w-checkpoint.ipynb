{
 "cells": [
  {
   "cell_type": "code",
   "execution_count": 1,
   "metadata": {},
   "outputs": [
    {
     "name": "stdout",
     "output_type": "stream",
     "text": [
      "python 3.8.3 (default, Jul  2 2020, 17:30:36) [MSC v.1916 64 bit (AMD64)]\n",
      "numpy 1.19.2\n",
      "pandas 1.2.3\n"
     ]
    }
   ],
   "source": [
    "import sys\n",
    "print('python', sys.version)\n",
    "\n",
    "import numpy as np\n",
    "print('numpy', np.__version__)\n",
    "\n",
    "import pandas as pd\n",
    "print('pandas', pd.__version__)\n",
    "\n",
    "# 결과 확인을 용이하게 하기 위한 코드\n",
    "from IPython.core.interactiveshell import InteractiveShell\n",
    "InteractiveShell.ast_node_interactivity = 'all'"
   ]
  },
  {
   "cell_type": "markdown",
   "metadata": {},
   "source": [
    "# 1주차"
   ]
  },
  {
   "cell_type": "markdown",
   "metadata": {},
   "source": [
    "# 2주차"
   ]
  },
  {
   "cell_type": "markdown",
   "metadata": {},
   "source": [
    "## 실습1"
   ]
  },
  {
   "cell_type": "code",
   "execution_count": 3,
   "metadata": {},
   "outputs": [
    {
     "name": "stdout",
     "output_type": "stream",
     "text": [
      "1st number: 12\n",
      "2nd number: 32\n",
      "44.0\n"
     ]
    }
   ],
   "source": [
    "n1 = float(input(\"1st number: \"))\n",
    "n2 = float(input(\"2nd number: \"))\n",
    "s1 = (n1+n2)\n",
    "print(s1)"
   ]
  },
  {
   "cell_type": "markdown",
   "metadata": {},
   "source": [
    "## 실습2"
   ]
  },
  {
   "cell_type": "code",
   "execution_count": 4,
   "metadata": {},
   "outputs": [
    {
     "name": "stdout",
     "output_type": "stream",
     "text": [
      "n=15, k=3\n",
      "[0, 1, 2, 3, 4, 5, 6, 7, 8, 9, 10, 11, 12, 13, 14]\n",
      "[0, 3, 6, 9, 12]\n",
      "sum:  30\n"
     ]
    }
   ],
   "source": [
    "n=15\n",
    "k=3\n",
    "\n",
    "l1 = list(range(n))\n",
    "print('n={}, k={}'.format(n,k))\n",
    "print(l1)\n",
    "l2 = l1[::k]\n",
    "print(l2)\n",
    "print(\"sum: \", sum(l2))"
   ]
  },
  {
   "cell_type": "markdown",
   "metadata": {},
   "source": [
    "## 실습3"
   ]
  },
  {
   "cell_type": "code",
   "execution_count": 6,
   "metadata": {},
   "outputs": [
    {
     "name": "stdout",
     "output_type": "stream",
     "text": [
      "## 결과\n",
      "suwon_data\n",
      "['_', 'a', 'a', 'd', 'n', 'o', 's', 't', 'u', 'w']\n",
      "t\n"
     ]
    }
   ],
   "source": [
    "str1 = 'suwon_data'\n",
    "l1 = list(str1)\n",
    "l1.sort()\n",
    "ch1 = l1[-3]\n",
    "print(\"## 결과\")\n",
    "print(str1)\n",
    "print(l1)\n",
    "print(ch1)"
   ]
  },
  {
   "cell_type": "markdown",
   "metadata": {},
   "source": [
    "## 실습4"
   ]
  },
  {
   "cell_type": "code",
   "execution_count": 7,
   "metadata": {},
   "outputs": [
    {
     "name": "stdout",
     "output_type": "stream",
     "text": [
      "7\n",
      "14\n",
      "21\n",
      "28\n",
      "35\n",
      "42\n",
      "49\n"
     ]
    }
   ],
   "source": [
    "for ii in range(1,51):\n",
    "    if ii%7==0:\n",
    "        print(ii)"
   ]
  },
  {
   "cell_type": "markdown",
   "metadata": {},
   "source": [
    "## 실습5"
   ]
  },
  {
   "cell_type": "code",
   "execution_count": 8,
   "metadata": {},
   "outputs": [
    {
     "name": "stdout",
     "output_type": "stream",
     "text": [
      "input a number: 12\n",
      "input a number: 12\n",
      "input a number: 12\n",
      "input a number: -1000\n",
      "합: 36.0\n"
     ]
    }
   ],
   "source": [
    "s1=0\n",
    "while(True):\n",
    "    n1 = float(input(\"input a number: \"))\n",
    "    if n1==-1000:\n",
    "        break\n",
    "    s1+=n1\n",
    "print(\"합: {}\".format(s1))"
   ]
  },
  {
   "cell_type": "markdown",
   "metadata": {},
   "source": [
    "## 실습6"
   ]
  },
  {
   "cell_type": "code",
   "execution_count": 10,
   "metadata": {},
   "outputs": [
    {
     "name": "stdout",
     "output_type": "stream",
     "text": [
      "a 1\n",
      "b 2\n",
      "c 3\n",
      "d 4\n",
      "e 1\n"
     ]
    }
   ],
   "source": [
    "str1 = 'abbcccdddde'\n",
    "count_dic={}\n",
    "for ch in str1:\n",
    "    if ch not in count_dic.keys():\n",
    "        count_dic[ch]=1\n",
    "    else:\n",
    "        count_dic[ch]+=1\n",
    "    \n",
    "for key, val in count_dic.items():\n",
    "    print(key, val)"
   ]
  },
  {
   "cell_type": "markdown",
   "metadata": {},
   "source": [
    "## 실습7"
   ]
  },
  {
   "cell_type": "code",
   "execution_count": 11,
   "metadata": {},
   "outputs": [
    {
     "name": "stdout",
     "output_type": "stream",
     "text": [
      "D\n"
     ]
    }
   ],
   "source": [
    "score = 67\n",
    "if   score >= 90:\n",
    "    grade = 'A'\n",
    "elif score >= 80:\n",
    "    grade = 'B'\n",
    "elif score >= 70:\n",
    "    grade = 'C'\n",
    "else:\n",
    "    grade = 'D'\n",
    "\n",
    "print(grade)"
   ]
  },
  {
   "cell_type": "markdown",
   "metadata": {},
   "source": [
    "## 실습 8"
   ]
  },
  {
   "cell_type": "code",
   "execution_count": 1,
   "metadata": {},
   "outputs": [
    {
     "name": "stdout",
     "output_type": "stream",
     "text": [
      "c\n",
      "f\n"
     ]
    }
   ],
   "source": [
    "f1=open(\"2w_data1.txt\",\"r\")\n",
    "\n",
    "for row in f1:\n",
    "    row = row.replace(\"\\n\",\"\")\n",
    "    s1,v1,v2 = row.split(\"\\t\")\n",
    "    v3=int(v1)+int(v2)\n",
    "    if v3%2==0:\n",
    "        print(s1)\n",
    "\n",
    "f1.close()"
   ]
  },
  {
   "cell_type": "markdown",
   "metadata": {},
   "source": [
    "## 실습 9"
   ]
  },
  {
   "cell_type": "code",
   "execution_count": 17,
   "metadata": {},
   "outputs": [
    {
     "name": "stdout",
     "output_type": "stream",
     "text": [
      "5\n",
      "6\n"
     ]
    }
   ],
   "source": [
    "def foo(v1, v2):\n",
    "    print(v1+v2)\n",
    "    \n",
    "foo(3,2)\n",
    "foo(1,5)"
   ]
  },
  {
   "cell_type": "markdown",
   "metadata": {},
   "source": [
    "### 실습 9-1"
   ]
  },
  {
   "cell_type": "code",
   "execution_count": 14,
   "metadata": {},
   "outputs": [
    {
     "name": "stdout",
     "output_type": "stream",
     "text": [
      "5\n",
      "-4\n"
     ]
    }
   ],
   "source": [
    "def foo(v1, v2,op):\n",
    "    if op=='+':\n",
    "        print(v1+v2)\n",
    "    if op=='-':\n",
    "        print(v1-v2)\n",
    "    if op=='*':\n",
    "        print(v1*v2)\n",
    "    if op=='/':\n",
    "        print(v1/v2)\n",
    "foo(3,2,'+')\n",
    "foo(1,5,'-')"
   ]
  },
  {
   "cell_type": "markdown",
   "metadata": {},
   "source": [
    "### 실습 9-2"
   ]
  },
  {
   "cell_type": "code",
   "execution_count": 16,
   "metadata": {},
   "outputs": [
    {
     "name": "stdout",
     "output_type": "stream",
     "text": [
      "7\n",
      "7\n",
      "-4\n"
     ]
    }
   ],
   "source": [
    "def foo(v1, v2,op='+'):\n",
    "    if op=='+':\n",
    "        print(v1+v2)\n",
    "    if op=='-':\n",
    "        print(v1-v2)\n",
    "    if op=='*':\n",
    "        print(v1*v2)\n",
    "    if op=='/':\n",
    "        print(v1/v2)\n",
    "foo(3,4)\n",
    "foo(3,4,'+')\n",
    "foo(1,5,'-')"
   ]
  },
  {
   "cell_type": "markdown",
   "metadata": {},
   "source": [
    "# 3주차"
   ]
  },
  {
   "cell_type": "markdown",
   "metadata": {},
   "source": [
    "## 실습1"
   ]
  },
  {
   "cell_type": "code",
   "execution_count": 58,
   "metadata": {},
   "outputs": [
    {
     "data": {
      "text/plain": [
       "array([[6, 5, 4],\n",
       "       [3, 2, 1]])"
      ]
     },
     "execution_count": 58,
     "metadata": {},
     "output_type": "execute_result"
    },
    {
     "data": {
      "text/plain": [
       "dtype('int32')"
      ]
     },
     "execution_count": 58,
     "metadata": {},
     "output_type": "execute_result"
    },
    {
     "data": {
      "text/plain": [
       "(2, 3)"
      ]
     },
     "execution_count": 58,
     "metadata": {},
     "output_type": "execute_result"
    },
    {
     "data": {
      "text/plain": [
       "6"
      ]
     },
     "execution_count": 58,
     "metadata": {},
     "output_type": "execute_result"
    },
    {
     "data": {
      "text/plain": [
       "24"
      ]
     },
     "execution_count": 58,
     "metadata": {},
     "output_type": "execute_result"
    },
    {
     "data": {
      "text/plain": [
       "array([[6., 5., 4.],\n",
       "       [3., 2., 1.]], dtype=float16)"
      ]
     },
     "execution_count": 58,
     "metadata": {},
     "output_type": "execute_result"
    },
    {
     "data": {
      "text/plain": [
       "dtype('float16')"
      ]
     },
     "execution_count": 58,
     "metadata": {},
     "output_type": "execute_result"
    },
    {
     "data": {
      "text/plain": [
       "(2, 3)"
      ]
     },
     "execution_count": 58,
     "metadata": {},
     "output_type": "execute_result"
    },
    {
     "data": {
      "text/plain": [
       "6"
      ]
     },
     "execution_count": 58,
     "metadata": {},
     "output_type": "execute_result"
    },
    {
     "data": {
      "text/plain": [
       "12"
      ]
     },
     "execution_count": 58,
     "metadata": {},
     "output_type": "execute_result"
    }
   ],
   "source": [
    "o1=np.array([[6,5,4],[3,2,1]], dtype=int)\n",
    "o1\n",
    "o1.dtype\n",
    "o1.shape\n",
    "o1.size\n",
    "o1.nbytes\n",
    "\n",
    "o2=np.array([[6,5,4],[3,2,1]], dtype=np.float16)\n",
    "o2\n",
    "o2.dtype\n",
    "o2.shape\n",
    "o2.size\n",
    "o2.nbytes"
   ]
  },
  {
   "cell_type": "markdown",
   "metadata": {},
   "source": [
    "## 실습2"
   ]
  },
  {
   "cell_type": "code",
   "execution_count": 21,
   "metadata": {},
   "outputs": [
    {
     "data": {
      "text/plain": [
       "array([[1., 2., 3., 4.],\n",
       "       [4., 3., 2., 1.]])"
      ]
     },
     "execution_count": 21,
     "metadata": {},
     "output_type": "execute_result"
    },
    {
     "data": {
      "text/plain": [
       "dtype('float64')"
      ]
     },
     "execution_count": 21,
     "metadata": {},
     "output_type": "execute_result"
    },
    {
     "data": {
      "text/plain": [
       "2"
      ]
     },
     "execution_count": 21,
     "metadata": {},
     "output_type": "execute_result"
    },
    {
     "data": {
      "text/plain": [
       "array([[1, 2, 3, 4],\n",
       "       [4, 3, 2, 1],\n",
       "       [1, 2, 3, 4],\n",
       "       [4, 3, 2, 1]], dtype=int8)"
      ]
     },
     "execution_count": 21,
     "metadata": {},
     "output_type": "execute_result"
    },
    {
     "data": {
      "text/plain": [
       "dtype('int8')"
      ]
     },
     "execution_count": 21,
     "metadata": {},
     "output_type": "execute_result"
    },
    {
     "data": {
      "text/plain": [
       "2"
      ]
     },
     "execution_count": 21,
     "metadata": {},
     "output_type": "execute_result"
    }
   ],
   "source": [
    "ar1=np.array([[1,2,3,4],[4,3,2,1]], np.float64)\n",
    "ar1\n",
    "ar1.dtype\n",
    "ar1.ndim\n",
    "\n",
    "ar2=np.array([[1,2,3,4],[4,3,2,1],[1,2,3,4],[4,3,2,1]], np.int8)\n",
    "ar2\n",
    "ar2.dtype\n",
    "ar2.ndim"
   ]
  },
  {
   "cell_type": "code",
   "execution_count": 22,
   "metadata": {},
   "outputs": [
    {
     "data": {
      "text/plain": [
       "64"
      ]
     },
     "execution_count": 22,
     "metadata": {},
     "output_type": "execute_result"
    },
    {
     "data": {
      "text/plain": [
       "16"
      ]
     },
     "execution_count": 22,
     "metadata": {},
     "output_type": "execute_result"
    }
   ],
   "source": [
    "ar1.nbytes\n",
    "ar2.nbytes"
   ]
  },
  {
   "cell_type": "markdown",
   "metadata": {},
   "source": [
    "## 실습3"
   ]
  },
  {
   "cell_type": "code",
   "execution_count": 3,
   "metadata": {},
   "outputs": [
    {
     "data": {
      "text/plain": [
       "array([[1, 2, 3, 4, 5, 6]])"
      ]
     },
     "execution_count": 3,
     "metadata": {},
     "output_type": "execute_result"
    },
    {
     "data": {
      "text/plain": [
       "array([[1, 2, 3],\n",
       "       [4, 5, 6]])"
      ]
     },
     "execution_count": 3,
     "metadata": {},
     "output_type": "execute_result"
    },
    {
     "data": {
      "text/plain": [
       "array([[1, 2],\n",
       "       [3, 4],\n",
       "       [5, 6]])"
      ]
     },
     "execution_count": 3,
     "metadata": {},
     "output_type": "execute_result"
    },
    {
     "data": {
      "text/plain": [
       "array([[1],\n",
       "       [2],\n",
       "       [3],\n",
       "       [4],\n",
       "       [5],\n",
       "       [6]])"
      ]
     },
     "execution_count": 3,
     "metadata": {},
     "output_type": "execute_result"
    }
   ],
   "source": [
    "ar1=np.array([1,2,3,4,5,6])\n",
    "\n",
    "ar1.reshape(1,6)\n",
    "ar1.reshape(2,3)\n",
    "ar1.reshape(3,2)\n",
    "ar1.reshape(6,1)"
   ]
  },
  {
   "cell_type": "markdown",
   "metadata": {},
   "source": [
    "## 과제1"
   ]
  },
  {
   "cell_type": "code",
   "execution_count": null,
   "metadata": {},
   "outputs": [],
   "source": [
    "# 1)\n",
    "print('### 1) ####')\n",
    "ar1=np.array([[[1,2],[3,4]],[[1,2],[3,4]],[[1,2],[3,4]]], dtype=np.int16)\n",
    "ar1\n",
    "ar1.dtype\n",
    "\n",
    "# 2)\n",
    "print('### 2) ####')\n",
    "l1=[1,2,3,4]*3\n",
    "l1\n",
    "ar1=np.array(l1, dtype=np.int16).reshape(3,2,2)\n",
    "ar1\n",
    "ar1.dtype"
   ]
  },
  {
   "cell_type": "markdown",
   "metadata": {},
   "source": [
    "## 과제2"
   ]
  },
  {
   "cell_type": "code",
   "execution_count": null,
   "metadata": {},
   "outputs": [],
   "source": [
    "ar1=np.array([[1,2,3],[4,5,6000]], dtype=np.int32)\n",
    "print(ar1)\n",
    "ar1=np.array([[1,2,3],[4,5,6000]], dtype=np.int8)\n",
    "print(ar1)\n",
    "print(\"## ar2의 경우 메모리크기가 표현하려는 데이터에 비해 작아서 데이터의 왜곡이 생김, 따라서 ar1의 int32가 더 적합함\")"
   ]
  },
  {
   "cell_type": "markdown",
   "metadata": {},
   "source": [
    "# 4주차"
   ]
  },
  {
   "cell_type": "markdown",
   "metadata": {},
   "source": [
    "## reshape 예제"
   ]
  },
  {
   "cell_type": "code",
   "execution_count": 16,
   "metadata": {
    "scrolled": false
   },
   "outputs": [
    {
     "data": {
      "text/plain": [
       "numpy.ndarray"
      ]
     },
     "execution_count": 16,
     "metadata": {},
     "output_type": "execute_result"
    },
    {
     "data": {
      "text/plain": [
       "dtype('float64')"
      ]
     },
     "execution_count": 16,
     "metadata": {},
     "output_type": "execute_result"
    },
    {
     "data": {
      "text/plain": [
       "(28, 28)"
      ]
     },
     "execution_count": 16,
     "metadata": {},
     "output_type": "execute_result"
    },
    {
     "data": {
      "text/plain": [
       "<matplotlib.image.AxesImage at 0x226e20c4c40>"
      ]
     },
     "execution_count": 16,
     "metadata": {},
     "output_type": "execute_result"
    },
    {
     "data": {
      "text/plain": [
       "(784,)"
      ]
     },
     "execution_count": 16,
     "metadata": {},
     "output_type": "execute_result"
    },
    {
     "data": {
      "text/plain": [
       "(784,)"
      ]
     },
     "execution_count": 16,
     "metadata": {},
     "output_type": "execute_result"
    },
    {
     "data": {
      "image/png": "[encoded data removed]",
      "text/plain": [
       "<Figure size 432x288 with 1 Axes>"
      ]
     },
     "metadata": {
      "needs_background": "light"
     },
     "output_type": "display_data"
    }
   ],
   "source": [
    "m1=np.loadtxt('mnist_data1.txt')\n",
    "type(m1)\n",
    "m1.dtype\n",
    "m1.shape\n",
    "\n",
    "import matplotlib.pyplot as plt\n",
    "plt.imshow(m1, cmap='gray')\n",
    "\n",
    "v1=m1.reshape(-1,)\n",
    "v2=m1.reshape(m1.size,)\n",
    "v1.shape\n",
    "v2.shape"
   ]
  },
  {
   "cell_type": "markdown",
   "metadata": {},
   "source": [
    "## 실습1"
   ]
  },
  {
   "cell_type": "code",
   "execution_count": 17,
   "metadata": {},
   "outputs": [
    {
     "data": {
      "text/plain": [
       "array([[[ 1,  2,  3,  4],\n",
       "        [ 5,  6,  7,  8],\n",
       "        [ 9, 10, 11, 12]],\n",
       "\n",
       "       [[13, 14, 15, 16],\n",
       "        [17, 18, 19, 20],\n",
       "        [21, 22, 23, 24]],\n",
       "\n",
       "       [[25, 26, 27, 28],\n",
       "        [29, 30, 31, 32],\n",
       "        [33, 34, 35, 36]],\n",
       "\n",
       "       [[37, 38, 39, 40],\n",
       "        [41, 42, 43, 44],\n",
       "        [45, 46, 47, 48]],\n",
       "\n",
       "       [[49, 50, 51, 52],\n",
       "        [53, 54, 55, 56],\n",
       "        [57, 58, 59, 60]]])"
      ]
     },
     "execution_count": 17,
     "metadata": {},
     "output_type": "execute_result"
    },
    {
     "data": {
      "text/plain": [
       "array([ 1,  2,  3,  4,  5,  6,  7,  8,  9, 10, 11, 12, 13, 14, 15, 16, 17,\n",
       "       18, 19, 20, 21, 22, 23, 24, 25, 26, 27, 28, 29, 30, 31, 32, 33, 34,\n",
       "       35, 36, 37, 38, 39, 40, 41, 42, 43, 44, 45, 46, 47, 48, 49, 50, 51,\n",
       "       52, 53, 54, 55, 56, 57, 58, 59, 60])"
      ]
     },
     "execution_count": 17,
     "metadata": {},
     "output_type": "execute_result"
    },
    {
     "data": {
      "text/plain": [
       "array([[ 1,  2,  3,  4,  5,  6,  7,  8,  9, 10, 11, 12, 13, 14, 15, 16,\n",
       "        17, 18, 19, 20, 21, 22, 23, 24, 25, 26, 27, 28, 29, 30, 31, 32,\n",
       "        33, 34, 35, 36, 37, 38, 39, 40, 41, 42, 43, 44, 45, 46, 47, 48,\n",
       "        49, 50, 51, 52, 53, 54, 55, 56, 57, 58, 59, 60]])"
      ]
     },
     "execution_count": 17,
     "metadata": {},
     "output_type": "execute_result"
    },
    {
     "data": {
      "text/plain": [
       "array([[ 1,  2,  3,  4,  5,  6,  7,  8,  9, 10],\n",
       "       [11, 12, 13, 14, 15, 16, 17, 18, 19, 20],\n",
       "       [21, 22, 23, 24, 25, 26, 27, 28, 29, 30],\n",
       "       [31, 32, 33, 34, 35, 36, 37, 38, 39, 40],\n",
       "       [41, 42, 43, 44, 45, 46, 47, 48, 49, 50],\n",
       "       [51, 52, 53, 54, 55, 56, 57, 58, 59, 60]])"
      ]
     },
     "execution_count": 17,
     "metadata": {},
     "output_type": "execute_result"
    }
   ],
   "source": [
    "# 1)\n",
    "ar1=np.arange(1,61).reshape(5,3,4)\n",
    "ar1\n",
    "\n",
    "# 2)\n",
    "ar2_v=ar1.reshape(-1,)\n",
    "ar2_m=ar1.reshape(1,-1)\n",
    "ar2_v\n",
    "ar2_m\n",
    "\n",
    "# 3)\n",
    "ar3=ar2_v.reshape(-1,10)\n",
    "ar3"
   ]
  },
  {
   "cell_type": "markdown",
   "metadata": {},
   "source": [
    "## 실습2"
   ]
  },
  {
   "cell_type": "code",
   "execution_count": 18,
   "metadata": {},
   "outputs": [
    {
     "data": {
      "text/plain": [
       "array([[ 0,  1,  2,  3,  4],\n",
       "       [ 5,  6,  7,  8,  9],\n",
       "       [10, 11, 12, 13, 14]])"
      ]
     },
     "execution_count": 18,
     "metadata": {},
     "output_type": "execute_result"
    },
    {
     "data": {
      "text/plain": [
       "array([[   0,    1,    2,    3,    4],\n",
       "       [   5,    6,    7, 1000,    9],\n",
       "       [  10,   11,   12,   13,   14]])"
      ]
     },
     "execution_count": 18,
     "metadata": {},
     "output_type": "execute_result"
    },
    {
     "data": {
      "text/plain": [
       "array([[[ 0,  1,  2,  3,  4],\n",
       "        [ 5,  6,  7,  8,  9]],\n",
       "\n",
       "       [[10, 11, 12, 13, 14],\n",
       "        [15, 16, 17, 18, 19]],\n",
       "\n",
       "       [[20, 21, 22, 23, 24],\n",
       "        [25, 26, 27, 28, 29]],\n",
       "\n",
       "       [[30, 31, 32, 33, 34],\n",
       "        [35, 36, 37, 38, 39]],\n",
       "\n",
       "       [[40, 41, 42, 43, 44],\n",
       "        [45, 46, 47, 48, 49]],\n",
       "\n",
       "       [[50, 51, 52, 53, 54],\n",
       "        [55, 56, 57, 58, 59]]])"
      ]
     },
     "execution_count": 18,
     "metadata": {},
     "output_type": "execute_result"
    },
    {
     "data": {
      "text/plain": [
       "array([[[   0,    1,    2,    3,    4],\n",
       "        [   5,    6,    7,    8,    9]],\n",
       "\n",
       "       [[  10,   11,   12,   13,   14],\n",
       "        [  15,   16,   17,   18,   19]],\n",
       "\n",
       "       [[  20,   21,   22,   23,   24],\n",
       "        [  25,   26,   27,   28,   29]],\n",
       "\n",
       "       [[  30,   31,   32,   33, 1000],\n",
       "        [  35,   36,   37,   38,   39]],\n",
       "\n",
       "       [[  40,   41,   42,   43,   44],\n",
       "        [  45,   46,   47,   48,   49]],\n",
       "\n",
       "       [[  50,   51,   52,   53,   54],\n",
       "        [  55,   56,   57,   58,   59]]])"
      ]
     },
     "execution_count": 18,
     "metadata": {},
     "output_type": "execute_result"
    }
   ],
   "source": [
    "# 1)\n",
    "ar1=np.array(range(15)).reshape(3,5)\n",
    "ar1\n",
    "ar1[1,3]=1000\n",
    "ar1\n",
    "\n",
    "# 1)\n",
    "ar1=np.array(range(60)).reshape(6,2,5)\n",
    "ar1\n",
    "ar1[3,0,-1]=1000\n",
    "ar1"
   ]
  },
  {
   "cell_type": "markdown",
   "metadata": {},
   "source": [
    "## 실습3"
   ]
  },
  {
   "cell_type": "code",
   "execution_count": 19,
   "metadata": {},
   "outputs": [
    {
     "data": {
      "text/plain": [
       "array([[13, 14, 15],\n",
       "       [19, 20, 21]])"
      ]
     },
     "execution_count": 19,
     "metadata": {},
     "output_type": "execute_result"
    },
    {
     "data": {
      "text/plain": [
       "array([[ 0,  1,  2,  3,  4,  5],\n",
       "       [ 6,  7,  8,  9, 10, 11],\n",
       "       [12, -1, -2, -3, 16, 17],\n",
       "       [18, -4, -5, -6, 22, 23]])"
      ]
     },
     "execution_count": 19,
     "metadata": {},
     "output_type": "execute_result"
    }
   ],
   "source": [
    "# 1)\n",
    "m1=np.arange(24).reshape(4,6)\n",
    "a1=m1[2:,1:4]\n",
    "a1\n",
    "\n",
    "# 2)\n",
    "m1[2:,1:4] = np.array([-1,-2,-3,-4,-5,-6]).reshape(2,3)\n",
    "m1"
   ]
  },
  {
   "cell_type": "markdown",
   "metadata": {},
   "source": [
    "## 실습4"
   ]
  },
  {
   "cell_type": "code",
   "execution_count": 20,
   "metadata": {},
   "outputs": [
    {
     "data": {
      "text/plain": [
       "array([[ 0,  4,  8],\n",
       "       [12, 16, 20]])"
      ]
     },
     "execution_count": 20,
     "metadata": {},
     "output_type": "execute_result"
    },
    {
     "data": {
      "text/plain": [
       "array([[ 0,  4,  8],\n",
       "       [12, 16, 20]])"
      ]
     },
     "execution_count": 20,
     "metadata": {},
     "output_type": "execute_result"
    }
   ],
   "source": [
    "# 1)\n",
    "m1=np.arange(24).reshape(2,12)\n",
    "m1[:,::4]\n",
    "\n",
    "# 2)\n",
    "m2=np.arange(0,21,4).reshape(2,3)\n",
    "m2"
   ]
  },
  {
   "cell_type": "markdown",
   "metadata": {},
   "source": [
    "## 실습5"
   ]
  },
  {
   "cell_type": "code",
   "execution_count": 21,
   "metadata": {},
   "outputs": [
    {
     "data": {
      "text/plain": [
       "array([[0, 0, 0, 0],\n",
       "       [0, 0, 0, 0],\n",
       "       [0, 0, 0, 0],\n",
       "       [0, 0, 0, 0]], dtype=int8)"
      ]
     },
     "execution_count": 21,
     "metadata": {},
     "output_type": "execute_result"
    },
    {
     "data": {
      "text/plain": [
       "array([[0, 0, 0, 0],\n",
       "       [2, 2, 2, 2],\n",
       "       [0, 0, 0, 0],\n",
       "       [0, 0, 0, 0]], dtype=int8)"
      ]
     },
     "execution_count": 21,
     "metadata": {},
     "output_type": "execute_result"
    },
    {
     "data": {
      "text/plain": [
       "array([[0, 0, 4, 0],\n",
       "       [2, 2, 4, 2],\n",
       "       [0, 0, 4, 0],\n",
       "       [0, 0, 4, 0]], dtype=int8)"
      ]
     },
     "execution_count": 21,
     "metadata": {},
     "output_type": "execute_result"
    }
   ],
   "source": [
    "# 1)\n",
    "m1=np.zeros(shape=(4,4),dtype=np.int8)\n",
    "m1\n",
    "m1[1,:] = np.array([2,2,2,2])\n",
    "m1\n",
    "m1[:,2] = np.array([4,4,4,4])\n",
    "m1"
   ]
  },
  {
   "cell_type": "code",
   "execution_count": 22,
   "metadata": {},
   "outputs": [
    {
     "data": {
      "text/plain": [
       "array([[0, 0, 0, 0],\n",
       "       [0, 0, 0, 0],\n",
       "       [0, 0, 0, 0],\n",
       "       [0, 0, 0, 0]], dtype=int8)"
      ]
     },
     "execution_count": 22,
     "metadata": {},
     "output_type": "execute_result"
    },
    {
     "data": {
      "text/plain": [
       "array([[0, 0, 0, 0],\n",
       "       [2, 2, 0, 0],\n",
       "       [0, 0, 0, 0],\n",
       "       [0, 0, 0, 0]], dtype=int8)"
      ]
     },
     "execution_count": 22,
     "metadata": {},
     "output_type": "execute_result"
    },
    {
     "data": {
      "text/plain": [
       "array([[0, 0, 0, 0],\n",
       "       [2, 2, 0, 2],\n",
       "       [0, 0, 0, 0],\n",
       "       [0, 0, 0, 0]], dtype=int8)"
      ]
     },
     "execution_count": 22,
     "metadata": {},
     "output_type": "execute_result"
    },
    {
     "data": {
      "text/plain": [
       "array([[0, 0, 4, 0],\n",
       "       [2, 2, 4, 2],\n",
       "       [0, 0, 4, 0],\n",
       "       [0, 0, 4, 0]], dtype=int8)"
      ]
     },
     "execution_count": 22,
     "metadata": {},
     "output_type": "execute_result"
    }
   ],
   "source": [
    "# 2)\n",
    "m1=np.zeros(shape=(4,4),dtype=np.int8)\n",
    "m1\n",
    "m1[1,:2] = np.array([2,2])\n",
    "m1\n",
    "m1[1,-1] = 2\n",
    "m1\n",
    "m1[:,2] = np.array([4,4,4,4])\n",
    "m1"
   ]
  },
  {
   "cell_type": "markdown",
   "metadata": {},
   "source": [
    "## 실습6"
   ]
  },
  {
   "cell_type": "code",
   "execution_count": 23,
   "metadata": {},
   "outputs": [
    {
     "data": {
      "text/plain": [
       "array([[ 5.34155392,  0.70708565,  0.83406215, -1.59919836, -0.45005653],\n",
       "       [-1.14048874, -0.92365816, -0.01395974, -0.35692651, -2.21394882],\n",
       "       [ 0.76575593, -5.03506701,  1.26007445,  2.7864668 ,  2.09351209]])"
      ]
     },
     "execution_count": 23,
     "metadata": {},
     "output_type": "execute_result"
    },
    {
     "data": {
      "text/plain": [
       "array([[ 5.34155392,  0.83406215, -1.59919836],\n",
       "       [-1.14048874, -0.01395974, -0.35692651],\n",
       "       [ 0.76575593,  1.26007445,  2.7864668 ]])"
      ]
     },
     "execution_count": 23,
     "metadata": {},
     "output_type": "execute_result"
    }
   ],
   "source": [
    "m1=np.random.normal(loc=0, scale=2.0, size=(3,5))\n",
    "m1\n",
    "m1[:,[0,2,3]]"
   ]
  },
  {
   "cell_type": "markdown",
   "metadata": {},
   "source": [
    "## 실습7"
   ]
  },
  {
   "cell_type": "code",
   "execution_count": 24,
   "metadata": {},
   "outputs": [
    {
     "data": {
      "text/plain": [
       "array([[[10, 12, 14],\n",
       "        [11, 11, 12]],\n",
       "\n",
       "       [[13, 11, 13],\n",
       "        [14, 11, 14]],\n",
       "\n",
       "       [[12, 12, 10],\n",
       "        [14, 11, 14]],\n",
       "\n",
       "       [[11, 14, 15],\n",
       "        [12, 12, 10]]])"
      ]
     },
     "execution_count": 24,
     "metadata": {},
     "output_type": "execute_result"
    },
    {
     "data": {
      "text/plain": [
       "array([[12, 12, 10],\n",
       "       [14, 11, 14]])"
      ]
     },
     "execution_count": 24,
     "metadata": {},
     "output_type": "execute_result"
    }
   ],
   "source": [
    "t1=np.random.randint(10,16,size=(4,2,3))\n",
    "t1\n",
    "t1[2,:,:]"
   ]
  },
  {
   "cell_type": "markdown",
   "metadata": {},
   "source": [
    "## 실습8"
   ]
  },
  {
   "cell_type": "code",
   "execution_count": 25,
   "metadata": {},
   "outputs": [
    {
     "data": {
      "text/plain": [
       "array([5, 2, 4])"
      ]
     },
     "execution_count": 25,
     "metadata": {},
     "output_type": "execute_result"
    }
   ],
   "source": [
    "t1=np.random.choice(np.arange(6),size=(3,),replace=False)\n",
    "t1\n"
   ]
  },
  {
   "cell_type": "markdown",
   "metadata": {},
   "source": [
    "## 과제1"
   ]
  },
  {
   "cell_type": "code",
   "execution_count": 14,
   "metadata": {},
   "outputs": [
    {
     "data": {
      "text/plain": [
       "array([[ 0. ,  0.5,  1. ,  1.5,  2. ,  2.5],\n",
       "       [ 3. ,  3.5,  4. ,  4.5,  5. ,  5.5],\n",
       "       [ 6. ,  6.5,  7. ,  7.5,  8. ,  8.5],\n",
       "       [ 9. ,  9.5, 10. , 10.5, 11. , 11.5]])"
      ]
     },
     "execution_count": 14,
     "metadata": {},
     "output_type": "execute_result"
    },
    {
     "data": {
      "text/plain": [
       "array([[ 0.5,  1.5,  2.5],\n",
       "       [ 3.5,  4.5,  5.5],\n",
       "       [ 6.5,  7.5,  8.5],\n",
       "       [ 9.5, 10.5, 11.5]])"
      ]
     },
     "execution_count": 14,
     "metadata": {},
     "output_type": "execute_result"
    },
    {
     "data": {
      "text/plain": [
       "array([ 0.5,  1.5,  2.5,  3.5,  4.5,  5.5,  6.5,  7.5,  8.5,  9.5, 10.5,\n",
       "       11.5])"
      ]
     },
     "execution_count": 14,
     "metadata": {},
     "output_type": "execute_result"
    }
   ],
   "source": [
    "ar1=np.arange(0,11.6,0.5).reshape(4,-1)\n",
    "ar1\n",
    "ar2=ar1[:,1::2]\n",
    "ar2\n",
    "ar3=ar2.flatten()\n",
    "ar3"
   ]
  },
  {
   "cell_type": "markdown",
   "metadata": {},
   "source": [
    "## 과제2"
   ]
  },
  {
   "cell_type": "code",
   "execution_count": 13,
   "metadata": {},
   "outputs": [
    {
     "data": {
      "text/plain": [
       "array([ 0,  2,  4,  6,  8, 10, 12, 14, 16, 18, 20])"
      ]
     },
     "execution_count": 13,
     "metadata": {},
     "output_type": "execute_result"
    },
    {
     "data": {
      "text/plain": [
       "array([[ 8, 14, 16,  2, 20,  6],\n",
       "       [18, 16,  4, 20, 10,  0],\n",
       "       [ 2,  2,  6,  2,  4, 20],\n",
       "       [14,  4, 12, 20,  2,  0],\n",
       "       [20, 16,  8,  6, 20, 20],\n",
       "       [18, 18,  4, 16,  6,  2]])"
      ]
     },
     "execution_count": 13,
     "metadata": {},
     "output_type": "execute_result"
    },
    {
     "data": {
      "text/plain": [
       "array([ 8, 16,  6, 20, 20,  2])"
      ]
     },
     "execution_count": 13,
     "metadata": {},
     "output_type": "execute_result"
    },
    {
     "data": {
      "text/plain": [
       "array([[ 8, 16,  6],\n",
       "       [20, 20,  2]])"
      ]
     },
     "execution_count": 13,
     "metadata": {},
     "output_type": "execute_result"
    }
   ],
   "source": [
    "ar1=np.arange(0,21,2)\n",
    "ar1\n",
    "ar2=np.random.choice(ar1, size=(6,6))\n",
    "ar2\n",
    "ar3=np.diag(ar2)\n",
    "ar3\n",
    "ar4=ar3.reshape(2,3)\n",
    "ar4"
   ]
  },
  {
   "cell_type": "markdown",
   "metadata": {},
   "source": [
    "# 5주차"
   ]
  },
  {
   "cell_type": "markdown",
   "metadata": {},
   "source": [
    "## matplotlib hist"
   ]
  },
  {
   "cell_type": "code",
   "execution_count": 8,
   "metadata": {},
   "outputs": [
    {
     "data": {
      "image/png": "[encoded data removed]",
      "text/plain": [
       "<Figure size 432x288 with 1 Axes>"
      ]
     },
     "metadata": {
      "needs_background": "light"
     },
     "output_type": "display_data"
    }
   ],
   "source": [
    "import matplotlib.pyplot as plt\n",
    "ar1=np.random.normal(3,1,size=10000)\n",
    "\n",
    "fig, ax=plt.subplots()\n",
    "_=ax.hist(ar1, bins=10, edgecolor='r')"
   ]
  },
  {
   "cell_type": "markdown",
   "metadata": {},
   "source": [
    "## 실습1"
   ]
  },
  {
   "cell_type": "code",
   "execution_count": 9,
   "metadata": {},
   "outputs": [
    {
     "data": {
      "image/png": "[encoded data removed]",
      "text/plain": [
       "<Figure size 432x288 with 1 Axes>"
      ]
     },
     "metadata": {
      "needs_background": "light"
     },
     "output_type": "display_data"
    },
    {
     "data": {
      "image/png": "[encoded data removed]",
      "text/plain": [
       "<Figure size 432x288 with 1 Axes>"
      ]
     },
     "metadata": {
      "needs_background": "light"
     },
     "output_type": "display_data"
    }
   ],
   "source": [
    "import matplotlib.pyplot as plt\n",
    "\n",
    "# 1)\n",
    "ar1=np.random.normal(3,1,size=10)\n",
    "\n",
    "fig, ax=plt.subplots()\n",
    "_=ax.hist(ar1, bins=10, edgecolor='r')\n",
    "\n",
    "# 2)\n",
    "ar2=np.random.normal(3,1,size=10000)\n",
    "fig, ax=plt.subplots()\n",
    "_=ax.hist(ar2, bins=10, edgecolor='r')"
   ]
  },
  {
   "cell_type": "markdown",
   "metadata": {},
   "source": [
    "## 실습2"
   ]
  },
  {
   "cell_type": "code",
   "execution_count": 10,
   "metadata": {},
   "outputs": [
    {
     "data": {
      "text/plain": [
       "array([[ 0,  3,  6,  9, 12],\n",
       "       [15, 18, 21, 24, 27],\n",
       "       [30, 33, 36, 39, 42],\n",
       "       [45, 48, 51, 54, 57]])"
      ]
     },
     "execution_count": 10,
     "metadata": {},
     "output_type": "execute_result"
    },
    {
     "data": {
      "text/plain": [
       "570"
      ]
     },
     "execution_count": 10,
     "metadata": {},
     "output_type": "execute_result"
    },
    {
     "data": {
      "text/plain": [
       "array([ 30, 105, 180, 255])"
      ]
     },
     "execution_count": 10,
     "metadata": {},
     "output_type": "execute_result"
    },
    {
     "data": {
      "text/plain": [
       "array([22.5, 25.5, 28.5, 31.5, 34.5])"
      ]
     },
     "execution_count": 10,
     "metadata": {},
     "output_type": "execute_result"
    }
   ],
   "source": [
    "a1=np.arange(0,58,3).reshape(4,5)\n",
    "a1\n",
    "a1.sum()\n",
    "a1.sum(axis=1)\n",
    "a1.mean(axis=0)"
   ]
  },
  {
   "cell_type": "markdown",
   "metadata": {},
   "source": [
    "## 실습3"
   ]
  },
  {
   "cell_type": "code",
   "execution_count": 11,
   "metadata": {},
   "outputs": [
    {
     "data": {
      "text/plain": [
       "array([[87, 98, 58, 95, 43],\n",
       "       [ 3, 78, 21,  9, 62],\n",
       "       [34, 75, 58, 70, 84],\n",
       "       [30,  3, 96, 91, 27]])"
      ]
     },
     "execution_count": 11,
     "metadata": {},
     "output_type": "execute_result"
    },
    {
     "data": {
      "text/plain": [
       "array([1, 1, 4, 2], dtype=int64)"
      ]
     },
     "execution_count": 11,
     "metadata": {},
     "output_type": "execute_result"
    }
   ],
   "source": [
    "m1=np.random.randint(100, size=(4,5))\n",
    "m1\n",
    "m1.argmax(axis=1)"
   ]
  },
  {
   "cell_type": "markdown",
   "metadata": {},
   "source": [
    "## 실습4"
   ]
  },
  {
   "cell_type": "code",
   "execution_count": 12,
   "metadata": {},
   "outputs": [
    {
     "data": {
      "text/plain": [
       "array([[ 0,  1,  2,  3,  4,  5,  6,  7,  8],\n",
       "       [ 9, 10, 11, 12, 13, 14, 15, 16, 17],\n",
       "       [18, 19, 20, 21, 22, 23, 24, 25, 26],\n",
       "       [27, 28, 29, 30, 31, 32, 33, 34, 35]])"
      ]
     },
     "execution_count": 12,
     "metadata": {},
     "output_type": "execute_result"
    },
    {
     "data": {
      "text/plain": [
       "array([[ 2,  5,  8],\n",
       "       [11, 14, 17],\n",
       "       [20, 23, 26],\n",
       "       [29, 32, 35]])"
      ]
     },
     "execution_count": 12,
     "metadata": {},
     "output_type": "execute_result"
    },
    {
     "data": {
      "text/plain": [
       "array([15.5, 18.5, 21.5])"
      ]
     },
     "execution_count": 12,
     "metadata": {},
     "output_type": "execute_result"
    },
    {
     "data": {
      "text/plain": [
       "array([10.0623059, 10.0623059, 10.0623059])"
      ]
     },
     "execution_count": 12,
     "metadata": {},
     "output_type": "execute_result"
    }
   ],
   "source": [
    "m1=np.arange(36).reshape(4,9)\n",
    "m2=m1[:,2::3]\n",
    "m1\n",
    "m2\n",
    "m2.mean(axis=0)\n",
    "m2.std(axis=0)"
   ]
  },
  {
   "cell_type": "markdown",
   "metadata": {},
   "source": [
    "## 실습5"
   ]
  },
  {
   "cell_type": "code",
   "execution_count": 13,
   "metadata": {},
   "outputs": [
    {
     "data": {
      "text/plain": [
       "array([[[44, 32, 49, 87, 40],\n",
       "        [28,  8, 17, 80, 12],\n",
       "        [43, 53, 54,  6, 54],\n",
       "        [67, 58, 74, 31, 30]],\n",
       "\n",
       "       [[73, 43, 70, 32, 29],\n",
       "        [60, 93, 22, 65, 51],\n",
       "        [41, 31, 88, 92, 86],\n",
       "        [81, 58, 13, 34, 24]],\n",
       "\n",
       "       [[ 1, 20, 31, 35, 73],\n",
       "        [91, 34, 36, 81, 51],\n",
       "        [55, 12, 60, 73, 11],\n",
       "        [37, 99, 25, 33, 23]]])"
      ]
     },
     "execution_count": 13,
     "metadata": {},
     "output_type": "execute_result"
    },
    {
     "data": {
      "text/plain": [
       "array([[44., 17., 53., 58.],\n",
       "       [43., 60., 86., 34.],\n",
       "       [31., 51., 55., 33.]])"
      ]
     },
     "execution_count": 13,
     "metadata": {},
     "output_type": "execute_result"
    },
    {
     "data": {
      "text/plain": [
       "array([[67, 58, 74, 87, 54],\n",
       "       [81, 93, 88, 92, 86],\n",
       "       [91, 99, 60, 81, 73]])"
      ]
     },
     "execution_count": 13,
     "metadata": {},
     "output_type": "execute_result"
    },
    {
     "data": {
      "text/plain": [
       "array([87, 93, 99])"
      ]
     },
     "execution_count": 13,
     "metadata": {},
     "output_type": "execute_result"
    }
   ],
   "source": [
    "# 주어진 array\n",
    "a1=np.random.randint(100, size=(3,4,5))\n",
    "a1\n",
    "\n",
    "# 1)\n",
    "a2=np.median(a1, axis=2)\n",
    "a2\n",
    "\n",
    "# 2)\n",
    "a3=a1.max(axis=1)\n",
    "a3\n",
    "a4=a3.max(axis=1)\n",
    "a4"
   ]
  },
  {
   "cell_type": "markdown",
   "metadata": {},
   "source": [
    "## 중심극한정리"
   ]
  },
  {
   "cell_type": "code",
   "execution_count": 18,
   "metadata": {},
   "outputs": [],
   "source": [
    "import matplotlib.pyplot as plt\n",
    "\n",
    "def draw_hist(ar1, nbin=20):\n",
    "    fig, ax=plt.subplots()\n",
    "    _=ax.hist(ar1, bins=nbin, edgecolor='r')"
   ]
  },
  {
   "cell_type": "code",
   "execution_count": 20,
   "metadata": {},
   "outputs": [
    {
     "name": "stdout",
     "output_type": "stream",
     "text": [
      "sample dist> mean: 4.0000, std: 0.5770\n"
     ]
    },
    {
     "data": {
      "text/plain": [
       "array([[4.60802818, 3.00040643, 3.64553423, 4.72714673, 4.25810974],\n",
       "       [4.7357154 , 3.54422881, 3.73721611, 3.28997977, 3.1698806 ],\n",
       "       [4.16987925, 3.73302163, 3.97103603, 3.12859869, 4.53430554],\n",
       "       [4.3090398 , 3.70475992, 3.28259632, 4.14062546, 3.88496306],\n",
       "       [4.84877233, 3.88748588, 4.56298304, 3.64871383, 4.30591635]])"
      ]
     },
     "execution_count": 20,
     "metadata": {},
     "output_type": "execute_result"
    },
    {
     "name": "stdout",
     "output_type": "stream",
     "text": [
      "sample mean dist> mean: 4.0000, std: 0.0057\n"
     ]
    },
    {
     "data": {
      "image/png": "[encoded data removed]",
      "text/plain": [
       "<Figure size 432x288 with 1 Axes>"
      ]
     },
     "metadata": {
      "needs_background": "light"
     },
     "output_type": "display_data"
    },
    {
     "data": {
      "image/png": "[encoded data removed]",
      "text/plain": [
       "<Figure size 432x288 with 1 Axes>"
      ]
     },
     "metadata": {
      "needs_background": "light"
     },
     "output_type": "display_data"
    }
   ],
   "source": [
    "### uniform\n",
    "s1=np.random.uniform(3,5,size=10000)\n",
    "draw_hist(s1)\n",
    "print('sample dist> mean: {:.4f}, std: {:.4f}'.format(s1.mean(),s1.std()))\n",
    "\n",
    "s2=np.random.uniform(3,5, size=(2000,10000))\n",
    "s2[:5,:5]\n",
    "m1=s2.mean(axis=1)\n",
    "draw_hist(m1)\n",
    "print('sample mean dist> mean: {:.4f}, std: {:.4f}'.format(m1.mean(),m1.std()))"
   ]
  },
  {
   "cell_type": "code",
   "execution_count": 21,
   "metadata": {},
   "outputs": [
    {
     "name": "stdout",
     "output_type": "stream",
     "text": [
      "sample dist> mean: 3.0085, std: 1.9987\n",
      "sample mean dist> mean: 3.0010, std: 0.0197\n"
     ]
    },
    {
     "data": {
      "image/png": "[encoded data removed]",
      "text/plain": [
       "<Figure size 432x288 with 1 Axes>"
      ]
     },
     "metadata": {
      "needs_background": "light"
     },
     "output_type": "display_data"
    },
    {
     "data": {
      "image/png": "[encoded data removed]",
      "text/plain": [
       "<Figure size 432x288 with 1 Axes>"
      ]
     },
     "metadata": {
      "needs_background": "light"
     },
     "output_type": "display_data"
    }
   ],
   "source": [
    "### normal\n",
    "s1=np.random.normal(3,2,size=10000)\n",
    "draw_hist(s1)\n",
    "print('sample dist> mean: {:.4f}, std: {:.4f}'.format(s1.mean(),s1.std()))\n",
    "\n",
    "s2=np.random.normal(3,2, size=(2000,10000))\n",
    "m1=s2.mean(axis=1)\n",
    "draw_hist(m1)\n",
    "print('sample mean dist> mean: {:.4f}, std: {:.4f}'.format(m1.mean(),m1.std()))"
   ]
  },
  {
   "cell_type": "code",
   "execution_count": 22,
   "metadata": {},
   "outputs": [
    {
     "name": "stdout",
     "output_type": "stream",
     "text": [
      "sample dist> mean: 64.4611, std: 41.5488\n",
      "sample mean dist> mean: 64.5018, std: 0.4121\n"
     ]
    },
    {
     "data": {
      "image/png": "[encoded data removed]",
      "text/plain": [
       "<Figure size 432x288 with 1 Axes>"
      ]
     },
     "metadata": {
      "needs_background": "light"
     },
     "output_type": "display_data"
    },
    {
     "data": {
      "image/png": "[encoded data removed]",
      "text/plain": [
       "<Figure size 432x288 with 1 Axes>"
      ]
     },
     "metadata": {
      "needs_background": "light"
     },
     "output_type": "display_data"
    }
   ],
   "source": [
    "## a certain distribution\n",
    "ar1=np.concatenate((np.arange(0,100), np.arange(50,150), np.arange(0,20), np.arange(10,30)))\n",
    "s1=np.random.choice(ar1, size=10000)\n",
    "draw_hist(s1)\n",
    "print('sample dist> mean: {:.4f}, std: {:.4f}'.format(s1.mean(),s1.std()))\n",
    "\n",
    "s2=np.random.choice(ar1, size=(2000,10000))\n",
    "m1=s2.mean(axis=1)\n",
    "draw_hist(m1)\n",
    "print('sample mean dist> mean: {:.4f}, std: {:.4f}'.format(m1.mean(),m1.std()))"
   ]
  },
  {
   "cell_type": "code",
   "execution_count": null,
   "metadata": {},
   "outputs": [],
   "source": []
  },
  {
   "cell_type": "code",
   "execution_count": null,
   "metadata": {},
   "outputs": [],
   "source": []
  }
 ],
 "metadata": {
  "kernelspec": {
   "display_name": "Python 3",
   "language": "python",
   "name": "python3"
  },
  "language_info": {
   "codemirror_mode": {
    "name": "ipython",
    "version": 3
   },
   "file_extension": ".py",
   "mimetype": "text/x-python",
   "name": "python",
   "nbconvert_exporter": "python",
   "pygments_lexer": "ipython3",
   "version": "3.8.3"
  },
  "toc": {
   "base_numbering": 1,
   "nav_menu": {},
   "number_sections": true,
   "sideBar": true,
   "skip_h1_title": false,
   "title_cell": "Table of Contents",
   "title_sidebar": "Contents",
   "toc_cell": false,
   "toc_position": {
    "height": "calc(100% - 180px)",
    "left": "10px",
    "top": "150px",
    "width": "200.817px"
   },
   "toc_section_display": true,
   "toc_window_display": true
  },
  "varInspector": {
   "cols": {
    "lenName": 16,
    "lenType": 16,
    "lenVar": 40
   },
   "kernels_config": {
    "python": {
     "delete_cmd_postfix": "",
     "delete_cmd_prefix": "del ",
     "library": "var_list.py",
     "varRefreshCmd": "print(var_dic_list())"
    },
    "r": {
     "delete_cmd_postfix": ") ",
     "delete_cmd_prefix": "rm(",
     "library": "var_list.r",
     "varRefreshCmd": "cat(var_dic_list()) "
    }
   },
   "types_to_exclude": [
    "module",
    "function",
    "builtin_function_or_method",
    "instance",
    "_Feature"
   ],
   "window_display": false
  }
 },
 "nbformat": 4,
 "nbformat_minor": 2
}
