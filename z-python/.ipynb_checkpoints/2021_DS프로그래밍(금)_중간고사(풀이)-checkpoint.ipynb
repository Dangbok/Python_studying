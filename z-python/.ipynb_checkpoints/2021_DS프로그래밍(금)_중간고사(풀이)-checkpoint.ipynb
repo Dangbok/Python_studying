{
 "cells": [
  {
   "cell_type": "markdown",
   "metadata": {},
   "source": [
    "* 2021년 4월 30일. DS프로그래밍(금) 중간고사."
   ]
  },
  {
   "cell_type": "code",
   "execution_count": 1,
   "metadata": {},
   "outputs": [
    {
     "name": "stdout",
     "output_type": "stream",
     "text": [
      "python 3.9.7 (default, Sep 16 2021, 16:59:28) [MSC v.1916 64 bit (AMD64)]\n",
      "numpy 1.20.3\n",
      "pandas 1.3.4\n",
      "matplotlib 3.4.3\n",
      "seaborn 0.11.2\n"
     ]
    }
   ],
   "source": [
    "# 사용할 패키지를 import합니다\n",
    "import sys\n",
    "print('python', sys.version)\n",
    "\n",
    "import numpy as np\n",
    "print('numpy', np.__version__)\n",
    "\n",
    "import pandas as pd\n",
    "print('pandas', pd.__version__)\n",
    "\n",
    "import matplotlib as mpl\n",
    "print('matplotlib', mpl.__version__)\n",
    "\n",
    "import matplotlib.pyplot as plt\n",
    "plt.rc(\"font\", family=\"Malgun Gothic\") # window\n",
    "\n",
    "import seaborn as sns\n",
    "print('seaborn', sns.__version__)\n",
    "\n",
    "# 결과 확인을 용이하게 하기 위한 코드\n",
    "from IPython.core.interactiveshell import InteractiveShell\n",
    "InteractiveShell.ast_node_interactivity = 'all'"
   ]
  },
  {
   "cell_type": "code",
   "execution_count": 2,
   "metadata": {},
   "outputs": [],
   "source": [
    "##################################################\n",
    "############### 문제 풀기 전 주의사항 ##############\n",
    "##################################################\n",
    "\n",
    "# 시험시간 내 인터넷 사용 금지, 시험문제 다운로드, 업로드 시에만 가능\n",
    "# (시험 중, 핸드폰이나 인터넷 사용을 포함한 부정행위 적발시 0점 처리).\n",
    "\n",
    "# ipynb 시험파일, html 시험파일을 다운 받고,\n",
    "# ipynb 시험 파일은 파일명 수정 -> ds_중간_20181234_홍길동.ipynb.\n",
    "\n",
    "# html 파일의 실행결과를 참고하여, ipynb 파일의 #=== 코드작성 ===# 부분에 코드를 작성하여\n",
    "# 프로그램을 완성 (ipynb파일의 실행결과는 코드 작성과정에서 사라질 수 있음).\n",
    "\n",
    "# 맨 위의 셀을 우선 실행.\n",
    "# 랜덤 값을 입력으로하는 문제는 주어진 실행결과와 다른 실행결과가 나올 수 있음.\n",
    "# 문제에 주어진 코드는 수정 불가 (수정가능한 문제의 경우 따로 명시).\n",
    "\n",
    "# 시험 도중 anaconda prompt (검은창) 지우지 말것.\n",
    "# 갑자기 컴퓨터에 문제가 생길수 있으니, 시험 중간중간에 파일 저장 (crtl+s) 할 것.\n",
    "\n",
    "# 시험이 끝나면 실행결과를 모두 확인하고 작성한 ipynb 파일 \"저장\" 후,\n",
    "# 작성한 ipynb을 < 캔버스 --> 과제 --> 중간고사> 에 업로드.\n"
   ]
  },
  {
   "cell_type": "markdown",
   "metadata": {},
   "source": [
    "# 문제1"
   ]
  },
  {
   "cell_type": "code",
   "execution_count": 3,
   "metadata": {},
   "outputs": [
    {
     "name": "stdout",
     "output_type": "stream",
     "text": [
      "### 0~90 로 구성된 7열 matrix\n"
     ]
    },
    {
     "data": {
      "text/plain": [
       "array([[ 0,  1,  2,  3,  4,  5,  6],\n",
       "       [ 7,  8,  9, 10, 11, 12, 13],\n",
       "       [14, 15, 16, 17, 18, 19, 20],\n",
       "       [21, 22, 23, 24, 25, 26, 27],\n",
       "       [28, 29, 30, 31, 32, 33, 34],\n",
       "       [35, 36, 37, 38, 39, 40, 41],\n",
       "       [42, 43, 44, 45, 46, 47, 48],\n",
       "       [49, 50, 51, 52, 53, 54, 55],\n",
       "       [56, 57, 58, 59, 60, 61, 62],\n",
       "       [63, 64, 65, 66, 67, 68, 69],\n",
       "       [70, 71, 72, 73, 74, 75, 76],\n",
       "       [77, 78, 79, 80, 81, 82, 83],\n",
       "       [84, 85, 86, 87, 88, 89, 90]])"
      ]
     },
     "execution_count": 3,
     "metadata": {},
     "output_type": "execute_result"
    }
   ],
   "source": [
    "# 실행결과와 같이 0~90 로 구성된 7열인 matrix (2차원) 를 생성하시오\n",
    "\n",
    "#=== 코드작성 ===# \n",
    "m1=np.arange(91).reshape(-1,7)\n",
    "#=== 코드작성 끝===# \n",
    "\n",
    "print(\"### 0~90 로 구성된 7열 matrix\")\n",
    "m1\n",
    "a1=np.arange()"
   ]
  },
  {
   "cell_type": "markdown",
   "metadata": {},
   "source": [
    "# 문제2"
   ]
  },
  {
   "cell_type": "code",
   "execution_count": 4,
   "metadata": {},
   "outputs": [
    {
     "name": "stdout",
     "output_type": "stream",
     "text": [
      "### 원래 m1\n"
     ]
    },
    {
     "data": {
      "text/plain": [
       "array([[ 0,  1,  2,  3,  4,  5],\n",
       "       [ 6,  7,  8,  9, 10, 11],\n",
       "       [12, 13, 14, 15, 16, 17],\n",
       "       [18, 19, 20, 21, 22, 23],\n",
       "       [24, 25, 26, 27, 28, 29],\n",
       "       [30, 31, 32, 33, 34, 35],\n",
       "       [36, 37, 38, 39, 40, 41],\n",
       "       [42, 43, 44, 45, 46, 47],\n",
       "       [48, 49, 50, 51, 52, 53],\n",
       "       [54, 55, 56, 57, 58, 59]])"
      ]
     },
     "execution_count": 4,
     "metadata": {},
     "output_type": "execute_result"
    },
    {
     "name": "stdout",
     "output_type": "stream",
     "text": [
      "### m1을 슬라이싱한 결과 m2\n"
     ]
    },
    {
     "data": {
      "text/plain": [
       "array([[10, 11],\n",
       "       [28, 29],\n",
       "       [46, 47]])"
      ]
     },
     "execution_count": 4,
     "metadata": {},
     "output_type": "execute_result"
    }
   ],
   "source": [
    "# 아래에 주어진 m1을 슬라이싱을 해서 실행결과와 같은 m2을 만드시오\n",
    "\n",
    "m1=np.arange(60).reshape(10,6)\n",
    "print('### 원래 m1')\n",
    "m1\n",
    "\n",
    "#=== 코드작성 ===# \n",
    "m2=m1[1::3,-2:]\n",
    "#=== 코드작성 끝===# \n",
    "\n",
    "print('### m1을 슬라이싱한 결과 m2')\n",
    "m2"
   ]
  },
  {
   "cell_type": "markdown",
   "metadata": {},
   "source": [
    "# 문제3"
   ]
  },
  {
   "cell_type": "code",
   "execution_count": 5,
   "metadata": {},
   "outputs": [
    {
     "name": "stdout",
     "output_type": "stream",
     "text": [
      "### 원래 m1\n"
     ]
    },
    {
     "data": {
      "text/plain": [
       "array([[4, 3, 7, 6],\n",
       "       [0, 5, 5, 8],\n",
       "       [4, 3, 1, 4],\n",
       "       [3, 4, 2, 0]])"
      ]
     },
     "execution_count": 5,
     "metadata": {},
     "output_type": "execute_result"
    },
    {
     "name": "stdout",
     "output_type": "stream",
     "text": [
      "### 수정된 m1\n"
     ]
    },
    {
     "data": {
      "text/plain": [
       "array([[100,   3,   7,   6],\n",
       "       [  0, 100,   5,   8],\n",
       "       [  4,   3, 100,   4],\n",
       "       [  3,   4,   2, 100]])"
      ]
     },
     "execution_count": 5,
     "metadata": {},
     "output_type": "execute_result"
    }
   ],
   "source": [
    "# 아래와 같이 random하게 구성된 m1이 있을 때,\n",
    "# m1의 각 대각값을 100으로 바꾸시오\n",
    "# 참고: for문 사용가능 (사용하지 않아도 관계없음)\n",
    "\n",
    "m1=np.random.randint(10, size=(4,4))\n",
    "print(\"### 원래 m1\")\n",
    "m1\n",
    "\n",
    "#=== 코드작성 ===# \n",
    "m1[0,0]=100\n",
    "m1[1,1]=100\n",
    "m1[2,2]=100\n",
    "m1[3,3]=100\n",
    "#=== 코드작성 끝===# \n",
    "\n",
    "print(\"### 수정된 m1\")\n",
    "m1"
   ]
  },
  {
   "cell_type": "markdown",
   "metadata": {},
   "source": [
    "# 문제4"
   ]
  },
  {
   "cell_type": "code",
   "execution_count": 6,
   "metadata": {},
   "outputs": [
    {
     "name": "stdout",
     "output_type": "stream",
     "text": [
      "### random matrix m1 from (10,20) uniform distribution\n"
     ]
    },
    {
     "data": {
      "text/plain": [
       "array([[10.99215331, 14.2190403 , 14.12223507],\n",
       "       [19.50238297, 17.93227847, 18.62526856],\n",
       "       [10.69717686, 14.56233337, 15.1574559 ],\n",
       "       [14.49338486, 14.95063066, 16.90405698],\n",
       "       [17.16246876, 15.87809108, 15.33854973]])"
      ]
     },
     "execution_count": 6,
     "metadata": {},
     "output_type": "execute_result"
    }
   ],
   "source": [
    "# (10,20) 범위의 uniform distribution 에서 값을 추출하여 5x3 matrix를 만드시오\n",
    "\n",
    "#=== 코드작성 ===# \n",
    "m1=np.random.uniform(10,20, size=(5,3))\n",
    "#=== 코드작성 끝===# \n",
    "\n",
    "print('### random matrix m1 from (10,20) uniform distribution')\n",
    "m1"
   ]
  },
  {
   "cell_type": "markdown",
   "metadata": {},
   "source": [
    "# 문제5"
   ]
  },
  {
   "cell_type": "code",
   "execution_count": 7,
   "metadata": {},
   "outputs": [
    {
     "data": {
      "text/plain": [
       "array([6, 5, 2, 4, 3, 0, 8, 9])"
      ]
     },
     "execution_count": 7,
     "metadata": {},
     "output_type": "execute_result"
    }
   ],
   "source": [
    "# 0-9 까지의 정수에서 랜덤하게 값을 8개 뽑는데, 8개 값에 중복이 없도록 뽑으시오\n",
    "\n",
    "#=== 코드작성 ===# \n",
    "m1=np.random.choice(np.arange(10), size=8, replace=False)\n",
    "#=== 코드작성 끝===# \n",
    "\n",
    "m1"
   ]
  },
  {
   "cell_type": "markdown",
   "metadata": {},
   "source": [
    "# 문제6"
   ]
  },
  {
   "cell_type": "code",
   "execution_count": 8,
   "metadata": {},
   "outputs": [
    {
     "name": "stdout",
     "output_type": "stream",
     "text": [
      "s1-s2:  4.904999617037296\n"
     ]
    }
   ],
   "source": [
    "# 평균 0, 표준편차 10인 normal distribution에서 1000개의 값을 추출한 후, 1000개의 값에 대한 표준편차를 구하고 (s1),\n",
    "# 평균 0, 표준편차 5인 normal distribution에서 1000개의 값을 추출한 후, 1000개의 값에 대한 표준편차를 구한 뒤(s2),\n",
    "# 그 차이를 출력하시오\n",
    "\n",
    "#=== 코드작성 ===# \n",
    "s1=np.random.normal(0,10, size=1000).std()\n",
    "s2=np.random.normal(0,5, size=1000).std()\n",
    "#=== 코드작성 끝 ===#\n",
    "\n",
    "print('s1-s2: ', s1-s2)"
   ]
  },
  {
   "cell_type": "markdown",
   "metadata": {},
   "source": [
    "# 문제7"
   ]
  },
  {
   "cell_type": "code",
   "execution_count": 9,
   "metadata": {},
   "outputs": [
    {
     "name": "stdout",
     "output_type": "stream",
     "text": [
      "### 주어진 matrix\n"
     ]
    },
    {
     "data": {
      "text/plain": [
       "array([[ 1, 25, 62],\n",
       "       [48, 26, 87],\n",
       "       [92,  9, 98],\n",
       "       [14,  0, 13]])"
      ]
     },
     "execution_count": 9,
     "metadata": {},
     "output_type": "execute_result"
    },
    {
     "name": "stdout",
     "output_type": "stream",
     "text": [
      "### 행 별 중앙값\n"
     ]
    },
    {
     "data": {
      "text/plain": [
       "array([25., 48., 92., 13.])"
      ]
     },
     "execution_count": 9,
     "metadata": {},
     "output_type": "execute_result"
    }
   ],
   "source": [
    "# 주어진 random matrix의 행 별로 중앙값을 구하시오\n",
    "\n",
    "m1=np.random.randint(100, size=(4,3))\n",
    "print(\"### 주어진 matrix\")\n",
    "m1\n",
    "\n",
    "#=== 코드작성 ===# \n",
    "v1=np.median(m1,axis=1)\n",
    "#=== 코드작성 끝 ===# \n",
    "\n",
    "print(\"### 행 별 중앙값\")\n",
    "v1"
   ]
  },
  {
   "cell_type": "markdown",
   "metadata": {},
   "source": [
    "# 문제8"
   ]
  },
  {
   "cell_type": "code",
   "execution_count": 10,
   "metadata": {},
   "outputs": [
    {
     "name": "stdout",
     "output_type": "stream",
     "text": [
      "### 주어진 matrix\n"
     ]
    },
    {
     "data": {
      "text/plain": [
       "array([[5, 3, 0],\n",
       "       [6, 3, 7],\n",
       "       [2, 1, 5],\n",
       "       [3, 4, 7]])"
      ]
     },
     "execution_count": 10,
     "metadata": {},
     "output_type": "execute_result"
    },
    {
     "name": "stdout",
     "output_type": "stream",
     "text": [
      "### 주어진 m1의 열 별, 최대값 최소값의 차이\n"
     ]
    },
    {
     "data": {
      "text/plain": [
       "array([4, 3, 7])"
      ]
     },
     "execution_count": 10,
     "metadata": {},
     "output_type": "execute_result"
    }
   ],
   "source": [
    "# 주어진 m1의 열 별, 최대값 최소값의 차이를 구하시오.\n",
    "\n",
    "m1=np.random.randint(10, size=(4,3))\n",
    "print(\"### 주어진 matrix\")\n",
    "m1\n",
    "\n",
    "#=== 코드작성 ===# \n",
    "x1=np.max(m1, axis=0)\n",
    "n1=np.min(m1, axis=0)\n",
    "v1=x1-n1\n",
    "#=== 코드작성 끝 ===# \n",
    "\n",
    "print(\"### 주어진 m1의 열 별, 최대값 최소값의 차이\")\n",
    "v1"
   ]
  },
  {
   "cell_type": "markdown",
   "metadata": {},
   "source": [
    "# 문제9,10를 위한 p1 생성과 draw_hist함수 정의"
   ]
  },
  {
   "cell_type": "code",
   "execution_count": 12,
   "metadata": {},
   "outputs": [
    {
     "data": {
      "text/plain": [
       "array([2.41623712, 8.2134201 , 7.76288219, ..., 8.81941607, 8.24844169,\n",
       "       8.15992755])"
      ]
     },
     "execution_count": 12,
     "metadata": {},
     "output_type": "execute_result"
    },
    {
     "data": {
      "text/plain": [
       "(30000,)"
      ]
     },
     "execution_count": 12,
     "metadata": {},
     "output_type": "execute_result"
    }
   ],
   "source": [
    "p1=np.concatenate((np.random.uniform(0,10,10000), np.random.uniform(2,4, 10000), np.random.uniform(8,9,10000)))\n",
    "p1\n",
    "p1.shape\n",
    "\n",
    "import matplotlib.pyplot as plt\n",
    "def draw_hist(ar1, nbin=20):\n",
    "    fig, ax=plt.subplots()\n",
    "    _=ax.hist(ar1, bins=nbin, edgecolor='r')"
   ]
  },
  {
   "cell_type": "markdown",
   "metadata": {},
   "source": [
    "## 문제9"
   ]
  },
  {
   "cell_type": "code",
   "execution_count": 13,
   "metadata": {},
   "outputs": [
    {
     "data": {
      "image/png": "[encoded data removed]",
      "text/plain": [
       "<Figure size 432x288 with 1 Axes>"
      ]
     },
     "metadata": {
      "needs_background": "light"
     },
     "output_type": "display_data"
    }
   ],
   "source": [
    "# p1에서 2000개의 값을 랜덤하게 뽑아 분포를 히스토그램으로 그리시오\n",
    "\n",
    "#=== 코드작성 ===# \n",
    "v1=np.random.choice(p1,size=(2000))\n",
    "draw_hist(v1)\n",
    "#=== 코드작성 끝 ===# \n"
   ]
  },
  {
   "cell_type": "markdown",
   "metadata": {},
   "source": [
    "## 문제10"
   ]
  },
  {
   "cell_type": "code",
   "execution_count": 15,
   "metadata": {},
   "outputs": [
    {
     "data": {
      "image/png": "[encoded data removed]",
      "text/plain": [
       "<Figure size 432x288 with 1 Axes>"
      ]
     },
     "metadata": {
      "needs_background": "light"
     },
     "output_type": "display_data"
    }
   ],
   "source": [
    "# p1에서 랜덤하게 뽑은 100 개의 값을 하나의 표본이라고 할 때,\n",
    "# 표본 1000개를 뽑아서 ,\n",
    "# 각 표본의 평균에 대한 분포를 히스토그램을 그리시오\n",
    "\n",
    "#=== 코드작성 ===# \n",
    "m1=np.random.choice(p1, size=(1000,100))\n",
    "v3=m1.mean(axis=1)\n",
    "draw_hist(v3)\n",
    "#=== 코드작성 끝 ===# "
   ]
  },
  {
   "cell_type": "markdown",
   "metadata": {},
   "source": [
    "# 문제11"
   ]
  },
  {
   "cell_type": "code",
   "execution_count": 17,
   "metadata": {},
   "outputs": [
    {
     "name": "stdout",
     "output_type": "stream",
     "text": [
      "## m1\n"
     ]
    },
    {
     "data": {
      "text/plain": [
       "array([[-9.813e-01,  1.014e+01,  9.966e+01],\n",
       "       [ 4.817e-01,  1.007e+01,  9.921e+01],\n",
       "       [ 8.055e-01,  1.021e+01,  9.766e+01],\n",
       "       [ 6.851e-01,  8.412e+00,  9.958e+01],\n",
       "       [ 5.746e-02,  1.026e+01,  1.012e+02]])"
      ]
     },
     "execution_count": 17,
     "metadata": {},
     "output_type": "execute_result"
    },
    {
     "name": "stdout",
     "output_type": "stream",
     "text": [
      "## m2\n"
     ]
    },
    {
     "data": {
      "text/plain": [
       "array([[-1.191,  0.322,  0.209],\n",
       "       [ 0.272,  0.254, -0.247],\n",
       "       [ 0.596,  0.393, -1.792],\n",
       "       [ 0.475, -1.406,  0.128],\n",
       "       [-0.152,  0.437,  1.702]])"
      ]
     },
     "execution_count": 17,
     "metadata": {},
     "output_type": "execute_result"
    }
   ],
   "source": [
    "# 주어진 matrix m1에서 각 열 별로 평균을 구한 뒤,\n",
    "# 각 열에서 해당 열의 평균값을 뺀 m2를 출력하시오\n",
    "\n",
    "np.set_printoptions(precision=3) # 실수 출력을 위한 코드 (신경쓰지말것)\n",
    "\n",
    "m1=np.concatenate((np.random.normal(0,size=(5,1)), np.random.normal(10, size=(5,1)), np.random.normal(100,size=(5,1))), axis=1)\n",
    "print('## m1')\n",
    "m1\n",
    "\n",
    "#=== 코드작성 ===# \n",
    "a1=m1.mean(axis=0)\n",
    "m2=m1-a1\n",
    "#=== 코드작성 끝 ===# \n",
    "\n",
    "print('## m2')\n",
    "m2\n"
   ]
  },
  {
   "cell_type": "markdown",
   "metadata": {},
   "source": [
    "# 문제12"
   ]
  },
  {
   "cell_type": "code",
   "execution_count": 18,
   "metadata": {},
   "outputs": [
    {
     "name": "stdout",
     "output_type": "stream",
     "text": [
      "## m1\n"
     ]
    },
    {
     "data": {
      "text/plain": [
       "array([[9, 4],\n",
       "       [1, 4],\n",
       "       [2, 2],\n",
       "       [2, 4],\n",
       "       [4, 7]])"
      ]
     },
     "execution_count": 18,
     "metadata": {},
     "output_type": "execute_result"
    },
    {
     "name": "stdout",
     "output_type": "stream",
     "text": [
      "## m2\n"
     ]
    },
    {
     "data": {
      "text/plain": [
       "array([[9, 3],\n",
       "       [1, 8]])"
      ]
     },
     "execution_count": 18,
     "metadata": {},
     "output_type": "execute_result"
    },
    {
     "name": "stdout",
     "output_type": "stream",
     "text": [
      "## m3\n"
     ]
    },
    {
     "data": {
      "text/plain": [
       "array([[9, 1, 2, 2, 4, 9, 3],\n",
       "       [4, 4, 2, 4, 7, 1, 8]])"
      ]
     },
     "execution_count": 18,
     "metadata": {},
     "output_type": "execute_result"
    }
   ],
   "source": [
    "# 주어진 matrix m1을 transpose 한 후, m2와 연결한 m3를 출력하시오\n",
    "m1=np.random.randint(10,size=(5,2))\n",
    "m2=np.random.randint(10,size=(2,2))\n",
    "\n",
    "print('## m1')\n",
    "m1\n",
    "print('## m2')\n",
    "m2\n",
    "\n",
    "#=== 코드작성 ===# \n",
    "m3=np.concatenate((m1.T, m2), axis=1)\n",
    "#=== 코드작성 끝 ===# \n",
    "\n",
    "print('## m3')\n",
    "m3"
   ]
  },
  {
   "cell_type": "markdown",
   "metadata": {},
   "source": [
    "# 문제13"
   ]
  },
  {
   "cell_type": "code",
   "execution_count": 19,
   "metadata": {},
   "outputs": [
    {
     "name": "stdout",
     "output_type": "stream",
     "text": [
      "### m1\n"
     ]
    },
    {
     "data": {
      "text/plain": [
       "array([[ 1.,  8.,  8.],\n",
       "       [ 5., nan,  2.],\n",
       "       [ 8.,  4., nan]])"
      ]
     },
     "execution_count": 19,
     "metadata": {},
     "output_type": "execute_result"
    },
    {
     "name": "stdout",
     "output_type": "stream",
     "text": [
      "### m1의 nan이 아닌 element의 개수\n"
     ]
    },
    {
     "data": {
      "text/plain": [
       "7"
      ]
     },
     "execution_count": 19,
     "metadata": {},
     "output_type": "execute_result"
    }
   ],
   "source": [
    "# 주어진 random matrix m1 (5,5)은 몇 개의 nan이 random하게 포함되어있다.\n",
    "# nan이 아닌 element의 개수를 구하시오\n",
    "\n",
    "nan_num=np.random.randint(2,5)\n",
    "m1=np.random.randint(10,size=(3,3))\n",
    "m1=m1.astype(float)\n",
    "i1=np.random.randint(3, size=(2,nan_num))\n",
    "m1[tuple(i1)]=np.nan\n",
    "print(\"### m1\")\n",
    "m1\n",
    "\n",
    "#=== 코드작성 ===# \n",
    "b1=~np.isnan(m1)\n",
    "n=np.sum(b1)\n",
    "#=== 코드작성 끝 ===# \n",
    "\n",
    "print(\"### m1의 nan이 아닌 element의 개수\")\n",
    "n"
   ]
  },
  {
   "cell_type": "markdown",
   "metadata": {},
   "source": [
    "# 문제14"
   ]
  },
  {
   "cell_type": "code",
   "execution_count": 27,
   "metadata": {},
   "outputs": [
    {
     "name": "stdout",
     "output_type": "stream",
     "text": [
      "### m1\n"
     ]
    },
    {
     "data": {
      "text/plain": [
       "array([[ 1, 11, 10],\n",
       "       [14, 11,  2],\n",
       "       [ 4,  8, 15]])"
      ]
     },
     "execution_count": 27,
     "metadata": {},
     "output_type": "execute_result"
    },
    {
     "name": "stdout",
     "output_type": "stream",
     "text": [
      "### 주어진 random matrix m1의 element 중에 5의 배수의 합\n"
     ]
    },
    {
     "data": {
      "text/plain": [
       "25"
      ]
     },
     "execution_count": 27,
     "metadata": {},
     "output_type": "execute_result"
    }
   ],
   "source": [
    "# 주어진 random matrix m1의 element 중에,\n",
    "# 5의 배수의 합을 구하시오\n",
    "\n",
    "m1=np.random.randint(21,size=(3,3))\n",
    "print(\"### m1\")\n",
    "m1\n",
    "\n",
    "#=== 코드작성 ===# \n",
    "b1=(m1%5==0)\n",
    "n=np.sum(m1[b1])\n",
    "#=== 코드작성 끝 ===# \n",
    "\n",
    "print(\"### 주어진 random matrix m1의 element 중에 5의 배수의 합\")\n",
    "n"
   ]
  },
  {
   "cell_type": "markdown",
   "metadata": {},
   "source": [
    "# 문제15"
   ]
  },
  {
   "cell_type": "code",
   "execution_count": 96,
   "metadata": {},
   "outputs": [
    {
     "data": {
      "text/plain": [
       "array([[1, 3, 0, 2],\n",
       "       [7, 9, 4, 3],\n",
       "       [5, 5, 7, 3],\n",
       "       [1, 0, 0, 5]])"
      ]
     },
     "execution_count": 96,
     "metadata": {},
     "output_type": "execute_result"
    },
    {
     "data": {
      "text/plain": [
       "array([False, False,  True,  True])"
      ]
     },
     "execution_count": 96,
     "metadata": {},
     "output_type": "execute_result"
    },
    {
     "name": "stdout",
     "output_type": "stream",
     "text": [
      "### m1의 첫 행이 짝수인 열들 m2\n"
     ]
    },
    {
     "data": {
      "text/plain": [
       "array([[0, 2],\n",
       "       [4, 3],\n",
       "       [7, 3],\n",
       "       [0, 5]])"
      ]
     },
     "execution_count": 96,
     "metadata": {},
     "output_type": "execute_result"
    }
   ],
   "source": [
    "# 주어진 random matrix m1이 있을 때,\n",
    "# m1의 첫 행이 짝수인 열들만 가져오시오\n",
    "\n",
    "m1=np.random.randint(10,size=(4,4))\n",
    "m1\n",
    "\n",
    "#=== 코드작성 ===# \n",
    "b1=(m1[0,:]%2==0)\n",
    "b1\n",
    "m2=m1[:,b1]\n",
    "#=== 코드작성 끝 ===# \n",
    "\n",
    "print(\"### m1의 첫 행이 짝수인 열들 m2\")\n",
    "m2"
   ]
  },
  {
   "cell_type": "markdown",
   "metadata": {},
   "source": [
    "# 문제16"
   ]
  },
  {
   "cell_type": "code",
   "execution_count": 104,
   "metadata": {},
   "outputs": [
    {
     "name": "stdout",
     "output_type": "stream",
     "text": [
      "### m1\n"
     ]
    },
    {
     "data": {
      "text/plain": [
       "array([[8, 2, 6],\n",
       "       [0, 6, 6],\n",
       "       [6, 5, 7]])"
      ]
     },
     "execution_count": 104,
     "metadata": {},
     "output_type": "execute_result"
    },
    {
     "name": "stdout",
     "output_type": "stream",
     "text": [
      "### 2보다 큰 홀수들의 합\n"
     ]
    },
    {
     "data": {
      "text/plain": [
       "12"
      ]
     },
     "execution_count": 104,
     "metadata": {},
     "output_type": "execute_result"
    }
   ],
   "source": [
    "# 주어진 random matrix m1의 element 중에서,\n",
    "# 2보다 큰 홀수들의 합을 구하시오\n",
    "\n",
    "m1=np.random.randint(10,size=(3,3))\n",
    "print(\"### m1\")\n",
    "m1\n",
    "\n",
    "#=== 코드작성 ===# \n",
    "m2=m1[(m1>2)&(m1%2==1)]\n",
    "s1=m2.sum()\n",
    "#=== 코드작성 끝 ===# \n",
    "\n",
    "print(\"### 2보다 큰 홀수들의 합\")\n",
    "s1"
   ]
  },
  {
   "cell_type": "markdown",
   "metadata": {},
   "source": [
    "# 문제17"
   ]
  },
  {
   "cell_type": "code",
   "execution_count": 115,
   "metadata": {},
   "outputs": [
    {
     "name": "stdout",
     "output_type": "stream",
     "text": [
      "### m1\n"
     ]
    },
    {
     "data": {
      "text/plain": [
       "array([[7, 9, 3, 4, 7],\n",
       "       [0, 6, 4, 2, 0],\n",
       "       [4, 8, 7, 2, 6],\n",
       "       [7, 4, 4, 5, 2],\n",
       "       [8, 7, 2, 9, 3]])"
      ]
     },
     "execution_count": 115,
     "metadata": {},
     "output_type": "execute_result"
    },
    {
     "name": "stdout",
     "output_type": "stream",
     "text": [
      "### 짝수가 3개 이상인 행들만 선택한 m2\n"
     ]
    },
    {
     "data": {
      "text/plain": [
       "array([[0, 6, 4, 2, 0],\n",
       "       [4, 8, 7, 2, 6],\n",
       "       [7, 4, 4, 5, 2]])"
      ]
     },
     "execution_count": 115,
     "metadata": {},
     "output_type": "execute_result"
    }
   ],
   "source": [
    "# 주어진 random matrix m1에서 짝수가 3개 이상인 행들만 선택한 m2를 구하시오\n",
    "\n",
    "m1=np.random.randint(10,size=(5,5))\n",
    "print(\"### m1\")\n",
    "m1\n",
    "\n",
    "#=== 코드작성 ===#\n",
    "b1=(m1%2==0).sum(axis=1)\n",
    "m2=m1[b1>=3,:]\n",
    "#=== 코드작성 끝 ===# \n",
    "\n",
    "print(\"### 짝수가 3개 이상인 행들만 선택한 m2\")\n",
    "m2\n"
   ]
  },
  {
   "cell_type": "code",
   "execution_count": null,
   "metadata": {},
   "outputs": [],
   "source": []
  },
  {
   "cell_type": "markdown",
   "metadata": {},
   "source": [
    "# 성적분포"
   ]
  },
  {
   "cell_type": "code",
   "execution_count": 11,
   "metadata": {},
   "outputs": [
    {
     "data": {
      "text/plain": [
       "<matplotlib.lines.Line2D at 0x293c4c92580>"
      ]
     },
     "execution_count": 11,
     "metadata": {},
     "output_type": "execute_result"
    },
    {
     "data": {
      "text/plain": [
       "<matplotlib.lines.Line2D at 0x293c245f340>"
      ]
     },
     "execution_count": 11,
     "metadata": {},
     "output_type": "execute_result"
    },
    {
     "data": {
      "text/plain": [
       "<AxesSubplot:xlabel='0', ylabel='Count'>"
      ]
     },
     "execution_count": 11,
     "metadata": {},
     "output_type": "execute_result"
    },
    {
     "data": {
      "text/plain": [
       "Text(35, 8.7, '15th')"
      ]
     },
     "execution_count": 11,
     "metadata": {},
     "output_type": "execute_result"
    },
    {
     "data": {
      "text/plain": [
       "Text(29.966666666666665, 8.7, 'mean')"
      ]
     },
     "execution_count": 11,
     "metadata": {},
     "output_type": "execute_result"
    },
    {
     "data": {
      "image/png": "[encoded data removed]",
      "text/plain": [
       "<Figure size 1000x500 with 1 Axes>"
      ]
     },
     "metadata": {
      "needs_background": "light"
     },
     "output_type": "display_data"
    }
   ],
   "source": [
    "scr = pd.read_csv(\"중간고사점수.txt\", header=None)\n",
    "\n",
    "fig=plt.figure(figsize=(10,5),dpi=100)\n",
    "ax=fig.subplots()\n",
    "\n",
    "ax.axvline(scr[0].mean(), linestyle=\"--\", color=\"r\")\n",
    "ax.axvline(35, linestyle=\"--\",color='k')\n",
    "\n",
    "sns.histplot(scr[0], kde=True, ax=ax,bins=30)\n",
    "\n",
    "ax.text(35,8.7,'15th', ha='center',va='center',fontsize=13)\n",
    "ax.text(scr[0].mean(),8.7,'mean', ha='center',va='center',fontsize=13)\n",
    "\n",
    "fig.tight_layout()\n",
    "fig.savefig('score_dist.png')\n",
    "#ax.tick_params(axis='both', labelsize=13)"
   ]
  },
  {
   "cell_type": "code",
   "execution_count": null,
   "metadata": {},
   "outputs": [],
   "source": []
  },
  {
   "cell_type": "code",
   "execution_count": null,
   "metadata": {},
   "outputs": [],
   "source": []
  }
 ],
 "metadata": {
  "kernelspec": {
   "display_name": "Python 3 (ipykernel)",
   "language": "python",
   "name": "python3"
  },
  "language_info": {
   "codemirror_mode": {
    "name": "ipython",
    "version": 3
   },
   "file_extension": ".py",
   "mimetype": "text/x-python",
   "name": "python",
   "nbconvert_exporter": "python",
   "pygments_lexer": "ipython3",
   "version": "3.9.7"
  },
  "toc": {
   "base_numbering": 1,
   "nav_menu": {},
   "number_sections": true,
   "sideBar": true,
   "skip_h1_title": false,
   "title_cell": "Table of Contents",
   "title_sidebar": "Contents",
   "toc_cell": false,
   "toc_position": {
    "height": "calc(100% - 180px)",
    "left": "10px",
    "top": "150px",
    "width": "280.244px"
   },
   "toc_section_display": true,
   "toc_window_display": true
  },
  "varInspector": {
   "cols": {
    "lenName": 16,
    "lenType": 16,
    "lenVar": 40
   },
   "kernels_config": {
    "python": {
     "delete_cmd_postfix": "",
     "delete_cmd_prefix": "del ",
     "library": "var_list.py",
     "varRefreshCmd": "print(var_dic_list())"
    },
    "r": {
     "delete_cmd_postfix": ") ",
     "delete_cmd_prefix": "rm(",
     "library": "var_list.r",
     "varRefreshCmd": "cat(var_dic_list()) "
    }
   },
   "types_to_exclude": [
    "module",
    "function",
    "builtin_function_or_method",
    "instance",
    "_Feature"
   ],
   "window_display": false
  }
 },
 "nbformat": 4,
 "nbformat_minor": 2
}
