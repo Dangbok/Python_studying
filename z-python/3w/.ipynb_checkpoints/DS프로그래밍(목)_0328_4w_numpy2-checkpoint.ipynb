{
 "cells": [
  {
   "cell_type": "code",
   "execution_count": 2,
   "metadata": {},
   "outputs": [
    {
     "data": {
      "text/html": [
       "<style>.container { width:95% !important; }</style>"
      ],
      "text/plain": [
       "<IPython.core.display.HTML object>"
      ]
     },
     "metadata": {},
     "output_type": "display_data"
    },
    {
     "data": {
      "text/html": [
       "<style>.input_area pre {font-family: Consolas; font-size: 20pt; line-height: 140%;}</style>"
      ],
      "text/plain": [
       "<IPython.core.display.HTML object>"
      ]
     },
     "metadata": {},
     "output_type": "display_data"
    },
    {
     "data": {
      "text/html": [
       "<style>.output_area pre {font-family: Consolas; font-size: 20pt; line-height: 140%;}</style>"
      ],
      "text/plain": [
       "<IPython.core.display.HTML object>"
      ]
     },
     "metadata": {},
     "output_type": "display_data"
    }
   ],
   "source": [
    "from IPython.core.display import display, HTML\n",
    "display(HTML(\"<style>.container { width:95% !important; }</style>\"))\n",
    "display(HTML(\"<style>.input_area pre {font-family: Consolas; font-size: 20pt; line-height: 140%;}</style>\"))\n",
    "display(HTML(\"<style>.output_area pre {font-family: Consolas; font-size: 20pt; line-height: 140%;}</style>\"))\n",
    "\n",
    "import numpy as np"
   ]
  },
  {
   "cell_type": "markdown",
   "metadata": {},
   "source": [
    "# 예제1"
   ]
  },
  {
   "cell_type": "code",
   "execution_count": 4,
   "metadata": {},
   "outputs": [
    {
     "name": "stdout",
     "output_type": "stream",
     "text": [
      "## 1) ##\n",
      "[[ 1  2]\n",
      " [ 3  4]\n",
      " [ 5  6]\n",
      " [ 7  8]\n",
      " [ 9 10]\n",
      " [11 12]]\n",
      "## 2) ##\n",
      "[ 1  2  3  4  5  6  7  8  9 10 11 12]\n",
      "[ 1  2  3  4  5  6  7  8  9 10 11 12]\n",
      "[ 1  2  3  4  5  6  7  8  9 10 11 12]\n",
      "## 3) ##\n",
      "[[ 1  2  3  4  5  6  7  8  9 10 11 12]]\n",
      "[[ 1  2  3  4  5  6  7  8  9 10 11 12]]\n"
     ]
    }
   ],
   "source": [
    "ar1=np.array([[1,2,3,4],[5,6,7,8],[9,10,11,12]])\n",
    "print(\"## 1) ##\")\n",
    "print(ar1.reshape(6,2))\n",
    "print(\"## 2) ##\")\n",
    "print(ar1.reshape(-1))\n",
    "print(ar1.flatten())\n",
    "print(ar1.reshape(12))\n",
    "print(\"## 3) ##\")\n",
    "print(ar1.reshape(1,12))\n",
    "print(ar1.reshape(1,-1))"
   ]
  },
  {
   "cell_type": "markdown",
   "metadata": {},
   "source": [
    "# 예제2"
   ]
  },
  {
   "cell_type": "code",
   "execution_count": 5,
   "metadata": {},
   "outputs": [
    {
     "name": "stdout",
     "output_type": "stream",
     "text": [
      "## 1) ##\n",
      "[[ 1  2]\n",
      " [ 3  4]\n",
      " [ 5  6]\n",
      " [ 7  8]\n",
      " [ 9 10]\n",
      " [11 12]]\n",
      "## 2) ##\n",
      "[ 1  2  3  4  5  6  7  8  9 10 11 12]\n",
      "[ 1  2  3  4  5  6  7  8  9 10 11 12]\n",
      "[ 1  2  3  4  5  6  7  8  9 10 11 12]\n",
      "## 3) ##\n",
      "[[ 1  2  3  4  5  6  7  8  9 10 11 12]]\n",
      "[[ 1  2  3  4  5  6  7  8  9 10 11 12]]\n"
     ]
    }
   ],
   "source": [
    "ar1=np.array(range(1,13)).reshape(3,4)\n",
    "print(\"## 1) ##\")\n",
    "print(ar1.reshape(6,2))\n",
    "print(\"## 2) ##\")\n",
    "print(ar1.reshape(-1))\n",
    "print(ar1.flatten())\n",
    "print(ar1.reshape(12))\n",
    "print(\"## 3) ##\")\n",
    "print(ar1.reshape(1,12))\n",
    "print(ar1.reshape(1,-1))"
   ]
  },
  {
   "cell_type": "markdown",
   "metadata": {},
   "source": [
    "# 예제3"
   ]
  },
  {
   "cell_type": "code",
   "execution_count": 8,
   "metadata": {},
   "outputs": [
    {
     "name": "stdout",
     "output_type": "stream",
     "text": [
      "## for loop 사용 x\n",
      "[[ 1  2  3  4  5  6  7  8]\n",
      " [ 9 10 11 12 13 14 15 16]\n",
      " [17 18 19 20 21 22 23 24]\n",
      " [25 26 27 28 29 30 31 32]\n",
      " [33 34 35 36 37 38 39 40]]\n",
      "[[   1    2    3    4    5    6    7    8]\n",
      " [   9 1000   11   12   13   14   15   16]\n",
      " [  17   18   19 1000   21   22   23   24]\n",
      " [  25   26   27   28   29 1000   31   32]\n",
      " [  33   34   35   36   37   38   39 1000]]\n",
      "## for loop 사용 o\n",
      "[[ 1  2  3  4  5  6  7  8]\n",
      " [ 9 10 11 12 13 14 15 16]\n",
      " [17 18 19 20 21 22 23 24]\n",
      " [25 26 27 28 29 30 31 32]\n",
      " [33 34 35 36 37 38 39 40]]\n",
      "[[   1    2    3    4    5    6    7    8]\n",
      " [   9 1000   11   12   13   14   15   16]\n",
      " [  17   18   19 1000   21   22   23   24]\n",
      " [  25   26   27   28   29 1000   31   32]\n",
      " [  33   34   35   36   37   38   39 1000]]\n"
     ]
    }
   ],
   "source": [
    "## 방법1\n",
    "print(\"## for loop 사용 x\")\n",
    "ar1=np.array(range(1,41)).reshape(5,8)\n",
    "print(ar1)\n",
    "ar1[1,1]=1000\n",
    "ar1[2,3]=1000\n",
    "ar1[3,5]=1000\n",
    "ar1[4,7]=1000\n",
    "print(ar1)\n",
    "\n",
    "## 방법2\n",
    "print(\"## for loop 사용 o\")\n",
    "ar1=np.array(range(1,41)).reshape(5,8)\n",
    "print(ar1)\n",
    "for ii in range(5):\n",
    "    for jj in range(8):\n",
    "        if ar1[ii,jj]%10==0:\n",
    "            ar1[ii,jj]=1000\n",
    "print(ar1)"
   ]
  },
  {
   "cell_type": "markdown",
   "metadata": {},
   "source": [
    "# 예제4"
   ]
  },
  {
   "cell_type": "code",
   "execution_count": 11,
   "metadata": {},
   "outputs": [
    {
     "name": "stdout",
     "output_type": "stream",
     "text": [
      "[[13 14 15]\n",
      " [19 20 21]]\n",
      "[[ 0  1  2  3  4  5]\n",
      " [ 6  7  8  9 10 11]\n",
      " [12 -1 -2 -3 16 17]\n",
      " [18 -4 -5 -6 22 23]]\n"
     ]
    }
   ],
   "source": [
    "ar1=np.array(range(24)).reshape(4,6)\n",
    "print(ar1[2:5,1:4])\n",
    "ar1[2:5,1:4]=np.array([[-1,-2,-3],[-4,-5,-6]])\n",
    "print(ar1)"
   ]
  },
  {
   "cell_type": "code",
   "execution_count": null,
   "metadata": {},
   "outputs": [],
   "source": []
  },
  {
   "cell_type": "markdown",
   "metadata": {},
   "source": [
    "# 실습1"
   ]
  },
  {
   "cell_type": "code",
   "execution_count": 15,
   "metadata": {},
   "outputs": [
    {
     "name": "stdout",
     "output_type": "stream",
     "text": [
      "[[[ 1  2  3  4]\n",
      "  [ 5  6  7  8]\n",
      "  [ 9 10 11 12]]\n",
      "\n",
      " [[13 14 15 16]\n",
      "  [17 18 19 20]\n",
      "  [21 22 23 24]]\n",
      "\n",
      " [[25 26 27 28]\n",
      "  [29 30 31 32]\n",
      "  [33 34 35 36]]\n",
      "\n",
      " [[37 38 39 40]\n",
      "  [41 42 43 44]\n",
      "  [45 46 47 48]]\n",
      "\n",
      " [[49 50 51 52]\n",
      "  [53 54 55 56]\n",
      "  [57 58 59 60]]]\n",
      "[ 1  2  3  4  5  6  7  8  9 10 11 12 13 14 15 16 17 18 19 20 21 22 23 24\n",
      " 25 26 27 28 29 30 31 32 33 34 35 36 37 38 39 40 41 42 43 44 45 46 47 48\n",
      " 49 50 51 52 53 54 55 56 57 58 59 60]\n"
     ]
    }
   ],
   "source": [
    "ar1=np.array(range(1,61)).reshape(5,3,4)\n",
    "print(ar1)\n",
    "ar2=ar1.flatten()\n",
    "print(ar2)"
   ]
  },
  {
   "cell_type": "markdown",
   "metadata": {},
   "source": [
    "# 실습2"
   ]
  },
  {
   "cell_type": "code",
   "execution_count": 16,
   "metadata": {},
   "outputs": [
    {
     "name": "stdout",
     "output_type": "stream",
     "text": [
      "[[ 0  1  2  3  4  5  6  7  8  9]\n",
      " [10 11 12 13 14 15 16 17 18 19]\n",
      " [20 21 22 23 24 25 26 27 28 29]\n",
      " [30 31 32 33 34 35 36 37 38 39]\n",
      " [40 41 42 43 44 45 46 47 48 49]\n",
      " [50 51 52 53 54 55 56 57 58 59]]\n"
     ]
    }
   ],
   "source": [
    "ar1=np.array(range(60)).reshape(-1,10)\n",
    "print(ar1)"
   ]
  },
  {
   "cell_type": "markdown",
   "metadata": {},
   "source": [
    "# 실습3"
   ]
  },
  {
   "cell_type": "code",
   "execution_count": 14,
   "metadata": {},
   "outputs": [
    {
     "name": "stdout",
     "output_type": "stream",
     "text": [
      "[[0 1 2 3 4]\n",
      " [5 6 7 8 9]]\n",
      "[[ 5  6  7  8]\n",
      " [15 16 17 18]]\n",
      "[ 3  8 13 18]\n",
      "[[5 6 7]\n",
      " [0 1 2]\n",
      " [5 6 7]]\n"
     ]
    }
   ],
   "source": [
    "ar1 = np.array(list(range(20))).reshape(4,5)\n",
    "print(ar1[:2,:])\n",
    "print(ar1[1::2,:-1])\n",
    "print(ar1[:,3])\n",
    "ar1[2:,:] = np.array(range(10)).reshape(2,5)\n",
    "print(ar1[1:,:3])"
   ]
  },
  {
   "cell_type": "markdown",
   "metadata": {},
   "source": [
    "# 실습5"
   ]
  },
  {
   "cell_type": "code",
   "execution_count": 27,
   "metadata": {},
   "outputs": [
    {
     "name": "stdout",
     "output_type": "stream",
     "text": [
      "## for loop 사용 x\n",
      "[[0 0 4 0]\n",
      " [2 2 4 2]\n",
      " [0 0 4 0]\n",
      " [0 0 4 0]]\n",
      "## for loop 사용 o\n",
      "[[0 0 4 0]\n",
      " [2 2 4 2]\n",
      " [0 0 4 0]\n",
      " [0 0 4 0]]\n"
     ]
    }
   ],
   "source": [
    "## 방법1\n",
    "print(\"## for loop 사용 x\")\n",
    "ar1=np.zeros(shape=(4,4), dtype=int)\n",
    "ar1[1,:]=np.array([2,2,2,2])\n",
    "ar1[:,2]=np.array([4,4,4,4])\n",
    "print(ar1)\n",
    "\n",
    "## 방법2\n",
    "print(\"## for loop 사용 o\")\n",
    "ar1=np.zeros(shape=(4,4), dtype=int)\n",
    "for ii in range(4):\n",
    "    for jj in range(4):\n",
    "        if ii==1:\n",
    "            ar1[ii,jj]=2\n",
    "        if jj==2:\n",
    "            ar1[ii,jj]=4\n",
    "print(ar1)"
   ]
  }
 ],
 "metadata": {
  "kernelspec": {
   "display_name": "Python 3",
   "language": "python",
   "name": "python3"
  },
  "language_info": {
   "codemirror_mode": {
    "name": "ipython",
    "version": 3
   },
   "file_extension": ".py",
   "mimetype": "text/x-python",
   "name": "python",
   "nbconvert_exporter": "python",
   "pygments_lexer": "ipython3",
   "version": "3.7.6"
  }
 },
 "nbformat": 4,
 "nbformat_minor": 2
}
