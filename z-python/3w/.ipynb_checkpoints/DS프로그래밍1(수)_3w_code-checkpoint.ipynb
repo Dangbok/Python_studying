{
 "cells": [
  {
   "cell_type": "markdown",
   "metadata": {},
   "source": [
    "# 버전 체크"
   ]
  },
  {
   "cell_type": "code",
   "execution_count": 2,
   "metadata": {},
   "outputs": [
    {
     "name": "stdout",
     "output_type": "stream",
     "text": [
      "python 3.7.6 (default, Jan  8 2020, 20:23:39) [MSC v.1916 64 bit (AMD64)]\n",
      "numpy 1.18.1\n",
      "pandas 1.0.1\n"
     ]
    }
   ],
   "source": [
    "import sys\n",
    "print('python', sys.version)\n",
    "\n",
    "import numpy as np\n",
    "print('numpy', np.__version__)\n",
    "\n",
    "import pandas as pd\n",
    "print('pandas', pd.__version__)\n",
    "\n",
    "# 결과 확인을 용이하게 하기 위한 코드\n",
    "from IPython.core.interactiveshell import InteractiveShell\n",
    "InteractiveShell.ast_node_interactivity = 'all'"
   ]
  },
  {
   "cell_type": "markdown",
   "metadata": {},
   "source": [
    "# 2주차"
   ]
  },
  {
   "cell_type": "code",
   "execution_count": 3,
   "metadata": {},
   "outputs": [
    {
     "name": "stdout",
     "output_type": "stream",
     "text": [
      "1st number: 12\n",
      "2nd number: 32\n",
      "44.0\n"
     ]
    }
   ],
   "source": [
    "## 실습1\n",
    "n1 = float(input(\"1st number: \"))\n",
    "n2 = float(input(\"2nd number: \"))\n",
    "s1 = (n1+n2)\n",
    "print(s1)"
   ]
  },
  {
   "cell_type": "code",
   "execution_count": 4,
   "metadata": {},
   "outputs": [
    {
     "name": "stdout",
     "output_type": "stream",
     "text": [
      "n=15, k=3\n",
      "[0, 1, 2, 3, 4, 5, 6, 7, 8, 9, 10, 11, 12, 13, 14]\n",
      "[0, 3, 6, 9, 12]\n",
      "sum:  30\n"
     ]
    }
   ],
   "source": [
    "# 실습2\n",
    "n=15\n",
    "k=3\n",
    "\n",
    "l1 = list(range(n))\n",
    "print('n={}, k={}'.format(n,k))\n",
    "print(l1)\n",
    "l2 = l1[::k]\n",
    "print(l2)\n",
    "print(\"sum: \", sum(l2))"
   ]
  },
  {
   "cell_type": "code",
   "execution_count": 6,
   "metadata": {},
   "outputs": [
    {
     "name": "stdout",
     "output_type": "stream",
     "text": [
      "## 결과\n",
      "suwon_data\n",
      "['_', 'a', 'a', 'd', 'n', 'o', 's', 't', 'u', 'w']\n",
      "t\n"
     ]
    }
   ],
   "source": [
    "# 실습3\n",
    "str1 = 'suwon_data'\n",
    "l1 = list(str1)\n",
    "l1.sort()\n",
    "ch1 = l1[-3]\n",
    "print(\"## 결과\")\n",
    "print(str1)\n",
    "print(l1)\n",
    "print(ch1)"
   ]
  },
  {
   "cell_type": "code",
   "execution_count": 7,
   "metadata": {},
   "outputs": [
    {
     "name": "stdout",
     "output_type": "stream",
     "text": [
      "7\n",
      "14\n",
      "21\n",
      "28\n",
      "35\n",
      "42\n",
      "49\n"
     ]
    }
   ],
   "source": [
    "# 실습4\n",
    "for ii in range(1,51):\n",
    "    if ii%7==0:\n",
    "        print(ii)"
   ]
  },
  {
   "cell_type": "code",
   "execution_count": 1,
   "metadata": {},
   "outputs": [
    {
     "name": "stdout",
     "output_type": "stream",
     "text": [
      "1\n",
      "3\n",
      "6\n",
      "10\n"
     ]
    }
   ],
   "source": [
    "s1=0\n",
    "for ii in [1,2,3,4]:\n",
    "    s1+=ii\n",
    "    print(s1)\n"
   ]
  },
  {
   "cell_type": "code",
   "execution_count": 8,
   "metadata": {},
   "outputs": [
    {
     "name": "stdout",
     "output_type": "stream",
     "text": [
      "input a number: 12\n",
      "input a number: 12\n",
      "input a number: 12\n",
      "input a number: -1000\n",
      "합: 36.0\n"
     ]
    }
   ],
   "source": [
    "# 실습5\n",
    "s1=0\n",
    "while(True):\n",
    "    n1 = float(input(\"input a number: \"))\n",
    "    if n1==-1000:\n",
    "        break\n",
    "    s1+=n1\n",
    "print(\"합: {}\".format(s1))"
   ]
  },
  {
   "cell_type": "code",
   "execution_count": 10,
   "metadata": {},
   "outputs": [
    {
     "name": "stdout",
     "output_type": "stream",
     "text": [
      "a 1\n",
      "b 2\n",
      "c 3\n",
      "d 4\n",
      "e 1\n"
     ]
    }
   ],
   "source": [
    "# 실습6\n",
    "str1 = 'abbcccdddde'\n",
    "count_dic={}\n",
    "for ch in str1:\n",
    "    if ch not in count_dic.keys():\n",
    "        count_dic[ch]=1\n",
    "    else:\n",
    "        count_dic[ch]+=1\n",
    "    \n",
    "for key, val in count_dic.items():\n",
    "    print(key, val)"
   ]
  },
  {
   "cell_type": "code",
   "execution_count": 11,
   "metadata": {},
   "outputs": [
    {
     "name": "stdout",
     "output_type": "stream",
     "text": [
      "D\n"
     ]
    }
   ],
   "source": [
    "# 실습7\n",
    "score = 67\n",
    "if   score >= 90:\n",
    "    grade = 'A'\n",
    "elif score >= 80:\n",
    "    grade = 'B'\n",
    "elif score >= 70:\n",
    "    grade = 'C'\n",
    "else:\n",
    "    grade = 'D'\n",
    "\n",
    "print(grade)"
   ]
  },
  {
   "cell_type": "code",
   "execution_count": 16,
   "metadata": {},
   "outputs": [
    {
     "name": "stdout",
     "output_type": "stream",
     "text": [
      "c\n",
      "f\n"
     ]
    }
   ],
   "source": [
    "# 실습 8\n",
    "f1=open(\"1w_file1.txt\",\"r\")\n",
    "\n",
    "for row in f1:\n",
    "    row = row.replace(\"\\n\",\"\")\n",
    "    s1,v1,v2 = row.split(\"\\t\")\n",
    "    v3=int(v1)+int(v2)\n",
    "    if v3%2==0:\n",
    "        print(s1)\n",
    "\n",
    "f1.close()"
   ]
  },
  {
   "cell_type": "code",
   "execution_count": 17,
   "metadata": {},
   "outputs": [
    {
     "name": "stdout",
     "output_type": "stream",
     "text": [
      "5\n",
      "6\n"
     ]
    }
   ],
   "source": [
    "# 실습 9\n",
    "def foo(v1, v2):\n",
    "    print(v1+v2)\n",
    "    \n",
    "foo(3,2)\n",
    "foo(1,5)"
   ]
  },
  {
   "cell_type": "code",
   "execution_count": 14,
   "metadata": {},
   "outputs": [
    {
     "name": "stdout",
     "output_type": "stream",
     "text": [
      "5\n",
      "-4\n"
     ]
    }
   ],
   "source": [
    "# 실습 9-1\n",
    "def foo(v1, v2,op):\n",
    "    if op=='+':\n",
    "        print(v1+v2)\n",
    "    if op=='-':\n",
    "        print(v1-v2)\n",
    "    if op=='*':\n",
    "        print(v1*v2)\n",
    "    if op=='/':\n",
    "        print(v1/v2)\n",
    "foo(3,2,'+')\n",
    "foo(1,5,'-')"
   ]
  },
  {
   "cell_type": "code",
   "execution_count": 16,
   "metadata": {},
   "outputs": [
    {
     "name": "stdout",
     "output_type": "stream",
     "text": [
      "7\n",
      "7\n",
      "-4\n"
     ]
    }
   ],
   "source": [
    "# 실습 9-2\n",
    "def foo(v1, v2,op='+'):\n",
    "    if op=='+':\n",
    "        print(v1+v2)\n",
    "    if op=='-':\n",
    "        print(v1-v2)\n",
    "    if op=='*':\n",
    "        print(v1*v2)\n",
    "    if op=='/':\n",
    "        print(v1/v2)\n",
    "foo(3,4)\n",
    "foo(3,4,'+')\n",
    "foo(1,5,'-')"
   ]
  },
  {
   "cell_type": "markdown",
   "metadata": {},
   "source": [
    "# 3주차"
   ]
  },
  {
   "cell_type": "markdown",
   "metadata": {},
   "source": [
    "## 실습1"
   ]
  },
  {
   "cell_type": "code",
   "execution_count": 56,
   "metadata": {},
   "outputs": [
    {
     "data": {
      "text/plain": [
       "100"
      ]
     },
     "execution_count": 56,
     "metadata": {},
     "output_type": "execute_result"
    },
    {
     "data": {
      "text/plain": [
       "110"
      ]
     },
     "execution_count": 56,
     "metadata": {},
     "output_type": "execute_result"
    },
    {
     "data": {
      "text/plain": [
       "90"
      ]
     },
     "execution_count": 56,
     "metadata": {},
     "output_type": "execute_result"
    }
   ],
   "source": [
    "class man:\n",
    "    def __init__(self,en1):\n",
    "        self.energy=en1\n",
    "    def get_item(self):\n",
    "        self.energy+=10\n",
    "    def meet_lion(self):\n",
    "        self.energy-=20    \n",
    "        \n",
    "m1=man(100)\n",
    "m1.energy\n",
    "m1.get_item()\n",
    "m1.energy\n",
    "m1.meet_lion()\n",
    "m1.energy"
   ]
  },
  {
   "cell_type": "markdown",
   "metadata": {},
   "source": [
    "## 실습2"
   ]
  },
  {
   "cell_type": "code",
   "execution_count": 58,
   "metadata": {},
   "outputs": [
    {
     "data": {
      "text/plain": [
       "array([[6, 5, 4],\n",
       "       [3, 2, 1]])"
      ]
     },
     "execution_count": 58,
     "metadata": {},
     "output_type": "execute_result"
    },
    {
     "data": {
      "text/plain": [
       "dtype('int32')"
      ]
     },
     "execution_count": 58,
     "metadata": {},
     "output_type": "execute_result"
    },
    {
     "data": {
      "text/plain": [
       "(2, 3)"
      ]
     },
     "execution_count": 58,
     "metadata": {},
     "output_type": "execute_result"
    },
    {
     "data": {
      "text/plain": [
       "6"
      ]
     },
     "execution_count": 58,
     "metadata": {},
     "output_type": "execute_result"
    },
    {
     "data": {
      "text/plain": [
       "24"
      ]
     },
     "execution_count": 58,
     "metadata": {},
     "output_type": "execute_result"
    },
    {
     "data": {
      "text/plain": [
       "array([[6., 5., 4.],\n",
       "       [3., 2., 1.]], dtype=float16)"
      ]
     },
     "execution_count": 58,
     "metadata": {},
     "output_type": "execute_result"
    },
    {
     "data": {
      "text/plain": [
       "dtype('float16')"
      ]
     },
     "execution_count": 58,
     "metadata": {},
     "output_type": "execute_result"
    },
    {
     "data": {
      "text/plain": [
       "(2, 3)"
      ]
     },
     "execution_count": 58,
     "metadata": {},
     "output_type": "execute_result"
    },
    {
     "data": {
      "text/plain": [
       "6"
      ]
     },
     "execution_count": 58,
     "metadata": {},
     "output_type": "execute_result"
    },
    {
     "data": {
      "text/plain": [
       "12"
      ]
     },
     "execution_count": 58,
     "metadata": {},
     "output_type": "execute_result"
    }
   ],
   "source": [
    "o1=np.array([[6,5,4],[3,2,1]], dtype=int)\n",
    "o1\n",
    "o1.dtype\n",
    "o1.shape\n",
    "o1.size\n",
    "o1.nbytes\n",
    "\n",
    "o2=np.array([[6,5,4],[3,2,1]], dtype=np.float16)\n",
    "o2\n",
    "o2.dtype\n",
    "o2.shape\n",
    "o2.size\n",
    "o2.nbytes"
   ]
  },
  {
   "cell_type": "markdown",
   "metadata": {},
   "source": [
    "## 실습3"
   ]
  },
  {
   "cell_type": "code",
   "execution_count": 3,
   "metadata": {},
   "outputs": [
    {
     "data": {
      "text/plain": [
       "array([[1, 2, 3, 4, 5, 6]])"
      ]
     },
     "execution_count": 3,
     "metadata": {},
     "output_type": "execute_result"
    },
    {
     "data": {
      "text/plain": [
       "array([[1, 2, 3],\n",
       "       [4, 5, 6]])"
      ]
     },
     "execution_count": 3,
     "metadata": {},
     "output_type": "execute_result"
    },
    {
     "data": {
      "text/plain": [
       "array([[1, 2],\n",
       "       [3, 4],\n",
       "       [5, 6]])"
      ]
     },
     "execution_count": 3,
     "metadata": {},
     "output_type": "execute_result"
    },
    {
     "data": {
      "text/plain": [
       "array([[1],\n",
       "       [2],\n",
       "       [3],\n",
       "       [4],\n",
       "       [5],\n",
       "       [6]])"
      ]
     },
     "execution_count": 3,
     "metadata": {},
     "output_type": "execute_result"
    }
   ],
   "source": [
    "ar1=np.array([1,2,3,4,5,6])\n",
    "\n",
    "ar1.reshape(1,6)\n",
    "ar1.reshape(2,3)\n",
    "ar1.reshape(3,2)\n",
    "ar1.reshape(6,1)"
   ]
  }
 ],
 "metadata": {
  "kernelspec": {
   "display_name": "Python 3",
   "language": "python",
   "name": "python3"
  },
  "language_info": {
   "codemirror_mode": {
    "name": "ipython",
    "version": 3
   },
   "file_extension": ".py",
   "mimetype": "text/x-python",
   "name": "python",
   "nbconvert_exporter": "python",
   "pygments_lexer": "ipython3",
   "version": "3.7.6"
  }
 },
 "nbformat": 4,
 "nbformat_minor": 2
}
