{
 "cells": [
  {
   "cell_type": "code",
   "execution_count": 2,
   "metadata": {},
   "outputs": [
    {
     "data": {
      "text/html": [
       "<style>.container { width:95% !important; }</style>"
      ],
      "text/plain": [
       "<IPython.core.display.HTML object>"
      ]
     },
     "metadata": {},
     "output_type": "display_data"
    },
    {
     "data": {
      "text/html": [
       "<style>.input_area pre {font-family: Consolas; font-size: 20pt; line-height: 140%;}</style>"
      ],
      "text/plain": [
       "<IPython.core.display.HTML object>"
      ]
     },
     "metadata": {},
     "output_type": "display_data"
    },
    {
     "data": {
      "text/html": [
       "<style>.output_area pre {font-family: Consolas; font-size: 20pt; line-height: 140%;}</style>"
      ],
      "text/plain": [
       "<IPython.core.display.HTML object>"
      ]
     },
     "metadata": {},
     "output_type": "display_data"
    }
   ],
   "source": [
    "from IPython.core.display import display, HTML\n",
    "display(HTML(\"<style>.container { width:95% !important; }</style>\"))\n",
    "display(HTML(\"<style>.input_area pre {font-family: Consolas; font-size: 20pt; line-height: 140%;}</style>\"))\n",
    "display(HTML(\"<style>.output_area pre {font-family: Consolas; font-size: 20pt; line-height: 140%;}</style>\"))\n",
    "\n",
    "import numpy as np\n",
    "import matplotlib.pyplot as plt"
   ]
  },
  {
   "cell_type": "markdown",
   "metadata": {},
   "source": [
    "# 예제1"
   ]
  },
  {
   "cell_type": "code",
   "execution_count": 3,
   "metadata": {},
   "outputs": [
    {
     "name": "stdout",
     "output_type": "stream",
     "text": [
      "[[10 11 12 13 14]\n",
      " [15 16 17 18 19]]\n",
      "int32\n",
      "[[10.  10.5 11.  11.5 12. ]\n",
      " [12.5 13.  13.5 14.  14.5]\n",
      " [15.  15.5 16.  16.5 17. ]\n",
      " [17.5 18.  18.5 19.  19.5]]\n",
      "float64\n"
     ]
    }
   ],
   "source": [
    "ar1=np.arange(10,20).reshape(2,5)\n",
    "ar2=np.arange(10,20,0.5).reshape(4,5)\n",
    "print(ar1)\n",
    "print(ar1.dtype)\n",
    "print(ar2)\n",
    "print(ar2.dtype)"
   ]
  },
  {
   "cell_type": "markdown",
   "metadata": {},
   "source": [
    "# 예제2"
   ]
  },
  {
   "cell_type": "code",
   "execution_count": 4,
   "metadata": {},
   "outputs": [
    {
     "name": "stdout",
     "output_type": "stream",
     "text": [
      "[-0.72579644  0.6264185   4.85694101 -0.3486509   2.67089992  1.59958687\n",
      "  3.07066048  2.97072147 -0.18539536  1.5938618 ]\n",
      "[5.57085022 8.14698288 2.6310733  0.9431543  5.99780642 2.68242848\n",
      " 3.34105295 3.83844226 5.5538     4.28640846]\n",
      "1.6129247343200173\n",
      "4.299199927344521\n"
     ]
    }
   ],
   "source": [
    "ar1=np.random.normal(3,2,size=10)\n",
    "ar2=np.random.normal(5,2,size=10)\n",
    "print(ar1)\n",
    "print(ar2)\n",
    "print(ar1.mean())\n",
    "print(ar2.mean())"
   ]
  },
  {
   "cell_type": "markdown",
   "metadata": {},
   "source": [
    "# 예제3"
   ]
  },
  {
   "cell_type": "code",
   "execution_count": 5,
   "metadata": {},
   "outputs": [
    {
     "name": "stdout",
     "output_type": "stream",
     "text": [
      "[[ 0  1  2  3  4]\n",
      " [ 5  6  7  8  9]\n",
      " [10 11 12 13 14]\n",
      " [15 16 17 18 19]]\n",
      "190\n",
      "[30 34 38 42 46]\n",
      "[ 2.  7. 12. 17.]\n"
     ]
    }
   ],
   "source": [
    "ar1=np.arange(0,20).reshape(4,5)\n",
    "print(ar1)\n",
    "print(ar1.sum())\n",
    "print(ar1.sum(axis=0))\n",
    "print(ar1.mean(axis=1))"
   ]
  },
  {
   "cell_type": "markdown",
   "metadata": {},
   "source": [
    "# 예제4"
   ]
  },
  {
   "cell_type": "code",
   "execution_count": 7,
   "metadata": {},
   "outputs": [
    {
     "name": "stdout",
     "output_type": "stream",
     "text": [
      "[[ 0  1  2  3  4]\n",
      " [ 5  6  7  8  9]\n",
      " [10 11 12 13 14]\n",
      " [ 0  1  2  3  4]\n",
      " [ 5  6  7  8  9]\n",
      " [10 11 12 13 14]]\n",
      "[[ 0  1  2  3  4]\n",
      " [ 5  6  7  8  9]\n",
      " [10 11 12 13 14]\n",
      " [ 0  1  2  3  4]\n",
      " [ 5  6  7  8  9]\n",
      " [10 11 12 13 14]]\n"
     ]
    }
   ],
   "source": [
    "ar1=np.arange(15).reshape(3,5)\n",
    "ar2=np.concatenate((ar1,ar1), axis=0)\n",
    "print(ar2)\n",
    "ar3=np.array(list(range(15))*2).reshape(6,5)\n",
    "print(ar3)"
   ]
  },
  {
   "cell_type": "markdown",
   "metadata": {},
   "source": [
    "# 실습1"
   ]
  },
  {
   "cell_type": "code",
   "execution_count": 10,
   "metadata": {},
   "outputs": [
    {
     "name": "stdout",
     "output_type": "stream",
     "text": [
      "[[ 0  4  8]\n",
      " [12 16 20]]\n",
      "[[ 0  4  8]\n",
      " [12 16 20]]\n"
     ]
    }
   ],
   "source": [
    "# (1)\n",
    "ar1=np.arange(24).reshape(2,12)\n",
    "ar2=ar1[:,::4]\n",
    "print(ar2)\n",
    "\n",
    "# (2)\n",
    "ar1=np.arange(0,24,4).reshape(2,3)\n",
    "print(ar1)"
   ]
  },
  {
   "cell_type": "markdown",
   "metadata": {},
   "source": [
    "# 실습2"
   ]
  },
  {
   "cell_type": "code",
   "execution_count": 15,
   "metadata": {},
   "outputs": [
    {
     "name": "stdout",
     "output_type": "stream",
     "text": [
      "[[ 1  2  3  4  5  6]\n",
      " [ 7  8  9 10 11 12]\n",
      " [13 14 15 16 17 18]\n",
      " [19 20 21 22 23 24]\n",
      " [25 26 27 28 29 30]\n",
      " [31 32 33 34 35 36]]\n",
      "[[ 1  8 15]\n",
      " [22 29 36]]\n"
     ]
    }
   ],
   "source": [
    "ar1=np.arange(1,37).reshape(6,6)\n",
    "print(ar1)\n",
    "ar2=np.diag(ar1).reshape(2,3)\n",
    "print(ar2)"
   ]
  },
  {
   "cell_type": "markdown",
   "metadata": {},
   "source": [
    "# 실습3"
   ]
  },
  {
   "cell_type": "code",
   "execution_count": 18,
   "metadata": {},
   "outputs": [
    {
     "data": {
      "image/png": "[encoded data removed]",
      "text/plain": [
       "<Figure size 432x288 with 1 Axes>"
      ]
     },
     "metadata": {
      "needs_background": "light"
     },
     "output_type": "display_data"
    },
    {
     "data": {
      "image/png": "[encoded data removed]",
      "text/plain": [
       "<Figure size 432x288 with 1 Axes>"
      ]
     },
     "metadata": {
      "needs_background": "light"
     },
     "output_type": "display_data"
    }
   ],
   "source": [
    "ar1=np.random.normal(3,1,10)\n",
    "fig, ax=plt.subplots()\n",
    "ax.hist(ar1, bins=20, edgecolor='r')\n",
    "fig.show()\n",
    "\n",
    "ar1=np.random.normal(3,1,10000)\n",
    "fig, ax=plt.subplots()\n",
    "ax.hist(ar1, bins=20, edgecolor='r')\n",
    "fig.show()"
   ]
  },
  {
   "cell_type": "markdown",
   "metadata": {},
   "source": [
    "# 실습4"
   ]
  },
  {
   "cell_type": "code",
   "execution_count": 4,
   "metadata": {},
   "outputs": [
    {
     "name": "stdout",
     "output_type": "stream",
     "text": [
      "[ 4. 13. 22. 31.]\n",
      "[2.23606798 2.23606798 2.23606798 2.23606798]\n"
     ]
    }
   ],
   "source": [
    "ar1=np.arange(36).reshape(4,-1)\n",
    "ar2=ar1[:,1::2]\n",
    "m1=ar2.mean(axis=1)\n",
    "s1=ar2.std(axis=1)\n",
    "print(m1)\n",
    "print(s1)"
   ]
  },
  {
   "cell_type": "markdown",
   "metadata": {},
   "source": [
    "# 실습5"
   ]
  },
  {
   "cell_type": "code",
   "execution_count": 24,
   "metadata": {},
   "outputs": [
    {
     "name": "stdout",
     "output_type": "stream",
     "text": [
      "[[1 2 3]\n",
      " [1 2 3]\n",
      " [1 2 3]]\n",
      "[[1 2 3 1]\n",
      " [1 2 3 2]\n",
      " [1 2 3 3]]\n"
     ]
    }
   ],
   "source": [
    "ar1=np.arange(1,4)\n",
    "ar2=ar1.reshape(1,3)\n",
    "ar3=np.concatenate((ar2,ar2,ar2),axis=0)\n",
    "print(ar3)\n",
    "ar4=np.concatenate((ar3,ar2.T), axis=1)\n",
    "print(ar4)"
   ]
  },
  {
   "cell_type": "markdown",
   "metadata": {},
   "source": [
    "# 실습6"
   ]
  },
  {
   "cell_type": "code",
   "execution_count": 26,
   "metadata": {},
   "outputs": [
    {
     "name": "stdout",
     "output_type": "stream",
     "text": [
      "1.9986278324666313\n",
      "0.1621037167110556\n"
     ]
    },
    {
     "data": {
      "image/png": "[encoded data removed]",
      "text/plain": [
       "<Figure size 432x288 with 1 Axes>"
      ]
     },
     "metadata": {
      "needs_background": "light"
     },
     "output_type": "display_data"
    }
   ],
   "source": [
    "mean_list=[]\n",
    "for ii in range(10000):\n",
    "    mean_list.append(np.random.uniform(0,4,50).mean())\n",
    "\n",
    "mean_ar=np.array(mean_list)\n",
    "fig, ax=plt.subplots()\n",
    "ax.hist(np.array(mean_ar), bins=20, edgecolor='r')\n",
    "fig.show()\n",
    "\n",
    "print(mean_ar.mean()) # mean = (0+4)/2 = 2\n",
    "print(mean_ar.std()) # std = sqrt((4-0)^2/12)/sqrt(50) = 0.163"
   ]
  }
 ],
 "metadata": {
  "kernelspec": {
   "display_name": "Python 3",
   "language": "python",
   "name": "python3"
  },
  "language_info": {
   "codemirror_mode": {
    "name": "ipython",
    "version": 3
   },
   "file_extension": ".py",
   "mimetype": "text/x-python",
   "name": "python",
   "nbconvert_exporter": "python",
   "pygments_lexer": "ipython3",
   "version": "3.7.6"
  }
 },
 "nbformat": 4,
 "nbformat_minor": 2
}
