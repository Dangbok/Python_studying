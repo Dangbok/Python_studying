{
 "cells": [
  {
   "cell_type": "code",
   "execution_count": 2,
   "metadata": {},
   "outputs": [
    {
     "data": {
      "text/html": [
       "<style>.container { width:95% !important; }</style>"
      ],
      "text/plain": [
       "<IPython.core.display.HTML object>"
      ]
     },
     "metadata": {},
     "output_type": "display_data"
    },
    {
     "data": {
      "text/html": [
       "<style>.input_area pre {font-family: Consolas; font-size: 20pt; line-height: 140%;}</style>"
      ],
      "text/plain": [
       "<IPython.core.display.HTML object>"
      ]
     },
     "metadata": {},
     "output_type": "display_data"
    },
    {
     "data": {
      "text/html": [
       "<style>.output_area pre {font-family: Consolas; font-size: 20pt; line-height: 140%;}</style>"
      ],
      "text/plain": [
       "<IPython.core.display.HTML object>"
      ]
     },
     "metadata": {},
     "output_type": "display_data"
    }
   ],
   "source": [
    "from IPython.core.display import display, HTML\n",
    "display(HTML(\"<style>.container { width:95% !important; }</style>\"))\n",
    "display(HTML(\"<style>.input_area pre {font-family: Consolas; font-size: 20pt; line-height: 140%;}</style>\"))\n",
    "display(HTML(\"<style>.output_area pre {font-family: Consolas; font-size: 20pt; line-height: 140%;}</style>\"))\n",
    "\n",
    "import numpy as np"
   ]
  },
  {
   "cell_type": "markdown",
   "metadata": {},
   "source": [
    "# 예제1"
   ]
  },
  {
   "cell_type": "code",
   "execution_count": 3,
   "metadata": {},
   "outputs": [
    {
     "name": "stdout",
     "output_type": "stream",
     "text": [
      "[[6 5 4]\n",
      " [3 2 1]]\n",
      "(2, 3)\n",
      "6\n",
      "int32\n",
      "24\n",
      "[[6. 5. 4.]\n",
      " [3. 2. 1.]]\n",
      "(2, 3)\n",
      "6\n",
      "float64\n",
      "48\n"
     ]
    }
   ],
   "source": [
    "ar1=np.array([[6,5,4],[3,2,1]], dtype=np.int)\n",
    "print(ar1)\n",
    "print(ar1.shape)\n",
    "print(ar1.size)\n",
    "print(ar1.dtype)\n",
    "print(ar1.nbytes)\n",
    "ar2=np.array([[6,5,4],[3,2,1]], dtype=np.float)\n",
    "print(ar2)\n",
    "print(ar2.shape)\n",
    "print(ar2.size)\n",
    "print(ar2.dtype)\n",
    "print(ar2.nbytes)"
   ]
  },
  {
   "cell_type": "markdown",
   "metadata": {},
   "source": [
    "# 예제2"
   ]
  },
  {
   "cell_type": "code",
   "execution_count": 4,
   "metadata": {},
   "outputs": [
    {
     "name": "stdout",
     "output_type": "stream",
     "text": [
      "[[ 1  2  3  4]\n",
      " [ 5  6  7  8]\n",
      " [ 9 10 11 12]]\n",
      "[[ 1  2]\n",
      " [ 3  4]\n",
      " [ 5  6]\n",
      " [ 7  8]\n",
      " [ 9 10]\n",
      " [11 12]]\n",
      "[[ 1  2  3  4  5  6]\n",
      " [ 7  8  9 10 11 12]]\n"
     ]
    }
   ],
   "source": [
    "ar1=np.array([1,2,3,4,5,6,7,8,9,10,11,12]).reshape(3,4)\n",
    "print(ar1)\n",
    "ar2=ar1.reshape(6,2)\n",
    "print(ar2)\n",
    "ar3=ar2.reshape(2,6)\n",
    "print(ar3)"
   ]
  },
  {
   "cell_type": "markdown",
   "metadata": {},
   "source": [
    "# 실습1"
   ]
  },
  {
   "cell_type": "code",
   "execution_count": 5,
   "metadata": {},
   "outputs": [
    {
     "name": "stdout",
     "output_type": "stream",
     "text": [
      "[[10.  9.  8.]\n",
      " [ 1.  2.  3.]]\n",
      "(2, 3)\n",
      "6\n",
      "float64\n",
      "48\n"
     ]
    }
   ],
   "source": [
    "ar1=np.array([[10,9,8],[1,2,3]], dtype=np.float)\n",
    "print(ar1)\n",
    "print(ar1.shape)\n",
    "print(ar1.size)\n",
    "print(ar1.dtype)\n",
    "print(ar1.nbytes)"
   ]
  },
  {
   "cell_type": "markdown",
   "metadata": {},
   "source": [
    "# 실습2"
   ]
  },
  {
   "cell_type": "code",
   "execution_count": 6,
   "metadata": {},
   "outputs": [
    {
     "name": "stdout",
     "output_type": "stream",
     "text": [
      "## ar1\n",
      "[[1. 2. 3. 4.]\n",
      " [4. 3. 2. 1.]]\n",
      "## ar1.dtype\n",
      "float64\n",
      "## ar1.ndim\n",
      "2\n",
      "## ar1.nbytes\n",
      "64\n",
      "## ar2\n",
      "[[1 2 3 4]\n",
      " [4 3 2 1]\n",
      " [1 2 3 4]\n",
      " [4 3 2 1]]\n",
      "## ar2.dtype\n",
      "int8\n",
      "## ar2.ndim\n",
      "2\n",
      "## ar2.nbytes\n",
      "16\n",
      "## ar1 메모리크기 64bytes, ar2 메모리크기 16bytes로 ar1이 ar2보다 더 메모리를 많이 차지함 \n"
     ]
    }
   ],
   "source": [
    "ar1=np.array([[1,2,3,4],[4,3,2,1]], dtype=np.float)\n",
    "print('## ar1')\n",
    "print(ar1)\n",
    "print('## ar1.dtype')\n",
    "print(ar1.dtype)\n",
    "print('## ar1.ndim')\n",
    "print(ar1.ndim)\n",
    "print('## ar1.nbytes')\n",
    "print(ar1.nbytes)\n",
    "\n",
    "ar2=np.array([[1,2,3,4],[4,3,2,1],[1,2,3,4],[4,3,2,1]], dtype=np.int8)\n",
    "print('## ar2')\n",
    "print(ar2)\n",
    "print('## ar2.dtype')\n",
    "print(ar2.dtype)\n",
    "print('## ar2.ndim')\n",
    "print(ar2.ndim)\n",
    "print('## ar2.nbytes')\n",
    "print(ar2.nbytes)\n",
    "print(\"## ar1 메모리크기 64bytes, ar2 메모리크기 16bytes로 ar1이 ar2보다 더 메모리를 많이 차지함 \")"
   ]
  },
  {
   "cell_type": "markdown",
   "metadata": {},
   "source": [
    "# 실습3"
   ]
  },
  {
   "cell_type": "code",
   "execution_count": 7,
   "metadata": {},
   "outputs": [
    {
     "name": "stdout",
     "output_type": "stream",
     "text": [
      "[[1 2 3 4 5 6]]\n",
      "[[1 2 3]\n",
      " [4 5 6]]\n",
      "[[1 2]\n",
      " [3 4]\n",
      " [5 6]]\n",
      "[[1]\n",
      " [2]\n",
      " [3]\n",
      " [4]\n",
      " [5]\n",
      " [6]]\n"
     ]
    }
   ],
   "source": [
    "ar1=np.array([1,2,3,4,5,6])\n",
    "\n",
    "resh1=ar1.reshape(1,6)\n",
    "resh2=ar1.reshape(2,3)\n",
    "resh3=ar1.reshape(3,2)\n",
    "resh4=ar1.reshape(6,1)\n",
    "\n",
    "print(resh1)\n",
    "print(resh2)\n",
    "print(resh3)\n",
    "print(resh4)"
   ]
  },
  {
   "cell_type": "markdown",
   "metadata": {},
   "source": [
    "# 실습6"
   ]
  },
  {
   "cell_type": "code",
   "execution_count": 8,
   "metadata": {},
   "outputs": [
    {
     "name": "stdout",
     "output_type": "stream",
     "text": [
      "[[   1    2    3]\n",
      " [   4    5 6000]]\n",
      "[[  1   2   3]\n",
      " [  4   5 112]]\n",
      "## ar2의 경우 메모리크기가 표현하려는 데이터에 비해 작아서 데이터의 왜곡이 생김, 따라서 ar1의 int32가 더 적합함\n"
     ]
    }
   ],
   "source": [
    "ar1=np.array([1,2,3,4,5,6000], dtype=np.int32).reshape(2,3)\n",
    "print(ar1)\n",
    "ar1=np.array([1,2,3,4,5,6000], dtype=np.int8).reshape(2,3)\n",
    "print(ar1)\n",
    "print(\"## ar2의 경우 메모리크기가 표현하려는 데이터에 비해 작아서 데이터의 왜곡이 생김, 따라서 ar1의 int32가 더 적합함\")"
   ]
  },
  {
   "cell_type": "code",
   "execution_count": null,
   "metadata": {},
   "outputs": [],
   "source": []
  }
 ],
 "metadata": {
  "kernelspec": {
   "display_name": "Python 3",
   "language": "python",
   "name": "python3"
  },
  "language_info": {
   "codemirror_mode": {
    "name": "ipython",
    "version": 3
   },
   "file_extension": ".py",
   "mimetype": "text/x-python",
   "name": "python",
   "nbconvert_exporter": "python",
   "pygments_lexer": "ipython3",
   "version": "3.7.6"
  }
 },
 "nbformat": 4,
 "nbformat_minor": 2
}
