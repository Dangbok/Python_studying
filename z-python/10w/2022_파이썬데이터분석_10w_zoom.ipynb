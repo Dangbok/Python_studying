{
 "cells": [
  {
   "cell_type": "code",
   "execution_count": 2,
   "metadata": {},
   "outputs": [
    {
     "name": "stdout",
     "output_type": "stream",
     "text": [
      "python 3.9.7 (default, Sep 16 2021, 16:59:28) [MSC v.1916 64 bit (AMD64)]\n",
      "numpy 1.20.3\n",
      "pandas 1.4.1\n"
     ]
    }
   ],
   "source": [
    "import sys\n",
    "print('python', sys.version)\n",
    "\n",
    "import numpy as np\n",
    "print('numpy', np.__version__)\n",
    "\n",
    "import pandas as pd\n",
    "print('pandas', pd.__version__)\n",
    "\n",
    "# 결과 확인을 용이하게 하기 위한 코드\n",
    "from IPython.core.interactiveshell import InteractiveShell\n",
    "InteractiveShell.ast_node_interactivity = 'all'"
   ]
  },
  {
   "cell_type": "markdown",
   "metadata": {},
   "source": [
    "## Series"
   ]
  },
  {
   "cell_type": "markdown",
   "metadata": {},
   "source": [
    "### series 생성"
   ]
  },
  {
   "cell_type": "code",
   "execution_count": 22,
   "metadata": {},
   "outputs": [
    {
     "data": {
      "text/plain": [
       "0    1\n",
       "1    2\n",
       "2    3\n",
       "3    4\n",
       "4    5\n",
       "dtype: int64"
      ]
     },
     "execution_count": 22,
     "metadata": {},
     "output_type": "execute_result"
    },
    {
     "data": {
      "text/plain": [
       "0    1\n",
       "1    2\n",
       "2    3\n",
       "3    4\n",
       "4    5\n",
       "dtype: int32"
      ]
     },
     "execution_count": 22,
     "metadata": {},
     "output_type": "execute_result"
    },
    {
     "data": {
      "text/plain": [
       "a    1\n",
       "b    2\n",
       "c    3\n",
       "d    4\n",
       "e    5\n",
       "dtype: int64"
      ]
     },
     "execution_count": 22,
     "metadata": {},
     "output_type": "execute_result"
    },
    {
     "data": {
      "text/plain": [
       "a    1.0\n",
       "b    2.0\n",
       "c    3.0\n",
       "d    4.0\n",
       "e    5.0\n",
       "Name: sr1, dtype: float64"
      ]
     },
     "execution_count": 22,
     "metadata": {},
     "output_type": "execute_result"
    },
    {
     "data": {
      "text/plain": [
       "a    1.00\n",
       "b    2.00\n",
       "c    3.00\n",
       "d    4.11\n",
       "e    5.00\n",
       "dtype: float64"
      ]
     },
     "execution_count": 22,
     "metadata": {},
     "output_type": "execute_result"
    },
    {
     "name": "stdout",
     "output_type": "stream",
     "text": [
      "## dtype object\n"
     ]
    },
    {
     "data": {
      "text/plain": [
       "a       1\n",
       "b       2\n",
       "c       3\n",
       "d    4.11\n",
       "e       5\n",
       "dtype: object"
      ]
     },
     "execution_count": 22,
     "metadata": {},
     "output_type": "execute_result"
    },
    {
     "data": {
      "text/plain": [
       "int"
      ]
     },
     "execution_count": 22,
     "metadata": {},
     "output_type": "execute_result"
    },
    {
     "data": {
      "text/plain": [
       "float"
      ]
     },
     "execution_count": 22,
     "metadata": {},
     "output_type": "execute_result"
    },
    {
     "name": "stdout",
     "output_type": "stream",
     "text": [
      "## dtype object\n"
     ]
    },
    {
     "data": {
      "text/plain": [
       "a      er\n",
       "b       2\n",
       "c       3\n",
       "d    4.11\n",
       "e       5\n",
       "dtype: object"
      ]
     },
     "execution_count": 22,
     "metadata": {},
     "output_type": "execute_result"
    },
    {
     "name": "stdout",
     "output_type": "stream",
     "text": [
      "## 사전\n"
     ]
    },
    {
     "data": {
      "text/plain": [
       "a    1\n",
       "b    2\n",
       "c    3\n",
       "d    4\n",
       "dtype: int64"
      ]
     },
     "execution_count": 22,
     "metadata": {},
     "output_type": "execute_result"
    },
    {
     "name": "stdout",
     "output_type": "stream",
     "text": [
      "## index 중복\n"
     ]
    },
    {
     "data": {
      "text/plain": [
       "1      er\n",
       "1       2\n",
       "1       3\n",
       "2    4.11\n",
       "2       5\n",
       "dtype: object"
      ]
     },
     "execution_count": 22,
     "metadata": {},
     "output_type": "execute_result"
    },
    {
     "data": {
      "text/plain": [
       "1    er\n",
       "1     2\n",
       "1     3\n",
       "dtype: object"
      ]
     },
     "execution_count": 22,
     "metadata": {},
     "output_type": "execute_result"
    }
   ],
   "source": [
    "pd.Series(data=[1,2,3,4,5])\n",
    "pd.Series(np.arange(1,6))\n",
    "pd.Series(data=[1,2,3,4,5], index=list('abcde'))\n",
    "pd.Series(data=[1,2,3,4,5], index=list('abcde'), dtype=float, name='sr1')\n",
    "pd.Series(data=[1,2,3,4.11,5], index=list('abcde'))\n",
    "\n",
    "print('## dtype object')\n",
    "s1=pd.Series(data=[1,2,3,4.11,5], index=list('abcde'), dtype=object)\n",
    "s1\n",
    "type(s1['b'])\n",
    "type(s1['d'])\n",
    "\n",
    "print('## dtype object')\n",
    "pd.Series(data=['er',2,3,4.11,5], index=list('abcde'))\n",
    "\n",
    "print('## 사전')\n",
    "pd.Series({'a':1,'b':2,'c':3,'d':4})\n",
    "\n",
    "print('## index 중복')\n",
    "s2=pd.Series(data=['er',2,3,4.11,5], index=[1,1,1,2,2])\n",
    "s2\n",
    "s2[1]\n"
   ]
  },
  {
   "cell_type": "markdown",
   "metadata": {},
   "source": [
    "### series 객체 수정하기"
   ]
  },
  {
   "cell_type": "code",
   "execution_count": 25,
   "metadata": {},
   "outputs": [
    {
     "data": {
      "text/plain": [
       "a    1.0\n",
       "b    2.0\n",
       "c    3.0\n",
       "d    4.2\n",
       "Name: myname, dtype: float64"
      ]
     },
     "execution_count": 25,
     "metadata": {},
     "output_type": "execute_result"
    },
    {
     "data": {
      "text/plain": [
       "aaaaaa\n",
       "e    1\n",
       "f    2\n",
       "g    3\n",
       "h    4\n",
       "Name: yourname, dtype: int32"
      ]
     },
     "execution_count": 25,
     "metadata": {},
     "output_type": "execute_result"
    }
   ],
   "source": [
    "ds1=pd.Series(data=[1,2,3,4.2], index=list('abcd'), name='myname')\n",
    "ds1\n",
    "ds1.index=list('efgh')\n",
    "ds1.name='yourname'\n",
    "ds1=ds1.astype(int)\n",
    "ds1.index.name='aaaaaa'\n",
    "ds1"
   ]
  },
  {
   "cell_type": "markdown",
   "metadata": {},
   "source": [
    "### 실습1"
   ]
  },
  {
   "cell_type": "code",
   "execution_count": 26,
   "metadata": {},
   "outputs": [
    {
     "data": {
      "text/plain": [
       "1    4\n",
       "2    0\n",
       "3    7\n",
       "4    5\n",
       "5    8\n",
       "dtype: int32"
      ]
     },
     "execution_count": 26,
     "metadata": {},
     "output_type": "execute_result"
    },
    {
     "data": {
      "text/plain": [
       "array([4, 0, 7, 5, 8])"
      ]
     },
     "execution_count": 26,
     "metadata": {},
     "output_type": "execute_result"
    },
    {
     "data": {
      "text/plain": [
       "array([4, 7, 5, 8])"
      ]
     },
     "execution_count": 26,
     "metadata": {},
     "output_type": "execute_result"
    },
    {
     "data": {
      "text/plain": [
       "6.0"
      ]
     },
     "execution_count": 26,
     "metadata": {},
     "output_type": "execute_result"
    }
   ],
   "source": [
    "s1=pd.Series(np.random.randint(0,10,size=5), index=range(1,6))\n",
    "s1\n",
    "a1=s1.values\n",
    "a1\n",
    "a2=a1[a1>=3]\n",
    "a2\n",
    "a2.mean()"
   ]
  },
  {
   "cell_type": "markdown",
   "metadata": {},
   "source": [
    "## series indexing & slicing"
   ]
  },
  {
   "cell_type": "markdown",
   "metadata": {},
   "source": [
    "### series indexing 연습 (loc)"
   ]
  },
  {
   "cell_type": "code",
   "execution_count": 3,
   "metadata": {},
   "outputs": [
    {
     "name": "stdout",
     "output_type": "stream",
     "text": [
      "a    1.0\n",
      "b    2.0\n",
      "c    3.0\n",
      "d    4.0\n",
      "e    5.0\n",
      "Name: sr1, dtype: float64\n",
      "## indexing (값 하나) => return scalar (하나의 값)\n",
      "3.0\n",
      "3.0\n",
      "a    1.0\n",
      "b    2.0\n",
      "c   -3.2\n",
      "d    4.0\n",
      "e    5.0\n",
      "Name: sr1, dtype: float64\n",
      "## indexing (값 둘 이상) => return series\n",
      "a    1.0\n",
      "e    5.0\n",
      "Name: sr1, dtype: float64\n",
      "a    1.0\n",
      "e    5.0\n",
      "Name: sr1, dtype: float64\n",
      "a   -5.0\n",
      "b    2.0\n",
      "c   -3.2\n",
      "d    4.0\n",
      "e   -5.0\n",
      "Name: sr1, dtype: float64\n",
      "## indexing (값 하나) => return series\n",
      "a   -5.0\n",
      "Name: sr1, dtype: float64\n",
      "a   -5.0\n",
      "Name: sr1, dtype: float64\n",
      "a    10.0\n",
      "b    10.0\n",
      "c    -3.2\n",
      "d     4.0\n",
      "e    -5.0\n",
      "Name: sr1, dtype: float64\n"
     ]
    }
   ],
   "source": [
    "sr1=pd.Series(data=[1,2,3,4,5], index=list('abcde'), dtype=float, name='sr1')\n",
    "print(sr1)\n",
    "\n",
    "print(\"## indexing (값 하나) => return scalar (하나의 값)\")\n",
    "print(sr1.loc['c']) \n",
    "print(sr1['c']) #위 코드와 동일\n",
    "sr1.loc['c']=-3.2\n",
    "sr1['c']=-3.2 #위 코드와 동일   \n",
    "print(sr1)\n",
    "\n",
    "print(\"## indexing (값 둘 이상) => return series\")\n",
    "# print(sr1.loc['a','e'])  에러발생\n",
    "print(sr1.loc[['a','e']])  \n",
    "print(sr1[['a','e']]) #위 코드와 동일\n",
    "sr1.loc[['a','e']]=-5\n",
    "sr1[['a','e']]=-5 #위 코드와 동일\n",
    "print(sr1)\n",
    "\n",
    "print(\"## indexing (값 하나) => return series\")\n",
    "print(sr1.loc[['a']])\n",
    "print(sr1[['a']]) #위 코드와 동일\n",
    "sr1.loc[['a']]=10\n",
    "sr1[['a']]=10 #위 코드와 동일\n",
    "print(sr1)"
   ]
  },
  {
   "cell_type": "markdown",
   "metadata": {},
   "source": [
    "### series indexing 연습 (iloc)"
   ]
  },
  {
   "cell_type": "code",
   "execution_count": null,
   "metadata": {},
   "outputs": [],
   "source": [
    "sr1=pd.Series(data=[1,2,3,4,5], index=list('abcde'), dtype=float, name='sr1')\n",
    "print(sr1)\n",
    "\n",
    "print(\"## indexing (값 하나)\")\n",
    "print(sr1.iloc[2]) # 하나의 값\n",
    "sr1.iloc[2]=-3.2\n",
    "print(sr1)\n",
    "\n",
    "print(\"## indexing (값 둘 이상)\")\n",
    "print(sr1.iloc[[1,2]]) # series\n",
    "sr1.iloc[[1,2]]=-5\n",
    "print(sr1)"
   ]
  },
  {
   "cell_type": "markdown",
   "metadata": {},
   "source": [
    "### series .loc 생략 시, 혼란스러운 경우"
   ]
  },
  {
   "cell_type": "code",
   "execution_count": 12,
   "metadata": {},
   "outputs": [
    {
     "data": {
      "text/plain": [
       "a    1\n",
       "b    2\n",
       "c    3\n",
       "d    4\n",
       "e    5\n",
       "dtype: int64"
      ]
     },
     "execution_count": 12,
     "metadata": {},
     "output_type": "execute_result"
    },
    {
     "data": {
      "text/plain": [
       "4"
      ]
     },
     "execution_count": 12,
     "metadata": {},
     "output_type": "execute_result"
    }
   ],
   "source": [
    "sr1=pd.Series(data=[1,2,3,4,5], index=list('abcde'))\n",
    "sr1\n",
    "\n",
    "#sr1.iloc[3]\n",
    "# sr1.loc[3]\n",
    "sr1[3]"
   ]
  },
  {
   "cell_type": "code",
   "execution_count": 12,
   "metadata": {},
   "outputs": [
    {
     "data": {
      "text/plain": [
       "a    1.0\n",
       "b    2.0\n",
       "c    3.0\n",
       "d    4.0\n",
       "e    5.0\n",
       "Name: sr1, dtype: float64"
      ]
     },
     "execution_count": 12,
     "metadata": {},
     "output_type": "execute_result"
    },
    {
     "data": {
      "text/plain": [
       "3.0"
      ]
     },
     "execution_count": 12,
     "metadata": {},
     "output_type": "execute_result"
    },
    {
     "data": {
      "text/plain": [
       "2.0"
      ]
     },
     "execution_count": 12,
     "metadata": {},
     "output_type": "execute_result"
    }
   ],
   "source": [
    "sr1=pd.Series(data=[1,2,3,4,5], index=list('abcde'), dtype=float, name='sr1')\n",
    "sr1\n",
    "sr1[2] # <= sr1.iloc[2]\n",
    "sr1['b'] # <=sr1.loc['b']\n"
   ]
  },
  {
   "cell_type": "markdown",
   "metadata": {},
   "source": [
    "### series slicing 연습 (loc, iloc)"
   ]
  },
  {
   "cell_type": "code",
   "execution_count": 19,
   "metadata": {},
   "outputs": [
    {
     "data": {
      "text/plain": [
       "0    1\n",
       "1    2\n",
       "2    3\n",
       "3    4\n",
       "4    5\n",
       "Name: sr1, dtype: int64"
      ]
     },
     "execution_count": 19,
     "metadata": {},
     "output_type": "execute_result"
    },
    {
     "data": {
      "text/plain": [
       "0    1\n",
       "1    2\n",
       "2    3\n",
       "Name: sr1, dtype: int64"
      ]
     },
     "execution_count": 19,
     "metadata": {},
     "output_type": "execute_result"
    },
    {
     "data": {
      "text/plain": [
       "0    1\n",
       "1    2\n",
       "Name: sr1, dtype: int64"
      ]
     },
     "execution_count": 19,
     "metadata": {},
     "output_type": "execute_result"
    }
   ],
   "source": [
    "sr1=pd.Series(data=[1,2,3,4,5], name='sr1')\n",
    "sr1\n",
    "\n",
    "sr1.loc[0:2]\n",
    "sr1.iloc[0:2]"
   ]
  },
  {
   "cell_type": "code",
   "execution_count": null,
   "metadata": {},
   "outputs": [],
   "source": []
  },
  {
   "cell_type": "code",
   "execution_count": 13,
   "metadata": {},
   "outputs": [
    {
     "name": "stdout",
     "output_type": "stream",
     "text": [
      "3    1\n",
      "7    2\n",
      "4    3\n",
      "5    4\n",
      "6    5\n",
      "Name: sr1, dtype: int64\n",
      "##################\n",
      "4\n",
      "1\n",
      "##################\n",
      "5    4\n",
      "6    5\n",
      "Name: sr1, dtype: int64\n",
      "3    1\n",
      "7    2\n",
      "4    3\n",
      "5    4\n",
      "Name: sr1, dtype: int64\n",
      "##################\n",
      "5    4\n",
      "Name: sr1, dtype: int64\n",
      "7    2\n",
      "5    4\n",
      "Name: sr1, dtype: int64\n"
     ]
    }
   ],
   "source": [
    "sr1=pd.Series(data=[1,2,3,4,5], index=[3,7,4,5,6], name='sr1')\n",
    "print(sr1)\n",
    "\n",
    "print('##################')\n",
    "print(sr1.iloc[3])\n",
    "print(sr1.loc[3])\n",
    "print('##################')\n",
    "print(sr1.iloc[3:5])\n",
    "print(sr1.loc[3:5])\n",
    "print('##################')\n",
    "print(sr1.iloc[3::2])\n",
    "print(sr1.loc[7::2])"
   ]
  },
  {
   "cell_type": "markdown",
   "metadata": {},
   "source": [
    "### 실습2"
   ]
  },
  {
   "cell_type": "code",
   "execution_count": 11,
   "metadata": {},
   "outputs": [
    {
     "data": {
      "text/plain": [
       "e    0\n",
       "1    1\n",
       "d    2\n",
       "2    3\n",
       "c    4\n",
       "3    5\n",
       "b    6\n",
       "4    7\n",
       "a    8\n",
       "5    9\n",
       "dtype: int32"
      ]
     },
     "execution_count": 11,
     "metadata": {},
     "output_type": "execute_result"
    },
    {
     "data": {
      "text/plain": [
       "2"
      ]
     },
     "execution_count": 11,
     "metadata": {},
     "output_type": "execute_result"
    },
    {
     "data": {
      "text/plain": [
       "5    9\n",
       "dtype: int32"
      ]
     },
     "execution_count": 11,
     "metadata": {},
     "output_type": "execute_result"
    },
    {
     "data": {
      "text/plain": [
       "d    2\n",
       "c    4\n",
       "b    6\n",
       "dtype: int32"
      ]
     },
     "execution_count": 11,
     "metadata": {},
     "output_type": "execute_result"
    },
    {
     "data": {
      "text/plain": [
       "2"
      ]
     },
     "execution_count": 11,
     "metadata": {},
     "output_type": "execute_result"
    },
    {
     "data": {
      "text/plain": [
       "5    9\n",
       "dtype: int32"
      ]
     },
     "execution_count": 11,
     "metadata": {},
     "output_type": "execute_result"
    },
    {
     "data": {
      "text/plain": [
       "d    2\n",
       "c    4\n",
       "b    6\n",
       "dtype: int32"
      ]
     },
     "execution_count": 11,
     "metadata": {},
     "output_type": "execute_result"
    }
   ],
   "source": [
    "s1=pd.Series(np.arange(10), index=list('e1d2c3b4a5'))\n",
    "s1\n",
    "s1.loc['d']\n",
    "s1.loc[['5']]\n",
    "s1.loc['d':'b':2]\n",
    "\n",
    "s1.iloc[2]\n",
    "s1.iloc[[-1]]\n",
    "s1.iloc[2:7:2]"
   ]
  },
  {
   "cell_type": "markdown",
   "metadata": {},
   "source": [
    "## series creation"
   ]
  },
  {
   "cell_type": "markdown",
   "metadata": {},
   "source": [
    "### 연습"
   ]
  },
  {
   "cell_type": "code",
   "execution_count": 4,
   "metadata": {},
   "outputs": [
    {
     "data": {
      "text/plain": [
       "0    1.608469\n",
       "1   -2.689556\n",
       "2    0.353855\n",
       "3    0.434130\n",
       "Name: sr1, dtype: float64"
      ]
     },
     "execution_count": 4,
     "metadata": {},
     "output_type": "execute_result"
    },
    {
     "data": {
      "text/plain": [
       "0    97\n",
       "1    29\n",
       "2    85\n",
       "3     0\n",
       "Name: sr2, dtype: int32"
      ]
     },
     "execution_count": 4,
     "metadata": {},
     "output_type": "execute_result"
    },
    {
     "data": {
      "text/plain": [
       "0    r\n",
       "1    r\n",
       "2    r\n",
       "3    r\n",
       "Name: sr3, dtype: object"
      ]
     },
     "execution_count": 4,
     "metadata": {},
     "output_type": "execute_result"
    }
   ],
   "source": [
    "## 정규분포에서 데이터 가져오기\n",
    "sr1=pd.Series(data=np.random.normal(0,2,size=(4)), name='sr1')\n",
    "sr1\n",
    "## 랜덤한 정수가져오기\n",
    "sr2=pd.Series(data=np.random.randint(100,size=(4)), name='sr2')\n",
    "sr2\n",
    "## 주어진 list에서 랜덤하게 sampling 하여 가져오기\n",
    "sr3=pd.Series(data=np.random.choice(list('erferwe'),size=(4)), name='sr3')\n",
    "sr3"
   ]
  },
  {
   "cell_type": "markdown",
   "metadata": {},
   "source": [
    "## series function"
   ]
  },
  {
   "cell_type": "markdown",
   "metadata": {},
   "source": [
    "### 연습"
   ]
  },
  {
   "cell_type": "code",
   "execution_count": 9,
   "metadata": {},
   "outputs": [
    {
     "data": {
      "text/plain": [
       "a    3\n",
       "b    2\n",
       "c    1\n",
       "d    4\n",
       "e    5\n",
       "Name: sr1, dtype: int64"
      ]
     },
     "execution_count": 9,
     "metadata": {},
     "output_type": "execute_result"
    },
    {
     "data": {
      "text/plain": [
       "a    0\n",
       "b    2\n",
       "c    1\n",
       "d    1\n",
       "e    2\n",
       "Name: sr1, dtype: int64"
      ]
     },
     "execution_count": 9,
     "metadata": {},
     "output_type": "execute_result"
    },
    {
     "data": {
      "text/plain": [
       "3.0"
      ]
     },
     "execution_count": 9,
     "metadata": {},
     "output_type": "execute_result"
    },
    {
     "data": {
      "text/plain": [
       "3.0"
      ]
     },
     "execution_count": 9,
     "metadata": {},
     "output_type": "execute_result"
    },
    {
     "name": "stdout",
     "output_type": "stream",
     "text": [
      "###############\n"
     ]
    },
    {
     "data": {
      "text/plain": [
       "5"
      ]
     },
     "execution_count": 9,
     "metadata": {},
     "output_type": "execute_result"
    },
    {
     "data": {
      "text/plain": [
       "15"
      ]
     },
     "execution_count": 9,
     "metadata": {},
     "output_type": "execute_result"
    },
    {
     "name": "stdout",
     "output_type": "stream",
     "text": [
      "###############\n"
     ]
    },
    {
     "data": {
      "text/plain": [
       "4"
      ]
     },
     "execution_count": 9,
     "metadata": {},
     "output_type": "execute_result"
    },
    {
     "data": {
      "text/plain": [
       "'e'"
      ]
     },
     "execution_count": 9,
     "metadata": {},
     "output_type": "execute_result"
    }
   ],
   "source": [
    "sr1=pd.Series(data=[3,2,1,4,5], index=list('abcde'), name='sr1')\n",
    "sr1\n",
    "sr1%3\n",
    "# mean\n",
    "sr1.mean()\n",
    "np.mean(sr1) # not available: pd.mean(sr1))\n",
    "print('###############')\n",
    "sr1.max()\n",
    "sr1.sum()\n",
    "print('###############')\n",
    "sr1.argmax()\n",
    "sr1.idxmax()"
   ]
  },
  {
   "cell_type": "markdown",
   "metadata": {},
   "source": [
    "## series comparison & boolean index"
   ]
  },
  {
   "cell_type": "markdown",
   "metadata": {},
   "source": [
    "### 연습"
   ]
  },
  {
   "cell_type": "code",
   "execution_count": 24,
   "metadata": {},
   "outputs": [
    {
     "data": {
      "text/plain": [
       "0    6\n",
       "1    2\n",
       "2    0\n",
       "3    9\n",
       "4    7\n",
       "5    9\n",
       "Name: sr2, dtype: int32"
      ]
     },
     "execution_count": 24,
     "metadata": {},
     "output_type": "execute_result"
    },
    {
     "data": {
      "text/plain": [
       "0     True\n",
       "1    False\n",
       "2    False\n",
       "3     True\n",
       "4     True\n",
       "5     True\n",
       "Name: sr2, dtype: bool"
      ]
     },
     "execution_count": 24,
     "metadata": {},
     "output_type": "execute_result"
    },
    {
     "data": {
      "text/plain": [
       "0    6\n",
       "3    9\n",
       "4    7\n",
       "5    9\n",
       "Name: sr2, dtype: int32"
      ]
     },
     "execution_count": 24,
     "metadata": {},
     "output_type": "execute_result"
    },
    {
     "data": {
      "text/plain": [
       "0    6\n",
       "3    9\n",
       "4    7\n",
       "5    9\n",
       "Name: sr2, dtype: int32"
      ]
     },
     "execution_count": 24,
     "metadata": {},
     "output_type": "execute_result"
    }
   ],
   "source": [
    "sr2=pd.Series(data=np.random.randint(10,size=(6)), name='sr2')\n",
    "sr2\n",
    "sr2>4\n",
    "sr2[sr2>4]\n",
    "sr2.loc[sr2>4]\n",
    "\n",
    "# sr2.loc[sr2>4]\n"
   ]
  },
  {
   "cell_type": "markdown",
   "metadata": {},
   "source": [
    "## series sort & replace"
   ]
  },
  {
   "cell_type": "markdown",
   "metadata": {},
   "source": [
    "### 연습"
   ]
  },
  {
   "cell_type": "code",
   "execution_count": 15,
   "metadata": {},
   "outputs": [
    {
     "name": "stdout",
     "output_type": "stream",
     "text": [
      "#### sort data\n"
     ]
    },
    {
     "data": {
      "text/plain": [
       "a    5\n",
       "b    2\n",
       "c    4\n",
       "d    1\n",
       "e    3\n",
       "dtype: int64"
      ]
     },
     "execution_count": 15,
     "metadata": {},
     "output_type": "execute_result"
    },
    {
     "data": {
      "text/plain": [
       "d    1\n",
       "b    2\n",
       "e    3\n",
       "c    4\n",
       "a    5\n",
       "dtype: int64"
      ]
     },
     "execution_count": 15,
     "metadata": {},
     "output_type": "execute_result"
    },
    {
     "data": {
      "text/plain": [
       "a    5\n",
       "b    2\n",
       "c    4\n",
       "d    1\n",
       "e    3\n",
       "dtype: int64"
      ]
     },
     "execution_count": 15,
     "metadata": {},
     "output_type": "execute_result"
    },
    {
     "data": {
      "text/plain": [
       "d    1\n",
       "b    2\n",
       "e    3\n",
       "c    4\n",
       "a    5\n",
       "dtype: int64"
      ]
     },
     "execution_count": 15,
     "metadata": {},
     "output_type": "execute_result"
    },
    {
     "data": {
      "text/plain": [
       "d    1\n",
       "b    2\n",
       "e    3\n",
       "c    4\n",
       "a    5\n",
       "dtype: int64"
      ]
     },
     "execution_count": 15,
     "metadata": {},
     "output_type": "execute_result"
    },
    {
     "name": "stdout",
     "output_type": "stream",
     "text": [
      "#### sort index\n"
     ]
    },
    {
     "data": {
      "text/plain": [
       "c    5\n",
       "d    2\n",
       "a    4\n",
       "b    1\n",
       "e    3\n",
       "dtype: int64"
      ]
     },
     "execution_count": 15,
     "metadata": {},
     "output_type": "execute_result"
    },
    {
     "data": {
      "text/plain": [
       "a    4\n",
       "b    1\n",
       "c    5\n",
       "d    2\n",
       "e    3\n",
       "dtype: int64"
      ]
     },
     "execution_count": 15,
     "metadata": {},
     "output_type": "execute_result"
    }
   ],
   "source": [
    "print(\"#### sort data\")\n",
    "s1=pd.Series(data=[5,2,4,1,3], index=list('abcde'))\n",
    "s1\n",
    "s1.sort_values()\n",
    "s1\n",
    "s1.sort_values(inplace=True)\n",
    "s1\n",
    "s1=pd.Series(data=[5,2,4,1,3], index=list('abcde'))\n",
    "s1=s1.sort_values()\n",
    "s1\n",
    "print(\"#### sort index\")\n",
    "s1=pd.Series(data=[5,2,4,1,3], index=list('cdabe'))\n",
    "s1\n",
    "s1=s1.sort_index()\n",
    "s1"
   ]
  },
  {
   "cell_type": "code",
   "execution_count": 26,
   "metadata": {},
   "outputs": [
    {
     "name": "stdout",
     "output_type": "stream",
     "text": [
      "#### replace by index\n"
     ]
    },
    {
     "data": {
      "text/plain": [
       "3    a\n",
       "4    b\n",
       "5    c\n",
       "6    a\n",
       "dtype: object"
      ]
     },
     "execution_count": 26,
     "metadata": {},
     "output_type": "execute_result"
    },
    {
     "data": {
      "text/plain": [
       "3     3\n",
       "4    11\n",
       "5     c\n",
       "6     3\n",
       "dtype: object"
      ]
     },
     "execution_count": 26,
     "metadata": {},
     "output_type": "execute_result"
    }
   ],
   "source": [
    "print(\"#### replace by index\")\n",
    "# sr1=pd.Series(data=list('abca'), index=range(3,7))\n",
    "# sr1\n",
    "# sr1.loc[4:6]='z'\n",
    "# sr1\n",
    "# sr1.iloc[0]='z'\n",
    "# sr1\n",
    "\n",
    "# # \n",
    "\n",
    "sr1=pd.Series(data=list('abca'), index=range(3,7))\n",
    "sr1\n",
    "sr1.replace(['a','b'],['3','11'], inplace=True)\n",
    "sr1"
   ]
  },
  {
   "cell_type": "markdown",
   "metadata": {},
   "source": [
    "## 문제 1~3"
   ]
  },
  {
   "cell_type": "markdown",
   "metadata": {},
   "source": [
    "### 문제 1"
   ]
  },
  {
   "cell_type": "code",
   "execution_count": 35,
   "metadata": {},
   "outputs": [
    {
     "name": "stdout",
     "output_type": "stream",
     "text": [
      "### series s1\n"
     ]
    },
    {
     "data": {
      "text/plain": [
       "a    3\n",
       "b    5\n",
       "c    1\n",
       "d    4\n",
       "e    1\n",
       "f    5\n",
       "g    1\n",
       "h    3\n",
       "i    4\n",
       "j    1\n",
       "dtype: int32"
      ]
     },
     "execution_count": 35,
     "metadata": {},
     "output_type": "execute_result"
    },
    {
     "data": {
      "text/plain": [
       "a       3\n",
       "b    five\n",
       "c     one\n",
       "d       4\n",
       "e     one\n",
       "f    five\n",
       "g     one\n",
       "h       3\n",
       "i       4\n",
       "j     one\n",
       "dtype: object"
      ]
     },
     "execution_count": 35,
     "metadata": {},
     "output_type": "execute_result"
    },
    {
     "name": "stdout",
     "output_type": "stream",
     "text": [
      "### 수정된 series s1\n"
     ]
    },
    {
     "data": {
      "text/plain": [
       "a    3\n",
       "b    5\n",
       "c    1\n",
       "d    4\n",
       "e    1\n",
       "f    5\n",
       "g    1\n",
       "h    3\n",
       "i    4\n",
       "j    1\n",
       "dtype: int32"
      ]
     },
     "execution_count": 35,
     "metadata": {},
     "output_type": "execute_result"
    }
   ],
   "source": [
    "# 주어진 series s1의 data중 1은 one, 5는 five로 바꾼 s1을 다시 출력하시오 (2,3,4는 그대로 둠)\n",
    "\n",
    "s1=pd.Series(index=list('abcdefghij'), data=np.random.randint(1,6,10))\n",
    "print('### series s1')\n",
    "s1\n",
    "\n",
    "#=== 코드작성 ===# \n",
    "s1.replace([1,5],['one','five'])\n",
    "\n",
    "print('### 수정된 series s1')\n",
    "s1"
   ]
  },
  {
   "cell_type": "code",
   "execution_count": 29,
   "metadata": {},
   "outputs": [
    {
     "name": "stdout",
     "output_type": "stream",
     "text": [
      "### series s1\n"
     ]
    },
    {
     "data": {
      "text/plain": [
       "a    2\n",
       "b    3\n",
       "c    3\n",
       "d    2\n",
       "e    2\n",
       "f    3\n",
       "g    1\n",
       "h    2\n",
       "i    4\n",
       "j    3\n",
       "dtype: int32"
      ]
     },
     "execution_count": 29,
     "metadata": {},
     "output_type": "execute_result"
    },
    {
     "name": "stdout",
     "output_type": "stream",
     "text": [
      "### 수정된 series s1\n"
     ]
    },
    {
     "data": {
      "text/plain": [
       "a      2\n",
       "b      3\n",
       "c    100\n",
       "d      2\n",
       "e      2\n",
       "f      3\n",
       "g      1\n",
       "h      2\n",
       "i      4\n",
       "j      3\n",
       "dtype: int32"
      ]
     },
     "execution_count": 29,
     "metadata": {},
     "output_type": "execute_result"
    }
   ],
   "source": [
    "# 주어진 series s1에서 index c인 값을 100으로 바꾸시오\n",
    "\n",
    "s1=pd.Series(index=list('abcdefghij'), data=np.random.randint(1,6,10))\n",
    "print('### series s1')\n",
    "s1\n",
    "\n",
    "#=== 코드작성 ===# \n",
    "s1.loc['c']=100\n",
    "\n",
    "print('### 수정된 series s1')\n",
    "s1"
   ]
  },
  {
   "cell_type": "markdown",
   "metadata": {},
   "source": [
    "### 문제 2"
   ]
  },
  {
   "cell_type": "code",
   "execution_count": 42,
   "metadata": {},
   "outputs": [
    {
     "name": "stdout",
     "output_type": "stream",
     "text": [
      "### series s1\n"
     ]
    },
    {
     "data": {
      "text/plain": [
       "85    90\n",
       "30    24\n",
       "20    83\n",
       "16    18\n",
       "8     88\n",
       "dtype: int32"
      ]
     },
     "execution_count": 42,
     "metadata": {},
     "output_type": "execute_result"
    },
    {
     "name": "stdout",
     "output_type": "stream",
     "text": [
      "### v1: 최대값의 두 종류 index 합\n"
     ]
    },
    {
     "data": {
      "text/plain": [
       "85"
      ]
     },
     "execution_count": 42,
     "metadata": {},
     "output_type": "execute_result"
    }
   ],
   "source": [
    "# 주어진 series s1의 데이터 중 최대값의 두 종류 index(부여한 index와 integer index) 합을 구하시오\n",
    "\n",
    "s1=pd.Series(index=np.random.randint(0,100,5), data=np.random.randint(0,100,5))\n",
    "print('### series s1')\n",
    "s1\n",
    "\n",
    "v1=s1.argmax()+s1.idxmax()\n",
    "#=== 코드작성 ===# \n",
    "\n",
    "print('### v1: 최대값의 두 종류 index 합')\n",
    "v1"
   ]
  },
  {
   "cell_type": "markdown",
   "metadata": {},
   "source": [
    "### 문제 3"
   ]
  },
  {
   "cell_type": "code",
   "execution_count": 57,
   "metadata": {},
   "outputs": [
    {
     "name": "stdout",
     "output_type": "stream",
     "text": [
      "### series s1\n"
     ]
    },
    {
     "data": {
      "text/plain": [
       "0    89\n",
       "1    27\n",
       "2    15\n",
       "3     2\n",
       "4    10\n",
       "5    43\n",
       "dtype: int32"
      ]
     },
     "execution_count": 57,
     "metadata": {},
     "output_type": "execute_result"
    },
    {
     "data": {
      "text/plain": [
       "3     2\n",
       "4    10\n",
       "2    15\n",
       "dtype: int32"
      ]
     },
     "execution_count": 57,
     "metadata": {},
     "output_type": "execute_result"
    },
    {
     "name": "stdout",
     "output_type": "stream",
     "text": [
      "### v1: 가장 적은 data 세 개의 index 합\n"
     ]
    },
    {
     "data": {
      "text/plain": [
       "9"
      ]
     },
     "execution_count": 57,
     "metadata": {},
     "output_type": "execute_result"
    }
   ],
   "source": [
    "# 주어진 series s1 중 가장 적은 data 세 개의 index 합을 구하시오\n",
    "s1=pd.Series(data=np.random.randint(0,100,6))\n",
    "print('### series s1')\n",
    "s1\n",
    "s2=s1.sort_values().iloc[:3]\n",
    "s2\n",
    "v1=np.sum(s2.index)\n",
    "\n",
    "#=== 코드작성 ===#\n",
    "\n",
    "print('### v1: 가장 적은 data 세 개의 index 합')\n",
    "v1"
   ]
  }
 ],
 "metadata": {
  "kernelspec": {
   "display_name": "Python 3 (ipykernel)",
   "language": "python",
   "name": "python3"
  },
  "language_info": {
   "codemirror_mode": {
    "name": "ipython",
    "version": 3
   },
   "file_extension": ".py",
   "mimetype": "text/x-python",
   "name": "python",
   "nbconvert_exporter": "python",
   "pygments_lexer": "ipython3",
   "version": "3.9.7"
  },
  "toc": {
   "base_numbering": 1,
   "nav_menu": {},
   "number_sections": true,
   "sideBar": true,
   "skip_h1_title": false,
   "title_cell": "Table of Contents",
   "title_sidebar": "Contents",
   "toc_cell": false,
   "toc_position": {
    "height": "calc(100% - 180px)",
    "left": "10px",
    "top": "150px",
    "width": "279.575px"
   },
   "toc_section_display": true,
   "toc_window_display": true
  },
  "varInspector": {
   "cols": {
    "lenName": 16,
    "lenType": 16,
    "lenVar": 40
   },
   "kernels_config": {
    "python": {
     "delete_cmd_postfix": "",
     "delete_cmd_prefix": "del ",
     "library": "var_list.py",
     "varRefreshCmd": "print(var_dic_list())"
    },
    "r": {
     "delete_cmd_postfix": ") ",
     "delete_cmd_prefix": "rm(",
     "library": "var_list.r",
     "varRefreshCmd": "cat(var_dic_list()) "
    }
   },
   "types_to_exclude": [
    "module",
    "function",
    "builtin_function_or_method",
    "instance",
    "_Feature"
   ],
   "window_display": false
  }
 },
 "nbformat": 4,
 "nbformat_minor": 2
}
