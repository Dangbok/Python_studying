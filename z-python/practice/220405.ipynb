{
 "cells": [
  {
   "cell_type": "code",
   "execution_count": 1,
   "id": "fbf649ce",
   "metadata": {},
   "outputs": [
    {
     "name": "stdout",
     "output_type": "stream",
     "text": [
      "python 3.9.7 (default, Sep 16 2021, 16:59:28) [MSC v.1916 64 bit (AMD64)]\n",
      "numpy 1.20.3\n",
      "pandas 1.3.4\n"
     ]
    }
   ],
   "source": [
    "import sys\n",
    "print('python',sys.version)\n",
    "import numpy as np\n",
    "print('numpy',np.__version__)\n",
    "import pandas as pd\n",
    "print('pandas',pd.__version__)\n",
    "import matplotlib.pyplot as plt\n",
    "\n",
    "from IPython.core.interactiveshell import InteractiveShell\n",
    "InteractiveShell.ast_node_interactivity = 'all'\n"
   ]
  },
  {
   "cell_type": "code",
   "execution_count": 4,
   "id": "f96cb1e4",
   "metadata": {},
   "outputs": [
    {
     "data": {
      "text/plain": [
       "(array([361., 313., 317., 330., 350., 332., 317., 318., 335., 312., 315.,\n",
       "        331., 356., 345., 326., 329., 339., 376., 322., 330., 321., 322.,\n",
       "        344., 336., 330., 305., 343., 352., 353., 340.]),\n",
       " array([1.47062492e-03, 3.34752482e-01, 6.68034340e-01, 1.00131620e+00,\n",
       "        1.33459805e+00, 1.66787991e+00, 2.00116177e+00, 2.33444363e+00,\n",
       "        2.66772548e+00, 3.00100734e+00, 3.33428920e+00, 3.66757106e+00,\n",
       "        4.00085291e+00, 4.33413477e+00, 4.66741663e+00, 5.00069849e+00,\n",
       "        5.33398034e+00, 5.66726220e+00, 6.00054406e+00, 6.33382591e+00,\n",
       "        6.66710777e+00, 7.00038963e+00, 7.33367149e+00, 7.66695334e+00,\n",
       "        8.00023520e+00, 8.33351706e+00, 8.66679892e+00, 9.00008077e+00,\n",
       "        9.33336263e+00, 9.66664449e+00, 9.99992635e+00]),\n",
       " <BarContainer object of 30 artists>)"
      ]
     },
     "execution_count": 4,
     "metadata": {},
     "output_type": "execute_result"
    },
    {
     "data": {
      "image/png": "[encoded data removed]",
      "text/plain": [
       "<Figure size 432x288 with 1 Axes>"
      ]
     },
     "metadata": {
      "needs_background": "light"
     },
     "output_type": "display_data"
    }
   ],
   "source": [
    "ar1=np.random.uniform(0,10,10000)\n",
    "fig, ax=plt.subplots()\n",
    "ax.hist(ar1,bins=30,edgecolor='r')"
   ]
  },
  {
   "cell_type": "code",
   "execution_count": 6,
   "id": "6451d42b",
   "metadata": {},
   "outputs": [
    {
     "data": {
      "text/plain": [
       "(array([  1.,   1.,   7.,  13.,  30.,  42., 113., 160., 280., 384., 542.,\n",
       "        692., 789., 946., 911., 969., 984., 860., 702., 524., 392., 260.,\n",
       "        177., 106.,  62.,  29.,  14.,   6.,   3.,   1.]),\n",
       " array([-0.75886933, -0.50871394, -0.25855856, -0.00840318,  0.24175221,\n",
       "         0.49190759,  0.74206297,  0.99221835,  1.24237374,  1.49252912,\n",
       "         1.7426845 ,  1.99283989,  2.24299527,  2.49315065,  2.74330603,\n",
       "         2.99346142,  3.2436168 ,  3.49377218,  3.74392757,  3.99408295,\n",
       "         4.24423833,  4.49439371,  4.7445491 ,  4.99470448,  5.24485986,\n",
       "         5.49501525,  5.74517063,  5.99532601,  6.24548139,  6.49563678,\n",
       "         6.74579216]),\n",
       " <BarContainer object of 30 artists>)"
      ]
     },
     "execution_count": 6,
     "metadata": {},
     "output_type": "execute_result"
    },
    {
     "data": {
      "image/png": "[encoded data removed]",
      "text/plain": [
       "<Figure size 432x288 with 1 Axes>"
      ]
     },
     "metadata": {
      "needs_background": "light"
     },
     "output_type": "display_data"
    }
   ],
   "source": [
    "ar1=np.random.normal(3,1,size=10000)\n",
    "fig, ax=plt.subplots()\n",
    "ax.hist(ar1,bins=30,edgecolor='r')"
   ]
  },
  {
   "cell_type": "code",
   "execution_count": 7,
   "id": "43696786",
   "metadata": {},
   "outputs": [
    {
     "data": {
      "text/plain": [
       "array([1, 2, 3, 4, 5, 6, 7, 8, 9])"
      ]
     },
     "execution_count": 7,
     "metadata": {},
     "output_type": "execute_result"
    },
    {
     "data": {
      "text/plain": [
       "45"
      ]
     },
     "execution_count": 7,
     "metadata": {},
     "output_type": "execute_result"
    }
   ],
   "source": [
    "v1=np.arange(1,10)\n",
    "v1\n",
    "v1.sum()"
   ]
  },
  {
   "cell_type": "code",
   "execution_count": 10,
   "id": "2d1e30ff",
   "metadata": {},
   "outputs": [
    {
     "data": {
      "text/plain": [
       "array([[ 1,  2,  3,  4,  5],\n",
       "       [ 6,  7,  8,  9, 10]])"
      ]
     },
     "execution_count": 10,
     "metadata": {},
     "output_type": "execute_result"
    },
    {
     "data": {
      "text/plain": [
       "array([ 7,  9, 11, 13, 15])"
      ]
     },
     "execution_count": 10,
     "metadata": {},
     "output_type": "execute_result"
    },
    {
     "data": {
      "text/plain": [
       "array([15, 40])"
      ]
     },
     "execution_count": 10,
     "metadata": {},
     "output_type": "execute_result"
    }
   ],
   "source": [
    "v1=np.arange(1,11).reshape(2,5)\n",
    "v1\n",
    "v1.sum(axis=0)\n",
    "v1.sum(axis=1)"
   ]
  },
  {
   "cell_type": "code",
   "execution_count": 12,
   "id": "e89ae9f6",
   "metadata": {},
   "outputs": [
    {
     "data": {
      "text/plain": [
       "array([[83, 93,  6,  5],\n",
       "       [71, 43, 95,  0],\n",
       "       [82, 40, 91, 91]])"
      ]
     },
     "execution_count": 12,
     "metadata": {},
     "output_type": "execute_result"
    },
    {
     "data": {
      "text/plain": [
       "7"
      ]
     },
     "execution_count": 12,
     "metadata": {},
     "output_type": "execute_result"
    },
    {
     "data": {
      "text/plain": [
       "7"
      ]
     },
     "execution_count": 12,
     "metadata": {},
     "output_type": "execute_result"
    },
    {
     "data": {
      "text/plain": [
       "array([3, 3, 1], dtype=int64)"
      ]
     },
     "execution_count": 12,
     "metadata": {},
     "output_type": "execute_result"
    },
    {
     "data": {
      "text/plain": [
       "array([0, 0, 1, 2], dtype=int64)"
      ]
     },
     "execution_count": 12,
     "metadata": {},
     "output_type": "execute_result"
    }
   ],
   "source": [
    "m1=np.random.randint(100,size=(3,4))\n",
    "m1\n",
    "np.argmin(m1)\n",
    "np.argmin(m1.flatten())\n",
    "np.argmin(m1,axis=1)\n",
    "np.argmax(m1,axis=0)"
   ]
  },
  {
   "cell_type": "code",
   "execution_count": 16,
   "id": "967d922e",
   "metadata": {},
   "outputs": [
    {
     "data": {
      "text/plain": [
       "array([[ 0,  3,  6,  9, 12],\n",
       "       [15, 18, 21, 24, 27],\n",
       "       [30, 33, 36, 39, 42],\n",
       "       [45, 48, 51, 54, 57]])"
      ]
     },
     "execution_count": 16,
     "metadata": {},
     "output_type": "execute_result"
    },
    {
     "data": {
      "text/plain": [
       "570"
      ]
     },
     "execution_count": 16,
     "metadata": {},
     "output_type": "execute_result"
    },
    {
     "data": {
      "text/plain": [
       "array([ 30, 105, 180, 255])"
      ]
     },
     "execution_count": 16,
     "metadata": {},
     "output_type": "execute_result"
    },
    {
     "data": {
      "text/plain": [
       "array([22.5, 25.5, 28.5, 31.5, 34.5])"
      ]
     },
     "execution_count": 16,
     "metadata": {},
     "output_type": "execute_result"
    }
   ],
   "source": [
    "v1=np.arange(0,58,3).reshape(4,5)\n",
    "v1\n",
    "np.sum(v1)\n",
    "np.sum(v1,axis=1)\n",
    "np.mean(v1,axis=0)"
   ]
  },
  {
   "cell_type": "code",
   "execution_count": 19,
   "id": "3c7eb97f",
   "metadata": {},
   "outputs": [
    {
     "data": {
      "text/plain": [
       "array([[ 8, 33, 60, 60, 22],\n",
       "       [42, 90, 69, 70, 63],\n",
       "       [62, 20, 29, 35, 11],\n",
       "       [64, 61, 60,  3, 45]])"
      ]
     },
     "execution_count": 19,
     "metadata": {},
     "output_type": "execute_result"
    },
    {
     "data": {
      "text/plain": [
       "array([0, 0, 4, 3], dtype=int64)"
      ]
     },
     "execution_count": 19,
     "metadata": {},
     "output_type": "execute_result"
    }
   ],
   "source": [
    "v1=np.random.randint(100,size=(4,5))\n",
    "v1\n",
    "np.argmin(v1,axis=1)"
   ]
  },
  {
   "cell_type": "code",
   "execution_count": 21,
   "id": "72499b00",
   "metadata": {},
   "outputs": [
    {
     "data": {
      "text/plain": [
       "array([[ 2,  5,  8],\n",
       "       [11, 14, 17],\n",
       "       [20, 23, 26],\n",
       "       [29, 32, 35]])"
      ]
     },
     "execution_count": 21,
     "metadata": {},
     "output_type": "execute_result"
    },
    {
     "data": {
      "text/plain": [
       "array([15.5, 18.5, 21.5])"
      ]
     },
     "execution_count": 21,
     "metadata": {},
     "output_type": "execute_result"
    },
    {
     "data": {
      "text/plain": [
       "array([10.0623059, 10.0623059, 10.0623059])"
      ]
     },
     "execution_count": 21,
     "metadata": {},
     "output_type": "execute_result"
    }
   ],
   "source": [
    "v1=np.arange(0,36).reshape(4,9)\n",
    "v2=v1[:,2::3]\n",
    "v2\n",
    "np.mean(v2,axis=0)\n",
    "np.std(v2,axis=0)"
   ]
  },
  {
   "cell_type": "markdown",
   "id": "21b3081e",
   "metadata": {},
   "source": [
    "#### 과제    "
   ]
  },
  {
   "cell_type": "code",
   "execution_count": 70,
   "id": "79ca5957",
   "metadata": {},
   "outputs": [
    {
     "data": {
      "text/plain": [
       "array([[ 4, 14,  2, 18,  4,  6],\n",
       "       [ 8, 12, 14, 20, 14,  4],\n",
       "       [12, 12,  4, 16,  8, 20],\n",
       "       [ 2,  6,  6, 10, 20,  6],\n",
       "       [ 2, 12, 20, 18, 12,  4],\n",
       "       [ 6, 16, 14,  8, 18,  0]])"
      ]
     },
     "execution_count": 70,
     "metadata": {},
     "output_type": "execute_result"
    },
    {
     "data": {
      "text/plain": [
       "array([ 4, 12,  4, 10, 12,  0])"
      ]
     },
     "execution_count": 70,
     "metadata": {},
     "output_type": "execute_result"
    },
    {
     "data": {
      "text/plain": [
       "array([[ 4, 12,  4],\n",
       "       [10, 12,  0]])"
      ]
     },
     "execution_count": 70,
     "metadata": {},
     "output_type": "execute_result"
    }
   ],
   "source": [
    "v1=np.random.choice(np.arange(0,21,2),size=(6,6))\n",
    "v1\n",
    "np.diag(v1)\n",
    "np.diag(v1).reshape(2,3)"
   ]
  },
  {
   "cell_type": "code",
   "execution_count": 42,
   "id": "cc5373d5",
   "metadata": {},
   "outputs": [
    {
     "data": {
      "text/plain": [
       "array([[[54,  1, 79, 67],\n",
       "        [51, 74, 15, 33],\n",
       "        [88, 23, 14, 20],\n",
       "        [80, 63, 52, 89]],\n",
       "\n",
       "       [[38,  1, 30, 86],\n",
       "        [82, 75, 21,  6],\n",
       "        [60, 14,  9, 90],\n",
       "        [30, 22, 24, 16]],\n",
       "\n",
       "       [[57, 25,  5, 96],\n",
       "        [78,  8, 72, 27],\n",
       "        [73, 56, 96, 29],\n",
       "        [42, 96,  6, 28]]])"
      ]
     },
     "execution_count": 42,
     "metadata": {},
     "output_type": "execute_result"
    },
    {
     "data": {
      "text/plain": [
       "array([30,  1,  5,  6])"
      ]
     },
     "execution_count": 42,
     "metadata": {},
     "output_type": "execute_result"
    }
   ],
   "source": [
    "v1=np.random.randint(100,size=(3,4,4))\n",
    "v1\n",
    "np.min(v1,axis=(0,1))"
   ]
  },
  {
   "cell_type": "code",
   "execution_count": 48,
   "id": "9e926514",
   "metadata": {},
   "outputs": [],
   "source": [
    "import matplotlib.pyplot as plt\n",
    "\n",
    "def draw_hist(ar1, nbin=20):\n",
    "    fig, ax=plt.subplots()\n",
    "    _=ax.hist(ar1, bins=nbin, edgecolor='r')"
   ]
  },
  {
   "cell_type": "code",
   "execution_count": 49,
   "id": "738fc61a",
   "metadata": {},
   "outputs": [
    {
     "name": "stdout",
     "output_type": "stream",
     "text": [
      "sample dist> mean: 1.4993, std: 0.2889\n"
     ]
    },
    {
     "data": {
      "image/png": "[encoded data removed]",
      "text/plain": [
       "<Figure size 432x288 with 1 Axes>"
      ]
     },
     "metadata": {
      "needs_background": "light"
     },
     "output_type": "display_data"
    }
   ],
   "source": [
    "### uniform\n",
    "s1=np.random.uniform(1,2,size=10000)\n",
    "print('sample dist> mean: {:.4f}, std: {:.4f}'.format(s1.mean(),s1.std()))\n",
    "draw_hist(s1)"
   ]
  },
  {
   "cell_type": "code",
   "execution_count": 63,
   "id": "afab0977",
   "metadata": {},
   "outputs": [
    {
     "data": {
      "text/plain": [
       "array([[1.59481491, 1.5245186 , 1.78348778, 1.86135984, 1.20424863],\n",
       "       [1.35961782, 1.4428859 , 1.35515178, 1.48852811, 1.94437905],\n",
       "       [1.50139997, 1.40788462, 1.81585442, 1.01281418, 1.14270419],\n",
       "       [1.43852787, 1.85391701, 1.20207278, 1.58749704, 1.9033    ],\n",
       "       [1.2464963 , 1.2840064 , 1.3454652 , 1.74177452, 1.96660802]])"
      ]
     },
     "execution_count": 63,
     "metadata": {},
     "output_type": "execute_result"
    },
    {
     "name": "stdout",
     "output_type": "stream",
     "text": [
      "sample mean dist> mean: 58.3333, std: 36.0170\n"
     ]
    },
    {
     "data": {
      "image/png": "[encoded data removed]",
      "text/plain": [
       "<Figure size 432x288 with 1 Axes>"
      ]
     },
     "metadata": {
      "needs_background": "light"
     },
     "output_type": "display_data"
    }
   ],
   "source": [
    "s2=np.random.uniform(1,2, size=(10,2000))\n",
    "s2[:5,:5]\n",
    "s3=np.median(s2,axis=0)\n",
    "\n",
    "draw_hist(s3)\n",
    "print('sample mean dist> mean: {:.4f}, std: {:.4f}'.format(m1.mean(),m1.std()))"
   ]
  },
  {
   "cell_type": "code",
   "execution_count": null,
   "id": "e82e1ae8",
   "metadata": {},
   "outputs": [],
   "source": []
  }
 ],
 "metadata": {
  "kernelspec": {
   "display_name": "Python 3 (ipykernel)",
   "language": "python",
   "name": "python3"
  },
  "language_info": {
   "codemirror_mode": {
    "name": "ipython",
    "version": 3
   },
   "file_extension": ".py",
   "mimetype": "text/x-python",
   "name": "python",
   "nbconvert_exporter": "python",
   "pygments_lexer": "ipython3",
   "version": "3.9.7"
  }
 },
 "nbformat": 4,
 "nbformat_minor": 5
}
