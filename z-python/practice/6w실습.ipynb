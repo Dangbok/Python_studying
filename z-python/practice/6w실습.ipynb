{
 "cells": [
  {
   "cell_type": "code",
   "execution_count": 1,
   "id": "db0def89",
   "metadata": {},
   "outputs": [
    {
     "name": "stdout",
     "output_type": "stream",
     "text": [
      "python 3.9.7 (default, Sep 16 2021, 16:59:28) [MSC v.1916 64 bit (AMD64)]\n",
      "numpy 1.20.3\n",
      "pandas 1.3.4\n"
     ]
    }
   ],
   "source": [
    "import sys\n",
    "print('python', sys.version)\n",
    "\n",
    "import numpy as np\n",
    "print('numpy', np.__version__)\n",
    "\n",
    "import pandas as pd\n",
    "print('pandas', pd.__version__)\n",
    "\n",
    "import matplotlib.pyplot as plt\n",
    "\n",
    "# 결과 확인을 용이하게 하기 위한 코드\n",
    "from IPython.core.interactiveshell import InteractiveShell\n",
    "InteractiveShell.ast_node_interactivity = 'all'"
   ]
  },
  {
   "cell_type": "code",
   "execution_count": 3,
   "id": "f8ce75c2",
   "metadata": {},
   "outputs": [
    {
     "data": {
      "text/plain": [
       "array([[10, 11, 12],\n",
       "       [13, 14, 15]])"
      ]
     },
     "execution_count": 3,
     "metadata": {},
     "output_type": "execute_result"
    },
    {
     "data": {
      "text/plain": [
       "array([[20, 21, 22],\n",
       "       [23, 24, 25]])"
      ]
     },
     "execution_count": 3,
     "metadata": {},
     "output_type": "execute_result"
    },
    {
     "data": {
      "text/plain": [
       "array([[30, 32, 34],\n",
       "       [36, 38, 40]])"
      ]
     },
     "execution_count": 3,
     "metadata": {},
     "output_type": "execute_result"
    },
    {
     "data": {
      "text/plain": [
       "array([[-10, -10, -10],\n",
       "       [-10, -10, -10]])"
      ]
     },
     "execution_count": 3,
     "metadata": {},
     "output_type": "execute_result"
    },
    {
     "data": {
      "text/plain": [
       "array([[200, 231, 264],\n",
       "       [299, 336, 375]])"
      ]
     },
     "execution_count": 3,
     "metadata": {},
     "output_type": "execute_result"
    },
    {
     "data": {
      "text/plain": [
       "array([[0.5       , 0.52380952, 0.54545455],\n",
       "       [0.56521739, 0.58333333, 0.6       ]])"
      ]
     },
     "execution_count": 3,
     "metadata": {},
     "output_type": "execute_result"
    }
   ],
   "source": [
    "a1=np.arange(10,16).reshape(2,3)\n",
    "a2=np.arange(20,26).reshape(2,3)\n",
    "a1\n",
    "a2\n",
    "a1+a2\n",
    "a1-a2\n",
    "a1*a2\n",
    "a1/a2"
   ]
  },
  {
   "cell_type": "markdown",
   "id": "76635cfc",
   "metadata": {},
   "source": [
    "### 실습1"
   ]
  },
  {
   "cell_type": "code",
   "execution_count": 2,
   "id": "e687538f",
   "metadata": {},
   "outputs": [
    {
     "data": {
      "text/plain": [
       "array([ 4,  8, 12, 16, 20, 24, 28, 32, 36, 40])"
      ]
     },
     "execution_count": 2,
     "metadata": {},
     "output_type": "execute_result"
    },
    {
     "data": {
      "text/plain": [
       "array([  16,   64,  144,  256,  400,  576,  784, 1024, 1296, 1600])"
      ]
     },
     "execution_count": 2,
     "metadata": {},
     "output_type": "execute_result"
    },
    {
     "data": {
      "text/plain": [
       "6160"
      ]
     },
     "execution_count": 2,
     "metadata": {},
     "output_type": "execute_result"
    }
   ],
   "source": [
    "a1=np.arange(4,41,4)\n",
    "a1\n",
    "a2=a1*a1\n",
    "a2\n",
    "a2.sum()"
   ]
  },
  {
   "cell_type": "code",
   "execution_count": 4,
   "id": "e538b31a",
   "metadata": {},
   "outputs": [
    {
     "data": {
      "text/plain": [
       "array([  16,   64,  144,  256,  400,  576,  784, 1024, 1296, 1600])"
      ]
     },
     "execution_count": 4,
     "metadata": {},
     "output_type": "execute_result"
    },
    {
     "data": {
      "text/plain": [
       "6160"
      ]
     },
     "execution_count": 4,
     "metadata": {},
     "output_type": "execute_result"
    }
   ],
   "source": [
    "a1=np.arange(4,41,4)\n",
    "a2=a1*a1\n",
    "a2\n",
    "np.sum(a2)"
   ]
  },
  {
   "cell_type": "markdown",
   "id": "56301812",
   "metadata": {},
   "source": [
    "#### broadcasting"
   ]
  },
  {
   "cell_type": "code",
   "execution_count": 8,
   "id": "33d3068c",
   "metadata": {},
   "outputs": [
    {
     "data": {
      "text/plain": [
       "array([[10, 11, 12],\n",
       "       [13, 14, 15]])"
      ]
     },
     "execution_count": 8,
     "metadata": {},
     "output_type": "execute_result"
    },
    {
     "data": {
      "text/plain": [
       "array([[12, 13, 14],\n",
       "       [15, 16, 17]])"
      ]
     },
     "execution_count": 8,
     "metadata": {},
     "output_type": "execute_result"
    },
    {
     "data": {
      "text/plain": [
       "array([[ 8,  9, 10],\n",
       "       [11, 12, 13]])"
      ]
     },
     "execution_count": 8,
     "metadata": {},
     "output_type": "execute_result"
    },
    {
     "data": {
      "text/plain": [
       "array([[20, 22, 24],\n",
       "       [26, 28, 30]])"
      ]
     },
     "execution_count": 8,
     "metadata": {},
     "output_type": "execute_result"
    },
    {
     "data": {
      "text/plain": [
       "array([[5. , 5.5, 6. ],\n",
       "       [6.5, 7. , 7.5]])"
      ]
     },
     "execution_count": 8,
     "metadata": {},
     "output_type": "execute_result"
    }
   ],
   "source": [
    "a1=np.arange(10,16).reshape(2,3)\n",
    "a1\n",
    "a1+2\n",
    "a1-2\n",
    "a1*2\n",
    "a1/2"
   ]
  },
  {
   "cell_type": "markdown",
   "id": "2465c860",
   "metadata": {},
   "source": [
    "### 실습2"
   ]
  },
  {
   "cell_type": "code",
   "execution_count": 5,
   "id": "4d107d39",
   "metadata": {},
   "outputs": [
    {
     "data": {
      "text/plain": [
       "array([ 0,  5, 10, 15, 20, 25, 30, 35, 40, 45, 50])"
      ]
     },
     "execution_count": 5,
     "metadata": {},
     "output_type": "execute_result"
    },
    {
     "data": {
      "text/plain": [
       "11"
      ]
     },
     "execution_count": 5,
     "metadata": {},
     "output_type": "execute_result"
    },
    {
     "data": {
      "text/plain": [
       "11"
      ]
     },
     "execution_count": 5,
     "metadata": {},
     "output_type": "execute_result"
    }
   ],
   "source": [
    "a1=np.arange(0,51,5)\n",
    "a1\n",
    "a2=a1%3\n",
    "a2.sum()\n",
    "\n",
    "s1=0\n",
    "for i in range(51):\n",
    "    if i%5==0:\n",
    "        v1=i%3\n",
    "        s1+=v1\n",
    "s1"
   ]
  },
  {
   "cell_type": "code",
   "execution_count": 8,
   "id": "8d6bac97",
   "metadata": {},
   "outputs": [
    {
     "data": {
      "text/plain": [
       "array([ 0,  5, 10, 15, 20, 25, 30, 35, 40, 45, 50])"
      ]
     },
     "execution_count": 8,
     "metadata": {},
     "output_type": "execute_result"
    },
    {
     "data": {
      "text/plain": [
       "11"
      ]
     },
     "execution_count": 8,
     "metadata": {},
     "output_type": "execute_result"
    },
    {
     "data": {
      "text/plain": [
       "11"
      ]
     },
     "execution_count": 8,
     "metadata": {},
     "output_type": "execute_result"
    }
   ],
   "source": [
    "a1=np.arange(0,51,5)\n",
    "a1\n",
    "a2=np.sum(a1%3)\n",
    "a2\n",
    "\n",
    "s1=0\n",
    "for i in range(51):\n",
    "    if i%5==0:\n",
    "        v1=i%3\n",
    "        s1+=v1\n",
    "s1        "
   ]
  },
  {
   "cell_type": "markdown",
   "id": "0ac0ef43",
   "metadata": {},
   "source": [
    "### 실습3"
   ]
  },
  {
   "cell_type": "code",
   "execution_count": 9,
   "id": "e0eb140b",
   "metadata": {},
   "outputs": [
    {
     "data": {
      "text/plain": [
       "array([[ 0,  1,  2,  3,  4],\n",
       "       [ 5,  6,  7,  8,  9],\n",
       "       [10, 11, 12, 13, 14]])"
      ]
     },
     "execution_count": 9,
     "metadata": {},
     "output_type": "execute_result"
    },
    {
     "data": {
      "text/plain": [
       "array([2, 3, 4, 5, 6])"
      ]
     },
     "execution_count": 9,
     "metadata": {},
     "output_type": "execute_result"
    },
    {
     "data": {
      "text/plain": [
       "array([ 8,  9, 10, 11, 12])"
      ]
     },
     "execution_count": 9,
     "metadata": {},
     "output_type": "execute_result"
    },
    {
     "data": {
      "text/plain": [
       "array([11, 12, 13, 14, 15])"
      ]
     },
     "execution_count": 9,
     "metadata": {},
     "output_type": "execute_result"
    },
    {
     "data": {
      "text/plain": [
       "array([[ 2,  3,  4,  5,  6],\n",
       "       [ 8,  9, 10, 11, 12],\n",
       "       [11, 12, 13, 14, 15]])"
      ]
     },
     "execution_count": 9,
     "metadata": {},
     "output_type": "execute_result"
    },
    {
     "data": {
      "text/plain": [
       "array([[0],\n",
       "       [8],\n",
       "       [2]])"
      ]
     },
     "execution_count": 9,
     "metadata": {},
     "output_type": "execute_result"
    },
    {
     "data": {
      "text/plain": [
       "array([[ 0,  1,  2,  3,  4],\n",
       "       [13, 14, 15, 16, 17],\n",
       "       [12, 13, 14, 15, 16]])"
      ]
     },
     "execution_count": 9,
     "metadata": {},
     "output_type": "execute_result"
    }
   ],
   "source": [
    "a1=np.arange(15).reshape(3,5)\n",
    "a1\n",
    "\n",
    "a1[0,:]+2\n",
    "a1[1,:]+3\n",
    "a1[2,:]+1\n",
    "\n",
    "a2=np.array([2,3,1]).reshape(3,1)\n",
    "a1+a2\n",
    "\n",
    "a3=np.random.randint(10,size=(3,1))\n",
    "a3\n",
    "a1+a3"
   ]
  },
  {
   "cell_type": "code",
   "execution_count": 12,
   "id": "5234c185",
   "metadata": {},
   "outputs": [
    {
     "data": {
      "text/plain": [
       "array([2, 3, 4, 5, 6])"
      ]
     },
     "execution_count": 12,
     "metadata": {},
     "output_type": "execute_result"
    },
    {
     "data": {
      "text/plain": [
       "array([ 8,  9, 10, 11, 12])"
      ]
     },
     "execution_count": 12,
     "metadata": {},
     "output_type": "execute_result"
    },
    {
     "data": {
      "text/plain": [
       "array([11, 12, 13, 14, 15])"
      ]
     },
     "execution_count": 12,
     "metadata": {},
     "output_type": "execute_result"
    },
    {
     "data": {
      "text/plain": [
       "array([[ 0,  1,  2,  3,  4],\n",
       "       [ 5,  6,  7,  8,  9],\n",
       "       [10, 11, 12, 13, 14]])"
      ]
     },
     "execution_count": 12,
     "metadata": {},
     "output_type": "execute_result"
    }
   ],
   "source": [
    "a1=np.arange(15).reshape(3,5)\n",
    "a1[0,:]+2\n",
    "a1[1,:]+3\n",
    "a1[2,:]+1\n",
    "a1"
   ]
  },
  {
   "cell_type": "code",
   "execution_count": 26,
   "id": "803ef563",
   "metadata": {},
   "outputs": [
    {
     "data": {
      "text/plain": [
       "array([ 0,  1,  2,  3, 10, 11, 12, 13, 14])"
      ]
     },
     "execution_count": 26,
     "metadata": {},
     "output_type": "execute_result"
    }
   ],
   "source": [
    "a1=np.arange(4)\n",
    "a2=np.arange(10,15)\n",
    "a3=np.concatenate((a1,a2))\n",
    "a3"
   ]
  },
  {
   "cell_type": "code",
   "execution_count": 29,
   "id": "4bb9fb32",
   "metadata": {},
   "outputs": [
    {
     "data": {
      "text/plain": [
       "array([[ 0,  1,  2],\n",
       "       [ 3,  4,  5],\n",
       "       [ 6,  7,  8],\n",
       "       [ 9, 10, 11]])"
      ]
     },
     "execution_count": 29,
     "metadata": {},
     "output_type": "execute_result"
    },
    {
     "data": {
      "text/plain": [
       "array([[0, 1],\n",
       "       [2, 3],\n",
       "       [4, 5],\n",
       "       [6, 7]])"
      ]
     },
     "execution_count": 29,
     "metadata": {},
     "output_type": "execute_result"
    },
    {
     "data": {
      "text/plain": [
       "array([[ 0,  1,  2,  0,  1],\n",
       "       [ 3,  4,  5,  2,  3],\n",
       "       [ 6,  7,  8,  4,  5],\n",
       "       [ 9, 10, 11,  6,  7]])"
      ]
     },
     "execution_count": 29,
     "metadata": {},
     "output_type": "execute_result"
    },
    {
     "data": {
      "text/plain": [
       "(4, 5)"
      ]
     },
     "execution_count": 29,
     "metadata": {},
     "output_type": "execute_result"
    }
   ],
   "source": [
    "a1=np.arange(12).reshape(4,3)\n",
    "a1\n",
    "a2=np.arange(8).reshape(4,2)\n",
    "a2\n",
    "a3=np.concatenate((a1,a2),axis=1)\n",
    "a3\n",
    "a3.shape"
   ]
  },
  {
   "cell_type": "markdown",
   "id": "d5886d9b",
   "metadata": {},
   "source": [
    "### 실습4"
   ]
  },
  {
   "cell_type": "code",
   "execution_count": 13,
   "id": "13d7a1e4",
   "metadata": {},
   "outputs": [
    {
     "data": {
      "text/plain": [
       "array([[1, 2, 3],\n",
       "       [1, 2, 3],\n",
       "       [1, 2, 3]])"
      ]
     },
     "execution_count": 13,
     "metadata": {},
     "output_type": "execute_result"
    },
    {
     "data": {
      "text/plain": [
       "(3, 3)"
      ]
     },
     "execution_count": 13,
     "metadata": {},
     "output_type": "execute_result"
    },
    {
     "data": {
      "text/plain": [
       "array([[1, 2, 3, 1],\n",
       "       [1, 2, 3, 2],\n",
       "       [1, 2, 3, 3]])"
      ]
     },
     "execution_count": 13,
     "metadata": {},
     "output_type": "execute_result"
    }
   ],
   "source": [
    "a1=np.arange(1,4).reshape(1,3)\n",
    "a2=np.concatenate((a1,a1,a1),axis=0)\n",
    "a2\n",
    "a2.shape\n",
    "a3=a1.reshape(3,1)\n",
    "a4=np.concatenate((a2,a3),axis=1)\n",
    "a4"
   ]
  },
  {
   "cell_type": "code",
   "execution_count": 16,
   "id": "01e36915",
   "metadata": {},
   "outputs": [
    {
     "data": {
      "text/plain": [
       "array([[1, 2, 3],\n",
       "       [1, 2, 3],\n",
       "       [1, 2, 3]])"
      ]
     },
     "execution_count": 16,
     "metadata": {},
     "output_type": "execute_result"
    },
    {
     "data": {
      "text/plain": [
       "array([[1, 2, 3, 1],\n",
       "       [1, 2, 3, 2],\n",
       "       [1, 2, 3, 3]])"
      ]
     },
     "execution_count": 16,
     "metadata": {},
     "output_type": "execute_result"
    }
   ],
   "source": [
    "a1=np.array([1,2,3]).reshape(1,3)\n",
    "a2=np.concatenate((a1,a1,a1),axis=0)\n",
    "a2\n",
    "a3=a1.reshape(3,1)\n",
    "a4=np.concatenate((a2,a3),axis=1)\n",
    "a4"
   ]
  },
  {
   "cell_type": "markdown",
   "id": "08b9ac96",
   "metadata": {},
   "source": [
    "### 실습5"
   ]
  },
  {
   "cell_type": "code",
   "execution_count": 17,
   "id": "4c23bc08",
   "metadata": {},
   "outputs": [
    {
     "data": {
      "text/plain": [
       "array([[3, 2, 2, 3],\n",
       "       [5, 4, 2, 2],\n",
       "       [1, 4, 1, 4]])"
      ]
     },
     "execution_count": 17,
     "metadata": {},
     "output_type": "execute_result"
    },
    {
     "data": {
      "text/plain": [
       "array([[1.73205081, 1.41421356, 1.41421356, 1.73205081],\n",
       "       [2.23606798, 2.        , 1.41421356, 1.41421356],\n",
       "       [1.        , 2.        , 1.        , 2.        ]])"
      ]
     },
     "execution_count": 17,
     "metadata": {},
     "output_type": "execute_result"
    },
    {
     "data": {
      "text/plain": [
       "19.357023842129927"
      ]
     },
     "execution_count": 17,
     "metadata": {},
     "output_type": "execute_result"
    }
   ],
   "source": [
    "a1=np.random.randint(1,6,size=(3,4))\n",
    "a1\n",
    "a2=np.sqrt(a1)\n",
    "a2\n",
    "a2.sum()"
   ]
  },
  {
   "cell_type": "code",
   "execution_count": 18,
   "id": "ee43ed87",
   "metadata": {},
   "outputs": [
    {
     "data": {
      "text/plain": [
       "array([[4, 3, 5, 1],\n",
       "       [3, 3, 4, 2],\n",
       "       [2, 4, 3, 3]])"
      ]
     },
     "execution_count": 18,
     "metadata": {},
     "output_type": "execute_result"
    },
    {
     "data": {
      "text/plain": [
       "20.724749140090367"
      ]
     },
     "execution_count": 18,
     "metadata": {},
     "output_type": "execute_result"
    }
   ],
   "source": [
    "a1=np.random.randint(1,6,size=(3,4))\n",
    "a1\n",
    "a2=np.sqrt(a1)\n",
    "np.sum(a2)"
   ]
  },
  {
   "cell_type": "markdown",
   "id": "136cd850",
   "metadata": {},
   "source": [
    "### 실습6"
   ]
  },
  {
   "cell_type": "code",
   "execution_count": 50,
   "id": "240ce4ac",
   "metadata": {},
   "outputs": [
    {
     "data": {
      "text/plain": [
       "array([[3, 1, 3, 3],\n",
       "       [1, 2, 5, 4],\n",
       "       [1, 2, 4, 5]])"
      ]
     },
     "execution_count": 50,
     "metadata": {},
     "output_type": "execute_result"
    },
    {
     "data": {
      "text/plain": [
       "array([[ 0.57735027, -1.73205081,  0.57735027,  0.57735027],\n",
       "       [-1.26491106, -0.63245553,  1.26491106,  0.63245553],\n",
       "       [-1.26491106, -0.63245553,  0.63245553,  1.26491106]])"
      ]
     },
     "execution_count": 50,
     "metadata": {},
     "output_type": "execute_result"
    }
   ],
   "source": [
    "a1=np.random.randint(1,6,size=(3,4))\n",
    "a1\n",
    "m=a1.mean(axis=1)\n",
    "s=a1.std(axis=1)\n",
    "m=m.reshape(3,1)\n",
    "s=s.reshape(3,1)\n",
    "\n",
    "r1=(a1-m)/s\n",
    "r1"
   ]
  },
  {
   "cell_type": "markdown",
   "id": "eb29cba8",
   "metadata": {},
   "source": [
    "#### Comparison"
   ]
  },
  {
   "cell_type": "code",
   "execution_count": 54,
   "id": "e04a9461",
   "metadata": {},
   "outputs": [
    {
     "data": {
      "text/plain": [
       "array([[9, 5, 9],\n",
       "       [8, 5, 2]])"
      ]
     },
     "execution_count": 54,
     "metadata": {},
     "output_type": "execute_result"
    },
    {
     "data": {
      "text/plain": [
       "array([[7, 9, 3],\n",
       "       [5, 8, 1]])"
      ]
     },
     "execution_count": 54,
     "metadata": {},
     "output_type": "execute_result"
    },
    {
     "data": {
      "text/plain": [
       "array([[False, False, False],\n",
       "       [False, False, False]])"
      ]
     },
     "execution_count": 54,
     "metadata": {},
     "output_type": "execute_result"
    },
    {
     "data": {
      "text/plain": [
       "array([[ True, False,  True],\n",
       "       [ True, False,  True]])"
      ]
     },
     "execution_count": 54,
     "metadata": {},
     "output_type": "execute_result"
    },
    {
     "data": {
      "text/plain": [
       "4"
      ]
     },
     "execution_count": 54,
     "metadata": {},
     "output_type": "execute_result"
    }
   ],
   "source": [
    "a1=np.random.randint(1,11,size=(2,3))\n",
    "a2=np.random.randint(1,11,size=(2,3))\n",
    "a1\n",
    "a2\n",
    "a1==a2\n",
    "a3=(a1>a2)\n",
    "a3\n",
    "a3.sum()"
   ]
  },
  {
   "cell_type": "markdown",
   "id": "ee317ba0",
   "metadata": {},
   "source": [
    "### 실습7"
   ]
  },
  {
   "cell_type": "code",
   "execution_count": 57,
   "id": "bc82eae8",
   "metadata": {},
   "outputs": [
    {
     "data": {
      "text/plain": [
       "array([[10,  8,  7,  8],\n",
       "       [ 1, 10,  8,  5],\n",
       "       [ 9,  8,  2,  6]])"
      ]
     },
     "execution_count": 57,
     "metadata": {},
     "output_type": "execute_result"
    },
    {
     "data": {
      "text/plain": [
       "array([[False, False, False, False],\n",
       "       [False, False, False, False],\n",
       "       [ True, False, False,  True]])"
      ]
     },
     "execution_count": 57,
     "metadata": {},
     "output_type": "execute_result"
    },
    {
     "data": {
      "text/plain": [
       "2"
      ]
     },
     "execution_count": 57,
     "metadata": {},
     "output_type": "execute_result"
    },
    {
     "data": {
      "text/plain": [
       "array([[5, 3, 3, 4],\n",
       "       [6, 9, 2, 5],\n",
       "       [7, 3, 8, 4]])"
      ]
     },
     "execution_count": 57,
     "metadata": {},
     "output_type": "execute_result"
    },
    {
     "data": {
      "text/plain": [
       "array([[False,  True,  True, False],\n",
       "       [ True,  True, False, False],\n",
       "       [False,  True, False, False]])"
      ]
     },
     "execution_count": 57,
     "metadata": {},
     "output_type": "execute_result"
    },
    {
     "data": {
      "text/plain": [
       "array([2, 2, 1])"
      ]
     },
     "execution_count": 57,
     "metadata": {},
     "output_type": "execute_result"
    }
   ],
   "source": [
    "a1=np.random.randint(1,11,size=(3,4))\n",
    "a1\n",
    "a2=(a1%3==0)\n",
    "a2\n",
    "a2.sum()\n",
    "\n",
    "a1=np.random.randint(1,11,size=(3,4))\n",
    "a1\n",
    "a2=(a1%3==0)\n",
    "a2\n",
    "a2.sum(axis=1)"
   ]
  },
  {
   "cell_type": "code",
   "execution_count": null,
   "id": "a96febc7",
   "metadata": {},
   "outputs": [],
   "source": [
    "a1=np.r"
   ]
  }
 ],
 "metadata": {
  "kernelspec": {
   "display_name": "Python 3 (ipykernel)",
   "language": "python",
   "name": "python3"
  },
  "language_info": {
   "codemirror_mode": {
    "name": "ipython",
    "version": 3
   },
   "file_extension": ".py",
   "mimetype": "text/x-python",
   "name": "python",
   "nbconvert_exporter": "python",
   "pygments_lexer": "ipython3",
   "version": "3.9.7"
  }
 },
 "nbformat": 4,
 "nbformat_minor": 5
}
