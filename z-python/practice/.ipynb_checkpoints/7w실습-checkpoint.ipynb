{
 "cells": [
  {
   "cell_type": "code",
   "execution_count": 1,
   "id": "7616ef50",
   "metadata": {},
   "outputs": [
    {
     "name": "stdout",
     "output_type": "stream",
     "text": [
      "python 3.9.7 (default, Sep 16 2021, 16:59:28) [MSC v.1916 64 bit (AMD64)]\n",
      "numpy 1.20.3\n",
      "pandas 1.3.4\n"
     ]
    }
   ],
   "source": [
    "import sys\n",
    "print('python', sys.version)\n",
    "\n",
    "import numpy as np\n",
    "print('numpy', np.__version__)\n",
    "\n",
    "import pandas as pd\n",
    "print('pandas', pd.__version__)\n",
    "\n",
    "import matplotlib.pyplot as plt\n",
    "\n",
    "# 결과 확인을 용이하게 하기 위한 코드\n",
    "from IPython.core.interactiveshell import InteractiveShell\n",
    "InteractiveShell.ast_node_interactivity = 'all'"
   ]
  },
  {
   "cell_type": "code",
   "execution_count": 9,
   "id": "28571a47",
   "metadata": {},
   "outputs": [
    {
     "data": {
      "text/plain": [
       "array([[40, 96,  7,  4],\n",
       "       [14, 97, 37, 38],\n",
       "       [82, 99, 95, 98]])"
      ]
     },
     "execution_count": 9,
     "metadata": {},
     "output_type": "execute_result"
    },
    {
     "data": {
      "text/plain": [
       "array([[False,  True, False, False],\n",
       "       [False,  True, False, False],\n",
       "       [ True,  True,  True,  True]])"
      ]
     },
     "execution_count": 9,
     "metadata": {},
     "output_type": "execute_result"
    },
    {
     "data": {
      "text/plain": [
       "array([[ True,  True, False,  True],\n",
       "       [ True, False, False,  True],\n",
       "       [ True, False, False,  True]])"
      ]
     },
     "execution_count": 9,
     "metadata": {},
     "output_type": "execute_result"
    },
    {
     "data": {
      "text/plain": [
       "array([[False, False,  True, False],\n",
       "       [False,  True,  True, False],\n",
       "       [False,  True,  True, False]])"
      ]
     },
     "execution_count": 9,
     "metadata": {},
     "output_type": "execute_result"
    },
    {
     "data": {
      "text/plain": [
       "6"
      ]
     },
     "execution_count": 9,
     "metadata": {},
     "output_type": "execute_result"
    },
    {
     "name": "stdout",
     "output_type": "stream",
     "text": [
      "[[False  True False False]\n",
      " [False False False False]\n",
      " [ True False False  True]]\n"
     ]
    },
    {
     "data": {
      "text/plain": [
       "3"
      ]
     },
     "execution_count": 9,
     "metadata": {},
     "output_type": "execute_result"
    }
   ],
   "source": [
    "a1=np.random.randint(100,size=(3,4))\n",
    "a1\n",
    "a2=(a1+10)>50\n",
    "a3=(a1%2==0)\n",
    "a2\n",
    "a3\n",
    "~a3\n",
    "a2.sum()\n",
    "print(a2&a3)\n",
    "np.sum(a2&a3)"
   ]
  },
  {
   "cell_type": "markdown",
   "id": "241a0b45",
   "metadata": {},
   "source": [
    "### 실습1"
   ]
  },
  {
   "cell_type": "code",
   "execution_count": 12,
   "id": "3216efc8",
   "metadata": {},
   "outputs": [
    {
     "data": {
      "text/plain": [
       "array([ 4,  8, 12, 16, 20, 24, 28, 32, 36, 40])"
      ]
     },
     "execution_count": 12,
     "metadata": {},
     "output_type": "execute_result"
    },
    {
     "data": {
      "text/plain": [
       "array([  16,   64,  144,  256,  400,  576,  784, 1024, 1296, 1600])"
      ]
     },
     "execution_count": 12,
     "metadata": {},
     "output_type": "execute_result"
    },
    {
     "data": {
      "text/plain": [
       "array([False, False,  True, False, False,  True, False, False,  True,\n",
       "       False])"
      ]
     },
     "execution_count": 12,
     "metadata": {},
     "output_type": "execute_result"
    },
    {
     "data": {
      "text/plain": [
       "3"
      ]
     },
     "execution_count": 12,
     "metadata": {},
     "output_type": "execute_result"
    }
   ],
   "source": [
    "a1=np.arange(4,41,4)\n",
    "a1\n",
    "a2=a1*a1\n",
    "a2\n",
    "a3=(a2%6==0)\n",
    "a3\n",
    "a3.sum()"
   ]
  },
  {
   "cell_type": "markdown",
   "id": "27c52733",
   "metadata": {},
   "source": [
    "### 실습2"
   ]
  },
  {
   "cell_type": "code",
   "execution_count": 15,
   "id": "97cb6e94",
   "metadata": {},
   "outputs": [
    {
     "data": {
      "text/plain": [
       "array([[ 3,  6,  3],\n",
       "       [10,  6,  3],\n",
       "       [ 4, 10,  2]])"
      ]
     },
     "execution_count": 15,
     "metadata": {},
     "output_type": "execute_result"
    },
    {
     "data": {
      "text/plain": [
       "array([[ True, False,  True],\n",
       "       [False, False,  True],\n",
       "       [False, False, False]])"
      ]
     },
     "execution_count": 15,
     "metadata": {},
     "output_type": "execute_result"
    },
    {
     "data": {
      "text/plain": [
       "3"
      ]
     },
     "execution_count": 15,
     "metadata": {},
     "output_type": "execute_result"
    }
   ],
   "source": [
    "a1=np.random.randint(1,11,size=(3,3))\n",
    "a1\n",
    "a2=a1!=6\n",
    "a3=(a1%3==0)\n",
    "a4=(a2&a3)\n",
    "a4\n",
    "a4.sum()"
   ]
  },
  {
   "cell_type": "markdown",
   "id": "03185cf3",
   "metadata": {},
   "source": [
    "#### np.nan"
   ]
  },
  {
   "cell_type": "code",
   "execution_count": 23,
   "id": "55e430e9",
   "metadata": {},
   "outputs": [
    {
     "data": {
      "text/plain": [
       "array([ 1., nan,  2., nan,  3.])"
      ]
     },
     "execution_count": 23,
     "metadata": {},
     "output_type": "execute_result"
    },
    {
     "data": {
      "text/plain": [
       "array([ True, False,  True, False,  True])"
      ]
     },
     "execution_count": 23,
     "metadata": {},
     "output_type": "execute_result"
    },
    {
     "data": {
      "text/plain": [
       "array([False, False, False, False, False])"
      ]
     },
     "execution_count": 23,
     "metadata": {},
     "output_type": "execute_result"
    },
    {
     "data": {
      "text/plain": [
       "array([False,  True, False,  True, False])"
      ]
     },
     "execution_count": 23,
     "metadata": {},
     "output_type": "execute_result"
    },
    {
     "data": {
      "text/plain": [
       "array([ True, False,  True, False,  True])"
      ]
     },
     "execution_count": 23,
     "metadata": {},
     "output_type": "execute_result"
    }
   ],
   "source": [
    "a1=np.array([1,np.nan,2,np.nan,3])\n",
    "a1\n",
    "a1==a1 # nan이 아닌 값은 같다면 True\n",
    "a1==np.nan # 동작X\n",
    "np.isnan(a1)\n",
    "~np.isnan(a1)"
   ]
  },
  {
   "cell_type": "markdown",
   "id": "deb53686",
   "metadata": {},
   "source": [
    "#### np.where"
   ]
  },
  {
   "cell_type": "code",
   "execution_count": 25,
   "id": "8574819c",
   "metadata": {},
   "outputs": [
    {
     "data": {
      "text/plain": [
       "array([150, 100,  20,   0])"
      ]
     },
     "execution_count": 25,
     "metadata": {},
     "output_type": "execute_result"
    },
    {
     "data": {
      "text/plain": [
       "array(['A', 'A', 'B', 'B'], dtype='<U1')"
      ]
     },
     "execution_count": 25,
     "metadata": {},
     "output_type": "execute_result"
    }
   ],
   "source": [
    "a=np.array([150,100,20,0])\n",
    "a\n",
    "np.where(a>50,'A','B')"
   ]
  },
  {
   "cell_type": "code",
   "execution_count": 27,
   "id": "cca3e25c",
   "metadata": {},
   "outputs": [
    {
     "data": {
      "text/plain": [
       "array([100, 101, 102, 103, 104, 105, 106, 107, 108, 109])"
      ]
     },
     "execution_count": 27,
     "metadata": {},
     "output_type": "execute_result"
    },
    {
     "data": {
      "text/plain": [
       "(array([0, 2, 4, 6, 8], dtype=int64),)"
      ]
     },
     "execution_count": 27,
     "metadata": {},
     "output_type": "execute_result"
    },
    {
     "data": {
      "text/plain": [
       "tuple"
      ]
     },
     "execution_count": 27,
     "metadata": {},
     "output_type": "execute_result"
    },
    {
     "data": {
      "text/plain": [
       "array([0, 2, 4, 6, 8], dtype=int64)"
      ]
     },
     "execution_count": 27,
     "metadata": {},
     "output_type": "execute_result"
    },
    {
     "data": {
      "text/plain": [
       "numpy.ndarray"
      ]
     },
     "execution_count": 27,
     "metadata": {},
     "output_type": "execute_result"
    },
    {
     "data": {
      "text/plain": [
       "array([[100, 101, 102, 103, 104],\n",
       "       [105, 106, 107, 108, 109]])"
      ]
     },
     "execution_count": 27,
     "metadata": {},
     "output_type": "execute_result"
    },
    {
     "data": {
      "text/plain": [
       "(array([0, 0, 0, 1, 1], dtype=int64), array([0, 2, 4, 1, 3], dtype=int64))"
      ]
     },
     "execution_count": 27,
     "metadata": {},
     "output_type": "execute_result"
    },
    {
     "data": {
      "text/plain": [
       "tuple"
      ]
     },
     "execution_count": 27,
     "metadata": {},
     "output_type": "execute_result"
    },
    {
     "data": {
      "text/plain": [
       "numpy.ndarray"
      ]
     },
     "execution_count": 27,
     "metadata": {},
     "output_type": "execute_result"
    },
    {
     "data": {
      "text/plain": [
       "array([0, 2, 4, 1, 3], dtype=int64)"
      ]
     },
     "execution_count": 27,
     "metadata": {},
     "output_type": "execute_result"
    },
    {
     "data": {
      "text/plain": [
       "[(0, 0), (0, 2), (0, 4), (1, 1), (1, 3)]"
      ]
     },
     "execution_count": 27,
     "metadata": {},
     "output_type": "execute_result"
    }
   ],
   "source": [
    "a=np.arange(100,110)\n",
    "a\n",
    "b=np.where(a%2==0)\n",
    "b\n",
    "type(b)\n",
    "b=b[0]\n",
    "b\n",
    "type(b)\n",
    "\n",
    "a=np.arange(100,110).reshape(2,5)\n",
    "a\n",
    "b=np.where(a%2==0)\n",
    "b\n",
    "type(b)\n",
    "b0=b[0]\n",
    "b1=b[1]\n",
    "type(b1)\n",
    "b1\n",
    "list(zip(b0,b1))"
   ]
  },
  {
   "cell_type": "markdown",
   "id": "aa1ef731",
   "metadata": {},
   "source": [
    "### 실습3"
   ]
  },
  {
   "cell_type": "code",
   "execution_count": 61,
   "id": "2ab0d7a4",
   "metadata": {},
   "outputs": [
    {
     "data": {
      "text/plain": [
       "array([[ 6, 10,  6,  7,  5],\n",
       "       [ 5,  6,  9,  7,  8],\n",
       "       [ 4,  5,  3,  1,  6],\n",
       "       [ 4,  7,  4,  1,  8],\n",
       "       [10, 10,  5,  1,  8]])"
      ]
     },
     "execution_count": 61,
     "metadata": {},
     "output_type": "execute_result"
    },
    {
     "data": {
      "text/plain": [
       "(array([0, 0, 1, 1, 1, 3, 3, 4, 4, 4], dtype=int64),\n",
       " array([1, 3, 2, 3, 4, 1, 4, 0, 1, 4], dtype=int64))"
      ]
     },
     "execution_count": 61,
     "metadata": {},
     "output_type": "execute_result"
    },
    {
     "data": {
      "text/plain": [
       "(array([0, 1, 3, 4, 4, 4], dtype=int64),\n",
       " array([1, 4, 4, 0, 1, 4], dtype=int64))"
      ]
     },
     "execution_count": 61,
     "metadata": {},
     "output_type": "execute_result"
    },
    {
     "data": {
      "text/plain": [
       "84"
      ]
     },
     "execution_count": 61,
     "metadata": {},
     "output_type": "execute_result"
    },
    {
     "data": {
      "text/plain": [
       "54"
      ]
     },
     "execution_count": 61,
     "metadata": {},
     "output_type": "execute_result"
    }
   ],
   "source": [
    "a1=np.random.randint(1,11,size=(5,5))\n",
    "a1\n",
    "a2=np.where(a1>=7)\n",
    "a3=np.where((a1>=7)&(a1%2==0))\n",
    "a2\n",
    "a3\n",
    "\n",
    "s1=0\n",
    "for i,j in zip(a2[0],a2[1]):\n",
    "    s1+=a1[i,j]\n",
    "s1\n",
    "\n",
    "s2=0\n",
    "for ii,jj in zip(a3[0],a3[1]):\n",
    "    s2+=a1[ii,jj]\n",
    "s2\n"
   ]
  },
  {
   "cell_type": "markdown",
   "id": "9d0cd969",
   "metadata": {},
   "source": [
    "#### Boolean Index"
   ]
  },
  {
   "cell_type": "code",
   "execution_count": 60,
   "id": "e82a4dc5",
   "metadata": {},
   "outputs": [
    {
     "data": {
      "text/plain": [
       "array([[ 3, 10,  1,  1],\n",
       "       [ 7,  8,  7,  7]])"
      ]
     },
     "execution_count": 60,
     "metadata": {},
     "output_type": "execute_result"
    },
    {
     "data": {
      "text/plain": [
       "array([[ True, False,  True,  True],\n",
       "       [False, False, False, False]])"
      ]
     },
     "execution_count": 60,
     "metadata": {},
     "output_type": "execute_result"
    },
    {
     "data": {
      "text/plain": [
       "array([3, 1, 1])"
      ]
     },
     "execution_count": 60,
     "metadata": {},
     "output_type": "execute_result"
    }
   ],
   "source": [
    "a1=np.random.randint(1,11,size=(2,4))\n",
    "a1\n",
    "a1<=3\n",
    "a1[a1<=3]"
   ]
  },
  {
   "cell_type": "code",
   "execution_count": 36,
   "id": "0918e3bd",
   "metadata": {},
   "outputs": [
    {
     "data": {
      "text/plain": [
       "array([[9, 7, 1],\n",
       "       [5, 5, 4],\n",
       "       [6, 8, 8]])"
      ]
     },
     "execution_count": 36,
     "metadata": {},
     "output_type": "execute_result"
    },
    {
     "data": {
      "text/plain": [
       "array([7, 1, 5, 5, 4, 8, 8])"
      ]
     },
     "execution_count": 36,
     "metadata": {},
     "output_type": "execute_result"
    }
   ],
   "source": [
    "a1=np.random.randint(10,size=(3,3))\n",
    "a1\n",
    "a2=a1[a1%3!=0]\n",
    "a2"
   ]
  },
  {
   "cell_type": "code",
   "execution_count": 38,
   "id": "783fbb60",
   "metadata": {},
   "outputs": [
    {
     "data": {
      "text/plain": [
       "array([[ 6, 10,  2,  3],\n",
       "       [10,  8,  7,  6],\n",
       "       [ 2,  2,  6,  6]])"
      ]
     },
     "execution_count": 38,
     "metadata": {},
     "output_type": "execute_result"
    },
    {
     "data": {
      "text/plain": [
       "array([[ 3,  6,  9,  7],\n",
       "       [ 6, 10,  8,  9],\n",
       "       [10,  6,  4,  8]])"
      ]
     },
     "execution_count": 38,
     "metadata": {},
     "output_type": "execute_result"
    },
    {
     "data": {
      "text/plain": [
       "array([ 3,  6,  6, 10,  8,  9,  4,  8])"
      ]
     },
     "execution_count": 38,
     "metadata": {},
     "output_type": "execute_result"
    }
   ],
   "source": [
    "a1=np.random.randint(1,11,size=(3,4))\n",
    "a2=np.random.randint(1,11,size=(3,4))\n",
    "a1\n",
    "a2\n",
    "a2[a1>5]"
   ]
  },
  {
   "cell_type": "code",
   "execution_count": 39,
   "id": "16a7d1a1",
   "metadata": {},
   "outputs": [
    {
     "data": {
      "text/plain": [
       "array([[94, 31,  0, 92],\n",
       "       [87, 45, 77, 23],\n",
       "       [80, 27, 45, 29]])"
      ]
     },
     "execution_count": 39,
     "metadata": {},
     "output_type": "execute_result"
    },
    {
     "data": {
      "text/plain": [
       "array([[94, 31,  0, 92]])"
      ]
     },
     "execution_count": 39,
     "metadata": {},
     "output_type": "execute_result"
    },
    {
     "data": {
      "text/plain": [
       "array([[94, 92],\n",
       "       [87, 23],\n",
       "       [80, 29]])"
      ]
     },
     "execution_count": 39,
     "metadata": {},
     "output_type": "execute_result"
    }
   ],
   "source": [
    "a1=np.random.randint(100,size=(3,4))\n",
    "a1\n",
    "a1[[True,False,False],:]\n",
    "a1[:,[True,False,False,True]]"
   ]
  },
  {
   "cell_type": "markdown",
   "id": "ccb41bd5",
   "metadata": {},
   "source": [
    "### 실습4"
   ]
  },
  {
   "cell_type": "code",
   "execution_count": 47,
   "id": "9f707535",
   "metadata": {},
   "outputs": [
    {
     "data": {
      "text/plain": [
       "array([[ 0,  1,  2,  3],\n",
       "       [ 4,  5,  6,  7],\n",
       "       [ 8,  9, 10, 11],\n",
       "       [12, 13, 14, 15],\n",
       "       [16, 17, 18, 19],\n",
       "       [20, 21, 22, 23]])"
      ]
     },
     "execution_count": 47,
     "metadata": {},
     "output_type": "execute_result"
    },
    {
     "data": {
      "text/plain": [
       "array([ 3,  7, 11, 15, 19, 23])"
      ]
     },
     "execution_count": 47,
     "metadata": {},
     "output_type": "execute_result"
    },
    {
     "data": {
      "text/plain": [
       "array([ True, False,  True,  True,  True,  True])"
      ]
     },
     "execution_count": 47,
     "metadata": {},
     "output_type": "execute_result"
    },
    {
     "data": {
      "text/plain": [
       "array([ 3, 11, 15, 19, 23])"
      ]
     },
     "execution_count": 47,
     "metadata": {},
     "output_type": "execute_result"
    },
    {
     "data": {
      "text/plain": [
       "71"
      ]
     },
     "execution_count": 47,
     "metadata": {},
     "output_type": "execute_result"
    }
   ],
   "source": [
    "a1=np.arange(24).reshape(6,4)\n",
    "a1\n",
    "a2=a1[:,3]\n",
    "a2\n",
    "b1=(a2%3==0)|(a2>10)\n",
    "b1\n",
    "a3=a2[b1]\n",
    "a3\n",
    "a3.sum()"
   ]
  },
  {
   "cell_type": "markdown",
   "id": "2cb435df",
   "metadata": {},
   "source": [
    "### 실습5"
   ]
  },
  {
   "cell_type": "code",
   "execution_count": 52,
   "id": "4b789369",
   "metadata": {},
   "outputs": [
    {
     "data": {
      "text/plain": [
       "array([[9, 5, 9, 1, 4],\n",
       "       [6, 1, 1, 3, 1],\n",
       "       [2, 5, 7, 7, 8],\n",
       "       [4, 9, 5, 9, 4],\n",
       "       [5, 0, 4, 4, 7]])"
      ]
     },
     "execution_count": 52,
     "metadata": {},
     "output_type": "execute_result"
    },
    {
     "data": {
      "text/plain": [
       "array([4, 1, 8, 4, 7])"
      ]
     },
     "execution_count": 52,
     "metadata": {},
     "output_type": "execute_result"
    },
    {
     "data": {
      "text/plain": [
       "array([False, False,  True, False,  True])"
      ]
     },
     "execution_count": 52,
     "metadata": {},
     "output_type": "execute_result"
    },
    {
     "data": {
      "text/plain": [
       "array([[2, 5, 7, 7, 8],\n",
       "       [5, 0, 4, 4, 7]])"
      ]
     },
     "execution_count": 52,
     "metadata": {},
     "output_type": "execute_result"
    },
    {
     "data": {
      "text/plain": [
       "array([5.8, 4. ])"
      ]
     },
     "execution_count": 52,
     "metadata": {},
     "output_type": "execute_result"
    }
   ],
   "source": [
    "a1=np.random.randint(10,size=(5,5))\n",
    "a1\n",
    "a2=a1[:,4]\n",
    "a2\n",
    "b1=(a2>5)\n",
    "b1\n",
    "b2=a1[b1,:]\n",
    "b2\n",
    "b2.mean(axis=1)"
   ]
  },
  {
   "cell_type": "markdown",
   "id": "d81de0e3",
   "metadata": {},
   "source": [
    "### 실습6"
   ]
  },
  {
   "cell_type": "code",
   "execution_count": 58,
   "id": "fab4815c",
   "metadata": {},
   "outputs": [
    {
     "name": "stdout",
     "output_type": "stream",
     "text": [
      "[9 2 9 5 1 3 8 1 5 5]\n",
      "[9 9 7 2 4 5 7 5 7 4]\n"
     ]
    },
    {
     "data": {
      "text/plain": [
       "array([False,  True, False, False,  True,  True, False,  True,  True,\n",
       "       False])"
      ]
     },
     "execution_count": 58,
     "metadata": {},
     "output_type": "execute_result"
    },
    {
     "data": {
      "text/plain": [
       "5"
      ]
     },
     "execution_count": 58,
     "metadata": {},
     "output_type": "execute_result"
    },
    {
     "data": {
      "text/plain": [
       "array([2, 1, 3, 1, 5])"
      ]
     },
     "execution_count": 58,
     "metadata": {},
     "output_type": "execute_result"
    },
    {
     "data": {
      "text/plain": [
       "2.4"
      ]
     },
     "execution_count": 58,
     "metadata": {},
     "output_type": "execute_result"
    }
   ],
   "source": [
    "math=np.random.randint(10,size=10)\n",
    "print(math)\n",
    "engl=np.random.randint(10,size=10)\n",
    "print(engl)\n",
    "\n",
    "a1=(math<engl)\n",
    "a1\n",
    "a1.sum()\n",
    "\n",
    "a2=math[a1]\n",
    "a2\n",
    "a2.mean()"
   ]
  },
  {
   "cell_type": "markdown",
   "id": "9bfe07d9",
   "metadata": {},
   "source": [
    "#### Fancy Index"
   ]
  },
  {
   "cell_type": "code",
   "execution_count": 66,
   "id": "0b344a57",
   "metadata": {},
   "outputs": [
    {
     "data": {
      "text/plain": [
       "array([1, 1, 4, 3])"
      ]
     },
     "execution_count": 66,
     "metadata": {},
     "output_type": "execute_result"
    }
   ],
   "source": [
    "a1=np.array([1,2,3,4])\n",
    "index=np.array([0,0,3,2])\n",
    "a1[index]"
   ]
  },
  {
   "cell_type": "code",
   "execution_count": 67,
   "id": "4f05c1c2",
   "metadata": {},
   "outputs": [
    {
     "data": {
      "text/plain": [
       "array([[85, 58, 74, 51, 82],\n",
       "       [10, 89, 42, 88, 33],\n",
       "       [19, 64, 48, 96, 45],\n",
       "       [35, 16, 12, 51, 62]])"
      ]
     },
     "execution_count": 67,
     "metadata": {},
     "output_type": "execute_result"
    },
    {
     "data": {
      "text/plain": [
       "array([74, 88, 48])"
      ]
     },
     "execution_count": 67,
     "metadata": {},
     "output_type": "execute_result"
    }
   ],
   "source": [
    "a1=np.random.randint(100,size=(4,5))\n",
    "a1\n",
    "a1[[0,1,2],[2,3,2]]"
   ]
  },
  {
   "cell_type": "code",
   "execution_count": 68,
   "id": "a7d15103",
   "metadata": {},
   "outputs": [
    {
     "data": {
      "text/plain": [
       "array([[ 2, 58, 37, 83, 12],\n",
       "       [97, 57,  9, 15, 52],\n",
       "       [ 6, 13, 96, 78, 29],\n",
       "       [92, 47, 12, 58, 75]])"
      ]
     },
     "execution_count": 68,
     "metadata": {},
     "output_type": "execute_result"
    },
    {
     "data": {
      "text/plain": [
       "(array([0, 1, 2, 2, 3, 3], dtype=int64),\n",
       " array([3, 0, 2, 3, 0, 4], dtype=int64))"
      ]
     },
     "execution_count": 68,
     "metadata": {},
     "output_type": "execute_result"
    },
    {
     "data": {
      "text/plain": [
       "array([83, 97, 96, 78, 92, 75])"
      ]
     },
     "execution_count": 68,
     "metadata": {},
     "output_type": "execute_result"
    }
   ],
   "source": [
    "a1=np.random.randint(100,size=(4,5))\n",
    "a1\n",
    "b1=np.where(a1>70)\n",
    "b1\n",
    "b2=a1[b1]\n",
    "b2"
   ]
  },
  {
   "cell_type": "markdown",
   "id": "875d9dee",
   "metadata": {},
   "source": [
    "### 실습7"
   ]
  },
  {
   "cell_type": "code",
   "execution_count": 71,
   "id": "d38b20d1",
   "metadata": {},
   "outputs": [
    {
     "data": {
      "text/plain": [
       "array([1000, 1000, 1500, 2000, 2000, 1500, 2000, 1000])"
      ]
     },
     "execution_count": 71,
     "metadata": {},
     "output_type": "execute_result"
    },
    {
     "data": {
      "text/plain": [
       "12000"
      ]
     },
     "execution_count": 71,
     "metadata": {},
     "output_type": "execute_result"
    }
   ],
   "source": [
    "a1=np.array([1000,2000,1500,2000])\n",
    "a2=np.array([1,1,3,2,2,3,4,1])\n",
    "a3=a1[a2-1]\n",
    "a3\n",
    "a3.sum()"
   ]
  },
  {
   "cell_type": "markdown",
   "id": "a78ea14e",
   "metadata": {},
   "source": [
    "### 실습8"
   ]
  },
  {
   "cell_type": "code",
   "execution_count": 83,
   "id": "55d8a9e1",
   "metadata": {},
   "outputs": [
    {
     "data": {
      "text/plain": [
       "array([[ 7., nan,  7.,  7.],\n",
       "       [ 1., nan, nan,  3.],\n",
       "       [ 5.,  0.,  4.,  6.],\n",
       "       [ 7.,  2.,  2., nan],\n",
       "       [ 0.,  1.,  1.,  1.],\n",
       "       [ 6.,  4.,  5.,  3.]])"
      ]
     },
     "execution_count": 83,
     "metadata": {},
     "output_type": "execute_result"
    },
    {
     "data": {
      "text/plain": [
       "array([[False,  True, False, False],\n",
       "       [False,  True,  True, False],\n",
       "       [False, False, False, False],\n",
       "       [False, False, False,  True],\n",
       "       [False, False, False, False],\n",
       "       [False, False, False, False]])"
      ]
     },
     "execution_count": 83,
     "metadata": {},
     "output_type": "execute_result"
    },
    {
     "data": {
      "text/plain": [
       "array([[5., 0., 4., 6.],\n",
       "       [0., 1., 1., 1.],\n",
       "       [6., 4., 5., 3.]])"
      ]
     },
     "execution_count": 83,
     "metadata": {},
     "output_type": "execute_result"
    }
   ],
   "source": [
    "a1=np.random.randint(10,size=(6,4))\n",
    "a1=a1.astype(float)\n",
    "a1[[0,1,1,3],[1,1,2,3]]=np.nan\n",
    "a1\n",
    "# a2=~np.isnan(a1)\n",
    "# a2\n",
    "# a3=a1[a2]\n",
    "# a3\n",
    "np.isnan(a1)\n",
    "a2=np.isnan(a1).sum(axis=1)\n",
    "b1=(a2==0)\n",
    "a1[b1,:]"
   ]
  },
  {
   "cell_type": "markdown",
   "id": "2dbde508",
   "metadata": {},
   "source": [
    "### 문제1"
   ]
  },
  {
   "cell_type": "code",
   "execution_count": 88,
   "id": "ab1c5d7f",
   "metadata": {},
   "outputs": [
    {
     "data": {
      "text/plain": [
       "array([[ 0., nan,  4.,  3.],\n",
       "       [ 2.,  8.,  3.,  9.],\n",
       "       [ 9., nan,  2., nan],\n",
       "       [ 8.,  3.,  0.,  2.],\n",
       "       [ 6.,  4.,  5.,  7.],\n",
       "       [ 5.,  0.,  1., nan]])"
      ]
     },
     "execution_count": 88,
     "metadata": {},
     "output_type": "execute_result"
    },
    {
     "data": {
      "text/plain": [
       "array([[False,  True, False, False],\n",
       "       [False, False, False, False],\n",
       "       [False,  True, False,  True],\n",
       "       [False, False, False, False],\n",
       "       [False, False, False, False],\n",
       "       [False, False, False,  True]])"
      ]
     },
     "execution_count": 88,
     "metadata": {},
     "output_type": "execute_result"
    },
    {
     "data": {
      "text/plain": [
       "array([0, 2, 0, 2])"
      ]
     },
     "execution_count": 88,
     "metadata": {},
     "output_type": "execute_result"
    },
    {
     "data": {
      "text/plain": [
       "array([0., 0.])"
      ]
     },
     "execution_count": 88,
     "metadata": {},
     "output_type": "execute_result"
    }
   ],
   "source": [
    "a1=np.random.randint(10,size=(6,4))\n",
    "a1=a1.astype(float)\n",
    "a1[[0,2,2,5],[1,1,3,3]]=np.nan\n",
    "a1\n",
    "np.isnan(a1)\n",
    "a2=np.isnan(a1).sum(axis=0)\n",
    "a2\n",
    "b1=(a2==0)\n",
    "a1[:,b1].min(axis=0)"
   ]
  },
  {
   "cell_type": "markdown",
   "id": "99fb5977",
   "metadata": {},
   "source": [
    "### 문제2"
   ]
  },
  {
   "cell_type": "code",
   "execution_count": 96,
   "id": "447179c7",
   "metadata": {},
   "outputs": [
    {
     "data": {
      "text/plain": [
       "array([[6, 8, 4, 4, 0],\n",
       "       [5, 6, 0, 3, 8],\n",
       "       [9, 5, 4, 5, 5]])"
      ]
     },
     "execution_count": 96,
     "metadata": {},
     "output_type": "execute_result"
    },
    {
     "data": {
      "text/plain": [
       "array([6, 8, 4, 4, 0])"
      ]
     },
     "execution_count": 96,
     "metadata": {},
     "output_type": "execute_result"
    },
    {
     "data": {
      "text/plain": [
       "array([5, 6, 0, 3, 8])"
      ]
     },
     "execution_count": 96,
     "metadata": {},
     "output_type": "execute_result"
    },
    {
     "data": {
      "text/plain": [
       "array([9, 5, 4, 5, 5])"
      ]
     },
     "execution_count": 96,
     "metadata": {},
     "output_type": "execute_result"
    },
    {
     "data": {
      "text/plain": [
       "array([ True,  True,  True,  True, False])"
      ]
     },
     "execution_count": 96,
     "metadata": {},
     "output_type": "execute_result"
    },
    {
     "data": {
      "text/plain": [
       "23"
      ]
     },
     "execution_count": 96,
     "metadata": {},
     "output_type": "execute_result"
    }
   ],
   "source": [
    "a1=np.random.randint(10,size=(3,5))\n",
    "a1\n",
    "m=a1[0]\n",
    "m\n",
    "e=a1[1]\n",
    "e\n",
    "g=a1[2]\n",
    "g\n",
    "b1=(m>e)\n",
    "b1\n",
    "g[b1].sum()"
   ]
  },
  {
   "cell_type": "markdown",
   "id": "c35e82b2",
   "metadata": {},
   "source": [
    "### 문제3"
   ]
  },
  {
   "cell_type": "code",
   "execution_count": 100,
   "id": "f4c7fb54",
   "metadata": {},
   "outputs": [
    {
     "data": {
      "text/plain": [
       "array([[ 6,  5,  6, 10],\n",
       "       [ 1,  7,  7, 10],\n",
       "       [ 9,  6,  5,  5]])"
      ]
     },
     "execution_count": 100,
     "metadata": {},
     "output_type": "execute_result"
    },
    {
     "data": {
      "text/plain": [
       "array([5.33333333, 6.        , 6.        , 8.33333333])"
      ]
     },
     "execution_count": 100,
     "metadata": {},
     "output_type": "execute_result"
    },
    {
     "data": {
      "text/plain": [
       "array([2, 1, 1, 2])"
      ]
     },
     "execution_count": 100,
     "metadata": {},
     "output_type": "execute_result"
    }
   ],
   "source": [
    "a1=np.random.randint(1,11,size=(3,4))\n",
    "a1\n",
    "a2=a1.mean(axis=0)\n",
    "a2\n",
    "np.sum(a1>a2,axis=0)"
   ]
  },
  {
   "cell_type": "markdown",
   "id": "d87f8676",
   "metadata": {},
   "source": [
    "### 문제4"
   ]
  },
  {
   "cell_type": "code",
   "execution_count": 102,
   "id": "b3087400",
   "metadata": {},
   "outputs": [
    {
     "data": {
      "text/plain": [
       "array([[ 5,  9,  8,  6],\n",
       "       [ 8,  7,  6,  7],\n",
       "       [ 9,  6,  6, 10]])"
      ]
     },
     "execution_count": 102,
     "metadata": {},
     "output_type": "execute_result"
    },
    {
     "data": {
      "text/plain": [
       "array([2, 2, 3, 3])"
      ]
     },
     "execution_count": 102,
     "metadata": {},
     "output_type": "execute_result"
    }
   ],
   "source": [
    "a1=np.random.randint(1,11,size=(3,4))\n",
    "a1\n",
    "m=a1.mean(axis=0)\n",
    "s=a1.std(axis=0)\n",
    "np.sum(a1>m-s,axis=0)"
   ]
  },
  {
   "cell_type": "code",
   "execution_count": null,
   "id": "1e22b0f2",
   "metadata": {},
   "outputs": [],
   "source": []
  }
 ],
 "metadata": {
  "kernelspec": {
   "display_name": "Python 3 (ipykernel)",
   "language": "python",
   "name": "python3"
  },
  "language_info": {
   "codemirror_mode": {
    "name": "ipython",
    "version": 3
   },
   "file_extension": ".py",
   "mimetype": "text/x-python",
   "name": "python",
   "nbconvert_exporter": "python",
   "pygments_lexer": "ipython3",
   "version": "3.9.7"
  }
 },
 "nbformat": 4,
 "nbformat_minor": 5
}
