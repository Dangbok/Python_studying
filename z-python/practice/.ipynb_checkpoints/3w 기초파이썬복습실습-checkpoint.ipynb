{
 "cells": [
  {
   "cell_type": "code",
   "execution_count": 1,
   "id": "8f164957",
   "metadata": {},
   "outputs": [
    {
     "name": "stdout",
     "output_type": "stream",
     "text": [
      "python 3.9.7 (default, Sep 16 2021, 16:59:28) [MSC v.1916 64 bit (AMD64)]\n",
      "numpy 1.20.3\n",
      "pandas 1.3.4\n"
     ]
    }
   ],
   "source": [
    "import sys\n",
    "print('python', sys.version)\n",
    "\n",
    "import numpy as np\n",
    "print('numpy', np.__version__)\n",
    "\n",
    "import pandas as pd\n",
    "print('pandas', pd.__version__)\n",
    "\n",
    "# 결과 확인을 용이하게 하기 위한 코드\n",
    "from IPython.core.interactiveshell import InteractiveShell\n",
    "InteractiveShell.ast_node_interactivity = 'all'"
   ]
  },
  {
   "cell_type": "markdown",
   "id": "37d5ee86",
   "metadata": {},
   "source": [
    "## 기초 파이썬 복습 실습"
   ]
  },
  {
   "cell_type": "markdown",
   "id": "89cbe3f3",
   "metadata": {},
   "source": [
    "### 실습1"
   ]
  },
  {
   "cell_type": "code",
   "execution_count": 12,
   "id": "3c64ff87",
   "metadata": {},
   "outputs": [
    {
     "name": "stdout",
     "output_type": "stream",
     "text": [
      "1st number: 4\n",
      "2nd number: 7\n",
      "5.5\n"
     ]
    }
   ],
   "source": [
    "a1=float(input(\"1st number: \"))\n",
    "a2=float(input(\"2nd number: \"))\n",
    "a3=(a1+a2)/2\n",
    "print(a3)"
   ]
  },
  {
   "cell_type": "markdown",
   "id": "fd3dd3f3",
   "metadata": {},
   "source": [
    "### 실습2"
   ]
  },
  {
   "cell_type": "code",
   "execution_count": 20,
   "id": "dd8a31c3",
   "metadata": {},
   "outputs": [
    {
     "name": "stdout",
     "output_type": "stream",
     "text": [
      "[0, 1, 2, 3, 4, 5, 6, 7, 8, 9, 10, 11, 12, 13, 14]\n",
      "[0, 3, 6, 9, 12]\n",
      "sum:  30\n"
     ]
    }
   ],
   "source": [
    "n=15\n",
    "k=3\n",
    "a1=list(range(n))\n",
    "print(a1)\n",
    "a2=a1[::k]\n",
    "print(a2)\n",
    "print(\"sum: \",sum(a2))"
   ]
  },
  {
   "cell_type": "markdown",
   "id": "998c9b82",
   "metadata": {},
   "source": [
    "### 실습3"
   ]
  },
  {
   "cell_type": "code",
   "execution_count": 26,
   "id": "15c551ca",
   "metadata": {},
   "outputs": [
    {
     "name": "stdout",
     "output_type": "stream",
     "text": [
      "## 결과\n",
      "['_', 'a', 'a', 'd', 'n', 'o', 's', 't', 'u', 'w']\n",
      "t\n"
     ]
    }
   ],
   "source": [
    "str1='suwon_data'\n",
    "a1=list(str1)\n",
    "a1.sort()\n",
    "a2=a1[7]\n",
    "print(\"## 결과\")\n",
    "print(a1)\n",
    "print(a2)"
   ]
  },
  {
   "cell_type": "markdown",
   "id": "205f263c",
   "metadata": {},
   "source": [
    "### 실습4"
   ]
  },
  {
   "cell_type": "code",
   "execution_count": 28,
   "id": "c21d577c",
   "metadata": {},
   "outputs": [
    {
     "name": "stdout",
     "output_type": "stream",
     "text": [
      "7\n",
      "14\n",
      "21\n",
      "28\n",
      "35\n",
      "42\n",
      "49\n"
     ]
    }
   ],
   "source": [
    "for i in range(1,51):\n",
    "    if i%7==0:\n",
    "        print(i)"
   ]
  },
  {
   "cell_type": "markdown",
   "id": "43633204",
   "metadata": {},
   "source": [
    "### 실습5"
   ]
  },
  {
   "cell_type": "code",
   "execution_count": 31,
   "id": "e69343bd",
   "metadata": {},
   "outputs": [
    {
     "name": "stdout",
     "output_type": "stream",
     "text": [
      "input a number: 12\n",
      "input a number: 12\n",
      "input a number: 12\n",
      "input a number: -1000\n",
      "합: 36.0\n"
     ]
    }
   ],
   "source": [
    "s1=0\n",
    "while(True):\n",
    "    a1=float(input(\"input a number: \"))\n",
    "    if a1==-1000:\n",
    "        break\n",
    "    s1+=a1\n",
    "print(\"합: {}\".format(s1))"
   ]
  },
  {
   "cell_type": "markdown",
   "id": "dd650646",
   "metadata": {},
   "source": [
    "### 실습6"
   ]
  },
  {
   "cell_type": "code",
   "execution_count": 36,
   "id": "12c10f82",
   "metadata": {},
   "outputs": [
    {
     "name": "stdout",
     "output_type": "stream",
     "text": [
      "a 1\n",
      "b 2\n",
      "c 3\n",
      "d 4\n",
      "e 1\n"
     ]
    }
   ],
   "source": [
    "str1='abbcccdddde'\n",
    "count_dict={}\n",
    "for ch in str1:\n",
    "    if ch not in count_dict.keys():\n",
    "        count_dict[ch]=1\n",
    "    else:\n",
    "        count_dict[ch]+=1\n",
    "\n",
    "for key, val in count_dict.items():\n",
    "    print(key,val)"
   ]
  },
  {
   "cell_type": "markdown",
   "id": "eb28a472",
   "metadata": {},
   "source": [
    "### 실습7"
   ]
  },
  {
   "cell_type": "code",
   "execution_count": 40,
   "id": "5c3764af",
   "metadata": {},
   "outputs": [
    {
     "name": "stdout",
     "output_type": "stream",
     "text": [
      "67\n",
      "D\n"
     ]
    }
   ],
   "source": [
    "score=67\n",
    "if score>=90:\n",
    "    grade='A'\n",
    "elif score>=80:\n",
    "    grade='B'\n",
    "elif score>=70:\n",
    "    grade='C'\n",
    "else:\n",
    "    grade='D'\n",
    "print(score)\n",
    "print(grade)"
   ]
  },
  {
   "cell_type": "markdown",
   "id": "d3e0d149",
   "metadata": {},
   "source": [
    "### 실습8"
   ]
  },
  {
   "cell_type": "code",
   "execution_count": null,
   "id": "3129fe8b",
   "metadata": {},
   "outputs": [],
   "source": []
  },
  {
   "cell_type": "markdown",
   "id": "df044551",
   "metadata": {},
   "source": [
    "### 실습9"
   ]
  },
  {
   "cell_type": "code",
   "execution_count": 43,
   "id": "d7db5033",
   "metadata": {},
   "outputs": [
    {
     "name": "stdout",
     "output_type": "stream",
     "text": [
      "7\n",
      "5\n"
     ]
    }
   ],
   "source": [
    "def foo1(a1,a2):\n",
    "    print(a1+a2)\n",
    "    \n",
    "foo1(3,4)\n",
    "foo1(2,3)"
   ]
  },
  {
   "cell_type": "code",
   "execution_count": null,
   "id": "40d15c85",
   "metadata": {},
   "outputs": [],
   "source": []
  }
 ],
 "metadata": {
  "kernelspec": {
   "display_name": "Python 3 (ipykernel)",
   "language": "python",
   "name": "python3"
  },
  "language_info": {
   "codemirror_mode": {
    "name": "ipython",
    "version": 3
   },
   "file_extension": ".py",
   "mimetype": "text/x-python",
   "name": "python",
   "nbconvert_exporter": "python",
   "pygments_lexer": "ipython3",
   "version": "3.9.7"
  }
 },
 "nbformat": 4,
 "nbformat_minor": 5
}
