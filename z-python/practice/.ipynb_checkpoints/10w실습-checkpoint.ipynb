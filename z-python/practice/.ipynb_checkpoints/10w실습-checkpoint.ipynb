{
 "cells": [
  {
   "cell_type": "code",
   "execution_count": 1,
   "id": "e23e984d",
   "metadata": {},
   "outputs": [
    {
     "name": "stdout",
     "output_type": "stream",
     "text": [
      "python 3.9.7 (default, Sep 16 2021, 16:59:28) [MSC v.1916 64 bit (AMD64)]\n",
      "numpy 1.20.3\n",
      "pandas 1.3.4\n"
     ]
    }
   ],
   "source": [
    "import sys\n",
    "print('python', sys.version)\n",
    "\n",
    "import numpy as np\n",
    "print('numpy', np.__version__)\n",
    "\n",
    "import pandas as pd\n",
    "print('pandas', pd.__version__)\n",
    "\n",
    "# 결과 확인을 용이하게 하기 위한 코드\n",
    "from IPython.core.interactiveshell import InteractiveShell\n",
    "InteractiveShell.ast_node_interactivity = 'all'"
   ]
  },
  {
   "cell_type": "code",
   "execution_count": 14,
   "id": "b84cfcfb",
   "metadata": {},
   "outputs": [
    {
     "data": {
      "text/plain": [
       "A    1\n",
       "B    2\n",
       "C    3\n",
       "D    4\n",
       "E    5\n",
       "Name: s1, dtype: object"
      ]
     },
     "execution_count": 14,
     "metadata": {},
     "output_type": "execute_result"
    },
    {
     "data": {
      "text/plain": [
       "1      1\n",
       "2      2\n",
       "3    3.3\n",
       "4    4.4\n",
       "5      5\n",
       "Name: s2, dtype: object"
      ]
     },
     "execution_count": 14,
     "metadata": {},
     "output_type": "execute_result"
    },
    {
     "data": {
      "text/plain": [
       "int"
      ]
     },
     "execution_count": 14,
     "metadata": {},
     "output_type": "execute_result"
    },
    {
     "data": {
      "text/plain": [
       "float"
      ]
     },
     "execution_count": 14,
     "metadata": {},
     "output_type": "execute_result"
    }
   ],
   "source": [
    "s1=pd.Series(np.arange(1,6),index=list('ABCDE'),dtype=object,name='s1')\n",
    "s1\n",
    "s2=pd.Series([1,2,3.3,4.4,5],index=np.arange(1,6),dtype=object,name='s2')\n",
    "s2\n",
    "type(s2[1])\n",
    "type(s2[3])"
   ]
  },
  {
   "cell_type": "code",
   "execution_count": 18,
   "id": "61bcfcb6",
   "metadata": {},
   "outputs": [
    {
     "name": "stdout",
     "output_type": "stream",
     "text": [
      "a    10\n",
      "b    20\n",
      "c    30\n",
      "d    40\n",
      "e    50\n",
      "dtype: int64\n"
     ]
    },
    {
     "data": {
      "text/plain": [
       "5    11\n",
       "1    12\n",
       "3    13\n",
       "4    14\n",
       "2    15\n",
       "dtype: int32"
      ]
     },
     "execution_count": 18,
     "metadata": {},
     "output_type": "execute_result"
    },
    {
     "data": {
      "text/plain": [
       "indexname\n",
       "e    11.0\n",
       "d    12.0\n",
       "c    13.0\n",
       "b    14.0\n",
       "a    15.0\n",
       "Name: s2, dtype: float64"
      ]
     },
     "execution_count": 18,
     "metadata": {},
     "output_type": "execute_result"
    }
   ],
   "source": [
    "dict_data={'a':10,'b':20,'c':30,'d':40,'e':50}\n",
    "s1=pd.Series(dict_data)\n",
    "print(s1)\n",
    "s2=pd.Series(np.arange(11,16),index=[5,1,3,4,2])\n",
    "s2\n",
    "s2.index=list('edcba')\n",
    "s2.name='s2'\n",
    "s2=s2.astype(float)\n",
    "s2.index.name=\"indexname\"\n",
    "s2"
   ]
  },
  {
   "cell_type": "code",
   "execution_count": 22,
   "id": "9d7ff35f",
   "metadata": {},
   "outputs": [
    {
     "data": {
      "text/plain": [
       "1    h\n",
       "2    o\n",
       "3    n\n",
       "4    g\n",
       "5    j\n",
       "6    i\n",
       "Name: d1, dtype: object"
      ]
     },
     "execution_count": 22,
     "metadata": {},
     "output_type": "execute_result"
    },
    {
     "data": {
      "text/plain": [
       "Int64Index([1, 2, 3, 4, 5, 6], dtype='int64')"
      ]
     },
     "execution_count": 22,
     "metadata": {},
     "output_type": "execute_result"
    },
    {
     "data": {
      "text/plain": [
       "pandas.core.indexes.numeric.Int64Index"
      ]
     },
     "execution_count": 22,
     "metadata": {},
     "output_type": "execute_result"
    },
    {
     "data": {
      "text/plain": [
       "array(['h', 'o', 'n', 'g', 'j', 'i'], dtype=object)"
      ]
     },
     "execution_count": 22,
     "metadata": {},
     "output_type": "execute_result"
    },
    {
     "data": {
      "text/plain": [
       "numpy.ndarray"
      ]
     },
     "execution_count": 22,
     "metadata": {},
     "output_type": "execute_result"
    }
   ],
   "source": [
    "n1='hongji'\n",
    "d1=pd.Series(data=list(n1),index=np.arange(1,len(n1)+1),name='d1')\n",
    "d1\n",
    "d1.index\n",
    "type(d1.index)\n",
    "d1.values\n",
    "type(d1.values)"
   ]
  },
  {
   "cell_type": "markdown",
   "id": "f77a40f3",
   "metadata": {},
   "source": [
    "### 실습1"
   ]
  },
  {
   "cell_type": "code",
   "execution_count": 37,
   "id": "dbbb67cc",
   "metadata": {},
   "outputs": [
    {
     "data": {
      "text/plain": [
       "1    4\n",
       "2    0\n",
       "3    9\n",
       "4    6\n",
       "5    0\n",
       "dtype: int32"
      ]
     },
     "execution_count": 37,
     "metadata": {},
     "output_type": "execute_result"
    },
    {
     "data": {
      "text/plain": [
       "array([4, 9, 6])"
      ]
     },
     "execution_count": 37,
     "metadata": {},
     "output_type": "execute_result"
    },
    {
     "data": {
      "text/plain": [
       "6.333333333333333"
      ]
     },
     "execution_count": 37,
     "metadata": {},
     "output_type": "execute_result"
    },
    {
     "data": {
      "text/plain": [
       "1    4\n",
       "2    0\n",
       "dtype: int32"
      ]
     },
     "execution_count": 37,
     "metadata": {},
     "output_type": "execute_result"
    },
    {
     "data": {
      "text/plain": [
       "1    4\n",
       "dtype: int32"
      ]
     },
     "execution_count": 37,
     "metadata": {},
     "output_type": "execute_result"
    },
    {
     "data": {
      "text/plain": [
       "1    4\n",
       "2    0\n",
       "3   -3\n",
       "4    6\n",
       "5    0\n",
       "dtype: int32"
      ]
     },
     "execution_count": 37,
     "metadata": {},
     "output_type": "execute_result"
    },
    {
     "data": {
      "text/plain": [
       "1   -5\n",
       "2   -5\n",
       "3   -3\n",
       "4    6\n",
       "5    0\n",
       "dtype: int32"
      ]
     },
     "execution_count": 37,
     "metadata": {},
     "output_type": "execute_result"
    }
   ],
   "source": [
    "sr1=pd.Series(np.random.randint(0,10,size=5),index=np.arange(1,6))\n",
    "sr1\n",
    "a1=sr1.values\n",
    "a2=a1[a1>=3]\n",
    "a2\n",
    "a2.mean()\n",
    "sr1.loc[[1,2]]\n",
    "sr1.loc[[1]]\n",
    "sr1.iloc[2]=-3\n",
    "sr1\n",
    "sr1.iloc[[0,1]]=-5\n",
    "sr1"
   ]
  },
  {
   "cell_type": "code",
   "execution_count": 39,
   "id": "8fcd68b5",
   "metadata": {},
   "outputs": [
    {
     "data": {
      "text/plain": [
       "4"
      ]
     },
     "execution_count": 39,
     "metadata": {},
     "output_type": "execute_result"
    },
    {
     "data": {
      "text/plain": [
       "1"
      ]
     },
     "execution_count": 39,
     "metadata": {},
     "output_type": "execute_result"
    },
    {
     "data": {
      "text/plain": [
       "5    4\n",
       "6    5\n",
       "Name: s1, dtype: int64"
      ]
     },
     "execution_count": 39,
     "metadata": {},
     "output_type": "execute_result"
    },
    {
     "data": {
      "text/plain": [
       "3    1\n",
       "7    2\n",
       "4    3\n",
       "5    4\n",
       "Name: s1, dtype: int64"
      ]
     },
     "execution_count": 39,
     "metadata": {},
     "output_type": "execute_result"
    },
    {
     "data": {
      "text/plain": [
       "5    4\n",
       "Name: s1, dtype: int64"
      ]
     },
     "execution_count": 39,
     "metadata": {},
     "output_type": "execute_result"
    },
    {
     "data": {
      "text/plain": [
       "7    2\n",
       "5    4\n",
       "Name: s1, dtype: int64"
      ]
     },
     "execution_count": 39,
     "metadata": {},
     "output_type": "execute_result"
    }
   ],
   "source": [
    "s1=pd.Series(data=[1,2,3,4,5],index=[3,7,4,5,6],name='s1')\n",
    "s1.iloc[3]\n",
    "s1.loc[3]\n",
    "s1.iloc[3:5]\n",
    "s1.loc[3:5]\n",
    "s1.iloc[3::2]\n",
    "s1.loc[7::2]"
   ]
  },
  {
   "cell_type": "markdown",
   "id": "0a3923d9",
   "metadata": {},
   "source": [
    "### 실습2"
   ]
  },
  {
   "cell_type": "code",
   "execution_count": 46,
   "id": "7a18a77a",
   "metadata": {},
   "outputs": [
    {
     "data": {
      "text/plain": [
       "e    0\n",
       "1    1\n",
       "d    2\n",
       "2    3\n",
       "c    4\n",
       "3    5\n",
       "b    6\n",
       "4    7\n",
       "a    8\n",
       "5    9\n",
       "dtype: int32"
      ]
     },
     "execution_count": 46,
     "metadata": {},
     "output_type": "execute_result"
    },
    {
     "data": {
      "text/plain": [
       "2"
      ]
     },
     "execution_count": 46,
     "metadata": {},
     "output_type": "execute_result"
    },
    {
     "data": {
      "text/plain": [
       "5    9\n",
       "dtype: int32"
      ]
     },
     "execution_count": 46,
     "metadata": {},
     "output_type": "execute_result"
    },
    {
     "data": {
      "text/plain": [
       "d    2\n",
       "c    4\n",
       "b    6\n",
       "dtype: int32"
      ]
     },
     "execution_count": 46,
     "metadata": {},
     "output_type": "execute_result"
    },
    {
     "data": {
      "text/plain": [
       "2"
      ]
     },
     "execution_count": 46,
     "metadata": {},
     "output_type": "execute_result"
    },
    {
     "data": {
      "text/plain": [
       "5    9\n",
       "dtype: int32"
      ]
     },
     "execution_count": 46,
     "metadata": {},
     "output_type": "execute_result"
    },
    {
     "data": {
      "text/plain": [
       "d    2\n",
       "c    4\n",
       "b    6\n",
       "dtype: int32"
      ]
     },
     "execution_count": 46,
     "metadata": {},
     "output_type": "execute_result"
    }
   ],
   "source": [
    "s1=pd.Series(np.arange(0,10),index=list('e1d2c3b4a5'))\n",
    "s1\n",
    "s1.loc['d']\n",
    "s1.loc[['5']]\n",
    "s1.loc['d':'b':2]\n",
    "\n",
    "s1.iloc[2]\n",
    "s1.iloc[[-1]]\n",
    "s1.iloc[2:7:2]"
   ]
  },
  {
   "cell_type": "code",
   "execution_count": 49,
   "id": "955f725c",
   "metadata": {},
   "outputs": [
    {
     "data": {
      "text/plain": [
       "0    1.065161\n",
       "1   -0.566811\n",
       "2   -0.278294\n",
       "3    0.170532\n",
       "Name: s1, dtype: float64"
      ]
     },
     "execution_count": 49,
     "metadata": {},
     "output_type": "execute_result"
    },
    {
     "data": {
      "text/plain": [
       "0     4\n",
       "1    90\n",
       "2    58\n",
       "3     2\n",
       "Name: s2, dtype: int32"
      ]
     },
     "execution_count": 49,
     "metadata": {},
     "output_type": "execute_result"
    },
    {
     "data": {
      "text/plain": [
       "0    w\n",
       "1    e\n",
       "2    w\n",
       "3    e\n",
       "Name: s3, dtype: object"
      ]
     },
     "execution_count": 49,
     "metadata": {},
     "output_type": "execute_result"
    }
   ],
   "source": [
    "s1=pd.Series(data=np.random.normal(0,2,size=4),name='s1')\n",
    "s1\n",
    "s2=pd.Series(data=np.random.randint(100,size=4),name='s2')\n",
    "s2\n",
    "s3=pd.Series(np.random.choice(list('erferwe'),size=4),name='s3')\n",
    "s3"
   ]
  },
  {
   "cell_type": "code",
   "execution_count": 51,
   "id": "8cac5a12",
   "metadata": {},
   "outputs": [
    {
     "data": {
      "text/plain": [
       "a    4\n",
       "b    2\n",
       "c    1\n",
       "d    3\n",
       "e    5\n",
       "Name: s1, dtype: int64"
      ]
     },
     "execution_count": 51,
     "metadata": {},
     "output_type": "execute_result"
    },
    {
     "data": {
      "text/plain": [
       "a    1\n",
       "b    2\n",
       "c    1\n",
       "d    0\n",
       "e    2\n",
       "Name: s1, dtype: int64"
      ]
     },
     "execution_count": 51,
     "metadata": {},
     "output_type": "execute_result"
    },
    {
     "data": {
      "text/plain": [
       "3.0"
      ]
     },
     "execution_count": 51,
     "metadata": {},
     "output_type": "execute_result"
    },
    {
     "data": {
      "text/plain": [
       "3.0"
      ]
     },
     "execution_count": 51,
     "metadata": {},
     "output_type": "execute_result"
    },
    {
     "data": {
      "text/plain": [
       "5"
      ]
     },
     "execution_count": 51,
     "metadata": {},
     "output_type": "execute_result"
    },
    {
     "data": {
      "text/plain": [
       "4"
      ]
     },
     "execution_count": 51,
     "metadata": {},
     "output_type": "execute_result"
    }
   ],
   "source": [
    "s1=pd.Series(data=[4,2,1,3,5],index=list('abcde'),name='s1')\n",
    "s1\n",
    "s1%3\n",
    "s1.mean()\n",
    "np.mean(s1)\n",
    "s1.max()\n",
    "s1.argmax()"
   ]
  },
  {
   "cell_type": "code",
   "execution_count": 56,
   "id": "95bbef2f",
   "metadata": {},
   "outputs": [
    {
     "data": {
      "text/plain": [
       "0    2\n",
       "1    9\n",
       "2    2\n",
       "3    4\n",
       "4    5\n",
       "5    9\n",
       "dtype: int32"
      ]
     },
     "execution_count": 56,
     "metadata": {},
     "output_type": "execute_result"
    },
    {
     "data": {
      "text/plain": [
       "0    False\n",
       "1     True\n",
       "2    False\n",
       "3     True\n",
       "4     True\n",
       "5     True\n",
       "dtype: bool"
      ]
     },
     "execution_count": 56,
     "metadata": {},
     "output_type": "execute_result"
    },
    {
     "data": {
      "text/plain": [
       "1    9\n",
       "3    4\n",
       "4    5\n",
       "5    9\n",
       "dtype: int32"
      ]
     },
     "execution_count": 56,
     "metadata": {},
     "output_type": "execute_result"
    },
    {
     "data": {
      "text/plain": [
       "0    2\n",
       "2    2\n",
       "3    4\n",
       "4    5\n",
       "1    9\n",
       "5    9\n",
       "dtype: int32"
      ]
     },
     "execution_count": 56,
     "metadata": {},
     "output_type": "execute_result"
    }
   ],
   "source": [
    "s1=pd.Series(np.random.randint(10,size=6))\n",
    "s1\n",
    "s1>3\n",
    "s1[s1>3]\n",
    "s1.sort_values()\n",
    "s1.sort_values(inplace=True)\n"
   ]
  },
  {
   "cell_type": "code",
   "execution_count": 57,
   "id": "89cb1e4d",
   "metadata": {},
   "outputs": [
    {
     "data": {
      "text/plain": [
       "0    8\n",
       "1    8\n",
       "2    1\n",
       "3    0\n",
       "4    2\n",
       "dtype: int32"
      ]
     },
     "execution_count": 57,
     "metadata": {},
     "output_type": "execute_result"
    },
    {
     "data": {
      "text/plain": [
       "3    0\n",
       "2    1\n",
       "4    2\n",
       "0    8\n",
       "1    8\n",
       "dtype: int32"
      ]
     },
     "execution_count": 57,
     "metadata": {},
     "output_type": "execute_result"
    },
    {
     "data": {
      "text/plain": [
       "0    8\n",
       "1    8\n",
       "2    1\n",
       "3    0\n",
       "4    2\n",
       "dtype: int32"
      ]
     },
     "execution_count": 57,
     "metadata": {},
     "output_type": "execute_result"
    }
   ],
   "source": [
    "s1=pd.Series(np.random.randint(10,size=5))\n",
    "s1\n",
    "s1.sort_values()\n",
    "s1.sort_index()"
   ]
  },
  {
   "cell_type": "code",
   "execution_count": 60,
   "id": "0da1bb71",
   "metadata": {},
   "outputs": [
    {
     "data": {
      "text/plain": [
       "3    a\n",
       "4    b\n",
       "5    c\n",
       "6    a\n",
       "dtype: object"
      ]
     },
     "execution_count": 60,
     "metadata": {},
     "output_type": "execute_result"
    },
    {
     "data": {
      "text/plain": [
       "3    a\n",
       "4    z\n",
       "5    z\n",
       "6    z\n",
       "dtype: object"
      ]
     },
     "execution_count": 60,
     "metadata": {},
     "output_type": "execute_result"
    },
    {
     "data": {
      "text/plain": [
       "3    a\n",
       "4    z\n",
       "5    3\n",
       "6    z\n",
       "dtype: object"
      ]
     },
     "execution_count": 60,
     "metadata": {},
     "output_type": "execute_result"
    }
   ],
   "source": [
    "s1=pd.Series(data=list('abca'),index=range(3,7))\n",
    "s1\n",
    "s1.loc[4:6]='z'\n",
    "s1\n",
    "s1.iloc[2]=3\n",
    "s1"
   ]
  },
  {
   "cell_type": "markdown",
   "id": "3472dc74",
   "metadata": {},
   "source": [
    "### 문제1"
   ]
  },
  {
   "cell_type": "code",
   "execution_count": 63,
   "id": "0ebbd6ae",
   "metadata": {},
   "outputs": [
    {
     "name": "stdout",
     "output_type": "stream",
     "text": [
      "### series s1\n"
     ]
    },
    {
     "data": {
      "text/plain": [
       "a    4\n",
       "b    3\n",
       "c    4\n",
       "d    2\n",
       "e    1\n",
       "f    1\n",
       "g    3\n",
       "h    5\n",
       "i    5\n",
       "j    1\n",
       "dtype: int32"
      ]
     },
     "execution_count": 63,
     "metadata": {},
     "output_type": "execute_result"
    },
    {
     "data": {
      "text/plain": [
       "a       4\n",
       "b     one\n",
       "c    five\n",
       "d       2\n",
       "e       1\n",
       "f       1\n",
       "g       3\n",
       "h       5\n",
       "i       5\n",
       "j       1\n",
       "dtype: object"
      ]
     },
     "execution_count": 63,
     "metadata": {},
     "output_type": "execute_result"
    }
   ],
   "source": [
    "# 주어진 series s1의 data중 1은 one, 5는 five로 바꾼 s1을 다시 출력하시오 (2,3,4는 그대로 둠)\n",
    "\n",
    "s1=pd.Series(index=list('abcdefghij'), data=np.random.randint(1,6,10))\n",
    "print('### series s1')\n",
    "s1\n",
    "\n",
    "s1.loc['b']='one'\n",
    "s1.loc['c']='five'\n",
    "s1"
   ]
  },
  {
   "cell_type": "markdown",
   "id": "f377e4b1",
   "metadata": {},
   "source": [
    "### 문제2"
   ]
  },
  {
   "cell_type": "code",
   "execution_count": 70,
   "id": "ab48be72",
   "metadata": {},
   "outputs": [
    {
     "name": "stdout",
     "output_type": "stream",
     "text": [
      "### series s1\n"
     ]
    },
    {
     "data": {
      "text/plain": [
       "38    94\n",
       "25    48\n",
       "92    80\n",
       "49    31\n",
       "20    36\n",
       "dtype: int32"
      ]
     },
     "execution_count": 70,
     "metadata": {},
     "output_type": "execute_result"
    },
    {
     "data": {
      "text/plain": [
       "92"
      ]
     },
     "execution_count": 70,
     "metadata": {},
     "output_type": "execute_result"
    }
   ],
   "source": [
    "# 주어진 series s1의 데이터 중 최대값의 두 종류 index(부여한 index와 integer index) 합을 구하시오\n",
    "\n",
    "s1=pd.Series(index=np.random.randint(0,100,5), data=np.random.randint(0,100,5))\n",
    "print('### series s1')\n",
    "s1\n",
    "\n",
    "a1=s1.max()\n",
    "s2=s1.index\n",
    "s2.max()"
   ]
  },
  {
   "cell_type": "markdown",
   "id": "646632a7",
   "metadata": {},
   "source": [
    "### 문제3"
   ]
  },
  {
   "cell_type": "code",
   "execution_count": 86,
   "id": "c4b61758",
   "metadata": {},
   "outputs": [
    {
     "name": "stdout",
     "output_type": "stream",
     "text": [
      "### series s1\n"
     ]
    },
    {
     "data": {
      "text/plain": [
       "0    36\n",
       "1    26\n",
       "2    23\n",
       "3    16\n",
       "4     4\n",
       "5    95\n",
       "dtype: int32"
      ]
     },
     "execution_count": 86,
     "metadata": {},
     "output_type": "execute_result"
    },
    {
     "data": {
      "text/plain": [
       "4     4\n",
       "3    16\n",
       "2    23\n",
       "1    26\n",
       "0    36\n",
       "5    95\n",
       "dtype: int32"
      ]
     },
     "execution_count": 86,
     "metadata": {},
     "output_type": "execute_result"
    },
    {
     "data": {
      "text/plain": [
       "4     4\n",
       "3    16\n",
       "2    23\n",
       "dtype: int32"
      ]
     },
     "execution_count": 86,
     "metadata": {},
     "output_type": "execute_result"
    },
    {
     "data": {
      "text/plain": [
       "9"
      ]
     },
     "execution_count": 86,
     "metadata": {},
     "output_type": "execute_result"
    }
   ],
   "source": [
    "# 주어진 series s1 중 가장 적은 data 세 개의 index 합을 구하시오\n",
    "s1=pd.Series(data=np.random.randint(0,100,6))\n",
    "print('### series s1')\n",
    "s1\n",
    "\n",
    "s2=s1.sort_values()\n",
    "s2\n",
    "s3=s2.iloc[:3]\n",
    "s3\n",
    "np.sum(s3.index)"
   ]
  },
  {
   "cell_type": "markdown",
   "id": "a5d4ca8c",
   "metadata": {},
   "source": [
    "## 연습"
   ]
  },
  {
   "cell_type": "code",
   "execution_count": 20,
   "id": "0af0f3ea",
   "metadata": {},
   "outputs": [
    {
     "data": {
      "text/plain": [
       "d      1\n",
       "c      2\n",
       "b      4\n",
       "a    5.5\n",
       "e    3.7\n",
       "f      8\n",
       "g      3\n",
       "Name: number, dtype: object"
      ]
     },
     "execution_count": 20,
     "metadata": {},
     "output_type": "execute_result"
    },
    {
     "data": {
      "text/plain": [
       "4"
      ]
     },
     "execution_count": 20,
     "metadata": {},
     "output_type": "execute_result"
    }
   ],
   "source": [
    "s1=pd.Series([1,2,4,5.5,3.7,8,3],index=list('dcbaefg'),name='number',dtype=object)\n",
    "s1\n",
    "s1['a']=9\n",
    "np.sum(s1>3)"
   ]
  },
  {
   "cell_type": "code",
   "execution_count": 33,
   "id": "cfeb4a7c",
   "metadata": {},
   "outputs": [
    {
     "data": {
      "text/plain": [
       "a    100\n",
       "b    200\n",
       "c    300\n",
       "d    400\n",
       "e    500\n",
       "Name: dict, dtype: int32"
      ]
     },
     "execution_count": 33,
     "metadata": {},
     "output_type": "execute_result"
    },
    {
     "data": {
      "text/plain": [
       "pandas.core.indexes.base.Index"
      ]
     },
     "execution_count": 33,
     "metadata": {},
     "output_type": "execute_result"
    },
    {
     "data": {
      "text/plain": [
       "numpy.ndarray"
      ]
     },
     "execution_count": 33,
     "metadata": {},
     "output_type": "execute_result"
    },
    {
     "data": {
      "text/plain": [
       "alpha\n",
       "A    100.0\n",
       "B    200.0\n",
       "C    300.0\n",
       "D    400.0\n",
       "E    500.0\n",
       "Name: dict, dtype: float64"
      ]
     },
     "execution_count": 33,
     "metadata": {},
     "output_type": "execute_result"
    }
   ],
   "source": [
    "dict={'a':100,'b':200,'c':300,'d':400,'e':500}\n",
    "s1=pd.Series(dict,name='dict',dtype=float)\n",
    "s1.astype(int)\n",
    "s1.index=list('ABCDE')\n",
    "s1.index.name='alpha'\n",
    "type(s1.index)\n",
    "type(s1.values)\n",
    "s1"
   ]
  },
  {
   "cell_type": "code",
   "execution_count": 38,
   "id": "74f0565d",
   "metadata": {},
   "outputs": [
    {
     "data": {
      "text/plain": [
       "h    1\n",
       "a    2\n",
       "p    3\n",
       "p    4\n",
       "y    5\n",
       "Name: myname, dtype: int32"
      ]
     },
     "execution_count": 38,
     "metadata": {},
     "output_type": "execute_result"
    },
    {
     "data": {
      "text/plain": [
       "Index(['h', 'a', 'p', 'p', 'y'], dtype='object')"
      ]
     },
     "execution_count": 38,
     "metadata": {},
     "output_type": "execute_result"
    },
    {
     "data": {
      "text/plain": [
       "array([1, 2, 3, 4, 5])"
      ]
     },
     "execution_count": 38,
     "metadata": {},
     "output_type": "execute_result"
    }
   ],
   "source": [
    "n='happy'\n",
    "s1=pd.Series(np.arange(1,len(n)+1),index=list(n),name='myname')\n",
    "s1\n",
    "s1.index\n",
    "s1.values"
   ]
  },
  {
   "cell_type": "markdown",
   "id": "a21d36b6",
   "metadata": {},
   "source": [
    "#### 실습1"
   ]
  },
  {
   "cell_type": "code",
   "execution_count": 54,
   "id": "e4360c74",
   "metadata": {},
   "outputs": [
    {
     "data": {
      "text/plain": [
       "1    3\n",
       "2    7\n",
       "3    0\n",
       "4    3\n",
       "5    2\n",
       "dtype: int32"
      ]
     },
     "execution_count": 54,
     "metadata": {},
     "output_type": "execute_result"
    },
    {
     "data": {
      "text/plain": [
       "4.333333333333333"
      ]
     },
     "execution_count": 54,
     "metadata": {},
     "output_type": "execute_result"
    }
   ],
   "source": [
    "sr1=pd.Series(np.random.randint(10,size=5),index=np.arange(1,6))\n",
    "sr1\n",
    "a1=sr1.values\n",
    "a1[a1>=3].mean()"
   ]
  },
  {
   "cell_type": "code",
   "execution_count": 64,
   "id": "b85c6dbe",
   "metadata": {},
   "outputs": [
    {
     "data": {
      "text/plain": [
       "e    0\n",
       "d    1\n",
       "c    2\n",
       "b    3\n",
       "a    4\n",
       "Name: s1, dtype: int32"
      ]
     },
     "execution_count": 64,
     "metadata": {},
     "output_type": "execute_result"
    },
    {
     "data": {
      "text/plain": [
       "10"
      ]
     },
     "execution_count": 64,
     "metadata": {},
     "output_type": "execute_result"
    },
    {
     "data": {
      "text/plain": [
       "e    0\n",
       "d    4\n",
       "c    2\n",
       "b    3\n",
       "a    3\n",
       "Name: s1, dtype: int32"
      ]
     },
     "execution_count": 64,
     "metadata": {},
     "output_type": "execute_result"
    },
    {
     "data": {
      "text/plain": [
       "e    0\n",
       "Name: s1, dtype: int32"
      ]
     },
     "execution_count": 64,
     "metadata": {},
     "output_type": "execute_result"
    }
   ],
   "source": [
    "s1=pd.Series(np.arange(5),index=list('edcba'),name='s1')\n",
    "s1\n",
    "s1.loc['a']=10\n",
    "s1.loc['a']\n",
    "s1.loc[['a','d']]=[3,4]\n",
    "s1\n",
    "s1.loc[['e']]"
   ]
  },
  {
   "cell_type": "code",
   "execution_count": 68,
   "id": "4e1417ca",
   "metadata": {},
   "outputs": [
    {
     "data": {
      "text/plain": [
       "e    0\n",
       "d    1\n",
       "c    2\n",
       "b    3\n",
       "a    4\n",
       "Name: s1, dtype: int32"
      ]
     },
     "execution_count": 68,
     "metadata": {},
     "output_type": "execute_result"
    },
    {
     "data": {
      "text/plain": [
       "3"
      ]
     },
     "execution_count": 68,
     "metadata": {},
     "output_type": "execute_result"
    }
   ],
   "source": [
    "s1=pd.Series(np.arange(5),index=list('edcba'),name='s1')\n",
    "s1\n",
    "s1.iloc[3]\n",
    "s1.iloc[[3,2]]=100"
   ]
  },
  {
   "cell_type": "code",
   "execution_count": 73,
   "id": "0bcbe7d2",
   "metadata": {},
   "outputs": [
    {
     "data": {
      "text/plain": [
       "7    1\n",
       "3    3\n",
       "4    4\n",
       "8    5\n",
       "9    2\n",
       "Name: s1, dtype: int64"
      ]
     },
     "execution_count": 73,
     "metadata": {},
     "output_type": "execute_result"
    },
    {
     "data": {
      "text/plain": [
       "3    3\n",
       "Name: s1, dtype: int64"
      ]
     },
     "execution_count": 73,
     "metadata": {},
     "output_type": "execute_result"
    },
    {
     "data": {
      "text/plain": [
       "8    5\n",
       "Name: s1, dtype: int64"
      ]
     },
     "execution_count": 73,
     "metadata": {},
     "output_type": "execute_result"
    },
    {
     "data": {
      "text/plain": [
       "3    3\n",
       "4    4\n",
       "8    5\n",
       "9    2\n",
       "Name: s1, dtype: int64"
      ]
     },
     "execution_count": 73,
     "metadata": {},
     "output_type": "execute_result"
    },
    {
     "data": {
      "text/plain": [
       "7    1\n",
       "3    3\n",
       "4    4\n",
       "Name: s1, dtype: int64"
      ]
     },
     "execution_count": 73,
     "metadata": {},
     "output_type": "execute_result"
    },
    {
     "data": {
      "text/plain": [
       "4    4\n",
       "9    2\n",
       "Name: s1, dtype: int64"
      ]
     },
     "execution_count": 73,
     "metadata": {},
     "output_type": "execute_result"
    },
    {
     "data": {
      "text/plain": [
       "4    4\n",
       "9    2\n",
       "Name: s1, dtype: int64"
      ]
     },
     "execution_count": 73,
     "metadata": {},
     "output_type": "execute_result"
    }
   ],
   "source": [
    "s1=pd.Series([1,3,4,5,2],index=[7,3,4,8,9],name='s1')\n",
    "s1\n",
    "s1.loc[[3]]\n",
    "s1.iloc[[3]]\n",
    "\n",
    "s1.loc[3:9]\n",
    "s1.iloc[:3]\n",
    "\n",
    "s1.loc[4::2]\n",
    "s1.iloc[2::2]"
   ]
  },
  {
   "cell_type": "markdown",
   "id": "822876cc",
   "metadata": {},
   "source": [
    "#### 실습2"
   ]
  },
  {
   "cell_type": "code",
   "execution_count": 79,
   "id": "9da4499b",
   "metadata": {},
   "outputs": [
    {
     "data": {
      "text/plain": [
       "e    0\n",
       "1    1\n",
       "d    2\n",
       "2    3\n",
       "c    4\n",
       "3    5\n",
       "b    6\n",
       "4    7\n",
       "a    8\n",
       "5    9\n",
       "dtype: int32"
      ]
     },
     "execution_count": 79,
     "metadata": {},
     "output_type": "execute_result"
    },
    {
     "data": {
      "text/plain": [
       "2"
      ]
     },
     "execution_count": 79,
     "metadata": {},
     "output_type": "execute_result"
    },
    {
     "data": {
      "text/plain": [
       "5    9\n",
       "dtype: int32"
      ]
     },
     "execution_count": 79,
     "metadata": {},
     "output_type": "execute_result"
    },
    {
     "data": {
      "text/plain": [
       "d    2\n",
       "c    4\n",
       "b    6\n",
       "dtype: int32"
      ]
     },
     "execution_count": 79,
     "metadata": {},
     "output_type": "execute_result"
    },
    {
     "data": {
      "text/plain": [
       "2"
      ]
     },
     "execution_count": 79,
     "metadata": {},
     "output_type": "execute_result"
    },
    {
     "data": {
      "text/plain": [
       "5    9\n",
       "dtype: int32"
      ]
     },
     "execution_count": 79,
     "metadata": {},
     "output_type": "execute_result"
    },
    {
     "data": {
      "text/plain": [
       "d    2\n",
       "c    4\n",
       "b    6\n",
       "dtype: int32"
      ]
     },
     "execution_count": 79,
     "metadata": {},
     "output_type": "execute_result"
    }
   ],
   "source": [
    "s1=pd.Series(np.arange(10),index=list('e1d2c3b4a5'))\n",
    "s1\n",
    "s1.loc['d']\n",
    "s1.loc[['5']]\n",
    "s1.loc['d':'b':2]\n",
    "\n",
    "s1.iloc[2]\n",
    "s1.iloc[[9]]\n",
    "s1.iloc[2:7:2]"
   ]
  },
  {
   "cell_type": "code",
   "execution_count": 84,
   "id": "834ed011",
   "metadata": {},
   "outputs": [
    {
     "data": {
      "text/plain": [
       "0    1.213624\n",
       "1   -2.192122\n",
       "2    1.634323\n",
       "3    2.189900\n",
       "Name: s1, dtype: float64"
      ]
     },
     "execution_count": 84,
     "metadata": {},
     "output_type": "execute_result"
    },
    {
     "data": {
      "text/plain": [
       "0    15\n",
       "1    76\n",
       "2    66\n",
       "3    54\n",
       "Name: s1, dtype: int32"
      ]
     },
     "execution_count": 84,
     "metadata": {},
     "output_type": "execute_result"
    },
    {
     "data": {
      "text/plain": [
       "0    r\n",
       "1    r\n",
       "2    f\n",
       "3    e\n",
       "Name: s1, dtype: object"
      ]
     },
     "execution_count": 84,
     "metadata": {},
     "output_type": "execute_result"
    }
   ],
   "source": [
    "s1=pd.Series(np.random.normal(0,2,size=4),name='s1')\n",
    "s1\n",
    "s1=pd.Series(np.random.randint(100,size=4),name='s1')\n",
    "s1\n",
    "s1=pd.Series(np.random.choice(list('erferwe'),size=(4)),name='s1')\n",
    "s1"
   ]
  },
  {
   "cell_type": "code",
   "execution_count": 91,
   "id": "3690fc35",
   "metadata": {},
   "outputs": [
    {
     "data": {
      "text/plain": [
       "a    100\n",
       "b    200\n",
       "c    300\n",
       "d    400\n",
       "e    500\n",
       "f    600\n",
       "Name: s1, dtype: int64"
      ]
     },
     "execution_count": 91,
     "metadata": {},
     "output_type": "execute_result"
    },
    {
     "data": {
      "text/plain": [
       "array([100, 200, 300, 400, 500, 600], dtype=int64)"
      ]
     },
     "execution_count": 91,
     "metadata": {},
     "output_type": "execute_result"
    },
    {
     "data": {
      "text/plain": [
       "3"
      ]
     },
     "execution_count": 91,
     "metadata": {},
     "output_type": "execute_result"
    }
   ],
   "source": [
    "s1=pd.Series([100,200,300,400,500,600],index=list('abcdef'),name='s1')\n",
    "s1\n",
    "a1=s1.values\n",
    "a1\n",
    "np.sum(a1>300)"
   ]
  },
  {
   "cell_type": "code",
   "execution_count": 98,
   "id": "5c047b63",
   "metadata": {},
   "outputs": [
    {
     "data": {
      "text/plain": [
       "g    5\n",
       "b    3\n",
       "c    2\n",
       "e    1\n",
       "d    6\n",
       "a    9\n",
       "dtype: int64"
      ]
     },
     "execution_count": 98,
     "metadata": {},
     "output_type": "execute_result"
    },
    {
     "data": {
      "text/plain": [
       "a    9\n",
       "b    3\n",
       "c    2\n",
       "d    6\n",
       "e    1\n",
       "g    5\n",
       "dtype: int64"
      ]
     },
     "execution_count": 98,
     "metadata": {},
     "output_type": "execute_result"
    },
    {
     "data": {
      "text/plain": [
       "e    1\n",
       "c    2\n",
       "b    3\n",
       "g    5\n",
       "d    6\n",
       "a    9\n",
       "dtype: int64"
      ]
     },
     "execution_count": 98,
     "metadata": {},
     "output_type": "execute_result"
    }
   ],
   "source": [
    "s1=pd.Series([5,3,2,1,6,9],index=list('gbceda'))\n",
    "s1\n",
    "s1.sort_values(inplace=True)\n",
    "s2=s1.sort_index()\n",
    "s2\n",
    "s3=s2.sort_values()\n",
    "s3"
   ]
  },
  {
   "cell_type": "code",
   "execution_count": 101,
   "id": "3e0330e1",
   "metadata": {},
   "outputs": [
    {
     "data": {
      "text/plain": [
       "3    a\n",
       "4    b\n",
       "5    c\n",
       "6    a\n",
       "dtype: object"
      ]
     },
     "execution_count": 101,
     "metadata": {},
     "output_type": "execute_result"
    },
    {
     "data": {
      "text/plain": [
       "3    z\n",
       "4    z\n",
       "5    c\n",
       "6    z\n",
       "dtype: object"
      ]
     },
     "execution_count": 101,
     "metadata": {},
     "output_type": "execute_result"
    }
   ],
   "source": [
    "s1=pd.Series(list('abca'),index=range(3,7))\n",
    "s1\n",
    "s1.replace('a','5',inplace=True)\n",
    "s1.replace(['5','b'],'z',inplace=True)\n",
    "s1"
   ]
  }
 ],
 "metadata": {
  "kernelspec": {
   "display_name": "Python 3 (ipykernel)",
   "language": "python",
   "name": "python3"
  },
  "language_info": {
   "codemirror_mode": {
    "name": "ipython",
    "version": 3
   },
   "file_extension": ".py",
   "mimetype": "text/x-python",
   "name": "python",
   "nbconvert_exporter": "python",
   "pygments_lexer": "ipython3",
   "version": "3.9.7"
  }
 },
 "nbformat": 4,
 "nbformat_minor": 5
}
