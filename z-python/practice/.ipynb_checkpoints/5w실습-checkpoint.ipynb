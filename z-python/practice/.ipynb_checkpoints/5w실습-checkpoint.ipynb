{
 "cells": [
  {
   "cell_type": "code",
   "execution_count": 2,
   "id": "ade44036",
   "metadata": {},
   "outputs": [
    {
     "name": "stdout",
     "output_type": "stream",
     "text": [
      "python 3.9.7 (default, Sep 16 2021, 16:59:28) [MSC v.1916 64 bit (AMD64)]\n",
      "numpy 1.20.3\n",
      "pandas 1.3.4\n"
     ]
    }
   ],
   "source": [
    "import sys\n",
    "print('python', sys.version)\n",
    "\n",
    "import numpy as np\n",
    "print('numpy', np.__version__)\n",
    "\n",
    "import pandas as pd\n",
    "print('pandas', pd.__version__)\n",
    "\n",
    "import matplotlib.pyplot as plt\n",
    "\n",
    "# 결과 확인을 용이하게 하기 위한 코드\n",
    "from IPython.core.interactiveshell import InteractiveShell\n",
    "InteractiveShell.ast_node_interactivity = 'all'"
   ]
  },
  {
   "cell_type": "code",
   "execution_count": 9,
   "id": "ce81eee5",
   "metadata": {},
   "outputs": [
    {
     "data": {
      "text/plain": [
       "(array([471., 511., 509., 511., 496., 513., 460., 499., 487., 486., 525.,\n",
       "        508., 490., 475., 522., 490., 502., 526., 492., 527.]),\n",
       " array([3.81885717e-04, 5.00350649e-01, 1.00031941e+00, 1.50028818e+00,\n",
       "        2.00025694e+00, 2.50022570e+00, 3.00019447e+00, 3.50016323e+00,\n",
       "        4.00013199e+00, 4.50010076e+00, 5.00006952e+00, 5.50003828e+00,\n",
       "        6.00000705e+00, 6.49997581e+00, 6.99994457e+00, 7.49991334e+00,\n",
       "        7.99988210e+00, 8.49985086e+00, 8.99981963e+00, 9.49978839e+00,\n",
       "        9.99975715e+00]),\n",
       " <BarContainer object of 20 artists>)"
      ]
     },
     "execution_count": 9,
     "metadata": {},
     "output_type": "execute_result"
    },
    {
     "data": {
      "image/png": "[encoded data removed]",
      "text/plain": [
       "<Figure size 432x288 with 1 Axes>"
      ]
     },
     "metadata": {
      "needs_background": "light"
     },
     "output_type": "display_data"
    }
   ],
   "source": [
    "ar1=np.random.uniform(0,10,10000)\n",
    "fig, ax=plt.subplots()\n",
    "ax.hist(ar1,bins=20,edgecolor='r')"
   ]
  },
  {
   "cell_type": "markdown",
   "id": "30e15ec0",
   "metadata": {},
   "source": [
    "### 실습1"
   ]
  },
  {
   "cell_type": "code",
   "execution_count": 8,
   "id": "14543192",
   "metadata": {},
   "outputs": [
    {
     "data": {
      "text/plain": [
       "(array([1., 0., 0., 0., 0., 0., 1., 0., 1., 1., 1., 2., 1., 0., 1., 0., 0.,\n",
       "        0., 0., 1.]),\n",
       " array([1.84168402, 1.97996767, 2.11825131, 2.25653496, 2.39481861,\n",
       "        2.53310225, 2.6713859 , 2.80966954, 2.94795319, 3.08623684,\n",
       "        3.22452048, 3.36280413, 3.50108778, 3.63937142, 3.77765507,\n",
       "        3.91593871, 4.05422236, 4.19250601, 4.33078965, 4.4690733 ,\n",
       "        4.60735695]),\n",
       " <BarContainer object of 20 artists>)"
      ]
     },
     "execution_count": 8,
     "metadata": {},
     "output_type": "execute_result"
    },
    {
     "data": {
      "text/plain": [
       "(array([   7.,   20.,   57.,  138.,  266.,  498.,  805., 1097., 1302.,\n",
       "        1468., 1330., 1104.,  853.,  513.,  286.,  163.,   57.,   20.,\n",
       "          11.,    5.]),\n",
       " array([-0.49434081, -0.13104277,  0.23225526,  0.5955533 ,  0.95885134,\n",
       "         1.32214938,  1.68544741,  2.04874545,  2.41204349,  2.77534153,\n",
       "         3.13863956,  3.5019376 ,  3.86523564,  4.22853368,  4.59183171,\n",
       "         4.95512975,  5.31842779,  5.68172583,  6.04502386,  6.4083219 ,\n",
       "         6.77161994]),\n",
       " <BarContainer object of 20 artists>)"
      ]
     },
     "execution_count": 8,
     "metadata": {},
     "output_type": "execute_result"
    },
    {
     "data": {
      "image/png": "[encoded data removed]",
      "text/plain": [
       "<Figure size 432x288 with 1 Axes>"
      ]
     },
     "metadata": {
      "needs_background": "light"
     },
     "output_type": "display_data"
    },
    {
     "data": {
      "image/png": "[encoded data removed]",
      "text/plain": [
       "<Figure size 432x288 with 1 Axes>"
      ]
     },
     "metadata": {
      "needs_background": "light"
     },
     "output_type": "display_data"
    }
   ],
   "source": [
    "ar1=np.random.normal(3,1,size=10)\n",
    "fig, ax=plt.subplots()\n",
    "ax.hist(ar1,bins=20,edgecolor='r')\n",
    "\n",
    "ar1=np.random.normal(3,1,size=10000)\n",
    "fig, ax=plt.subplots()\n",
    "ax.hist(ar1,bins=20,edgecolor='r')"
   ]
  },
  {
   "cell_type": "code",
   "execution_count": 14,
   "id": "29d91c8e",
   "metadata": {},
   "outputs": [
    {
     "data": {
      "text/plain": [
       "array([[ 1,  2,  3,  4],\n",
       "       [ 5,  6,  7,  8],\n",
       "       [ 9, 10, 11, 12]])"
      ]
     },
     "execution_count": 14,
     "metadata": {},
     "output_type": "execute_result"
    },
    {
     "data": {
      "text/plain": [
       "78"
      ]
     },
     "execution_count": 14,
     "metadata": {},
     "output_type": "execute_result"
    },
    {
     "data": {
      "text/plain": [
       "78"
      ]
     },
     "execution_count": 14,
     "metadata": {},
     "output_type": "execute_result"
    },
    {
     "data": {
      "text/plain": [
       "array([15, 18, 21, 24])"
      ]
     },
     "execution_count": 14,
     "metadata": {},
     "output_type": "execute_result"
    },
    {
     "data": {
      "text/plain": [
       "array([10, 26, 42])"
      ]
     },
     "execution_count": 14,
     "metadata": {},
     "output_type": "execute_result"
    },
    {
     "data": {
      "text/plain": [
       "array([[[ 1,  2],\n",
       "        [ 3,  4],\n",
       "        [ 5,  6],\n",
       "        [ 7,  8],\n",
       "        [ 9, 10]],\n",
       "\n",
       "       [[11, 12],\n",
       "        [13, 14],\n",
       "        [15, 16],\n",
       "        [17, 18],\n",
       "        [19, 20]],\n",
       "\n",
       "       [[21, 22],\n",
       "        [23, 24],\n",
       "        [25, 26],\n",
       "        [27, 28],\n",
       "        [29, 30]]])"
      ]
     },
     "execution_count": 14,
     "metadata": {},
     "output_type": "execute_result"
    },
    {
     "data": {
      "text/plain": [
       "465"
      ]
     },
     "execution_count": 14,
     "metadata": {},
     "output_type": "execute_result"
    },
    {
     "data": {
      "text/plain": [
       "array([[33, 36],\n",
       "       [39, 42],\n",
       "       [45, 48],\n",
       "       [51, 54],\n",
       "       [57, 60]])"
      ]
     },
     "execution_count": 14,
     "metadata": {},
     "output_type": "execute_result"
    },
    {
     "data": {
      "text/plain": [
       "array([[ 25,  30],\n",
       "       [ 75,  80],\n",
       "       [125, 130]])"
      ]
     },
     "execution_count": 14,
     "metadata": {},
     "output_type": "execute_result"
    },
    {
     "data": {
      "text/plain": [
       "array([[ 3,  7, 11, 15, 19],\n",
       "       [23, 27, 31, 35, 39],\n",
       "       [43, 47, 51, 55, 59]])"
      ]
     },
     "execution_count": 14,
     "metadata": {},
     "output_type": "execute_result"
    }
   ],
   "source": [
    "a1=np.arange(1,13).reshape(3,4)\n",
    "a1\n",
    "a1.sum()\n",
    "np.sum(a1)\n",
    "np.sum(a1,axis=0)\n",
    "np.sum(a1,axis=1)\n",
    "\n",
    "a2=np.arange(1,31).reshape(3,5,2)\n",
    "a2\n",
    "a2.sum()\n",
    "np.sum(a2,axis=0)\n",
    "np.sum(a2,axis=1)\n",
    "np.sum(a2,axis=2)"
   ]
  },
  {
   "cell_type": "code",
   "execution_count": 22,
   "id": "4ec2e38d",
   "metadata": {},
   "outputs": [
    {
     "data": {
      "text/plain": [
       "array([[ 1,  2,  3,  4],\n",
       "       [ 5,  6,  7,  8],\n",
       "       [ 9, 10, 11, 12]])"
      ]
     },
     "execution_count": 22,
     "metadata": {},
     "output_type": "execute_result"
    },
    {
     "data": {
      "text/plain": [
       "array([5., 6., 7., 8.])"
      ]
     },
     "execution_count": 22,
     "metadata": {},
     "output_type": "execute_result"
    },
    {
     "data": {
      "text/plain": [
       "array([5., 6., 7., 8.])"
      ]
     },
     "execution_count": 22,
     "metadata": {},
     "output_type": "execute_result"
    },
    {
     "data": {
      "text/plain": [
       "array([3.26598632, 3.26598632, 3.26598632, 3.26598632])"
      ]
     },
     "execution_count": 22,
     "metadata": {},
     "output_type": "execute_result"
    },
    {
     "data": {
      "text/plain": [
       "array([10.66666667, 10.66666667, 10.66666667, 10.66666667])"
      ]
     },
     "execution_count": 22,
     "metadata": {},
     "output_type": "execute_result"
    },
    {
     "ename": "AttributeError",
     "evalue": "'numpy.ndarray' object has no attribute 'median'",
     "output_type": "error",
     "traceback": [
      "\u001b[1;31m---------------------------------------------------------------------------\u001b[0m",
      "\u001b[1;31mAttributeError\u001b[0m                            Traceback (most recent call last)",
      "\u001b[1;32m~\\AppData\\Local\\Temp/ipykernel_19668/217624482.py\u001b[0m in \u001b[0;36m<module>\u001b[1;34m\u001b[0m\n\u001b[0;32m      6\u001b[0m \u001b[0mnp\u001b[0m\u001b[1;33m.\u001b[0m\u001b[0mvar\u001b[0m\u001b[1;33m(\u001b[0m\u001b[0ma1\u001b[0m\u001b[1;33m,\u001b[0m\u001b[0maxis\u001b[0m\u001b[1;33m=\u001b[0m\u001b[1;36m0\u001b[0m\u001b[1;33m)\u001b[0m\u001b[1;33m\u001b[0m\u001b[1;33m\u001b[0m\u001b[0m\n\u001b[0;32m      7\u001b[0m \u001b[1;33m\u001b[0m\u001b[0m\n\u001b[1;32m----> 8\u001b[1;33m \u001b[0ma1\u001b[0m\u001b[1;33m.\u001b[0m\u001b[0mmedian\u001b[0m\u001b[1;33m(\u001b[0m\u001b[0maxis\u001b[0m\u001b[1;33m=\u001b[0m\u001b[1;36m0\u001b[0m\u001b[1;33m)\u001b[0m \u001b[1;31m# median 멤버함수가 없다.\u001b[0m\u001b[1;33m\u001b[0m\u001b[1;33m\u001b[0m\u001b[0m\n\u001b[0m",
      "\u001b[1;31mAttributeError\u001b[0m: 'numpy.ndarray' object has no attribute 'median'"
     ]
    }
   ],
   "source": [
    "a1=np.arange(1,13).reshape(3,4)\n",
    "a1\n",
    "np.mean(a1,axis=0)\n",
    "np.median(a1,axis=0)\n",
    "np.std(a1,axis=0)\n",
    "np.var(a1,axis=0)\n",
    "\n",
    "a1.median(axis=0) # median 멤버함수가 없다."
   ]
  },
  {
   "cell_type": "code",
   "execution_count": 36,
   "id": "73d01985",
   "metadata": {},
   "outputs": [
    {
     "name": "stdout",
     "output_type": "stream",
     "text": [
      "#matrix#\n"
     ]
    },
    {
     "data": {
      "text/plain": [
       "array([[51,  6, 20, 78],\n",
       "       [39, 29, 37, 16],\n",
       "       [34, 33, 29, 47]])"
      ]
     },
     "execution_count": 36,
     "metadata": {},
     "output_type": "execute_result"
    },
    {
     "data": {
      "text/plain": [
       "array([34,  6, 20, 16])"
      ]
     },
     "execution_count": 36,
     "metadata": {},
     "output_type": "execute_result"
    },
    {
     "data": {
      "text/plain": [
       "array([78, 39, 47])"
      ]
     },
     "execution_count": 36,
     "metadata": {},
     "output_type": "execute_result"
    },
    {
     "data": {
      "text/plain": [
       "1"
      ]
     },
     "execution_count": 36,
     "metadata": {},
     "output_type": "execute_result"
    },
    {
     "data": {
      "text/plain": [
       "array([2, 0, 0, 1], dtype=int64)"
      ]
     },
     "execution_count": 36,
     "metadata": {},
     "output_type": "execute_result"
    },
    {
     "data": {
      "text/plain": [
       "array([1, 3, 2], dtype=int64)"
      ]
     },
     "execution_count": 36,
     "metadata": {},
     "output_type": "execute_result"
    },
    {
     "name": "stdout",
     "output_type": "stream",
     "text": [
      "#tensor#\n"
     ]
    },
    {
     "data": {
      "text/plain": [
       "array([[[13, 16],\n",
       "        [17, 24],\n",
       "        [22, 26],\n",
       "        [12, 22],\n",
       "        [24,  2]],\n",
       "\n",
       "       [[ 6,  1],\n",
       "        [20,  9],\n",
       "        [21, 27],\n",
       "        [ 1, 24],\n",
       "        [18,  6]],\n",
       "\n",
       "       [[16, 19],\n",
       "        [15, 20],\n",
       "        [14, 22],\n",
       "        [18,  6],\n",
       "        [18, 27]]])"
      ]
     },
     "execution_count": 36,
     "metadata": {},
     "output_type": "execute_result"
    },
    {
     "data": {
      "text/plain": [
       "array([[ 6,  1],\n",
       "       [15,  9],\n",
       "       [14, 22],\n",
       "       [ 1,  6],\n",
       "       [18,  2]])"
      ]
     },
     "execution_count": 36,
     "metadata": {},
     "output_type": "execute_result"
    },
    {
     "data": {
      "text/plain": [
       "array([[4, 2],\n",
       "       [2, 2],\n",
       "       [3, 4]], dtype=int64)"
      ]
     },
     "execution_count": 36,
     "metadata": {},
     "output_type": "execute_result"
    },
    {
     "data": {
      "text/plain": [
       "7.626270385975047"
      ]
     },
     "execution_count": 36,
     "metadata": {},
     "output_type": "execute_result"
    },
    {
     "data": {
      "text/plain": [
       "array([[14.5, 20.5, 24. , 17. , 13. ],\n",
       "       [ 3.5, 14.5, 24. , 12.5, 12. ],\n",
       "       [17.5, 17.5, 18. , 12. , 22.5]])"
      ]
     },
     "execution_count": 36,
     "metadata": {},
     "output_type": "execute_result"
    }
   ],
   "source": [
    "print('#matrix#')\n",
    "m1=np.random.randint(100,size=(3,4))\n",
    "m1\n",
    "np.min(m1,axis=0)\n",
    "np.max(m1,axis=1)\n",
    "np.argmin(m1)\n",
    "np.argmin(m1,axis=0)\n",
    "np.argmin(m1,axis=1)\n",
    "print('#tensor#') \n",
    "a2=np.random.randint(30,size=(3,5,2))\n",
    "a2\n",
    "np.min(a2,axis=0)\n",
    "np.argmax(a2,axis=1)\n",
    "np.std(a2)\n",
    "np.mean(a2,axis=2)"
   ]
  },
  {
   "cell_type": "markdown",
   "id": "5819edb5",
   "metadata": {},
   "source": [
    "### 실습2"
   ]
  },
  {
   "cell_type": "code",
   "execution_count": 40,
   "id": "a9de9709",
   "metadata": {},
   "outputs": [
    {
     "data": {
      "text/plain": [
       "array([[ 0,  3,  6,  9, 12],\n",
       "       [15, 18, 21, 24, 27],\n",
       "       [30, 33, 36, 39, 42],\n",
       "       [45, 48, 51, 54, 57]])"
      ]
     },
     "execution_count": 40,
     "metadata": {},
     "output_type": "execute_result"
    },
    {
     "data": {
      "text/plain": [
       "570"
      ]
     },
     "execution_count": 40,
     "metadata": {},
     "output_type": "execute_result"
    },
    {
     "data": {
      "text/plain": [
       "array([ 30, 105, 180, 255])"
      ]
     },
     "execution_count": 40,
     "metadata": {},
     "output_type": "execute_result"
    },
    {
     "data": {
      "text/plain": [
       "array([22.5, 25.5, 28.5, 31.5, 34.5])"
      ]
     },
     "execution_count": 40,
     "metadata": {},
     "output_type": "execute_result"
    }
   ],
   "source": [
    "a1=np.arange(0,58,3).reshape(4,5)\n",
    "a1\n",
    "a1.sum()\n",
    "a1.sum(axis=1)\n",
    "a1.mean(axis=0)"
   ]
  },
  {
   "cell_type": "markdown",
   "id": "a879b692",
   "metadata": {},
   "source": [
    "### 실습3"
   ]
  },
  {
   "cell_type": "code",
   "execution_count": 42,
   "id": "45c1f1c9",
   "metadata": {},
   "outputs": [
    {
     "data": {
      "text/plain": [
       "array([[10, 75, 84, 44, 63],\n",
       "       [67, 84, 18, 46, 95],\n",
       "       [10, 33, 58, 74, 60],\n",
       "       [64,  6, 87, 61, 45]])"
      ]
     },
     "execution_count": 42,
     "metadata": {},
     "output_type": "execute_result"
    },
    {
     "data": {
      "text/plain": [
       "array([2, 4, 3, 2], dtype=int64)"
      ]
     },
     "execution_count": 42,
     "metadata": {},
     "output_type": "execute_result"
    }
   ],
   "source": [
    "a1=np.random.randint(100,size=(4,5))\n",
    "a1\n",
    "a1.argmax(axis=1)"
   ]
  },
  {
   "cell_type": "markdown",
   "id": "2f79e91c",
   "metadata": {},
   "source": [
    "### 실습4"
   ]
  },
  {
   "cell_type": "code",
   "execution_count": 50,
   "id": "944825ae",
   "metadata": {},
   "outputs": [
    {
     "data": {
      "text/plain": [
       "array([[ 0,  1,  2,  3,  4,  5,  6,  7,  8],\n",
       "       [ 9, 10, 11, 12, 13, 14, 15, 16, 17],\n",
       "       [18, 19, 20, 21, 22, 23, 24, 25, 26],\n",
       "       [27, 28, 29, 30, 31, 32, 33, 34, 35]])"
      ]
     },
     "execution_count": 50,
     "metadata": {},
     "output_type": "execute_result"
    },
    {
     "data": {
      "text/plain": [
       "array([[ 2,  5,  8],\n",
       "       [11, 14, 17],\n",
       "       [20, 23, 26],\n",
       "       [29, 32, 35]])"
      ]
     },
     "execution_count": 50,
     "metadata": {},
     "output_type": "execute_result"
    },
    {
     "data": {
      "text/plain": [
       "array([15.5, 18.5, 21.5])"
      ]
     },
     "execution_count": 50,
     "metadata": {},
     "output_type": "execute_result"
    },
    {
     "data": {
      "text/plain": [
       "array([10.0623059, 10.0623059, 10.0623059])"
      ]
     },
     "execution_count": 50,
     "metadata": {},
     "output_type": "execute_result"
    }
   ],
   "source": [
    "a1=np.arange(36).reshape(4,9)\n",
    "a1\n",
    "a2=a1[:,2::3]\n",
    "a2\n",
    "a2.mean(axis=0)\n",
    "a2.std(axis=0)"
   ]
  },
  {
   "cell_type": "markdown",
   "id": "4389bfe2",
   "metadata": {},
   "source": [
    "### 실습5"
   ]
  },
  {
   "cell_type": "code",
   "execution_count": 56,
   "id": "6b7d14f9",
   "metadata": {},
   "outputs": [
    {
     "data": {
      "text/plain": [
       "array([[[71,  4, 17, 32, 14],\n",
       "        [49, 11, 27, 95, 61],\n",
       "        [98, 45, 20, 57, 84],\n",
       "        [30, 39, 53, 31, 23]],\n",
       "\n",
       "       [[47, 87, 54, 27, 88],\n",
       "        [52, 34,  8, 72, 97],\n",
       "        [ 4, 75, 24, 59, 86],\n",
       "        [73, 77, 91,  2, 66]],\n",
       "\n",
       "       [[70, 99, 93, 93, 13],\n",
       "        [31, 76, 49, 94, 17],\n",
       "        [31, 89, 85, 77, 66],\n",
       "        [21,  6, 82, 51, 93]]])"
      ]
     },
     "execution_count": 56,
     "metadata": {},
     "output_type": "execute_result"
    },
    {
     "data": {
      "text/plain": [
       "array([[17., 49., 57., 31.],\n",
       "       [54., 52., 59., 73.],\n",
       "       [93., 49., 77., 51.]])"
      ]
     },
     "execution_count": 56,
     "metadata": {},
     "output_type": "execute_result"
    },
    {
     "data": {
      "text/plain": [
       "array([98, 97, 99])"
      ]
     },
     "execution_count": 56,
     "metadata": {},
     "output_type": "execute_result"
    }
   ],
   "source": [
    "a1=np.random.randint(100,size=(3,4,5))\n",
    "a1\n",
    "np.median(a1,axis=2).reshape(3,4)\n",
    "np.max(a1,axis=(1,2))"
   ]
  },
  {
   "cell_type": "markdown",
   "id": "9f721279",
   "metadata": {},
   "source": [
    "### 중심극한정리"
   ]
  },
  {
   "cell_type": "code",
   "execution_count": 63,
   "id": "cfcc0bce",
   "metadata": {},
   "outputs": [],
   "source": [
    "import matplotlib.pyplot as plt\n",
    "\n",
    "def draw_hist(a1,nbin=20):\n",
    "    fig, ax=plt.subplots()\n",
    "    _=ax.hist(a1,bins=nbin,edgecolor='r')"
   ]
  },
  {
   "cell_type": "code",
   "execution_count": 66,
   "id": "5c41bc4b",
   "metadata": {},
   "outputs": [
    {
     "name": "stdout",
     "output_type": "stream",
     "text": [
      "#uniform#\n"
     ]
    },
    {
     "data": {
      "image/png": "[encoded data removed]",
      "text/plain": [
       "<Figure size 432x288 with 1 Axes>"
      ]
     },
     "metadata": {
      "needs_background": "light"
     },
     "output_type": "display_data"
    },
    {
     "data": {
      "image/png": "[encoded data removed]",
      "text/plain": [
       "<Figure size 432x288 with 1 Axes>"
      ]
     },
     "metadata": {
      "needs_background": "light"
     },
     "output_type": "display_data"
    }
   ],
   "source": [
    "print('#uniform#')\n",
    "s1=np.random.uniform(3,5,size=10000)\n",
    "draw_hist(s1)\n",
    "\n",
    "s2=np.random.uniform(3,5,size=(2000,10000))\n",
    "m1=s2.mean(axis=1)\n",
    "draw_hist(m1)"
   ]
  },
  {
   "cell_type": "code",
   "execution_count": 68,
   "id": "1dff1e31",
   "metadata": {},
   "outputs": [
    {
     "name": "stdout",
     "output_type": "stream",
     "text": [
      "#normal#\n"
     ]
    },
    {
     "data": {
      "image/png": "[encoded data removed]",
      "text/plain": [
       "<Figure size 432x288 with 1 Axes>"
      ]
     },
     "metadata": {
      "needs_background": "light"
     },
     "output_type": "display_data"
    },
    {
     "data": {
      "image/png": "[encoded data removed]",
      "text/plain": [
       "<Figure size 432x288 with 1 Axes>"
      ]
     },
     "metadata": {
      "needs_background": "light"
     },
     "output_type": "display_data"
    }
   ],
   "source": [
    "print('#normal#')\n",
    "s1=np.random.normal(3,2,size=10000)\n",
    "draw_hist(s1)\n",
    "\n",
    "s2=np.random.normal(3,2,size=(2000,10000))\n",
    "m1=s2.mean(axis=1)\n",
    "draw_hist(m1)"
   ]
  },
  {
   "cell_type": "code",
   "execution_count": 73,
   "id": "3e589cb2",
   "metadata": {},
   "outputs": [
    {
     "name": "stdout",
     "output_type": "stream",
     "text": [
      "#choice#\n"
     ]
    },
    {
     "data": {
      "image/png": "[encoded data removed]",
      "text/plain": [
       "<Figure size 432x288 with 1 Axes>"
      ]
     },
     "metadata": {
      "needs_background": "light"
     },
     "output_type": "display_data"
    },
    {
     "data": {
      "image/png": "[encoded data removed]",
      "text/plain": [
       "<Figure size 432x288 with 1 Axes>"
      ]
     },
     "metadata": {
      "needs_background": "light"
     },
     "output_type": "display_data"
    },
    {
     "data": {
      "image/png": "[encoded data removed]",
      "text/plain": [
       "<Figure size 432x288 with 1 Axes>"
      ]
     },
     "metadata": {
      "needs_background": "light"
     },
     "output_type": "display_data"
    }
   ],
   "source": [
    "print('#choice#')\n",
    "ar1=np.concatenate((np.arange(0,100), np.arange(50,150), np.arange(0,20), np.arange(10,30)))\n",
    "s1=np.random.choice(ar1,size=10000)\n",
    "draw_hist(s1)\n",
    "\n",
    "s2=np.random.choice(ar1,size=(2000,10000))\n",
    "m1=s2.mean(axis=1)\n",
    "draw_hist(m1)\n",
    "\n",
    "s3=np.random.choice(ar1,size=(2000,3)) # 표본의 크기기 작아 중심극한정리 불가능\n",
    "m1=s3.mean(axis=1)\n",
    "draw_hist(m1)"
   ]
  },
  {
   "cell_type": "code",
   "execution_count": null,
   "id": "adeb658b",
   "metadata": {},
   "outputs": [],
   "source": []
  }
 ],
 "metadata": {
  "kernelspec": {
   "display_name": "Python 3 (ipykernel)",
   "language": "python",
   "name": "python3"
  },
  "language_info": {
   "codemirror_mode": {
    "name": "ipython",
    "version": 3
   },
   "file_extension": ".py",
   "mimetype": "text/x-python",
   "name": "python",
   "nbconvert_exporter": "python",
   "pygments_lexer": "ipython3",
   "version": "3.9.7"
  }
 },
 "nbformat": 4,
 "nbformat_minor": 5
}
