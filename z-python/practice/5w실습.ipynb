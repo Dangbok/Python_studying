{
 "cells": [
  {
   "cell_type": "code",
   "execution_count": 1,
   "id": "ade44036",
   "metadata": {},
   "outputs": [
    {
     "name": "stdout",
     "output_type": "stream",
     "text": [
      "python 3.9.7 (default, Sep 16 2021, 16:59:28) [MSC v.1916 64 bit (AMD64)]\n",
      "numpy 1.20.3\n",
      "pandas 1.3.4\n"
     ]
    }
   ],
   "source": [
    "import sys\n",
    "print('python', sys.version)\n",
    "\n",
    "import numpy as np\n",
    "print('numpy', np.__version__)\n",
    "\n",
    "import pandas as pd\n",
    "print('pandas', pd.__version__)\n",
    "\n",
    "import matplotlib.pyplot as plt\n",
    "\n",
    "# 결과 확인을 용이하게 하기 위한 코드\n",
    "from IPython.core.interactiveshell import InteractiveShell\n",
    "InteractiveShell.ast_node_interactivity = 'all'"
   ]
  },
  {
   "cell_type": "code",
   "execution_count": 2,
   "id": "ce81eee5",
   "metadata": {},
   "outputs": [
    {
     "data": {
      "text/plain": [
       "(array([480., 523., 532., 493., 476., 476., 527., 503., 519., 459., 503.,\n",
       "        492., 484., 471., 500., 521., 509., 521., 481., 530.]),\n",
       " array([4.84592841e-04, 5.00411228e-01, 1.00033786e+00, 1.50026450e+00,\n",
       "        2.00019113e+00, 2.50011777e+00, 3.00004440e+00, 3.49997104e+00,\n",
       "        3.99989767e+00, 4.49982431e+00, 4.99975094e+00, 5.49967758e+00,\n",
       "        5.99960421e+00, 6.49953085e+00, 6.99945748e+00, 7.49938412e+00,\n",
       "        7.99931075e+00, 8.49923738e+00, 8.99916402e+00, 9.49909065e+00,\n",
       "        9.99901729e+00]),\n",
       " <BarContainer object of 20 artists>)"
      ]
     },
     "execution_count": 2,
     "metadata": {},
     "output_type": "execute_result"
    },
    {
     "data": {
      "image/png": "[encoded data removed]",
      "text/plain": [
       "<Figure size 432x288 with 1 Axes>"
      ]
     },
     "metadata": {
      "needs_background": "light"
     },
     "output_type": "display_data"
    }
   ],
   "source": [
    "ar1=np.random.uniform(0,10,10000)\n",
    "fig, ax=plt.subplots()\n",
    "ax.hist(ar1,bins=20,edgecolor='r')"
   ]
  },
  {
   "cell_type": "markdown",
   "id": "30e15ec0",
   "metadata": {},
   "source": [
    "### 실습1"
   ]
  },
  {
   "cell_type": "code",
   "execution_count": 3,
   "id": "14543192",
   "metadata": {},
   "outputs": [
    {
     "data": {
      "text/plain": [
       "(array([2., 0., 0., 0., 0., 0., 0., 0., 1., 0., 0., 0., 0., 2., 0., 0., 2.,\n",
       "        0., 1., 2.]),\n",
       " array([1.98575151, 2.05945057, 2.13314964, 2.20684871, 2.28054777,\n",
       "        2.35424684, 2.4279459 , 2.50164497, 2.57534403, 2.6490431 ,\n",
       "        2.72274216, 2.79644123, 2.8701403 , 2.94383936, 3.01753843,\n",
       "        3.09123749, 3.16493656, 3.23863562, 3.31233469, 3.38603376,\n",
       "        3.45973282]),\n",
       " <BarContainer object of 20 artists>)"
      ]
     },
     "execution_count": 3,
     "metadata": {},
     "output_type": "execute_result"
    },
    {
     "data": {
      "text/plain": [
       "(array([   2.,    8.,   29.,   71.,  178.,  359.,  601.,  953., 1260.,\n",
       "        1450., 1528., 1281.,  958.,  622.,  373.,  196.,   92.,   19.,\n",
       "          16.,    4.]),\n",
       " array([-7.48881255e-01, -3.75458086e-01, -2.03491676e-03,  3.71388252e-01,\n",
       "         7.44811422e-01,  1.11823459e+00,  1.49165776e+00,  1.86508093e+00,\n",
       "         2.23850410e+00,  2.61192727e+00,  2.98535044e+00,  3.35877361e+00,\n",
       "         3.73219678e+00,  4.10561994e+00,  4.47904311e+00,  4.85246628e+00,\n",
       "         5.22588945e+00,  5.59931262e+00,  5.97273579e+00,  6.34615896e+00,\n",
       "         6.71958213e+00]),\n",
       " <BarContainer object of 20 artists>)"
      ]
     },
     "execution_count": 3,
     "metadata": {},
     "output_type": "execute_result"
    },
    {
     "data": {
      "image/png": "[encoded data removed]",
      "text/plain": [
       "<Figure size 432x288 with 1 Axes>"
      ]
     },
     "metadata": {
      "needs_background": "light"
     },
     "output_type": "display_data"
    },
    {
     "data": {
      "image/png": "[encoded data removed]",
      "text/plain": [
       "<Figure size 432x288 with 1 Axes>"
      ]
     },
     "metadata": {
      "needs_background": "light"
     },
     "output_type": "display_data"
    }
   ],
   "source": [
    "ar1=np.random.normal(3,1,size=10)\n",
    "fig, ax=plt.subplots()\n",
    "ax.hist(ar1,bins=20,edgecolor='r')\n",
    "\n",
    "ar1=np.random.normal(3,1,size=10000)\n",
    "fig, ax=plt.subplots()\n",
    "ax.hist(ar1,bins=20,edgecolor='r')"
   ]
  },
  {
   "cell_type": "code",
   "execution_count": 14,
   "id": "29d91c8e",
   "metadata": {},
   "outputs": [
    {
     "data": {
      "text/plain": [
       "array([[ 1,  2,  3,  4],\n",
       "       [ 5,  6,  7,  8],\n",
       "       [ 9, 10, 11, 12]])"
      ]
     },
     "execution_count": 14,
     "metadata": {},
     "output_type": "execute_result"
    },
    {
     "data": {
      "text/plain": [
       "78"
      ]
     },
     "execution_count": 14,
     "metadata": {},
     "output_type": "execute_result"
    },
    {
     "data": {
      "text/plain": [
       "78"
      ]
     },
     "execution_count": 14,
     "metadata": {},
     "output_type": "execute_result"
    },
    {
     "data": {
      "text/plain": [
       "array([15, 18, 21, 24])"
      ]
     },
     "execution_count": 14,
     "metadata": {},
     "output_type": "execute_result"
    },
    {
     "data": {
      "text/plain": [
       "array([10, 26, 42])"
      ]
     },
     "execution_count": 14,
     "metadata": {},
     "output_type": "execute_result"
    },
    {
     "data": {
      "text/plain": [
       "array([[[ 1,  2],\n",
       "        [ 3,  4],\n",
       "        [ 5,  6],\n",
       "        [ 7,  8],\n",
       "        [ 9, 10]],\n",
       "\n",
       "       [[11, 12],\n",
       "        [13, 14],\n",
       "        [15, 16],\n",
       "        [17, 18],\n",
       "        [19, 20]],\n",
       "\n",
       "       [[21, 22],\n",
       "        [23, 24],\n",
       "        [25, 26],\n",
       "        [27, 28],\n",
       "        [29, 30]]])"
      ]
     },
     "execution_count": 14,
     "metadata": {},
     "output_type": "execute_result"
    },
    {
     "data": {
      "text/plain": [
       "465"
      ]
     },
     "execution_count": 14,
     "metadata": {},
     "output_type": "execute_result"
    },
    {
     "data": {
      "text/plain": [
       "array([[33, 36],\n",
       "       [39, 42],\n",
       "       [45, 48],\n",
       "       [51, 54],\n",
       "       [57, 60]])"
      ]
     },
     "execution_count": 14,
     "metadata": {},
     "output_type": "execute_result"
    },
    {
     "data": {
      "text/plain": [
       "array([[ 25,  30],\n",
       "       [ 75,  80],\n",
       "       [125, 130]])"
      ]
     },
     "execution_count": 14,
     "metadata": {},
     "output_type": "execute_result"
    },
    {
     "data": {
      "text/plain": [
       "array([[ 3,  7, 11, 15, 19],\n",
       "       [23, 27, 31, 35, 39],\n",
       "       [43, 47, 51, 55, 59]])"
      ]
     },
     "execution_count": 14,
     "metadata": {},
     "output_type": "execute_result"
    }
   ],
   "source": [
    "a1=np.arange(1,13).reshape(3,4)\n",
    "a1\n",
    "a1.sum()\n",
    "np.sum(a1)\n",
    "np.sum(a1,axis=0)\n",
    "np.sum(a1,axis=1)\n",
    "\n",
    "a2=np.arange(1,31).reshape(3,5,2)\n",
    "a2\n",
    "a2.sum()\n",
    "np.sum(a2,axis=0)\n",
    "np.sum(a2,axis=1)\n",
    "np.sum(a2,axis=2)"
   ]
  },
  {
   "cell_type": "code",
   "execution_count": 22,
   "id": "4ec2e38d",
   "metadata": {},
   "outputs": [
    {
     "data": {
      "text/plain": [
       "array([[ 1,  2,  3,  4],\n",
       "       [ 5,  6,  7,  8],\n",
       "       [ 9, 10, 11, 12]])"
      ]
     },
     "execution_count": 22,
     "metadata": {},
     "output_type": "execute_result"
    },
    {
     "data": {
      "text/plain": [
       "array([5., 6., 7., 8.])"
      ]
     },
     "execution_count": 22,
     "metadata": {},
     "output_type": "execute_result"
    },
    {
     "data": {
      "text/plain": [
       "array([5., 6., 7., 8.])"
      ]
     },
     "execution_count": 22,
     "metadata": {},
     "output_type": "execute_result"
    },
    {
     "data": {
      "text/plain": [
       "array([3.26598632, 3.26598632, 3.26598632, 3.26598632])"
      ]
     },
     "execution_count": 22,
     "metadata": {},
     "output_type": "execute_result"
    },
    {
     "data": {
      "text/plain": [
       "array([10.66666667, 10.66666667, 10.66666667, 10.66666667])"
      ]
     },
     "execution_count": 22,
     "metadata": {},
     "output_type": "execute_result"
    },
    {
     "ename": "AttributeError",
     "evalue": "'numpy.ndarray' object has no attribute 'median'",
     "output_type": "error",
     "traceback": [
      "\u001b[1;31m---------------------------------------------------------------------------\u001b[0m",
      "\u001b[1;31mAttributeError\u001b[0m                            Traceback (most recent call last)",
      "\u001b[1;32m~\\AppData\\Local\\Temp/ipykernel_19668/217624482.py\u001b[0m in \u001b[0;36m<module>\u001b[1;34m\u001b[0m\n\u001b[0;32m      6\u001b[0m \u001b[0mnp\u001b[0m\u001b[1;33m.\u001b[0m\u001b[0mvar\u001b[0m\u001b[1;33m(\u001b[0m\u001b[0ma1\u001b[0m\u001b[1;33m,\u001b[0m\u001b[0maxis\u001b[0m\u001b[1;33m=\u001b[0m\u001b[1;36m0\u001b[0m\u001b[1;33m)\u001b[0m\u001b[1;33m\u001b[0m\u001b[1;33m\u001b[0m\u001b[0m\n\u001b[0;32m      7\u001b[0m \u001b[1;33m\u001b[0m\u001b[0m\n\u001b[1;32m----> 8\u001b[1;33m \u001b[0ma1\u001b[0m\u001b[1;33m.\u001b[0m\u001b[0mmedian\u001b[0m\u001b[1;33m(\u001b[0m\u001b[0maxis\u001b[0m\u001b[1;33m=\u001b[0m\u001b[1;36m0\u001b[0m\u001b[1;33m)\u001b[0m \u001b[1;31m# median 멤버함수가 없다.\u001b[0m\u001b[1;33m\u001b[0m\u001b[1;33m\u001b[0m\u001b[0m\n\u001b[0m",
      "\u001b[1;31mAttributeError\u001b[0m: 'numpy.ndarray' object has no attribute 'median'"
     ]
    }
   ],
   "source": [
    "a1=np.arange(1,13).reshape(3,4)\n",
    "a1\n",
    "np.mean(a1,axis=0)\n",
    "np.median(a1,axis=0)\n",
    "np.std(a1,axis=0)\n",
    "np.var(a1,axis=0)\n",
    "\n",
    "a1.median(axis=0) # median 멤버함수가 없다."
   ]
  },
  {
   "cell_type": "code",
   "execution_count": 36,
   "id": "73d01985",
   "metadata": {},
   "outputs": [
    {
     "name": "stdout",
     "output_type": "stream",
     "text": [
      "#matrix#\n"
     ]
    },
    {
     "data": {
      "text/plain": [
       "array([[51,  6, 20, 78],\n",
       "       [39, 29, 37, 16],\n",
       "       [34, 33, 29, 47]])"
      ]
     },
     "execution_count": 36,
     "metadata": {},
     "output_type": "execute_result"
    },
    {
     "data": {
      "text/plain": [
       "array([34,  6, 20, 16])"
      ]
     },
     "execution_count": 36,
     "metadata": {},
     "output_type": "execute_result"
    },
    {
     "data": {
      "text/plain": [
       "array([78, 39, 47])"
      ]
     },
     "execution_count": 36,
     "metadata": {},
     "output_type": "execute_result"
    },
    {
     "data": {
      "text/plain": [
       "1"
      ]
     },
     "execution_count": 36,
     "metadata": {},
     "output_type": "execute_result"
    },
    {
     "data": {
      "text/plain": [
       "array([2, 0, 0, 1], dtype=int64)"
      ]
     },
     "execution_count": 36,
     "metadata": {},
     "output_type": "execute_result"
    },
    {
     "data": {
      "text/plain": [
       "array([1, 3, 2], dtype=int64)"
      ]
     },
     "execution_count": 36,
     "metadata": {},
     "output_type": "execute_result"
    },
    {
     "name": "stdout",
     "output_type": "stream",
     "text": [
      "#tensor#\n"
     ]
    },
    {
     "data": {
      "text/plain": [
       "array([[[13, 16],\n",
       "        [17, 24],\n",
       "        [22, 26],\n",
       "        [12, 22],\n",
       "        [24,  2]],\n",
       "\n",
       "       [[ 6,  1],\n",
       "        [20,  9],\n",
       "        [21, 27],\n",
       "        [ 1, 24],\n",
       "        [18,  6]],\n",
       "\n",
       "       [[16, 19],\n",
       "        [15, 20],\n",
       "        [14, 22],\n",
       "        [18,  6],\n",
       "        [18, 27]]])"
      ]
     },
     "execution_count": 36,
     "metadata": {},
     "output_type": "execute_result"
    },
    {
     "data": {
      "text/plain": [
       "array([[ 6,  1],\n",
       "       [15,  9],\n",
       "       [14, 22],\n",
       "       [ 1,  6],\n",
       "       [18,  2]])"
      ]
     },
     "execution_count": 36,
     "metadata": {},
     "output_type": "execute_result"
    },
    {
     "data": {
      "text/plain": [
       "array([[4, 2],\n",
       "       [2, 2],\n",
       "       [3, 4]], dtype=int64)"
      ]
     },
     "execution_count": 36,
     "metadata": {},
     "output_type": "execute_result"
    },
    {
     "data": {
      "text/plain": [
       "7.626270385975047"
      ]
     },
     "execution_count": 36,
     "metadata": {},
     "output_type": "execute_result"
    },
    {
     "data": {
      "text/plain": [
       "array([[14.5, 20.5, 24. , 17. , 13. ],\n",
       "       [ 3.5, 14.5, 24. , 12.5, 12. ],\n",
       "       [17.5, 17.5, 18. , 12. , 22.5]])"
      ]
     },
     "execution_count": 36,
     "metadata": {},
     "output_type": "execute_result"
    }
   ],
   "source": [
    "print('#matrix#')\n",
    "m1=np.random.randint(100,size=(3,4))\n",
    "m1\n",
    "np.min(m1,axis=0)\n",
    "np.max(m1,axis=1)\n",
    "np.argmin(m1)\n",
    "np.argmin(m1,axis=0)\n",
    "np.argmin(m1,axis=1)\n",
    "print('#tensor#') \n",
    "a2=np.random.randint(30,size=(3,5,2))\n",
    "a2\n",
    "np.min(a2,axis=0)\n",
    "np.argmax(a2,axis=1)\n",
    "np.std(a2)\n",
    "np.mean(a2,axis=2)"
   ]
  },
  {
   "cell_type": "markdown",
   "id": "5819edb5",
   "metadata": {},
   "source": [
    "### 실습2"
   ]
  },
  {
   "cell_type": "code",
   "execution_count": 4,
   "id": "a9de9709",
   "metadata": {},
   "outputs": [
    {
     "data": {
      "text/plain": [
       "array([[ 0,  3,  6,  9, 12],\n",
       "       [15, 18, 21, 24, 27],\n",
       "       [30, 33, 36, 39, 42],\n",
       "       [45, 48, 51, 54, 57]])"
      ]
     },
     "execution_count": 4,
     "metadata": {},
     "output_type": "execute_result"
    },
    {
     "data": {
      "text/plain": [
       "570"
      ]
     },
     "execution_count": 4,
     "metadata": {},
     "output_type": "execute_result"
    },
    {
     "data": {
      "text/plain": [
       "array([ 30, 105, 180, 255])"
      ]
     },
     "execution_count": 4,
     "metadata": {},
     "output_type": "execute_result"
    },
    {
     "data": {
      "text/plain": [
       "array([22.5, 25.5, 28.5, 31.5, 34.5])"
      ]
     },
     "execution_count": 4,
     "metadata": {},
     "output_type": "execute_result"
    }
   ],
   "source": [
    "a1=np.arange(0,58,3).reshape(4,5)\n",
    "a1\n",
    "a1.sum()\n",
    "a1.sum(axis=1)\n",
    "a1.mean(axis=0)"
   ]
  },
  {
   "cell_type": "code",
   "execution_count": 5,
   "id": "79090173",
   "metadata": {},
   "outputs": [
    {
     "data": {
      "text/plain": [
       "array([[ 0,  3,  6,  9, 12],\n",
       "       [15, 18, 21, 24, 27],\n",
       "       [30, 33, 36, 39, 42],\n",
       "       [45, 48, 51, 54, 57]])"
      ]
     },
     "execution_count": 5,
     "metadata": {},
     "output_type": "execute_result"
    },
    {
     "data": {
      "text/plain": [
       "570"
      ]
     },
     "execution_count": 5,
     "metadata": {},
     "output_type": "execute_result"
    },
    {
     "data": {
      "text/plain": [
       "array([ 30, 105, 180, 255])"
      ]
     },
     "execution_count": 5,
     "metadata": {},
     "output_type": "execute_result"
    },
    {
     "data": {
      "text/plain": [
       "array([22.5, 25.5, 28.5, 31.5, 34.5])"
      ]
     },
     "execution_count": 5,
     "metadata": {},
     "output_type": "execute_result"
    }
   ],
   "source": [
    "a1=np.arange(0,58,3).reshape(4,5)\n",
    "a1\n",
    "np.sum(a1)\n",
    "np.sum(a1,axis=1)\n",
    "np.mean(a1,axis=0)"
   ]
  },
  {
   "cell_type": "markdown",
   "id": "a879b692",
   "metadata": {},
   "source": [
    "### 실습3"
   ]
  },
  {
   "cell_type": "code",
   "execution_count": 6,
   "id": "45c1f1c9",
   "metadata": {},
   "outputs": [
    {
     "data": {
      "text/plain": [
       "array([[43,  9, 53,  3, 89],\n",
       "       [42, 56, 61, 80, 49],\n",
       "       [14, 53, 43, 33, 84],\n",
       "       [21, 61, 66, 81, 95]])"
      ]
     },
     "execution_count": 6,
     "metadata": {},
     "output_type": "execute_result"
    },
    {
     "data": {
      "text/plain": [
       "array([4, 3, 4, 4], dtype=int64)"
      ]
     },
     "execution_count": 6,
     "metadata": {},
     "output_type": "execute_result"
    }
   ],
   "source": [
    "a1=np.random.randint(100,size=(4,5))\n",
    "a1\n",
    "a1.argmax(axis=1)"
   ]
  },
  {
   "cell_type": "code",
   "execution_count": 7,
   "id": "956cfea9",
   "metadata": {},
   "outputs": [
    {
     "data": {
      "text/plain": [
       "array([[58, 13, 71, 80,  2],\n",
       "       [48,  5, 73,  6, 17],\n",
       "       [38, 97, 67,  7, 96],\n",
       "       [86, 67, 19, 47, 67]])"
      ]
     },
     "execution_count": 7,
     "metadata": {},
     "output_type": "execute_result"
    },
    {
     "data": {
      "text/plain": [
       "array([3, 2, 1, 0], dtype=int64)"
      ]
     },
     "execution_count": 7,
     "metadata": {},
     "output_type": "execute_result"
    }
   ],
   "source": [
    "a1=np.random.randint(100,size=(4,5))\n",
    "a1\n",
    "np.argmax(a1,axis=1)"
   ]
  },
  {
   "cell_type": "markdown",
   "id": "2f79e91c",
   "metadata": {},
   "source": [
    "### 실습4"
   ]
  },
  {
   "cell_type": "code",
   "execution_count": 8,
   "id": "944825ae",
   "metadata": {},
   "outputs": [
    {
     "data": {
      "text/plain": [
       "array([[ 0,  1,  2,  3,  4,  5,  6,  7,  8],\n",
       "       [ 9, 10, 11, 12, 13, 14, 15, 16, 17],\n",
       "       [18, 19, 20, 21, 22, 23, 24, 25, 26],\n",
       "       [27, 28, 29, 30, 31, 32, 33, 34, 35]])"
      ]
     },
     "execution_count": 8,
     "metadata": {},
     "output_type": "execute_result"
    },
    {
     "data": {
      "text/plain": [
       "array([[ 2,  5,  8],\n",
       "       [11, 14, 17],\n",
       "       [20, 23, 26],\n",
       "       [29, 32, 35]])"
      ]
     },
     "execution_count": 8,
     "metadata": {},
     "output_type": "execute_result"
    },
    {
     "data": {
      "text/plain": [
       "array([15.5, 18.5, 21.5])"
      ]
     },
     "execution_count": 8,
     "metadata": {},
     "output_type": "execute_result"
    },
    {
     "data": {
      "text/plain": [
       "array([10.0623059, 10.0623059, 10.0623059])"
      ]
     },
     "execution_count": 8,
     "metadata": {},
     "output_type": "execute_result"
    }
   ],
   "source": [
    "a1=np.arange(36).reshape(4,9)\n",
    "a1\n",
    "a2=a1[:,2::3]\n",
    "a2\n",
    "a2.mean(axis=0)\n",
    "a2.std(axis=0)"
   ]
  },
  {
   "cell_type": "code",
   "execution_count": 9,
   "id": "0f136ff9",
   "metadata": {},
   "outputs": [
    {
     "data": {
      "text/plain": [
       "array([[ 0,  1,  2,  3,  4,  5,  6,  7,  8],\n",
       "       [ 9, 10, 11, 12, 13, 14, 15, 16, 17],\n",
       "       [18, 19, 20, 21, 22, 23, 24, 25, 26],\n",
       "       [27, 28, 29, 30, 31, 32, 33, 34, 35]])"
      ]
     },
     "execution_count": 9,
     "metadata": {},
     "output_type": "execute_result"
    },
    {
     "data": {
      "text/plain": [
       "array([[ 2,  5,  8],\n",
       "       [11, 14, 17],\n",
       "       [20, 23, 26],\n",
       "       [29, 32, 35]])"
      ]
     },
     "execution_count": 9,
     "metadata": {},
     "output_type": "execute_result"
    },
    {
     "data": {
      "text/plain": [
       "array([15.5, 18.5, 21.5])"
      ]
     },
     "execution_count": 9,
     "metadata": {},
     "output_type": "execute_result"
    },
    {
     "data": {
      "text/plain": [
       "array([10.0623059, 10.0623059, 10.0623059])"
      ]
     },
     "execution_count": 9,
     "metadata": {},
     "output_type": "execute_result"
    }
   ],
   "source": [
    "a1=np.arange(36).reshape(4,9)\n",
    "a1\n",
    "a2=a1[:,2::3]\n",
    "a2\n",
    "np.mean(a2,axis=0)\n",
    "np.std(a2,axis=0)\n"
   ]
  },
  {
   "cell_type": "markdown",
   "id": "4389bfe2",
   "metadata": {},
   "source": [
    "### 실습5"
   ]
  },
  {
   "cell_type": "code",
   "execution_count": 10,
   "id": "6b7d14f9",
   "metadata": {},
   "outputs": [
    {
     "data": {
      "text/plain": [
       "array([[[74, 42, 46, 51, 85],\n",
       "        [94, 39, 76, 59, 54],\n",
       "        [47, 40, 56, 64, 91],\n",
       "        [57, 89, 51,  5, 45]],\n",
       "\n",
       "       [[45, 31,  5, 80, 32],\n",
       "        [41, 77, 10, 92, 65],\n",
       "        [31, 90, 62, 46, 27],\n",
       "        [83, 79, 80, 87, 68]],\n",
       "\n",
       "       [[40, 11, 20, 22, 49],\n",
       "        [89, 50,  9,  0, 25],\n",
       "        [42,  0, 36, 79, 32],\n",
       "        [15, 44,  6, 98, 19]]])"
      ]
     },
     "execution_count": 10,
     "metadata": {},
     "output_type": "execute_result"
    },
    {
     "data": {
      "text/plain": [
       "array([[51., 59., 56., 51.],\n",
       "       [32., 65., 46., 80.],\n",
       "       [22., 25., 36., 19.]])"
      ]
     },
     "execution_count": 10,
     "metadata": {},
     "output_type": "execute_result"
    },
    {
     "data": {
      "text/plain": [
       "array([94, 92, 98])"
      ]
     },
     "execution_count": 10,
     "metadata": {},
     "output_type": "execute_result"
    }
   ],
   "source": [
    "a1=np.random.randint(100,size=(3,4,5))\n",
    "a1\n",
    "np.median(a1,axis=2).reshape(3,4)\n",
    "np.max(a1,axis=(1,2))"
   ]
  },
  {
   "cell_type": "code",
   "execution_count": 15,
   "id": "b5e070ca",
   "metadata": {},
   "outputs": [
    {
     "data": {
      "text/plain": [
       "array([[[54, 99, 30, 30,  7],\n",
       "        [17, 61, 20, 54, 33],\n",
       "        [62, 36, 55, 66, 79],\n",
       "        [71, 17, 78, 80, 84]],\n",
       "\n",
       "       [[71, 50, 45, 33, 90],\n",
       "        [17, 30, 82,  4, 52],\n",
       "        [49, 81, 84, 97, 91],\n",
       "        [94, 31, 48,  5, 89]],\n",
       "\n",
       "       [[59, 51, 21, 89, 33],\n",
       "        [44, 23, 85, 15, 29],\n",
       "        [11, 76,  3, 46, 55],\n",
       "        [42, 21, 88, 27,  0]]])"
      ]
     },
     "execution_count": 15,
     "metadata": {},
     "output_type": "execute_result"
    },
    {
     "data": {
      "text/plain": [
       "array([[30., 33., 62., 78.],\n",
       "       [50., 30., 84., 48.],\n",
       "       [51., 29., 46., 27.]])"
      ]
     },
     "execution_count": 15,
     "metadata": {},
     "output_type": "execute_result"
    },
    {
     "data": {
      "text/plain": [
       "array([99, 97, 89])"
      ]
     },
     "execution_count": 15,
     "metadata": {},
     "output_type": "execute_result"
    }
   ],
   "source": [
    "a1=np.random.randint(100,size=(3,4,5))\n",
    "a1\n",
    "a2=np.median(a1,axis=2).reshape(3,4)\n",
    "a2\n",
    "np.max(a1,axis=(1,2))"
   ]
  },
  {
   "cell_type": "markdown",
   "id": "9f721279",
   "metadata": {},
   "source": [
    "### 중심극한정리"
   ]
  },
  {
   "cell_type": "code",
   "execution_count": 16,
   "id": "cfcc0bce",
   "metadata": {},
   "outputs": [],
   "source": [
    "import matplotlib.pyplot as plt\n",
    "\n",
    "def draw_hist(a1,nbin=20):\n",
    "    fig, ax=plt.subplots()\n",
    "    _=ax.hist(a1,bins=nbin,edgecolor='r')"
   ]
  },
  {
   "cell_type": "code",
   "execution_count": 17,
   "id": "5c41bc4b",
   "metadata": {},
   "outputs": [
    {
     "name": "stdout",
     "output_type": "stream",
     "text": [
      "#uniform#\n"
     ]
    },
    {
     "data": {
      "image/png": "[encoded data removed]",
      "text/plain": [
       "<Figure size 432x288 with 1 Axes>"
      ]
     },
     "metadata": {
      "needs_background": "light"
     },
     "output_type": "display_data"
    },
    {
     "data": {
      "image/png": "[encoded data removed]",
      "text/plain": [
       "<Figure size 432x288 with 1 Axes>"
      ]
     },
     "metadata": {
      "needs_background": "light"
     },
     "output_type": "display_data"
    }
   ],
   "source": [
    "print('#uniform#')\n",
    "s1=np.random.uniform(3,5,size=10000)\n",
    "draw_hist(s1)\n",
    "\n",
    "s2=np.random.uniform(3,5,size=(2000,10000))\n",
    "m1=s2.mean(axis=1)\n",
    "draw_hist(m1)"
   ]
  },
  {
   "cell_type": "code",
   "execution_count": 68,
   "id": "1dff1e31",
   "metadata": {},
   "outputs": [
    {
     "name": "stdout",
     "output_type": "stream",
     "text": [
      "#normal#\n"
     ]
    },
    {
     "data": {
      "image/png": "[encoded data removed]",
      "text/plain": [
       "<Figure size 432x288 with 1 Axes>"
      ]
     },
     "metadata": {
      "needs_background": "light"
     },
     "output_type": "display_data"
    },
    {
     "data": {
      "image/png": "[encoded data removed]",
      "text/plain": [
       "<Figure size 432x288 with 1 Axes>"
      ]
     },
     "metadata": {
      "needs_background": "light"
     },
     "output_type": "display_data"
    }
   ],
   "source": [
    "print('#normal#')\n",
    "s1=np.random.normal(3,2,size=10000)\n",
    "draw_hist(s1)\n",
    "\n",
    "s2=np.random.normal(3,2,size=(2000,10000))\n",
    "m1=s2.mean(axis=1)\n",
    "draw_hist(m1)"
   ]
  },
  {
   "cell_type": "code",
   "execution_count": 73,
   "id": "3e589cb2",
   "metadata": {},
   "outputs": [
    {
     "name": "stdout",
     "output_type": "stream",
     "text": [
      "#choice#\n"
     ]
    },
    {
     "data": {
      "image/png": "[encoded data removed]",
      "text/plain": [
       "<Figure size 432x288 with 1 Axes>"
      ]
     },
     "metadata": {
      "needs_background": "light"
     },
     "output_type": "display_data"
    },
    {
     "data": {
      "image/png": "[encoded data removed]",
      "text/plain": [
       "<Figure size 432x288 with 1 Axes>"
      ]
     },
     "metadata": {
      "needs_background": "light"
     },
     "output_type": "display_data"
    },
    {
     "data": {
      "image/png": "[encoded data removed]",
      "text/plain": [
       "<Figure size 432x288 with 1 Axes>"
      ]
     },
     "metadata": {
      "needs_background": "light"
     },
     "output_type": "display_data"
    }
   ],
   "source": [
    "print('#choice#')\n",
    "ar1=np.concatenate((np.arange(0,100), np.arange(50,150), np.arange(0,20), np.arange(10,30)))\n",
    "s1=np.random.choice(ar1,size=10000)\n",
    "draw_hist(s1)\n",
    "\n",
    "s2=np.random.choice(ar1,size=(2000,10000))\n",
    "m1=s2.mean(axis=1)\n",
    "draw_hist(m1)\n",
    "\n",
    "s3=np.random.choice(ar1,size=(2000,3)) # 표본의 크기기 작아 중심극한정리 불가능\n",
    "m1=s3.mean(axis=1)\n",
    "draw_hist(m1)"
   ]
  },
  {
   "cell_type": "code",
   "execution_count": 18,
   "id": "adeb658b",
   "metadata": {},
   "outputs": [
    {
     "data": {
      "text/plain": [
       "array([[16, 12, 10, 16, 16, 18],\n",
       "       [20, 10, 16, 14,  6, 18],\n",
       "       [12,  2,  6,  2, 18,  6],\n",
       "       [20, 16,  6,  4, 20,  0],\n",
       "       [ 6,  8,  6,  0,  8, 18],\n",
       "       [14, 12, 18, 10, 14, 16]])"
      ]
     },
     "execution_count": 18,
     "metadata": {},
     "output_type": "execute_result"
    },
    {
     "data": {
      "text/plain": [
       "array([[16, 10,  6],\n",
       "       [ 4,  8, 16]])"
      ]
     },
     "execution_count": 18,
     "metadata": {},
     "output_type": "execute_result"
    }
   ],
   "source": [
    "a1=np.random.choice(np.arange(0,21,2),size=(6,6))\n",
    "a1\n",
    "a2=np.diag(a1).reshape(2,3)\n",
    "a2"
   ]
  },
  {
   "cell_type": "code",
   "execution_count": 19,
   "id": "99505202",
   "metadata": {},
   "outputs": [
    {
     "data": {
      "text/plain": [
       "array([[[93, 69, 84, 52],\n",
       "        [90, 11, 79,  6],\n",
       "        [63, 51, 12, 54],\n",
       "        [18, 54, 49, 65]],\n",
       "\n",
       "       [[34, 20,  0,  9],\n",
       "        [63, 45,  7, 23],\n",
       "        [ 9,  4, 24,  0],\n",
       "        [18, 93, 98, 73]],\n",
       "\n",
       "       [[31, 89, 47,  2],\n",
       "        [49, 13, 19, 38],\n",
       "        [55, 31, 79, 45],\n",
       "        [49, 49, 94,  3]]])"
      ]
     },
     "execution_count": 19,
     "metadata": {},
     "output_type": "execute_result"
    },
    {
     "data": {
      "text/plain": [
       "array([9, 4, 0, 0])"
      ]
     },
     "execution_count": 19,
     "metadata": {},
     "output_type": "execute_result"
    }
   ],
   "source": [
    "a1=np.random.randint(100,size=(3,4,4))\n",
    "a1\n",
    "np.min(a1,axis=(0,1))"
   ]
  },
  {
   "cell_type": "code",
   "execution_count": 20,
   "id": "bbd260b4",
   "metadata": {},
   "outputs": [],
   "source": [
    "import matplotlib.pyplot as plt\n",
    "\n",
    "def draw_hist(a1,nbin=20):\n",
    "    fig, ax=plt.subplots()\n",
    "    _=ax.hist(a1,bins=nbin,edgecolor='r')"
   ]
  },
  {
   "cell_type": "code",
   "execution_count": 23,
   "id": "e4973f81",
   "metadata": {},
   "outputs": [
    {
     "name": "stdout",
     "output_type": "stream",
     "text": [
      "#uniform#\n"
     ]
    },
    {
     "data": {
      "image/png": "[encoded data removed]",
      "text/plain": [
       "<Figure size 432x288 with 1 Axes>"
      ]
     },
     "metadata": {
      "needs_background": "light"
     },
     "output_type": "display_data"
    },
    {
     "data": {
      "image/png": "[encoded data removed]",
      "text/plain": [
       "<Figure size 432x288 with 1 Axes>"
      ]
     },
     "metadata": {
      "needs_background": "light"
     },
     "output_type": "display_data"
    }
   ],
   "source": [
    "print('#uniform#')\n",
    "s1=np.random.uniform(1,2,size=10000)\n",
    "draw_hist(s1)\n",
    "\n",
    "s2=np.random.uniform(3,5,size=(2000,10))\n",
    "m1=np.median(s2,axis=1)\n",
    "draw_hist(m1)"
   ]
  },
  {
   "cell_type": "code",
   "execution_count": null,
   "id": "84e50b89",
   "metadata": {},
   "outputs": [],
   "source": []
  }
 ],
 "metadata": {
  "kernelspec": {
   "display_name": "Python 3 (ipykernel)",
   "language": "python",
   "name": "python3"
  },
  "language_info": {
   "codemirror_mode": {
    "name": "ipython",
    "version": 3
   },
   "file_extension": ".py",
   "mimetype": "text/x-python",
   "name": "python",
   "nbconvert_exporter": "python",
   "pygments_lexer": "ipython3",
   "version": "3.9.7"
  }
 },
 "nbformat": 4,
 "nbformat_minor": 5
}
