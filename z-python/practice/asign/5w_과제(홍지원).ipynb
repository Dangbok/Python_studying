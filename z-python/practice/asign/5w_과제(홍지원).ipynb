{
 "cells": [
  {
   "cell_type": "code",
   "execution_count": 1,
   "id": "83bfd1d0",
   "metadata": {},
   "outputs": [
    {
     "name": "stdout",
     "output_type": "stream",
     "text": [
      "python 3.9.7 (default, Sep 16 2021, 16:59:28) [MSC v.1916 64 bit (AMD64)]\n",
      "numpy 1.20.3\n",
      "pandas 1.3.4\n"
     ]
    }
   ],
   "source": [
    "import sys\n",
    "print('python', sys.version)\n",
    "\n",
    "import numpy as np\n",
    "print('numpy', np.__version__)\n",
    "\n",
    "import pandas as pd\n",
    "print('pandas', pd.__version__)\n",
    "\n",
    "# 결과 확인을 용이하게 하기 위한 코드\n",
    "from IPython.core.interactiveshell import InteractiveShell\n",
    "InteractiveShell.ast_node_interactivity = 'all'"
   ]
  },
  {
   "cell_type": "markdown",
   "id": "5896cafe",
   "metadata": {},
   "source": [
    "# 과제2-1"
   ]
  },
  {
   "cell_type": "code",
   "execution_count": 4,
   "id": "7d7494c5",
   "metadata": {},
   "outputs": [
    {
     "data": {
      "text/plain": [
       "array([[ 0, 16,  6, 12,  4, 16],\n",
       "       [14,  8,  0,  4, 14, 14],\n",
       "       [20,  0, 10, 14,  8, 18],\n",
       "       [ 6, 16,  4,  8, 20,  6],\n",
       "       [14, 10, 10,  4,  0,  8],\n",
       "       [ 8,  0,  4, 20, 16, 18]])"
      ]
     },
     "execution_count": 4,
     "metadata": {},
     "output_type": "execute_result"
    },
    {
     "data": {
      "text/plain": [
       "array([ 0,  8, 10,  8,  0, 18])"
      ]
     },
     "execution_count": 4,
     "metadata": {},
     "output_type": "execute_result"
    },
    {
     "data": {
      "text/plain": [
       "array([[ 0,  8, 10],\n",
       "       [ 8,  0, 18]])"
      ]
     },
     "execution_count": 4,
     "metadata": {},
     "output_type": "execute_result"
    }
   ],
   "source": [
    "# (0,2,4,6,8,10,12,14,16,18,20) 에서 랜덤하게 값을 뽑아서 6x6을 만들고,\n",
    "# 그 대각값을 가지고 2x3 matrix를 만드시오 (단 replacement 허용, 복원추출)\n",
    "\n",
    "## 코드작성\n",
    "v1=np.random.choice(np.arange(0,21,2),size=(6,6))\n",
    "v1\n",
    "np.diag(v1)\n",
    "np.diag(v1).reshape(2,3)"
   ]
  },
  {
   "cell_type": "markdown",
   "id": "968ffffb",
   "metadata": {},
   "source": [
    "# 과제2-2"
   ]
  },
  {
   "cell_type": "code",
   "execution_count": 6,
   "id": "115d0329",
   "metadata": {},
   "outputs": [
    {
     "data": {
      "text/plain": [
       "array([[[91, 67, 44, 26],\n",
       "        [79, 88, 43,  3],\n",
       "        [ 8, 92, 30, 68],\n",
       "        [86, 65, 17, 97]],\n",
       "\n",
       "       [[93, 52,  9, 43],\n",
       "        [41, 88, 29, 54],\n",
       "        [71, 50, 66, 68],\n",
       "        [ 1,  1, 31, 20]],\n",
       "\n",
       "       [[15, 17,  6,  6],\n",
       "        [17, 59, 51, 81],\n",
       "        [46,  6,  7,  3],\n",
       "        [11, 77,  7, 37]]])"
      ]
     },
     "execution_count": 6,
     "metadata": {},
     "output_type": "execute_result"
    },
    {
     "data": {
      "text/plain": [
       "array([1, 1, 6, 3])"
      ]
     },
     "execution_count": 6,
     "metadata": {},
     "output_type": "execute_result"
    }
   ],
   "source": [
    "# 0~99까지의 정수로 이루어진 random array (3,4,4)를 만들고, 각 matrix의 모든 열에서 가장 작은 값을 구하시오\n",
    "\n",
    "## 코드작성\n",
    "v1=np.random.randint(100,size=(3,4,4))\n",
    "v1\n",
    "np.min(v1,axis=(0,1))"
   ]
  },
  {
   "cell_type": "markdown",
   "id": "0de71a54",
   "metadata": {},
   "source": [
    "# 과제2-3"
   ]
  },
  {
   "cell_type": "code",
   "execution_count": 8,
   "id": "7e37ce9e",
   "metadata": {},
   "outputs": [],
   "source": [
    "import matplotlib.pyplot as plt\n",
    "\n",
    "def draw_hist(ar1, nbin=20):\n",
    "    fig, ax=plt.subplots()\n",
    "    _=ax.hist(ar1, bins=nbin, edgecolor='r')"
   ]
  },
  {
   "cell_type": "code",
   "execution_count": 10,
   "id": "f7f07ca4",
   "metadata": {},
   "outputs": [
    {
     "data": {
      "image/png": "[encoded data removed]",
      "text/plain": [
       "<Figure size 432x288 with 1 Axes>"
      ]
     },
     "metadata": {
      "needs_background": "light"
     },
     "output_type": "display_data"
    }
   ],
   "source": [
    "## 모분포 (uniform(1,2))에서 크기가 10,000인 샘플을 추출한 후에, 샘플(표본)의 분포를 그리시오\n",
    "\n",
    "## 코드작성\n",
    "s1=np.random.uniform(1,2,size=10000)\n",
    "draw_hist(s1)"
   ]
  },
  {
   "cell_type": "code",
   "execution_count": 9,
   "id": "0d6feaa7",
   "metadata": {},
   "outputs": [
    {
     "data": {
      "image/png": "[encoded data removed]",
      "text/plain": [
       "<Figure size 432x288 with 1 Axes>"
      ]
     },
     "metadata": {
      "needs_background": "light"
     },
     "output_type": "display_data"
    }
   ],
   "source": [
    "# 위의 모분포에서, 표본의 크기가 10인 2,000개의 표본들에 대해서 표본 중앙값의 분포를 그리시오\n",
    "\n",
    "## 코드작성\n",
    "import numpy as np\n",
    "import matplotlib.pyplot as plt\n",
    "\n",
    "def draw_hist(ar1, nbin=20):\n",
    "    fig, ax=plt.subplots()\n",
    "    _=ax.hist(ar1, bins=nbin, edgecolor='r')\n",
    "\n",
    "s2=np.random.uniform(1,2, size=(2000,10))\n",
    "s2[:5,:5]\n",
    "s3=np.median(s2,axis=1)\n",
    "\n",
    "draw_hist(s3)"
   ]
  },
  {
   "cell_type": "code",
   "execution_count": null,
   "id": "766a1c57",
   "metadata": {},
   "outputs": [],
   "source": []
  }
 ],
 "metadata": {
  "kernelspec": {
   "display_name": "Python 3 (ipykernel)",
   "language": "python",
   "name": "python3"
  },
  "language_info": {
   "codemirror_mode": {
    "name": "ipython",
    "version": 3
   },
   "file_extension": ".py",
   "mimetype": "text/x-python",
   "name": "python",
   "nbconvert_exporter": "python",
   "pygments_lexer": "ipython3",
   "version": "3.9.7"
  }
 },
 "nbformat": 4,
 "nbformat_minor": 5
}
