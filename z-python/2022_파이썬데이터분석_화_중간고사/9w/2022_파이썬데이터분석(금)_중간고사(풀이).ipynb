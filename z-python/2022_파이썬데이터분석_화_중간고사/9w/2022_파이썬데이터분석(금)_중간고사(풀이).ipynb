{
 "cells": [
  {
   "cell_type": "markdown",
   "metadata": {},
   "source": [
    "* 2022년 4월 22일. 파이썬프로그래밍(금) 중간고사."
   ]
  },
  {
   "cell_type": "code",
   "execution_count": 2,
   "metadata": {},
   "outputs": [],
   "source": [
    "##################################################\n",
    "############### 문제 풀기 전 주의사항 ##############\n",
    "##################################################\n",
    "\n",
    "# 시험시간 내 인터넷 사용 금지, 시험문제 다운로드, 업로드 시에만 가능\n",
    "# (시험 중, 핸드폰이나 인터넷 사용을 포함한 부정행위 적발시 0점 처리).\n",
    "\n",
    "# ipynb 시험파일, html 시험파일을 다운 받고,\n",
    "# ipynb 시험 파일은 파일명 수정 -> ds_중간_20181234_홍길동.ipynb.\n",
    "\n",
    "# html 파일의 실행결과를 참고하여, ipynb 파일의 #=== 코드작성 ===# 부분에 코드를 작성하여\n",
    "# 프로그램을 완성 (ipynb파일의 실행결과는 코드 작성과정에서 사라질 수 있음).\n",
    "\n",
    "# 맨 위의 셀을 우선 실행.\n",
    "# 랜덤 값을 입력으로하는 문제는 주어진 실행결과와 다른 실행결과가 나올 수 있음.\n",
    "# 문제에 주어진 코드는 수정 불가 (수정가능한 문제의 경우 따로 명시).\n",
    "\n",
    "# 시험 도중 anaconda prompt (검은창) 지우지 말것.\n",
    "# 갑자기 컴퓨터에 문제가 생길수 있으니, 시험 중간중간에 파일 저장 (crtl+s) 할 것.\n",
    "\n",
    "# 시험이 끝나면 실행결과를 모두 확인하고 작성한 ipynb 파일 \"저장\" 후,\n",
    "# 작성한 ipynb을 < 캔버스 --> 과제 --> 중간고사> 에 업로드.\n"
   ]
  },
  {
   "cell_type": "code",
   "execution_count": 3,
   "metadata": {},
   "outputs": [
    {
     "name": "stdout",
     "output_type": "stream",
     "text": [
      "python 3.9.7 (default, Sep 16 2021, 16:59:28) [MSC v.1916 64 bit (AMD64)]\n",
      "numpy 1.21.5\n",
      "pandas 1.4.1\n",
      "matplotlib 3.5.1\n",
      "seaborn 0.11.2\n"
     ]
    }
   ],
   "source": [
    "# 사용할 패키지를 import합니다\n",
    "import sys\n",
    "print('python', sys.version)\n",
    "\n",
    "import numpy as np\n",
    "print('numpy', np.__version__)\n",
    "\n",
    "import pandas as pd\n",
    "print('pandas', pd.__version__)\n",
    "\n",
    "import matplotlib as mpl\n",
    "print('matplotlib', mpl.__version__)\n",
    "\n",
    "import matplotlib.pyplot as plt\n",
    "plt.rc(\"font\", family=\"Malgun Gothic\") # window\n",
    "\n",
    "import seaborn as sns\n",
    "print('seaborn', sns.__version__)\n",
    "\n",
    "# 결과 확인을 용이하게 하기 위한 코드\n",
    "from IPython.core.interactiveshell import InteractiveShell\n",
    "InteractiveShell.ast_node_interactivity = 'all'"
   ]
  },
  {
   "cell_type": "markdown",
   "metadata": {},
   "source": [
    "# 문제1"
   ]
  },
  {
   "cell_type": "code",
   "execution_count": 3,
   "metadata": {},
   "outputs": [
    {
     "name": "stdout",
     "output_type": "stream",
     "text": [
      "### m1\n"
     ]
    },
    {
     "data": {
      "text/plain": [
       "array([[2, 1, 2, 1],\n",
       "       [4, 2, 4, 3],\n",
       "       [1, 6, 4, 8],\n",
       "       [7, 4, 5, 6]])"
      ]
     },
     "execution_count": 3,
     "metadata": {},
     "output_type": "execute_result"
    },
    {
     "name": "stdout",
     "output_type": "stream",
     "text": [
      "### m1의 (1,1)과 (0,3) 위치에 있는 값을 더한 값  s1\n"
     ]
    },
    {
     "data": {
      "text/plain": [
       "3"
      ]
     },
     "execution_count": 3,
     "metadata": {},
     "output_type": "execute_result"
    }
   ],
   "source": [
    "# random matrix m1의 (1,1)과 (0,3) 위치에 있는 값을 더하시오\n",
    "\n",
    "m1=np.random.randint(10,size=(4,4))\n",
    "print(\"### m1\")\n",
    "m1\n",
    "#=== 코드작성 ===# \n",
    "s1=m1[1,1]+m1[0,3]\n",
    "#=== 코드작성 끝===# \n",
    "\n",
    "print(\"### m1의 (1,1)과 (0,3) 위치에 있는 값을 더한 값  s1\")\n",
    "s1"
   ]
  },
  {
   "cell_type": "markdown",
   "metadata": {},
   "source": [
    "# 문제2"
   ]
  },
  {
   "cell_type": "code",
   "execution_count": 3,
   "metadata": {},
   "outputs": [
    {
     "name": "stdout",
     "output_type": "stream",
     "text": [
      "### 3차원 tensor\n"
     ]
    },
    {
     "data": {
      "text/plain": [
       "array([[[ 0,  1,  2],\n",
       "        [ 3,  4,  5]],\n",
       "\n",
       "       [[ 6,  7,  8],\n",
       "        [ 9, 10, 11]],\n",
       "\n",
       "       [[12, 13, 14],\n",
       "        [15, 16, 17]],\n",
       "\n",
       "       [[18, 19, 20],\n",
       "        [21, 22, 23]]])"
      ]
     },
     "execution_count": 3,
     "metadata": {},
     "output_type": "execute_result"
    }
   ],
   "source": [
    "# 아래와 같은 3차원 tensor를 만드시오\n",
    "\n",
    "#=== 코드작성 ===# \n",
    "t1=np.arange(24).reshape(4,2,3)\n",
    "#=== 코드작성 끝===# \n",
    "\n",
    "print(\"### 3차원 tensor\")\n",
    "t1"
   ]
  },
  {
   "cell_type": "markdown",
   "metadata": {},
   "source": [
    "# 문제3"
   ]
  },
  {
   "cell_type": "code",
   "execution_count": 94,
   "metadata": {},
   "outputs": [
    {
     "name": "stdout",
     "output_type": "stream",
     "text": [
      "### m1\n"
     ]
    },
    {
     "data": {
      "text/plain": [
       "array([[ 0,  1,  2,  3,  4,  5],\n",
       "       [ 6,  7,  8,  9, 10, 11],\n",
       "       [12, 13, 14, 15, 16, 17],\n",
       "       [18, 19, 20, 21, 22, 23],\n",
       "       [24, 25, 26, 27, 28, 29],\n",
       "       [30, 31, 32, 33, 34, 35],\n",
       "       [36, 37, 38, 39, 40, 41],\n",
       "       [42, 43, 44, 45, 46, 47],\n",
       "       [48, 49, 50, 51, 52, 53],\n",
       "       [54, 55, 56, 57, 58, 59]])"
      ]
     },
     "execution_count": 94,
     "metadata": {},
     "output_type": "execute_result"
    },
    {
     "name": "stdout",
     "output_type": "stream",
     "text": [
      "### m1을 슬라이싱한 결과 m2\n"
     ]
    },
    {
     "data": {
      "text/plain": [
       "array([[ 1,  4],\n",
       "       [13, 16],\n",
       "       [25, 28],\n",
       "       [37, 40],\n",
       "       [49, 52]])"
      ]
     },
     "execution_count": 94,
     "metadata": {},
     "output_type": "execute_result"
    }
   ],
   "source": [
    "# 아래에 주어진 m1을 슬라이싱을 해서 실행결과와 같은 m2을 만드시오\n",
    "\n",
    "m1=np.arange(60).reshape(10,6)\n",
    "print('### m1')\n",
    "m1\n",
    "\n",
    "#=== 코드작성 ===# \n",
    "m2=m1[::2,1::3]\n",
    "#=== 코드작성 끝===# \n",
    "\n",
    "print('### m1을 슬라이싱한 결과 m2')\n",
    "m2"
   ]
  },
  {
   "cell_type": "markdown",
   "metadata": {},
   "source": [
    "# 문제4"
   ]
  },
  {
   "cell_type": "code",
   "execution_count": 95,
   "metadata": {},
   "outputs": [
    {
     "name": "stdout",
     "output_type": "stream",
     "text": [
      "### 2 by 5 matrix m1\n"
     ]
    },
    {
     "data": {
      "text/plain": [
       "array([['C', 'C', 'D', 'B', 'D'],\n",
       "       ['C', 'B', 'D', 'C', 'B']], dtype='<U1')"
      ]
     },
     "execution_count": 95,
     "metadata": {},
     "output_type": "execute_result"
    }
   ],
   "source": [
    "# 알파벳 'A', 'B', 'C', 'D', 랜덤하게 10개를 뽑아(중복 허용), 2 by 5 matrix를 만드시오\n",
    "\n",
    "#=== 코드작성 ===# \n",
    "m1=np.random.choice(['A', 'B', 'C', 'D'], size=(2,5))\n",
    "#=== 코드작성 끝===# \n",
    "\n",
    "print('### 2 by 5 matrix m1')\n",
    "m1"
   ]
  },
  {
   "cell_type": "markdown",
   "metadata": {},
   "source": [
    "# 문제5"
   ]
  },
  {
   "cell_type": "code",
   "execution_count": 97,
   "metadata": {},
   "outputs": [
    {
     "name": "stdout",
     "output_type": "stream",
     "text": [
      "### 10번 뽑았을 때의 결과 v1\n"
     ]
    },
    {
     "data": {
      "text/plain": [
       "array(['A', 'A', 'A', 'A', 'B', 'B', 'A', 'B', 'B', 'B'], dtype='<U1')"
      ]
     },
     "execution_count": 97,
     "metadata": {},
     "output_type": "execute_result"
    }
   ],
   "source": [
    "# 주머니에 'A'공 3개, 'B'공 1개가 있다. 복원추출로 10번 뽑았을 때의 결과를 나타내시오\n",
    "# (결과는 실행할 때마다 다름)\n",
    "#=== 코드작성 ===# \n",
    "v1=np.random.choice(['A','A','A','B'], size=(10))\n",
    "#=== 코드작성 끝===# \n",
    "\n",
    "print('### 10번 뽑았을 때의 결과 v1')\n",
    "v1"
   ]
  },
  {
   "cell_type": "markdown",
   "metadata": {},
   "source": [
    "# 문제6"
   ]
  },
  {
   "cell_type": "code",
   "execution_count": 98,
   "metadata": {},
   "outputs": [
    {
     "name": "stdout",
     "output_type": "stream",
     "text": [
      "### 3개의 값에 대한 표준편차\n"
     ]
    },
    {
     "data": {
      "text/plain": [
       "0.8534940313702297"
      ]
     },
     "execution_count": 98,
     "metadata": {},
     "output_type": "execute_result"
    },
    {
     "name": "stdout",
     "output_type": "stream",
     "text": [
      "### 100개의 값에 대한 표준편차\n"
     ]
    },
    {
     "data": {
      "text/plain": [
       "2.035609551157211"
      ]
     },
     "execution_count": 98,
     "metadata": {},
     "output_type": "execute_result"
    }
   ],
   "source": [
    "# 평균 1, 표준편차 2인 normal distribution에서 3개의 값을 추출한 후, 3개의 값에 대한 표준편차를 구하고,\n",
    "# 평균 1, 표준편차 2인 normal distribution에서 100개의 값을 추출한 후, 100개의 값에 대한 표준편차를 구하시오\n",
    "\n",
    "\n",
    "#=== 코드작성 ===# \n",
    "s1=np.random.normal(1,2, size=3).std()\n",
    "s2=np.random.normal(1,2, size=100).std()\n",
    "#=== 코드작성 끝 ===#\n",
    "\n",
    "print('### 3개의 값에 대한 표준편차')\n",
    "s1\n",
    "print('### 100개의 값에 대한 표준편차')\n",
    "s2"
   ]
  },
  {
   "cell_type": "markdown",
   "metadata": {},
   "source": [
    "# 문제7"
   ]
  },
  {
   "cell_type": "code",
   "execution_count": 4,
   "metadata": {
    "scrolled": false
   },
   "outputs": [
    {
     "name": "stdout",
     "output_type": "stream",
     "text": [
      "### 30개의 표준편차\n"
     ]
    },
    {
     "data": {
      "text/plain": [
       "array([1.42877262, 1.82529084, 1.7436917 , 1.20126667, 2.58539144,\n",
       "       1.50379038, 1.30906484, 1.93180602, 1.25391188, 1.42992807,\n",
       "       2.51702779, 2.06331452, 2.48318249, 1.56207304, 2.6667563 ,\n",
       "       2.42859608, 2.17901064, 1.67738502, 1.44086009, 2.4626064 ,\n",
       "       1.85453911, 2.30273804, 1.66291441, 1.75753074, 1.58669436,\n",
       "       1.70093598, 1.44809641, 0.95231609, 1.33253042, 2.5488169 ])"
      ]
     },
     "execution_count": 4,
     "metadata": {},
     "output_type": "execute_result"
    },
    {
     "name": "stdout",
     "output_type": "stream",
     "text": [
      "### 30개의 표준편차에 대한 평균\n"
     ]
    },
    {
     "data": {
      "text/plain": [
       "1.8280279758534574"
      ]
     },
     "execution_count": 4,
     "metadata": {},
     "output_type": "execute_result"
    }
   ],
   "source": [
    "# 평균 1, 표준편차 2인 normal distribution에서 10개의 값을 추출한 후 표준편차를 구한다 (p1)\n",
    "# p1 작업을 \"30\"번 수행하여 구한 30개의 표준편차에 대한 평균를 구하시오\n",
    "# (조건: for loop 사용 금지)\n",
    "\n",
    "#=== 코드작성 ===# \n",
    "m1=np.random.normal(1,2, size=(30,10))\n",
    "s=m1.std(axis=1)\n",
    "m=s.mean()\n",
    "\n",
    "#=== 코드작성 끝 ===#\n",
    "print('### 30개의 표준편차')\n",
    "s\n",
    "print('### 30개의 표준편차에 대한 평균')\n",
    "m"
   ]
  },
  {
   "cell_type": "markdown",
   "metadata": {},
   "source": [
    "# 문제8"
   ]
  },
  {
   "cell_type": "code",
   "execution_count": 119,
   "metadata": {},
   "outputs": [
    {
     "name": "stdout",
     "output_type": "stream",
     "text": [
      "### t1\n"
     ]
    },
    {
     "data": {
      "text/plain": [
       "array([[[6, 9],\n",
       "        [5, 4]],\n",
       "\n",
       "       [[5, 6],\n",
       "        [8, 1]],\n",
       "\n",
       "       [[0, 5],\n",
       "        [3, 0]]])"
      ]
     },
     "execution_count": 119,
     "metadata": {},
     "output_type": "execute_result"
    },
    {
     "name": "stdout",
     "output_type": "stream",
     "text": [
      "### 각 장의 합\n"
     ]
    },
    {
     "data": {
      "text/plain": [
       "array([24, 20,  8])"
      ]
     },
     "execution_count": 119,
     "metadata": {},
     "output_type": "execute_result"
    }
   ],
   "source": [
    "# 주어진 3차원 tensor t1에서 각 장의 합을 구하시오\n",
    "t1=np.random.randint(10, size=(3,2,2))\n",
    "print('### t1')\n",
    "t1\n",
    "\n",
    "#=== 코드작성 ===# \n",
    "s1=t1.sum(axis=1).sum(axis=1)\n",
    "#=== 코드작성 끝 ===#\n",
    "\n",
    "print('### 각 장의 합')\n",
    "s1\n"
   ]
  },
  {
   "cell_type": "markdown",
   "metadata": {},
   "source": [
    "# 문제9"
   ]
  },
  {
   "cell_type": "code",
   "execution_count": 6,
   "metadata": {},
   "outputs": [
    {
     "data": {
      "image/png": "[encoded data removed]",
      "text/plain": [
       "<Figure size 600x400 with 1 Axes>"
      ]
     },
     "metadata": {
      "needs_background": "light"
     },
     "output_type": "display_data"
    }
   ],
   "source": [
    "# uniform(0,2)에서 크기가 3인 샘플을 1000개 추출하여, 각 sample 의 평균 (총 1000개)를 가지고 histogram을 그리시오\n",
    "\n",
    "#=== 코드작성 ===# \n",
    "def draw_hist(ar1, nbin=20):\n",
    "    fig, ax=plt.subplots(dpi=100)\n",
    "    _=ax.hist(ar1, bins=nbin, edgecolor='r')\n",
    "    \n",
    "s1=np.random.uniform(0,2, size=(1000,3))\n",
    "m1=np.mean(s1,axis=1)\n",
    "draw_hist(m1)\n",
    "#=== 코드작성 끝 ===#\n",
    "\n"
   ]
  },
  {
   "cell_type": "markdown",
   "metadata": {},
   "source": [
    "# 문제10"
   ]
  },
  {
   "cell_type": "code",
   "execution_count": null,
   "metadata": {},
   "outputs": [],
   "source": [
    "# 문제9번의 결과가 에서 정규분포를 따르지 않는 이유를 쓰시오\n",
    "print(\"## 이유: <이유작성>\")"
   ]
  },
  {
   "cell_type": "markdown",
   "metadata": {},
   "source": [
    "# 문제11"
   ]
  },
  {
   "cell_type": "code",
   "execution_count": 129,
   "metadata": {},
   "outputs": [
    {
     "name": "stdout",
     "output_type": "stream",
     "text": [
      "### m1\n"
     ]
    },
    {
     "data": {
      "text/plain": [
       "array([[ 0,  1,  2,  3,  4,  5],\n",
       "       [ 6,  7,  8,  9, 10, 11],\n",
       "       [12, 13, 14, 15, 16, 17],\n",
       "       [18, 19, 20, 21, 22, 23],\n",
       "       [24, 25, 26, 27, 28, 29],\n",
       "       [30, 31, 32, 33, 34, 35],\n",
       "       [36, 37, 38, 39, 40, 41],\n",
       "       [42, 43, 44, 45, 46, 47],\n",
       "       [48, 49, 50, 51, 52, 53],\n",
       "       [54, 55, 56, 57, 58, 59]])"
      ]
     },
     "execution_count": 129,
     "metadata": {},
     "output_type": "execute_result"
    },
    {
     "name": "stdout",
     "output_type": "stream",
     "text": [
      "### 각 과목의 점수에 가중치를 곱한후 각 학생의 총점\n"
     ]
    },
    {
     "data": {
      "text/plain": [
       "array([[  70],\n",
       "       [ 196],\n",
       "       [ 322],\n",
       "       [ 448],\n",
       "       [ 574],\n",
       "       [ 700],\n",
       "       [ 826],\n",
       "       [ 952],\n",
       "       [1078],\n",
       "       [1204]])"
      ]
     },
     "execution_count": 129,
     "metadata": {},
     "output_type": "execute_result"
    }
   ],
   "source": [
    "# 10명 학생(각 행)의 6과목(각 열)의 점수가 m1에 주어져 있다.\n",
    "# 각 과목의 가중치는 순서대로 1, 2, 3, 4, 5, 6 이다. \n",
    "# 각 과목의 점수에 가중치를 곱한후 각 학생의 총점을 구하시오\n",
    "# 단, 학생별 총점은 그림 결과와 같이 세로로 나타내시오\n",
    "\n",
    "m1=np.arange(60).reshape(10,6)\n",
    "print('### m1')\n",
    "m1\n",
    "\n",
    "#=== 코드작성 ===# \n",
    "w=np.array([1, 2, 3, 4, 5, 6])\n",
    "m2=m1*w\n",
    "s1=np.sum(m2, axis=1).reshape(-1,1)\n",
    "#=== 코드작성 끝 ===#\n",
    "\n",
    "print('### 각 과목의 점수에 가중치를 곱한후 각 학생의 총점')\n",
    "s1\n"
   ]
  },
  {
   "cell_type": "markdown",
   "metadata": {},
   "source": [
    "# 문제12"
   ]
  },
  {
   "cell_type": "code",
   "execution_count": 128,
   "metadata": {},
   "outputs": [
    {
     "name": "stdout",
     "output_type": "stream",
     "text": [
      "### t1\n"
     ]
    },
    {
     "data": {
      "text/plain": [
       "array([[[nan,  1.],\n",
       "        [ 3., nan],\n",
       "        [nan,  3.]],\n",
       "\n",
       "       [[ 0.,  2.],\n",
       "        [ 1.,  1.],\n",
       "        [nan,  2.]]])"
      ]
     },
     "execution_count": 128,
     "metadata": {},
     "output_type": "execute_result"
    },
    {
     "name": "stdout",
     "output_type": "stream",
     "text": [
      "### np.nan이거나 0인 숫자의 개수\n"
     ]
    },
    {
     "data": {
      "text/plain": [
       "5"
      ]
     },
     "execution_count": 128,
     "metadata": {},
     "output_type": "execute_result"
    }
   ],
   "source": [
    "# 주어진 3차원 tensor t1에서 값이 np.nan이거나 0인 숫자의 개수를 구하시오\n",
    "\n",
    "t1=np.random.choice([np.nan,0,1,2,3], size=(2,3,2))\n",
    "print('### t1')\n",
    "t1\n",
    "\n",
    "#=== 코드작성 ===# \n",
    "b1=((t1!=t1)|(t1==0))\n",
    "n1=np.sum(b1)\n",
    "#=== 코드작성 끝 ===#\n",
    "\n",
    "print('### np.nan이거나 0인 숫자의 개수')\n",
    "n1"
   ]
  },
  {
   "cell_type": "markdown",
   "metadata": {},
   "source": [
    "# 문제13"
   ]
  },
  {
   "cell_type": "code",
   "execution_count": 2,
   "metadata": {},
   "outputs": [
    {
     "name": "stdout",
     "output_type": "stream",
     "text": [
      "### t1\n"
     ]
    },
    {
     "data": {
      "text/plain": [
       "array([[[ 3, -5],\n",
       "        [ 3,  1]],\n",
       "\n",
       "       [[ 1,  1],\n",
       "        [ 4, -5]],\n",
       "\n",
       "       [[-5, -5],\n",
       "        [ 4,  2]]])"
      ]
     },
     "execution_count": 2,
     "metadata": {},
     "output_type": "execute_result"
    },
    {
     "data": {
      "text/plain": [
       "(array([0, 1, 2, 2], dtype=int64),\n",
       " array([0, 1, 0, 0], dtype=int64),\n",
       " array([1, 1, 0, 1], dtype=int64))"
      ]
     },
     "execution_count": 2,
     "metadata": {},
     "output_type": "execute_result"
    },
    {
     "name": "stdout",
     "output_type": "stream",
     "text": [
      "### -5 값을 갖는 index\n"
     ]
    },
    {
     "data": {
      "text/plain": [
       "[(0, 0, 1), (1, 1, 1), (2, 0, 0), (2, 0, 1)]"
      ]
     },
     "execution_count": 2,
     "metadata": {},
     "output_type": "execute_result"
    }
   ],
   "source": [
    "# 주어진 3차원 tensor t1에서 -5 값을 갖는 index를 결과와 같이 구하시오\n",
    "\n",
    "t1=np.random.choice([-5,1,2,3,4], size=(3,2,2))\n",
    "print('### t1')\n",
    "t1\n",
    "\n",
    "#=== 코드작성 ===# \n",
    "b=np.where(t1==-5)\n",
    "b\n",
    "ind=list(zip(b[0],b[1],b[2]))\n",
    "#=== 코드작성 끝 ===# \n",
    "\n",
    "print('### -5 값을 갖는 index')\n",
    "ind"
   ]
  },
  {
   "cell_type": "markdown",
   "metadata": {},
   "source": [
    "# 문제14"
   ]
  },
  {
   "cell_type": "code",
   "execution_count": 135,
   "metadata": {},
   "outputs": [
    {
     "name": "stdout",
     "output_type": "stream",
     "text": [
      "### m1\n"
     ]
    },
    {
     "data": {
      "text/plain": [
       "array([[2, 8, 3],\n",
       "       [4, 8, 5],\n",
       "       [6, 8, 6]])"
      ]
     },
     "execution_count": 135,
     "metadata": {},
     "output_type": "execute_result"
    },
    {
     "name": "stdout",
     "output_type": "stream",
     "text": [
      "### 5보다 작은 수의 합\n"
     ]
    },
    {
     "data": {
      "text/plain": [
       "9"
      ]
     },
     "execution_count": 135,
     "metadata": {},
     "output_type": "execute_result"
    }
   ],
   "source": [
    "# 주어진 random matrix m1의 element 중에서,\n",
    "# 5보다 작은 수의 합을 구하시오\n",
    "\n",
    "m1=np.random.randint(10,size=(3,3))\n",
    "print(\"### m1\")\n",
    "m1\n",
    "\n",
    "#=== 코드작성 ===# \n",
    "m2=m1[m1<5]\n",
    "s1=m2.sum()\n",
    "#=== 코드작성 끝 ===# \n",
    "\n",
    "print(\"### 5보다 작은 수의 합\")\n",
    "s1"
   ]
  },
  {
   "cell_type": "markdown",
   "metadata": {},
   "source": [
    "# 문제15"
   ]
  },
  {
   "cell_type": "code",
   "execution_count": 137,
   "metadata": {},
   "outputs": [
    {
     "name": "stdout",
     "output_type": "stream",
     "text": [
      "### m1\n"
     ]
    },
    {
     "data": {
      "text/plain": [
       "array([[0, 1, 0, 0, 0],\n",
       "       [1, 0, 1, 1, 0],\n",
       "       [1, 0, 2, 0, 0],\n",
       "       [1, 1, 3, 1, 0],\n",
       "       [1, 1, 4, 1, 1]])"
      ]
     },
     "execution_count": 137,
     "metadata": {},
     "output_type": "execute_result"
    },
    {
     "name": "stdout",
     "output_type": "stream",
     "text": [
      "### 첫 열이 값이 마지막 열과 같은 값을 갖는 행들의 두번째 열\n"
     ]
    },
    {
     "data": {
      "text/plain": [
       "array([0, 4])"
      ]
     },
     "execution_count": 137,
     "metadata": {},
     "output_type": "execute_result"
    }
   ],
   "source": [
    "# 주어진 matrix m1에서\n",
    "# 첫 열이 값이 마지막 열과 같은 값을 갖는 행들의 두번째 열을 구하시오 (0번째 열부터 시작)\n",
    "\n",
    "m1=np.random.randint(2,size=(5,5))\n",
    "m1[:,2]=np.arange(5)\n",
    "print(\"### m1\")\n",
    "m1\n",
    "\n",
    "#=== 코드작성 ===#\n",
    "fc=m1[:,0]\n",
    "lc=m1[:,-1]\n",
    "\n",
    "b1=(fc==lc)\n",
    "v1=m1[b1,2]\n",
    "#=== 코드작성 끝 ===# \n",
    "\n",
    "print(\"### 첫 열이 값이 마지막 열과 같은 값을 갖는 행들의 두번째 열\")\n",
    "v1"
   ]
  },
  {
   "cell_type": "markdown",
   "metadata": {},
   "source": [
    "# 문제16"
   ]
  },
  {
   "cell_type": "code",
   "execution_count": 5,
   "metadata": {},
   "outputs": [
    {
     "name": "stdout",
     "output_type": "stream",
     "text": [
      "### m1\n"
     ]
    },
    {
     "data": {
      "text/plain": [
       "array([[ 8.,  9., nan,  2.,  8.,  3.],\n",
       "       [ 6.,  5.,  5.,  3., nan,  8.],\n",
       "       [ 1., nan,  9.,  2.,  4.,  3.],\n",
       "       [ 0.,  4.,  3., nan,  4.,  8.],\n",
       "       [ 7.,  4., nan,  0.,  9.,  7.],\n",
       "       [ 0., nan,  6.,  4.,  6.,  9.]])"
      ]
     },
     "execution_count": 5,
     "metadata": {},
     "output_type": "execute_result"
    },
    {
     "name": "stdout",
     "output_type": "stream",
     "text": [
      "### np.nan이 2개 미만인 열들만 선택한 matrix m2\n"
     ]
    },
    {
     "data": {
      "text/plain": [
       "array([[ 8.,  2.,  8.,  3.],\n",
       "       [ 6.,  3., nan,  8.],\n",
       "       [ 1.,  2.,  4.,  3.],\n",
       "       [ 0., nan,  4.,  8.],\n",
       "       [ 7.,  0.,  9.,  7.],\n",
       "       [ 0.,  4.,  6.,  9.]])"
      ]
     },
     "execution_count": 5,
     "metadata": {},
     "output_type": "execute_result"
    }
   ],
   "source": [
    "# 주어진 random matrix m1에서 np.nan이 2개 미만(1개 이하)인 열들만 선택한 matrix m2를 구하시오\n",
    "\n",
    "m1=np.random.randint(10,size=(6,6)).astype(float)\n",
    "cs1=np.random.choice(np.arange(6), size=4, replace=False)\n",
    "cs2=np.random.choice(cs1, size=2, replace=False)\n",
    "m1[(0,1,2,3),cs1]=np.nan\n",
    "m1[(4,5),cs2]=np.nan\n",
    "print(\"### m1\")\n",
    "m1\n",
    "\n",
    "#=== 코드작성 ===#\n",
    "b1=(m1!=m1).sum(axis=0)\n",
    "m2=m1[:,b1<2]\n",
    "#=== 코드작성 끝 ===# \n",
    "\n",
    "print(\"### np.nan이 2개 미만인 열들만 선택한 matrix m2\")\n",
    "m2"
   ]
  },
  {
   "cell_type": "markdown",
   "metadata": {},
   "source": [
    "# 성적분포"
   ]
  },
  {
   "cell_type": "code",
   "execution_count": 12,
   "metadata": {
    "scrolled": false
   },
   "outputs": [
    {
     "data": {
      "text/html": [
       "<div>\n",
       "<style scoped>\n",
       "    .dataframe tbody tr th:only-of-type {\n",
       "        vertical-align: middle;\n",
       "    }\n",
       "\n",
       "    .dataframe tbody tr th {\n",
       "        vertical-align: top;\n",
       "    }\n",
       "\n",
       "    .dataframe thead th {\n",
       "        text-align: right;\n",
       "    }\n",
       "</style>\n",
       "<table border=\"1\" class=\"dataframe\">\n",
       "  <thead>\n",
       "    <tr style=\"text-align: right;\">\n",
       "      <th></th>\n",
       "      <th>1</th>\n",
       "      <th>2</th>\n",
       "      <th>3</th>\n",
       "      <th>4</th>\n",
       "      <th>5</th>\n",
       "      <th>6</th>\n",
       "      <th>7</th>\n",
       "      <th>8</th>\n",
       "      <th>9</th>\n",
       "      <th>10</th>\n",
       "      <th>11</th>\n",
       "      <th>12</th>\n",
       "      <th>13</th>\n",
       "      <th>14</th>\n",
       "      <th>15</th>\n",
       "      <th>16</th>\n",
       "      <th>s</th>\n",
       "    </tr>\n",
       "  </thead>\n",
       "  <tbody>\n",
       "    <tr>\n",
       "      <th>0</th>\n",
       "      <td>2</td>\n",
       "      <td>2</td>\n",
       "      <td>2</td>\n",
       "      <td>2</td>\n",
       "      <td>2</td>\n",
       "      <td>2</td>\n",
       "      <td>1</td>\n",
       "      <td>2</td>\n",
       "      <td>2</td>\n",
       "      <td>2</td>\n",
       "      <td>2</td>\n",
       "      <td>2</td>\n",
       "      <td>2</td>\n",
       "      <td>2</td>\n",
       "      <td>2</td>\n",
       "      <td>2</td>\n",
       "      <td>31</td>\n",
       "    </tr>\n",
       "    <tr>\n",
       "      <th>1</th>\n",
       "      <td>2</td>\n",
       "      <td>2</td>\n",
       "      <td>2</td>\n",
       "      <td>2</td>\n",
       "      <td>0</td>\n",
       "      <td>2</td>\n",
       "      <td>0</td>\n",
       "      <td>0</td>\n",
       "      <td>0</td>\n",
       "      <td>0</td>\n",
       "      <td>0</td>\n",
       "      <td>0</td>\n",
       "      <td>0</td>\n",
       "      <td>0</td>\n",
       "      <td>0</td>\n",
       "      <td>0</td>\n",
       "      <td>10</td>\n",
       "    </tr>\n",
       "    <tr>\n",
       "      <th>2</th>\n",
       "      <td>2</td>\n",
       "      <td>2</td>\n",
       "      <td>2</td>\n",
       "      <td>2</td>\n",
       "      <td>2</td>\n",
       "      <td>2</td>\n",
       "      <td>2</td>\n",
       "      <td>2</td>\n",
       "      <td>2</td>\n",
       "      <td>2</td>\n",
       "      <td>2</td>\n",
       "      <td>2</td>\n",
       "      <td>2</td>\n",
       "      <td>2</td>\n",
       "      <td>2</td>\n",
       "      <td>2</td>\n",
       "      <td>32</td>\n",
       "    </tr>\n",
       "    <tr>\n",
       "      <th>3</th>\n",
       "      <td>2</td>\n",
       "      <td>2</td>\n",
       "      <td>2</td>\n",
       "      <td>2</td>\n",
       "      <td>2</td>\n",
       "      <td>2</td>\n",
       "      <td>0</td>\n",
       "      <td>0</td>\n",
       "      <td>2</td>\n",
       "      <td>2</td>\n",
       "      <td>0</td>\n",
       "      <td>2</td>\n",
       "      <td>0</td>\n",
       "      <td>2</td>\n",
       "      <td>0</td>\n",
       "      <td>0</td>\n",
       "      <td>20</td>\n",
       "    </tr>\n",
       "    <tr>\n",
       "      <th>4</th>\n",
       "      <td>2</td>\n",
       "      <td>2</td>\n",
       "      <td>2</td>\n",
       "      <td>2</td>\n",
       "      <td>2</td>\n",
       "      <td>2</td>\n",
       "      <td>2</td>\n",
       "      <td>2</td>\n",
       "      <td>0</td>\n",
       "      <td>2</td>\n",
       "      <td>2</td>\n",
       "      <td>2</td>\n",
       "      <td>2</td>\n",
       "      <td>2</td>\n",
       "      <td>2</td>\n",
       "      <td>2</td>\n",
       "      <td>30</td>\n",
       "    </tr>\n",
       "  </tbody>\n",
       "</table>\n",
       "</div>"
      ],
      "text/plain": [
       "   1  2  3  4  5  6  7  8  9  10  11  12  13  14  15  16   s\n",
       "0  2  2  2  2  2  2  1  2  2   2   2   2   2   2   2   2  31\n",
       "1  2  2  2  2  0  2  0  0  0   0   0   0   0   0   0   0  10\n",
       "2  2  2  2  2  2  2  2  2  2   2   2   2   2   2   2   2  32\n",
       "3  2  2  2  2  2  2  0  0  2   2   0   2   0   2   0   0  20\n",
       "4  2  2  2  2  2  2  2  2  0   2   2   2   2   2   2   2  30"
      ]
     },
     "execution_count": 12,
     "metadata": {},
     "output_type": "execute_result"
    },
    {
     "data": {
      "text/plain": [
       "7      0.594595\n",
       "15     0.675676\n",
       "16     0.702703\n",
       "13     0.864865\n",
       "8      1.189189\n",
       "11     1.243243\n",
       "12     1.324324\n",
       "14     1.405405\n",
       "9      1.459459\n",
       "5      1.459459\n",
       "10     1.513514\n",
       "4      1.756757\n",
       "6      1.756757\n",
       "1      1.837838\n",
       "3      1.891892\n",
       "2      1.945946\n",
       "s     21.621622\n",
       "dtype: float64"
      ]
     },
     "execution_count": 12,
     "metadata": {},
     "output_type": "execute_result"
    },
    {
     "data": {
      "text/plain": [
       "27    4\n",
       "20    4\n",
       "31    3\n",
       "18    3\n",
       "30    3\n",
       "25    2\n",
       "10    2\n",
       "29    2\n",
       "4     2\n",
       "32    2\n",
       "26    1\n",
       "19    1\n",
       "12    1\n",
       "22    1\n",
       "24    1\n",
       "13    1\n",
       "14    1\n",
       "8     1\n",
       "21    1\n",
       "16    1\n",
       "Name: s, dtype: int64"
      ]
     },
     "execution_count": 12,
     "metadata": {},
     "output_type": "execute_result"
    },
    {
     "data": {
      "text/plain": [
       "32    2\n",
       "31    3\n",
       "30    3\n",
       "29    2\n",
       "27    4\n",
       "26    1\n",
       "25    2\n",
       "24    1\n",
       "22    1\n",
       "21    1\n",
       "20    4\n",
       "19    1\n",
       "18    3\n",
       "16    1\n",
       "14    1\n",
       "13    1\n",
       "12    1\n",
       "10    2\n",
       "8     1\n",
       "4     2\n",
       "Name: s, dtype: int64"
      ]
     },
     "execution_count": 12,
     "metadata": {},
     "output_type": "execute_result"
    },
    {
     "name": "stderr",
     "output_type": "stream",
     "text": [
      "C:\\Users\\jjmsk\\AppData\\Local\\Temp\\ipykernel_19288\\368821692.py:7: FutureWarning: The default dtype for empty Series will be 'object' instead of 'float64' in a future version. Specify a dtype explicitly to silence this warning.\n",
      "  sum_count2=pd.Series()\n"
     ]
    },
    {
     "data": {
      "text/plain": [
       "32     2\n",
       "31     5\n",
       "30     8\n",
       "29    10\n",
       "27    14\n",
       "26    15\n",
       "25    17\n",
       "24    18\n",
       "22    19\n",
       "21    20\n",
       "20    24\n",
       "19    25\n",
       "18    28\n",
       "16    29\n",
       "14    30\n",
       "13    31\n",
       "12    32\n",
       "10    34\n",
       "8     35\n",
       "4     37\n",
       "dtype: int64"
      ]
     },
     "execution_count": 12,
     "metadata": {},
     "output_type": "execute_result"
    },
    {
     "data": {
      "text/plain": [
       "<matplotlib.lines.Line2D at 0x141305db880>"
      ]
     },
     "execution_count": 12,
     "metadata": {},
     "output_type": "execute_result"
    },
    {
     "data": {
      "text/plain": [
       "<matplotlib.lines.Line2D at 0x1413004a8e0>"
      ]
     },
     "execution_count": 12,
     "metadata": {},
     "output_type": "execute_result"
    },
    {
     "data": {
      "text/plain": [
       "Text(21.62162162162162, 4, 'avg')"
      ]
     },
     "execution_count": 12,
     "metadata": {},
     "output_type": "execute_result"
    },
    {
     "data": {
      "text/plain": [
       "Text(22.0, 3, 'med')"
      ]
     },
     "execution_count": 12,
     "metadata": {},
     "output_type": "execute_result"
    },
    {
     "data": {
      "text/plain": [
       "<AxesSubplot:xlabel='s', ylabel='Count'>"
      ]
     },
     "execution_count": 12,
     "metadata": {},
     "output_type": "execute_result"
    },
    {
     "data": {
      "image/png": "[encoded data removed]",
      "text/plain": [
       "<Figure size 1000x500 with 1 Axes>"
      ]
     },
     "metadata": {
      "needs_background": "light"
     },
     "output_type": "display_data"
    }
   ],
   "source": [
    "scr = pd.read_csv(\"scores.csv\", sep=',', encoding='cp949')\n",
    "scr.head()\n",
    "scr.mean(axis=0).sort_values()\n",
    "scr['s'].value_counts()\n",
    "sum_count=scr['s'].value_counts().sort_index(ascending=False)\n",
    "sum_count\n",
    "sum_count2=pd.Series()\n",
    "\n",
    "for ind in sum_count.index:\n",
    "    sum_count2.loc[ind]=sum_count.loc[:ind].sum()\n",
    "\n",
    "sum_count2\n",
    "    \n",
    "#####################\n",
    "fig=plt.figure(figsize=(10,5),dpi=100)\n",
    "ax=fig.subplots()\n",
    "\n",
    "ax.axvline(scr['s'].mean(), linestyle=\"--\", color=\"r\")\n",
    "ax.axvline(scr['s'].median(), linestyle=\"--\", color=\"r\")\n",
    "\n",
    "ax.text(scr['s'].mean(),4,'avg', ha='center',va='center',fontsize=13)\n",
    "ax.text(scr['s'].median(),3,'med', ha='center',va='center',fontsize=13)\n",
    "\n",
    "sns.histplot(scr['s'], kde=True, ax=ax,bins=25)\n",
    "\n",
    "fig.tight_layout()\n",
    "#fig.savefig('score_dist.png')\n",
    "#ax.tick_params(axis='both', labelsize=13)"
   ]
  }
 ],
 "metadata": {
  "kernelspec": {
   "display_name": "Python 3 (ipykernel)",
   "language": "python",
   "name": "python3"
  },
  "language_info": {
   "codemirror_mode": {
    "name": "ipython",
    "version": 3
   },
   "file_extension": ".py",
   "mimetype": "text/x-python",
   "name": "python",
   "nbconvert_exporter": "python",
   "pygments_lexer": "ipython3",
   "version": "3.9.7"
  },
  "toc": {
   "base_numbering": 1,
   "nav_menu": {},
   "number_sections": true,
   "sideBar": true,
   "skip_h1_title": false,
   "title_cell": "Table of Contents",
   "title_sidebar": "Contents",
   "toc_cell": false,
   "toc_position": {
    "height": "calc(100% - 180px)",
    "left": "10px",
    "top": "150px",
    "width": "165px"
   },
   "toc_section_display": true,
   "toc_window_display": true
  },
  "varInspector": {
   "cols": {
    "lenName": 16,
    "lenType": 16,
    "lenVar": 40
   },
   "kernels_config": {
    "python": {
     "delete_cmd_postfix": "",
     "delete_cmd_prefix": "del ",
     "library": "var_list.py",
     "varRefreshCmd": "print(var_dic_list())"
    },
    "r": {
     "delete_cmd_postfix": ") ",
     "delete_cmd_prefix": "rm(",
     "library": "var_list.r",
     "varRefreshCmd": "cat(var_dic_list()) "
    }
   },
   "types_to_exclude": [
    "module",
    "function",
    "builtin_function_or_method",
    "instance",
    "_Feature"
   ],
   "window_display": false
  }
 },
 "nbformat": 4,
 "nbformat_minor": 2
}
