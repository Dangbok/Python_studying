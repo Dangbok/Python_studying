{
 "cells": [
  {
   "cell_type": "markdown",
   "metadata": {},
   "source": [
    "* 2022년 4월 26일. 파이썬프로그래밍(화) 중간고사."
   ]
  },
  {
   "cell_type": "code",
   "execution_count": 1,
   "metadata": {},
   "outputs": [],
   "source": [
    "##################################################\n",
    "############### 문제 풀기 전 주의사항 ##############\n",
    "##################################################\n",
    "\n",
    "# 시험시간 내 인터넷 사용 금지, 시험문제 다운로드, 업로드 시에만 가능\n",
    "# (시험 중, 핸드폰이나 인터넷 사용을 포함한 부정행위 적발시 0점 처리).\n",
    "\n",
    "# ipynb 시험파일, html 시험파일을 다운 받고,\n",
    "# ipynb 시험 파일은 파일명 수정 -> pd_중간_20181234_홍길동.ipynb.\n",
    "\n",
    "# html 파일의 실행결과를 참고하여, ipynb 파일의 #=== 코드작성 ===# 부분에 코드를 작성하여\n",
    "# 프로그램을 완성 (ipynb파일의 실행결과는 코드 작성과정에서 사라질 수 있음).\n",
    "\n",
    "# 맨 위의 셀을 우선 실행.\n",
    "# 랜덤 값을 입력으로하는 문제는 주어진 실행결과와 다른 실행결과가 나올 수 있음.\n",
    "# 문제에 주어진 코드는 수정 불가 (수정가능한 문제의 경우 따로 명시).\n",
    "\n",
    "# 시험 도중 anaconda prompt (검은창) 지우지 말것.\n",
    "# 갑자기 컴퓨터에 문제가 생길수 있으니, 시험 중간중간에 파일 저장 (crtl+s) 할 것.\n",
    "\n",
    "# 시험이 끝나면 실행결과를 모두 확인하고 작성한 ipynb 파일 \"저장\" 후,\n",
    "# 작성한 ipynb을 < 캔버스 --> 과제 --> 중간고사> 에 업로드.\n"
   ]
  },
  {
   "cell_type": "code",
   "execution_count": 24,
   "metadata": {},
   "outputs": [
    {
     "name": "stdout",
     "output_type": "stream",
     "text": [
      "python 3.9.7 (default, Sep 16 2021, 16:59:28) [MSC v.1916 64 bit (AMD64)]\n",
      "numpy 1.21.5\n",
      "pandas 1.4.1\n",
      "matplotlib 3.5.1\n"
     ]
    }
   ],
   "source": [
    "# 사용할 패키지를 import합니다\n",
    "import sys\n",
    "print('python', sys.version)\n",
    "\n",
    "import numpy as np\n",
    "print('numpy', np.__version__)\n",
    "\n",
    "import pandas as pd\n",
    "print('pandas', pd.__version__)\n",
    "\n",
    "import matplotlib as mpl\n",
    "print('matplotlib', mpl.__version__)\n",
    "\n",
    "import matplotlib.pyplot as plt\n",
    "plt.rc(\"font\", family=\"Malgun Gothic\") # window\n",
    "\n",
    "# 결과 확인을 용이하게 하기 위한 코드\n",
    "from IPython.core.interactiveshell import InteractiveShell\n",
    "InteractiveShell.ast_node_interactivity = 'all'"
   ]
  },
  {
   "cell_type": "markdown",
   "metadata": {},
   "source": [
    "# 문제1"
   ]
  },
  {
   "cell_type": "code",
   "execution_count": 38,
   "metadata": {},
   "outputs": [
    {
     "name": "stdout",
     "output_type": "stream",
     "text": [
      "### m1\n"
     ]
    },
    {
     "data": {
      "text/plain": [
       "array([[5, 3, 6, 0],\n",
       "       [3, 8, 7, 6],\n",
       "       [6, 6, 9, 4],\n",
       "       [4, 5, 1, 2]])"
      ]
     },
     "execution_count": 38,
     "metadata": {},
     "output_type": "execute_result"
    },
    {
     "name": "stdout",
     "output_type": "stream",
     "text": [
      "### 각 모서리의 값을 모두 100으로 바꾼 m1\n"
     ]
    },
    {
     "data": {
      "text/plain": [
       "array([[100,   3,   6, 100],\n",
       "       [  3,   8,   7,   6],\n",
       "       [  6,   6,   9,   4],\n",
       "       [100,   5,   1, 100]])"
      ]
     },
     "execution_count": 38,
     "metadata": {},
     "output_type": "execute_result"
    }
   ],
   "source": [
    "# random matrix m1의 각 모서리의 값을 모두 100으로 바꾸시오\n",
    "\n",
    "m1=np.random.randint(10,size=(5,5))\n",
    "print(\"### m1\")\n",
    "m1\n",
    "\n",
    "#=== 코드작성 ===# \n",
    "m1[0 , 0]=100\n",
    "m1[0 ,-1]=100\n",
    "m1[-1,-1]=100\n",
    "m1[-1, 0]=100\n",
    "#=== 코드작성 끝===# \n",
    "\n",
    "print(\"### 각 모서리의 값을 모두 100으로 바꾼 m1\")\n",
    "m1"
   ]
  },
  {
   "cell_type": "markdown",
   "metadata": {},
   "source": [
    "# 문제2"
   ]
  },
  {
   "cell_type": "code",
   "execution_count": 49,
   "metadata": {},
   "outputs": [
    {
     "name": "stdout",
     "output_type": "stream",
     "text": [
      "### 3차원 tensor\n"
     ]
    },
    {
     "data": {
      "text/plain": [
       "array([[[100, 101, 102, 103, 104],\n",
       "        [105, 106, 107, 108, 109],\n",
       "        [110, 111, 112, 113, 114]],\n",
       "\n",
       "       [[115, 116, 117, 118, 119],\n",
       "        [120, 121, 122, 123, 124],\n",
       "        [125, 126, 127, 128, 129]]])"
      ]
     },
     "execution_count": 49,
     "metadata": {},
     "output_type": "execute_result"
    }
   ],
   "source": [
    "# 아래와 같은 3차원 tensor를 만드시오\n",
    "\n",
    "#=== 코드작성 ===# \n",
    "t1=np.arange(100,130).reshape(2,3,5)\n",
    "#=== 코드작성 끝===# \n",
    "\n",
    "print(\"### 3차원 tensor\")\n",
    "t1"
   ]
  },
  {
   "cell_type": "markdown",
   "metadata": {},
   "source": [
    "# 문제3"
   ]
  },
  {
   "cell_type": "code",
   "execution_count": 34,
   "metadata": {},
   "outputs": [
    {
     "name": "stdout",
     "output_type": "stream",
     "text": [
      "### m1\n"
     ]
    },
    {
     "data": {
      "text/plain": [
       "array([[ 0,  1,  2,  3,  4,  5],\n",
       "       [ 6,  7,  8,  9, 10, 11],\n",
       "       [12, 13, 14, 15, 16, 17],\n",
       "       [18, 19, 20, 21, 22, 23],\n",
       "       [24, 25, 26, 27, 28, 29],\n",
       "       [30, 31, 32, 33, 34, 35],\n",
       "       [36, 37, 38, 39, 40, 41],\n",
       "       [42, 43, 44, 45, 46, 47],\n",
       "       [48, 49, 50, 51, 52, 53],\n",
       "       [54, 55, 56, 57, 58, 59]])"
      ]
     },
     "execution_count": 34,
     "metadata": {},
     "output_type": "execute_result"
    },
    {
     "name": "stdout",
     "output_type": "stream",
     "text": [
      "### m1을 슬라이싱한 결과 m2\n"
     ]
    },
    {
     "data": {
      "text/plain": [
       "array([[ 1,  3,  5],\n",
       "       [ 7,  9, 11],\n",
       "       [13, 15, 17],\n",
       "       [19, 21, 23]])"
      ]
     },
     "execution_count": 34,
     "metadata": {},
     "output_type": "execute_result"
    }
   ],
   "source": [
    "# 아래에 주어진 m1을 슬라이싱을 해서 실행결과와 같은 m2을 만드시오\n",
    "\n",
    "m1=np.arange(60).reshape(10,6)\n",
    "print('### m1')\n",
    "m1\n",
    "\n",
    "#=== 코드작성 ===# \n",
    "m2=m1[:4,1::2]\n",
    "#=== 코드작성 끝===# \n",
    "\n",
    "print('### m1을 슬라이싱한 결과 m2')\n",
    "m2"
   ]
  },
  {
   "cell_type": "markdown",
   "metadata": {},
   "source": [
    "# 문제4"
   ]
  },
  {
   "cell_type": "code",
   "execution_count": 50,
   "metadata": {},
   "outputs": [
    {
     "name": "stdout",
     "output_type": "stream",
     "text": [
      "### 각 행 별 평균\n"
     ]
    },
    {
     "data": {
      "text/plain": [
       "array([1.97789121, 1.9896876 , 1.98325991, 2.03897128, 2.00538367])"
      ]
     },
     "execution_count": 50,
     "metadata": {},
     "output_type": "execute_result"
    }
   ],
   "source": [
    "# 평균 0~4인 uniform distribution에서 샘플링하여, 5행 1000열의 matirx를 만든 뒤, 각 행 별 평균을 구하시오\n",
    "\n",
    "#=== 코드작성 ===# \n",
    "m1=np.random.uniform(0,4, size=(5,1000))\n",
    "v1=m1.mean(axis=1)\n",
    "#=== 코드작성 끝===# \n",
    "\n",
    "print('### 각 행 별 평균')\n",
    "v1"
   ]
  },
  {
   "cell_type": "markdown",
   "metadata": {},
   "source": [
    "# 문제5"
   ]
  },
  {
   "cell_type": "code",
   "execution_count": 35,
   "metadata": {},
   "outputs": [
    {
     "name": "stdout",
     "output_type": "stream",
     "text": [
      "### 랜덤하게 뽑은 3개 값\n"
     ]
    },
    {
     "data": {
      "text/plain": [
       "array([1, 2, 6])"
      ]
     },
     "execution_count": 35,
     "metadata": {},
     "output_type": "execute_result"
    }
   ],
   "source": [
    "# [1,2,4,6,8]에서 랜덤하게 3개 값을 추출하시오 (비복원 추출: 중복하여 뽑지 않음)\n",
    "\n",
    "#=== 코드작성 ===# \n",
    "v1=np.random.choice([1,2,4,6,8], size=3, replace=False)\n",
    "#=== 코드작성 끝===# \n",
    "\n",
    "print('### 랜덤하게 뽑은 3개 값')\n",
    "v1"
   ]
  },
  {
   "cell_type": "markdown",
   "metadata": {},
   "source": [
    "# 문제6"
   ]
  },
  {
   "cell_type": "code",
   "execution_count": 12,
   "metadata": {
    "scrolled": false
   },
   "outputs": [
    {
     "name": "stdout",
     "output_type": "stream",
     "text": [
      "### m1\n"
     ]
    },
    {
     "data": {
      "text/plain": [
       "array([[4, 2, 6, 0],\n",
       "       [0, 5, 6, 3],\n",
       "       [2, 7, 2, 8]])"
      ]
     },
     "execution_count": 12,
     "metadata": {},
     "output_type": "execute_result"
    },
    {
     "name": "stdout",
     "output_type": "stream",
     "text": [
      "### 열 별 최소값\n"
     ]
    },
    {
     "data": {
      "text/plain": [
       "array([0, 2, 2, 0])"
      ]
     },
     "execution_count": 12,
     "metadata": {},
     "output_type": "execute_result"
    }
   ],
   "source": [
    "# 주어진 2차원 matrix m1 에서 열 별 최소값을 구하시오\n",
    "\n",
    "m1=np.random.randint(10, size=(3,4))\n",
    "print('### m1')\n",
    "m1\n",
    "\n",
    "#=== 코드작성 ===# \n",
    "v1=m1.min(axis=0)\n",
    "#=== 코드작성 끝 ===#\n",
    "\n",
    "print('### 열 별 최소값')\n",
    "v1"
   ]
  },
  {
   "cell_type": "markdown",
   "metadata": {},
   "source": [
    "# 문제7"
   ]
  },
  {
   "cell_type": "code",
   "execution_count": 10,
   "metadata": {},
   "outputs": [
    {
     "name": "stdout",
     "output_type": "stream",
     "text": [
      "### m1\n"
     ]
    },
    {
     "data": {
      "text/plain": [
       "array([[4, 2, 6, 1],\n",
       "       [7, 6, 8, 3],\n",
       "       [1, 3, 5, 7]])"
      ]
     },
     "execution_count": 10,
     "metadata": {},
     "output_type": "execute_result"
    },
    {
     "name": "stdout",
     "output_type": "stream",
     "text": [
      "### 3의 배수들의 합\n"
     ]
    },
    {
     "data": {
      "text/plain": [
       "18"
      ]
     },
     "execution_count": 10,
     "metadata": {},
     "output_type": "execute_result"
    }
   ],
   "source": [
    "# 주어진 2차원 matrix m1 에서 3의 배수들의 합을 구하시오\n",
    "\n",
    "m1=np.random.randint(10, size=(3,4))\n",
    "print('### m1')\n",
    "m1\n",
    "\n",
    "#=== 코드작성 ===# \n",
    "s1=m1[m1%3==0].sum()\n",
    "#=== 코드작성 끝 ===#\n",
    "\n",
    "print('### 3의 배수들의 합')\n",
    "s1\n"
   ]
  },
  {
   "cell_type": "markdown",
   "metadata": {},
   "source": [
    "# 문제8"
   ]
  },
  {
   "cell_type": "code",
   "execution_count": 32,
   "metadata": {},
   "outputs": [
    {
     "data": {
      "image/png": "[encoded data removed]",
      "text/plain": [
       "<Figure size 600x400 with 1 Axes>"
      ]
     },
     "metadata": {
      "needs_background": "light"
     },
     "output_type": "display_data"
    }
   ],
   "source": [
    "# 평균 1, 표준편차 2인 normal distribution에서 1000개의 값을 추출한 후 최대값을 구한다 (p1)\n",
    "# p1 작업을 \"100\"번 수행하여 구한 100개의 최대값을 가지고 히스토그램을 그리시오\n",
    "# (조건: for loop 사용 금지)\n",
    "\n",
    "#=== 코드작성 ===# \n",
    "def draw_hist(ar1, nbin=20):\n",
    "    fig, ax=plt.subplots(dpi=100)\n",
    "    _=ax.hist(ar1, bins=nbin, edgecolor='r')\n",
    "    \n",
    "s1=np.random.normal(1,2, size=(100,1000))\n",
    "m1=s1.max(axis=1)\n",
    "draw_hist(m1)\n",
    "#=== 코드작성 끝 ===#\n",
    "\n"
   ]
  },
  {
   "cell_type": "markdown",
   "metadata": {},
   "source": [
    "# 문제9"
   ]
  },
  {
   "cell_type": "code",
   "execution_count": 31,
   "metadata": {},
   "outputs": [
    {
     "name": "stdout",
     "output_type": "stream",
     "text": [
      "## 이유: <이유작성>\n"
     ]
    }
   ],
   "source": [
    "# 문제 8번에서 히스토그램이 정규분포가 나오지 않은 이유 (중심극한정리가 적용되지 않은 이유) 를 적으시오\n",
    "print(\"## 이유: <이유작성>\")"
   ]
  },
  {
   "cell_type": "markdown",
   "metadata": {},
   "source": [
    "# 문제10"
   ]
  },
  {
   "cell_type": "code",
   "execution_count": 15,
   "metadata": {},
   "outputs": [
    {
     "name": "stdout",
     "output_type": "stream",
     "text": [
      "### m1\n"
     ]
    },
    {
     "data": {
      "text/plain": [
       "array([[ 1., nan,  0., nan],\n",
       "       [ 1.,  3., nan,  2.],\n",
       "       [ 2.,  2.,  2., nan]])"
      ]
     },
     "execution_count": 15,
     "metadata": {},
     "output_type": "execute_result"
    },
    {
     "name": "stdout",
     "output_type": "stream",
     "text": [
      "### np.nan이거나 3인 숫자의 개수\n"
     ]
    },
    {
     "data": {
      "text/plain": [
       "5"
      ]
     },
     "execution_count": 15,
     "metadata": {},
     "output_type": "execute_result"
    }
   ],
   "source": [
    "# 주어진 2차원 matrix m1에서 값이 np.nan이거나 3인 숫자의 개수를 구하시오\n",
    "\n",
    "m1=np.random.choice([np.nan,0,1,2,3], size=(3,4))\n",
    "print('### m1')\n",
    "m1\n",
    "\n",
    "#=== 코드작성 ===# \n",
    "b1=((m1!=m1)|(m1==3))\n",
    "n1=np.sum(b1)\n",
    "#=== 코드작성 끝 ===#\n",
    "\n",
    "print('### np.nan이거나 3인 숫자의 개수')\n",
    "n1"
   ]
  },
  {
   "cell_type": "markdown",
   "metadata": {},
   "source": [
    "# 문제11"
   ]
  },
  {
   "cell_type": "code",
   "execution_count": 36,
   "metadata": {},
   "outputs": [
    {
     "name": "stdout",
     "output_type": "stream",
     "text": [
      "### m1\n"
     ]
    },
    {
     "data": {
      "text/plain": [
       "array([[8, 3, 0],\n",
       "       [7, 2, 5]])"
      ]
     },
     "execution_count": 36,
     "metadata": {},
     "output_type": "execute_result"
    },
    {
     "name": "stdout",
     "output_type": "stream",
     "text": [
      "### fancy index를 사용하여 얻은 홀수\n"
     ]
    },
    {
     "data": {
      "text/plain": [
       "array([3, 7, 5])"
      ]
     },
     "execution_count": 36,
     "metadata": {},
     "output_type": "execute_result"
    }
   ],
   "source": [
    "# 주어진 m1에서 홀수들을 fancy index를 사용하여 선택하시오\n",
    "\n",
    "m1=np.random.randint(10, size=(2,3))\n",
    "print('### m1')\n",
    "m1\n",
    "\n",
    "#=== 코드작성 ===# \n",
    "b1=np.where(m1%2==1)\n",
    "v1=m1[b1]\n",
    "#=== 코드작성 끝 ===#\n",
    "\n",
    "print('### fancy index를 사용하여 얻은 홀수')\n",
    "v1"
   ]
  },
  {
   "cell_type": "markdown",
   "metadata": {},
   "source": [
    "# 문제12"
   ]
  },
  {
   "cell_type": "code",
   "execution_count": 38,
   "metadata": {},
   "outputs": [
    {
     "name": "stdout",
     "output_type": "stream",
     "text": [
      "### m1\n"
     ]
    },
    {
     "data": {
      "text/plain": [
       "array([[0, 3, 2],\n",
       "       [0, 1, 1],\n",
       "       [7, 5, 4],\n",
       "       [6, 2, 1],\n",
       "       [9, 4, 3]])"
      ]
     },
     "execution_count": 38,
     "metadata": {},
     "output_type": "execute_result"
    },
    {
     "name": "stdout",
     "output_type": "stream",
     "text": [
      "### 마지막 열이 짝수인 행들의 각 행 별 중앙값\n"
     ]
    },
    {
     "data": {
      "text/plain": [
       "array([2., 5.])"
      ]
     },
     "execution_count": 38,
     "metadata": {},
     "output_type": "execute_result"
    }
   ],
   "source": [
    "# 주어진 m1에서\n",
    "# 마지막 열이 짝수인 행들에 대하여\n",
    "# 각 행 별 중앙값을 구하시오\n",
    "\n",
    "m1=np.random.randint(10, size=(5,3))\n",
    "print('### m1')\n",
    "m1\n",
    "\n",
    "#=== 코드작성 ===# \n",
    "b1=(m1[:,-1]%2==0)\n",
    "m2=m1[b1,:]\n",
    "v1=np.median(m2, axis=1)\n",
    "#=== 코드작성 끝 ===#\n",
    "\n",
    "print('### 마지막 열이 짝수인 행들의 각 행 별 중앙값')\n",
    "v1"
   ]
  },
  {
   "cell_type": "markdown",
   "metadata": {},
   "source": [
    "# 문제13"
   ]
  },
  {
   "cell_type": "code",
   "execution_count": 27,
   "metadata": {},
   "outputs": [
    {
     "name": "stdout",
     "output_type": "stream",
     "text": [
      "### m1\n"
     ]
    },
    {
     "data": {
      "text/plain": [
       "array([[100, 200, 100, 300, 200],\n",
       "       [  2,   2,   1,   0,   2],\n",
       "       [  2,   2,   2,   1,   0],\n",
       "       [  1,   2,   0,   2,   2]])"
      ]
     },
     "execution_count": 27,
     "metadata": {},
     "output_type": "execute_result"
    },
    {
     "name": "stdout",
     "output_type": "stream",
     "text": [
      "### 학생별로 가지고 있는 총 금액\n"
     ]
    },
    {
     "data": {
      "text/plain": [
       "array([1100, 1100, 1500])"
      ]
     },
     "execution_count": 27,
     "metadata": {},
     "output_type": "execute_result"
    }
   ],
   "source": [
    "# 주어진 m1은 5종목 주식(각 열)에 대하여, \n",
    "# 첫 행은 각 주식의 금액이고, 2~4행은 세명의 각 학생이 보유하고 있는 주식 수이다.\n",
    "# 학생별로 가지고 있는 총 금액을 구하시오 (각 주식 금액은 채점시 변경)\n",
    "\n",
    "m1=np.random.randint(3, size=(4,5))\n",
    "m1[0,:]=[100,200,100,300,200]\n",
    "print('### m1')\n",
    "m1\n",
    "\n",
    "#=== 코드작성 ===# \n",
    "m2=m1[1:,:]\n",
    "m3=m2*m1[0]\n",
    "v1=m3.sum(axis=1)\n",
    "#=== 코드작성 끝 ===#\n",
    "\n",
    "print('### 학생별로 가지고 있는 총 금액')\n",
    "v1"
   ]
  },
  {
   "cell_type": "markdown",
   "metadata": {},
   "source": [
    "# 문제14"
   ]
  },
  {
   "cell_type": "code",
   "execution_count": 20,
   "metadata": {},
   "outputs": [
    {
     "name": "stdout",
     "output_type": "stream",
     "text": [
      "### m1\n"
     ]
    },
    {
     "data": {
      "text/plain": [
       "array([[5, 0, 1, 4, 7],\n",
       "       [6, 9, 9, 4, 7],\n",
       "       [0, 1, 8, 9, 7]])"
      ]
     },
     "execution_count": 20,
     "metadata": {},
     "output_type": "execute_result"
    },
    {
     "name": "stdout",
     "output_type": "stream",
     "text": [
      "### v1\n"
     ]
    },
    {
     "data": {
      "text/plain": [
       "array([6, 7, 8])"
      ]
     },
     "execution_count": 20,
     "metadata": {},
     "output_type": "execute_result"
    },
    {
     "name": "stdout",
     "output_type": "stream",
     "text": [
      "### 각 과목의 pass한 학생의 숫자\n"
     ]
    },
    {
     "data": {
      "text/plain": [
       "array([1, 3, 2])"
      ]
     },
     "execution_count": 20,
     "metadata": {},
     "output_type": "execute_result"
    }
   ],
   "source": [
    "# 3과목 (각 행)에 대한 5명 학생(각 열)의 점수가 m1에 주어져 있다.\n",
    "# 과목은 국 (0행), 영 (1행), 수 (2행) 순이다.\n",
    "# v1은 각 과목의 pass의 기준을 국 영 수 순으로 나타낸다 (기준 점수 이상이면 pass)\n",
    "# 각 과목의 pass한 학생의 숫자를 구하시오 (단 채점시 v1은 변경)\n",
    "\n",
    "m1=np.random.randint(10, size=(3,5))\n",
    "print('### m1')\n",
    "m1\n",
    "v1=np.array([6,7,8]) # [국, 영, 수]\n",
    "print('### v1')\n",
    "v1\n",
    "#=== 코드작성 ===# \n",
    "b1=(m1>=v1.reshape(3,1))\n",
    "v2=b1.sum(axis=1)\n",
    "#=== 코드작성 끝 ===#\n",
    "\n",
    "print('### 각 과목의 pass한 학생의 숫자')\n",
    "v2"
   ]
  },
  {
   "cell_type": "markdown",
   "metadata": {},
   "source": [
    "# 문제15"
   ]
  },
  {
   "cell_type": "code",
   "execution_count": 39,
   "metadata": {},
   "outputs": [
    {
     "name": "stdout",
     "output_type": "stream",
     "text": [
      "## v1\n"
     ]
    },
    {
     "data": {
      "text/plain": [
       "array([-1, -2, -3])"
      ]
     },
     "execution_count": 39,
     "metadata": {},
     "output_type": "execute_result"
    },
    {
     "name": "stdout",
     "output_type": "stream",
     "text": [
      "## m1\n"
     ]
    },
    {
     "data": {
      "text/plain": [
       "array([[3, 6, 4, 1],\n",
       "       [2, 8, 4, 8],\n",
       "       [0, 7, 0, 6]])"
      ]
     },
     "execution_count": 39,
     "metadata": {},
     "output_type": "execute_result"
    },
    {
     "name": "stdout",
     "output_type": "stream",
     "text": [
      "## v1을 넣은 matrix:\n"
     ]
    },
    {
     "data": {
      "text/plain": [
       "array([[ 3,  6, -1,  4,  1],\n",
       "       [ 2,  8, -2,  4,  8],\n",
       "       [ 0,  7, -3,  0,  6]])"
      ]
     },
     "execution_count": 39,
     "metadata": {},
     "output_type": "execute_result"
    }
   ],
   "source": [
    "# 주어진 vector v1을 m1의 1번째와 2번째 열 사이에 넣으시오 (0번째 열부터 시작)\n",
    "\n",
    "v1=np.array([-1,-2,-3])\n",
    "m1=np.random.randint(10,size=(3,4))\n",
    "\n",
    "print('## v1')\n",
    "v1\n",
    "print('## m1')\n",
    "m1\n",
    "\n",
    "#=== 코드작성 ===# \n",
    "m2=m1[:,:2]\n",
    "m3=m1[:,2:]\n",
    "m4=np.concatenate((m2, v1.reshape(3,1), m3), axis=1)\n",
    "#=== 코드작성 끝 ===# \n",
    "\n",
    "print('## v1을 넣은 matrix:')\n",
    "m4"
   ]
  },
  {
   "cell_type": "markdown",
   "metadata": {},
   "source": [
    "# 문제 16"
   ]
  },
  {
   "cell_type": "code",
   "execution_count": 52,
   "metadata": {},
   "outputs": [
    {
     "name": "stdout",
     "output_type": "stream",
     "text": [
      "### v1\n"
     ]
    },
    {
     "data": {
      "text/plain": [
       "array(['b', 'b', 'a', 'a', 'a', 'b', 'a', 'b', 'a', 'b', 'b', 'a', 'b',\n",
       "       'b', 'a', 'a', 'a', 'b', 'b', 'b'], dtype='<U1')"
      ]
     },
     "execution_count": 52,
     "metadata": {},
     "output_type": "execute_result"
    },
    {
     "name": "stdout",
     "output_type": "stream",
     "text": [
      "### 샘플 5개에 대한, 각 샘플 a와 b 개수의 비율 (num_of_a/num_of_b)\n"
     ]
    },
    {
     "data": {
      "text/plain": [
       "array([3.        , 1.5       , 1.5       , 1.85714286, 1.        ])"
      ]
     },
     "execution_count": 52,
     "metadata": {},
     "output_type": "execute_result"
    }
   ],
   "source": [
    "# a와 b가 뽑힐 확률이 각각 2:1인 분포에서 20개의 값을 뽑은 샘플 v1이 있다.\n",
    "# v1과 같은 샘플 5개를 만든 후, 각 샘플의 a와 b 개수의 비율 (num_of_a/num_of_b)을 구하시오\n",
    "\n",
    "v1=np.random.choice(['a','a','b'], size=20)\n",
    "print('### v1')\n",
    "v1\n",
    "\n",
    "#=== 코드작성 ===# \n",
    "m1=np.random.choice(['a','a','b'], size=(5,20))\n",
    "na=(m1=='a').sum(axis=1)\n",
    "nb=(m1=='b').sum(axis=1)\n",
    "p1=na/nb\n",
    "#=== 코드작성 끝 ===# \n",
    "\n",
    "print(\"### 샘플 5개에 대한, 각 샘플 a와 b 개수의 비율 (num_of_a/num_of_b)\")\n",
    "p1"
   ]
  }
 ],
 "metadata": {
  "kernelspec": {
   "display_name": "Python 3 (ipykernel)",
   "language": "python",
   "name": "python3"
  },
  "language_info": {
   "codemirror_mode": {
    "name": "ipython",
    "version": 3
   },
   "file_extension": ".py",
   "mimetype": "text/x-python",
   "name": "python",
   "nbconvert_exporter": "python",
   "pygments_lexer": "ipython3",
   "version": "3.9.7"
  },
  "toc": {
   "base_numbering": 1,
   "nav_menu": {},
   "number_sections": true,
   "sideBar": true,
   "skip_h1_title": false,
   "title_cell": "Table of Contents",
   "title_sidebar": "Contents",
   "toc_cell": false,
   "toc_position": {
    "height": "calc(100% - 180px)",
    "left": "10px",
    "top": "150px",
    "width": "280.244px"
   },
   "toc_section_display": true,
   "toc_window_display": true
  },
  "varInspector": {
   "cols": {
    "lenName": 16,
    "lenType": 16,
    "lenVar": 40
   },
   "kernels_config": {
    "python": {
     "delete_cmd_postfix": "",
     "delete_cmd_prefix": "del ",
     "library": "var_list.py",
     "varRefreshCmd": "print(var_dic_list())"
    },
    "r": {
     "delete_cmd_postfix": ") ",
     "delete_cmd_prefix": "rm(",
     "library": "var_list.r",
     "varRefreshCmd": "cat(var_dic_list()) "
    }
   },
   "types_to_exclude": [
    "module",
    "function",
    "builtin_function_or_method",
    "instance",
    "_Feature"
   ],
   "window_display": false
  }
 },
 "nbformat": 4,
 "nbformat_minor": 2
}
