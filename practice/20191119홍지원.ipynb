{
 "cells": [
  {
   "cell_type": "code",
   "execution_count": 1,
   "metadata": {},
   "outputs": [],
   "source": [
    "a=[1,2,3]"
   ]
  },
  {
   "cell_type": "code",
   "execution_count": 2,
   "metadata": {},
   "outputs": [
    {
     "name": "stdout",
     "output_type": "stream",
     "text": [
      "1\n",
      "2\n",
      "3\n"
     ]
    }
   ],
   "source": [
    "for i in a: #1,         2,             3\n",
    "    print(i) #print(1)   #print(2)    #print(3)"
   ]
  },
  {
   "cell_type": "code",
   "execution_count": 4,
   "metadata": {},
   "outputs": [
    {
     "name": "stdout",
     "output_type": "stream",
     "text": [
      "i= 1\n",
      "i= 2\n",
      "i= 3\n",
      "i= 4\n",
      "i= 5\n"
     ]
    }
   ],
   "source": [
    "for i in [1,2,3,4,5]:\n",
    "    print(\"i=\",i)"
   ]
  },
  {
   "cell_type": "markdown",
   "metadata": {},
   "source": [
    "# 연습문제"
   ]
  },
  {
   "cell_type": "code",
   "execution_count": 6,
   "metadata": {},
   "outputs": [
    {
     "name": "stdout",
     "output_type": "stream",
     "text": [
      "9* 1 = 9\n",
      "9* 2 = 18\n",
      "9* 3 = 27\n",
      "9* 4 = 36\n",
      "9* 5 = 45\n",
      "9* 6 = 54\n",
      "9* 7 = 63\n",
      "9* 8 = 72\n",
      "9* 9 = 81\n"
     ]
    }
   ],
   "source": [
    "for i in [1,2,3,4,5,6,7,8,9]:\n",
    "    print(\"9*\",i,\"=\",9*i)"
   ]
  },
  {
   "cell_type": "code",
   "execution_count": 15,
   "metadata": {},
   "outputs": [
    {
     "name": "stdout",
     "output_type": "stream",
     "text": [
      "반복\n",
      "반복\n",
      "반복\n",
      "반복\n",
      "반복\n",
      "반복\n",
      "반복\n",
      "반복\n",
      "반복\n",
      "반복\n",
      "반복\n",
      "반복\n",
      "반복\n",
      "반복\n",
      "반복\n",
      "반복\n",
      "반복\n",
      "반복\n",
      "반복\n",
      "반복\n",
      "반복\n",
      "반복\n",
      "반복\n",
      "반복\n",
      "반복\n",
      "반복\n",
      "반복\n",
      "반복\n",
      "반복\n",
      "반복\n",
      "반복\n",
      "반복\n",
      "반복\n",
      "반복\n",
      "반복\n",
      "반복\n",
      "반복\n",
      "반복\n",
      "반복\n",
      "반복\n",
      "반복\n",
      "반복\n",
      "반복\n",
      "반복\n",
      "반복\n",
      "반복\n",
      "반복\n",
      "반복\n",
      "반복\n",
      "반복\n"
     ]
    }
   ],
   "source": [
    "for i in range(50):\n",
    "    print(\"반복\")"
   ]
  },
  {
   "cell_type": "markdown",
   "metadata": {},
   "source": [
    "# 연습문제"
   ]
  },
  {
   "cell_type": "code",
   "execution_count": 17,
   "metadata": {},
   "outputs": [
    {
     "name": "stdout",
     "output_type": "stream",
     "text": [
      "9* 1 = 9\n",
      "9* 2 = 18\n",
      "9* 3 = 27\n",
      "9* 4 = 36\n",
      "9* 5 = 45\n",
      "9* 6 = 54\n",
      "9* 7 = 63\n",
      "9* 8 = 72\n",
      "9* 9 = 81\n"
     ]
    }
   ],
   "source": [
    "for i in range(1,10,1):\n",
    "    print(\"9*\",i,\"=\",9*i)"
   ]
  },
  {
   "cell_type": "code",
   "execution_count": 18,
   "metadata": {},
   "outputs": [
    {
     "name": "stdout",
     "output_type": "stream",
     "text": [
      "결과값은 10 입니다\n"
     ]
    }
   ],
   "source": [
    "result=0\n",
    "for i in range(10):\n",
    "    result+=1 #result=result+1\n",
    "\n",
    "print(\"결과값은\",result,\"입니다\")"
   ]
  },
  {
   "cell_type": "markdown",
   "metadata": {},
   "source": [
    "# 연습문제"
   ]
  },
  {
   "cell_type": "code",
   "execution_count": 30,
   "metadata": {},
   "outputs": [
    {
     "name": "stdout",
     "output_type": "stream",
     "text": [
      "결과값은 55 입니다\n"
     ]
    }
   ],
   "source": [
    "result=0\n",
    "for i in range(1,11):\n",
    "    result+=i\n",
    "    \n",
    "print(\"결과값은\",result,\"입니다\")"
   ]
  },
  {
   "cell_type": "code",
   "execution_count": 31,
   "metadata": {},
   "outputs": [
    {
     "name": "stdout",
     "output_type": "stream",
     "text": [
      "반복\n",
      "반복\n",
      "반복\n",
      "반복\n",
      "반복\n",
      "반복\n",
      "반복\n",
      "반복\n",
      "반복\n",
      "반복\n",
      "반복\n",
      "반복\n",
      "반복\n",
      "반복\n",
      "반복\n",
      "반복\n",
      "반복\n",
      "반복\n",
      "반복\n",
      "반복\n",
      "반복\n",
      "반복\n",
      "반복\n",
      "반복\n",
      "반복\n"
     ]
    }
   ],
   "source": [
    "for a in range(5):      #0,1,2,3,4\n",
    "    for b in range(5):   #0,1,2,3,4\n",
    "        print(\"반복\")"
   ]
  },
  {
   "cell_type": "markdown",
   "metadata": {},
   "source": [
    "# 연습문제"
   ]
  },
  {
   "cell_type": "code",
   "execution_count": 33,
   "metadata": {},
   "outputs": [
    {
     "name": "stdout",
     "output_type": "stream",
     "text": [
      "8\n"
     ]
    }
   ],
   "source": [
    "import random\n",
    "r=random.randint(1,10)\n",
    "print(r)"
   ]
  },
  {
   "cell_type": "code",
   "execution_count": 49,
   "metadata": {},
   "outputs": [
    {
     "name": "stdout",
     "output_type": "stream",
     "text": [
      "숫자를 맞추세요50\n",
      "숫자가 더 큽니다\n",
      "숫자를 맞추세요70\n",
      "숫자가 더 큽니다\n",
      "숫자를 맞추세요90\n",
      "숫자가 더 큽니다\n",
      "숫자를 맞추세요8\n",
      "맞아요. 점수는 70 입니다\n"
     ]
    }
   ],
   "source": [
    "score=100\n",
    "for i in range(10):\n",
    "    a=int(input(\"숫자를 맞추세요\"))\n",
    "    \n",
    "    if a==r:\n",
    "        print(\"맞아요. 점수는\",score,\"입니다\")\n",
    "        break\n",
    "    elif a<r:\n",
    "        print(\"숫자가 더 작습니다\")\n",
    "        score-=10\n",
    "    else:\n",
    "        print(\"숫자가 더 큽니다\")\n",
    "        score-=10"
   ]
  },
  {
   "cell_type": "code",
   "execution_count": 37,
   "metadata": {},
   "outputs": [],
   "source": [
    "import turtle\n",
    "t=turtle.Turtle()\n",
    "t.shape(\"turtle\")"
   ]
  },
  {
   "cell_type": "code",
   "execution_count": 40,
   "metadata": {},
   "outputs": [],
   "source": [
    "for i in range(4):\n",
    "    t.forward(100)\n",
    "    t.left(360/4)\n"
   ]
  },
  {
   "cell_type": "code",
   "execution_count": 50,
   "metadata": {},
   "outputs": [
    {
     "name": "stdout",
     "output_type": "stream",
     "text": [
      "0\n",
      "1\n",
      "2\n",
      "3\n",
      "4\n",
      "5\n",
      "6\n",
      "7\n",
      "8\n",
      "9\n"
     ]
    }
   ],
   "source": [
    "i=0\n",
    "while i<10:\n",
    "    print(i)\n",
    "    i+=1"
   ]
  },
  {
   "cell_type": "code",
   "execution_count": 51,
   "metadata": {},
   "outputs": [
    {
     "name": "stdout",
     "output_type": "stream",
     "text": [
      "엄마 밥이 다 됐어?아니\n",
      "엄마 밥이 다 됐어?아니\n",
      "엄마 밥이 다 됐어?아니\n",
      "엄마 밥이 다 됐어?응\n",
      "먹자\n"
     ]
    }
   ],
   "source": [
    "response=\"아니\"\n",
    "\n",
    "while response==\"아니\":\n",
    "    response=input(\"엄마 밥이 다 됐어?\")\n",
    "\n",
    "print(\"먹자\")"
   ]
  },
  {
   "cell_type": "code",
   "execution_count": 52,
   "metadata": {},
   "outputs": [
    {
     "name": "stdout",
     "output_type": "stream",
     "text": [
      "암호를 입력하세요python\n",
      "암호를 입력하세요pythonis\n",
      "암호를 입력하세요pythonisfun\n",
      "로그인 성공\n"
     ]
    }
   ],
   "source": [
    "pwd=\"\"\n",
    "while pwd != \"pythonisfun\":\n",
    "    pwd=input(\"암호를 입력하세요\")\n",
    "print(\"로그인 성공\")"
   ]
  },
  {
   "cell_type": "code",
   "execution_count": 57,
   "metadata": {},
   "outputs": [],
   "source": [
    "import turtle\n",
    "t=turtle.Turtle()\n",
    "t.shape(\"turtle\")\n"
   ]
  },
  {
   "cell_type": "code",
   "execution_count": 61,
   "metadata": {},
   "outputs": [
    {
     "data": {
      "text/plain": [
       "<bound method RawTurtle.reset of <turtle.Turtle object at 0x00000178FBCE3780>>"
      ]
     },
     "execution_count": 61,
     "metadata": {},
     "output_type": "execute_result"
    }
   ],
   "source": [
    "i=0\n",
    "while i<4:\n",
    "    t.forward(100)\n",
    "    t.right(90)\n",
    "    i+=1\n"
   ]
  },
  {
   "cell_type": "code",
   "execution_count": null,
   "metadata": {},
   "outputs": [],
   "source": [
    "while True:\n",
    "    light=input(\"신호등 색상을 정하세요\")\n",
    "    if light==\"blue\":\n",
    "        break\n",
    "print(\"전진\")"
   ]
  },
  {
   "cell_type": "markdown",
   "metadata": {},
   "source": [
    "# 연습문제"
   ]
  },
  {
   "cell_type": "code",
   "execution_count": 5,
   "metadata": {},
   "outputs": [
    {
     "ename": "SyntaxError",
     "evalue": "invalid syntax (<ipython-input-5-c1ef4af77584>, line 10)",
     "output_type": "error",
     "traceback": [
      "\u001b[1;36m  File \u001b[1;32m\"<ipython-input-5-c1ef4af77584>\"\u001b[1;36m, line \u001b[1;32m10\u001b[0m\n\u001b[1;33m    else:\u001b[0m\n\u001b[1;37m       ^\u001b[0m\n\u001b[1;31mSyntaxError\u001b[0m\u001b[1;31m:\u001b[0m invalid syntax\n"
     ]
    }
   ],
   "source": [
    "import random\n",
    "while True:\n",
    "    x=random.randint(1,100)\n",
    "    y=random.randint(1,100)\n",
    "    print(x,\"*\",y,\"=\",end=\"\")\n",
    "    answer=int(input(\"곱셈 문제를 풀으세요\"))\n",
    "    if answer==x*y:\n",
    "        break\n",
    "print(\"잘했어요\")\n",
    "else:\n",
    "    print(\"다시 풀으세요\")"
   ]
  },
  {
   "cell_type": "code",
   "execution_count": 1,
   "metadata": {},
   "outputs": [
    {
     "name": "stdout",
     "output_type": "stream",
     "text": [
      "i= 6\n",
      "i= 7\n",
      "i= 8\n",
      "i= 9\n"
     ]
    }
   ],
   "source": [
    "for i in [6,7,8,9]:\n",
    "    print(\"i=\",i)"
   ]
  },
  {
   "cell_type": "code",
   "execution_count": 4,
   "metadata": {},
   "outputs": [
    {
     "name": "stdout",
     "output_type": "stream",
     "text": [
      "9* 1 = 9\n",
      "9* 2 = 18\n",
      "9* 3 = 27\n",
      "9* 4 = 36\n",
      "9* 5 = 45\n",
      "9* 6 = 54\n",
      "9* 7 = 63\n",
      "9* 8 = 72\n",
      "9* 9 = 81\n"
     ]
    }
   ],
   "source": [
    "for i in [1,2,3,4,5,6,7,8,9]:\n",
    "    print(\"9*\",i,\"=\",9*i)"
   ]
  },
  {
   "cell_type": "code",
   "execution_count": 7,
   "metadata": {},
   "outputs": [
    {
     "name": "stdout",
     "output_type": "stream",
     "text": [
      "9* 1 = 9\n",
      "9* 2 = 18\n",
      "9* 3 = 27\n",
      "9* 4 = 36\n",
      "9* 5 = 45\n",
      "9* 6 = 54\n",
      "9* 7 = 63\n",
      "9* 8 = 72\n",
      "9* 9 = 81\n"
     ]
    }
   ],
   "source": [
    "for i in range(1,10):\n",
    "    print(\"9*\",i,\"=\",9*i)"
   ]
  },
  {
   "cell_type": "code",
   "execution_count": 13,
   "metadata": {},
   "outputs": [
    {
     "name": "stdout",
     "output_type": "stream",
     "text": [
      "결과값은 11 입니다\n"
     ]
    }
   ],
   "source": [
    "result=1\n",
    "for i in range(10):\n",
    "    result+=1\n",
    "print(\"결과값은\",result,\"입니다\")"
   ]
  },
  {
   "cell_type": "code",
   "execution_count": 15,
   "metadata": {},
   "outputs": [
    {
     "name": "stdout",
     "output_type": "stream",
     "text": [
      "결과값은 55 입니다\n"
     ]
    }
   ],
   "source": [
    "result=1\n",
    "for i in range(2,11):\n",
    "    result+=i\n",
    "print(\"결과값은\",result,\"입니다\")"
   ]
  },
  {
   "cell_type": "code",
   "execution_count": 17,
   "metadata": {},
   "outputs": [
    {
     "name": "stdout",
     "output_type": "stream",
     "text": [
      "홍지원\n",
      "홍지원\n",
      "홍지원\n",
      "홍지원\n"
     ]
    }
   ],
   "source": [
    "for a in range(2):\n",
    "    for b in range(2):\n",
    "        print(\"홍지원\")"
   ]
  },
  {
   "cell_type": "code",
   "execution_count": 20,
   "metadata": {},
   "outputs": [
    {
     "name": "stdout",
     "output_type": "stream",
     "text": [
      "43\n"
     ]
    }
   ],
   "source": [
    "import random\n",
    "r=random.randint(1,100)\n",
    "print(r)"
   ]
  },
  {
   "cell_type": "code",
   "execution_count": 22,
   "metadata": {},
   "outputs": [
    {
     "name": "stdout",
     "output_type": "stream",
     "text": [
      "점수를 입력하세요44\n",
      "점수가 더 큽니다\n",
      "점수를 입력하세요22\n",
      "점수가 더 작습니다\n",
      "점수를 입력하세요32\n",
      "점수가 더 작습니다\n",
      "점수를 입력하세요45\n",
      "점수가 더 큽니다\n",
      "점수를 입력하세요33\n",
      "점수가 더 작습니다\n"
     ]
    }
   ],
   "source": [
    "score=100\n",
    "for a in range(5):\n",
    "    a=int(input(\"점수를 입력하세요\"))\n",
    "    if a==r:\n",
    "        print(\"맞아요. 점수는\",score,\"입니다\")\n",
    "        break\n",
    "    elif a>r:\n",
    "        print(\"점수가 더 큽니다\")\n",
    "        score-=10\n",
    "    else:\n",
    "        print(\"점수가 더 작습니다\")\n",
    "        score-=10\n",
    "    "
   ]
  },
  {
   "cell_type": "code",
   "execution_count": 23,
   "metadata": {},
   "outputs": [],
   "source": [
    "import turtle\n",
    "t=turtle.Turtle()\n",
    "t.shape(\"turtle\")\n",
    "for i in range(4):\n",
    "    t.forward(100)\n",
    "    t.left(360/4)"
   ]
  },
  {
   "cell_type": "code",
   "execution_count": 24,
   "metadata": {},
   "outputs": [],
   "source": [
    "for i in range(3):\n",
    "    t.forward(100)\n",
    "    t.left(360/3)"
   ]
  },
  {
   "cell_type": "code",
   "execution_count": 25,
   "metadata": {},
   "outputs": [],
   "source": [
    "t.circle(100)"
   ]
  },
  {
   "cell_type": "code",
   "execution_count": 26,
   "metadata": {},
   "outputs": [],
   "source": [
    "t.reset()"
   ]
  },
  {
   "cell_type": "code",
   "execution_count": 27,
   "metadata": {},
   "outputs": [
    {
     "name": "stdout",
     "output_type": "stream",
     "text": [
      "0\n",
      "1\n",
      "2\n",
      "3\n",
      "4\n",
      "5\n",
      "6\n",
      "7\n",
      "8\n",
      "9\n"
     ]
    }
   ],
   "source": [
    "i=0\n",
    "while i<10:\n",
    "    print(i)\n",
    "    i+=1"
   ]
  },
  {
   "cell_type": "code",
   "execution_count": 28,
   "metadata": {},
   "outputs": [
    {
     "name": "stdout",
     "output_type": "stream",
     "text": [
      "엄마 밥 다 됐어?아니\n",
      "엄마 밥 다 됐어?아니\n",
      "엄마 밥 다 됐어?아니\n",
      "엄마 밥 다 됐어?아니\n",
      "엄마 밥 다 됐어?아니\n",
      "엄마 밥 다 됐어?아니\n",
      "엄마 밥 다 됐어?아니\n",
      "엄마 밥 다 됐어?응\n",
      "응 먹자\n"
     ]
    }
   ],
   "source": [
    "response=\"아니\"\n",
    "while response==\"아니\":\n",
    "    response=input(\"엄마 밥 다 됐어?\")\n",
    "print(\"응 먹자\")"
   ]
  },
  {
   "cell_type": "code",
   "execution_count": 29,
   "metadata": {},
   "outputs": [
    {
     "name": "stdout",
     "output_type": "stream",
     "text": [
      "암호를 입력하세요홍지원\n",
      "암호를 입력하세요홍지원\n",
      "암호를 입력하세요홍지원\n",
      "암호를 입력하세요홍지\n",
      "암호를 입력하세요지원\n",
      "암호를 입력하세요지원홍\n",
      "로그인 성공\n"
     ]
    }
   ],
   "source": [
    "pwd=\"\"\n",
    "while pwd!=\"지원홍\":\n",
    "    pwd=input(\"암호를 입력하세요\")\n",
    "print(\"로그인 성공\")"
   ]
  },
  {
   "cell_type": "code",
   "execution_count": 30,
   "metadata": {},
   "outputs": [
    {
     "name": "stdout",
     "output_type": "stream",
     "text": [
      "신호등 색상을 말하세요red\n",
      "신호등 색상을 말하세요rd\n",
      "신호등 색상을 말하세요yellow\n",
      "신호등 색상을 말하세요blue\n",
      "신호등 색상을 말하세요green\n",
      "전진\n"
     ]
    }
   ],
   "source": [
    "while True:\n",
    "    light=input(\"신호등 색상을 말하세요\")\n",
    "    if light=='green':\n",
    "        break\n",
    "print(\"전진\")"
   ]
  },
  {
   "cell_type": "code",
   "execution_count": 3,
   "metadata": {},
   "outputs": [],
   "source": [
    "import random"
   ]
  },
  {
   "cell_type": "code",
   "execution_count": 8,
   "metadata": {},
   "outputs": [
    {
     "name": "stdout",
     "output_type": "stream",
     "text": [
      "38 * 46 =문제를 풀으세요3\n",
      "다시 풀으세요\n",
      "64 * 72 =문제를 풀으세요3\n",
      "다시 풀으세요\n",
      "94 * 93 =문제를 풀으세요2\n",
      "다시 풀으세요\n",
      "60 * 25 =문제를 풀으세요4\n",
      "다시 풀으세요\n",
      "97 * 40 =문제를 풀으세요3\n",
      "다시 풀으세요\n",
      "96 * 90 =문제를 풀으세요4\n",
      "다시 풀으세요\n",
      "60 * 83 =문제를 풀으세요2\n",
      "다시 풀으세요\n",
      "79 * 38 =문제를 풀으세요3\n",
      "다시 풀으세요\n",
      "39 * 48 =문제를 풀으세요4\n",
      "다시 풀으세요\n",
      "35 * 21 =문제를 풀으세요2\n",
      "다시 풀으세요\n",
      "56 * 99 =문제를 풀으세요1\n",
      "다시 풀으세요\n",
      "25 * 69 =문제를 풀으세요2\n",
      "다시 풀으세요\n",
      "28 * 36 =문제를 풀으세요3\n",
      "다시 풀으세요\n",
      "71 * 20 =문제를 풀으세요4\n",
      "다시 풀으세요\n",
      "30 * 5 =문제를 풀으세요150\n"
     ]
    }
   ],
   "source": [
    "while True:\n",
    "    x=random.randint(1,100)\n",
    "    y=random.randint(1,100)\n",
    "    print(x,\"*\",y,\"=\",end=\"\")\n",
    "    answer=int(input(\"문제를 풀으세요\"))\n",
    "    if answer==x*y:\n",
    "        break\n",
    "    print(\"다시 풀으세요\")\n",
    "else:\n",
    "    print(\"잘했어요\")"
   ]
  },
  {
   "cell_type": "markdown",
   "metadata": {},
   "source": [
    "# 연습이라능"
   ]
  },
  {
   "cell_type": "code",
   "execution_count": 1,
   "metadata": {},
   "outputs": [
    {
     "name": "stdout",
     "output_type": "stream",
     "text": [
      "1\n",
      "2\n",
      "3\n",
      "4\n",
      "5\n"
     ]
    }
   ],
   "source": [
    "for i in [1,2,3,4,5]:\n",
    "    print(i)"
   ]
  },
  {
   "cell_type": "code",
   "execution_count": 7,
   "metadata": {},
   "outputs": [
    {
     "name": "stdout",
     "output_type": "stream",
     "text": [
      "9* 1 = 9\n",
      "9* 3 = 27\n",
      "9* 5 = 45\n",
      "9* 7 = 63\n",
      "9* 9 = 81\n"
     ]
    }
   ],
   "source": [
    "for i in range(1,10,2):\n",
    "    print(\"9*\",i,\"=\",9*i)"
   ]
  },
  {
   "cell_type": "code",
   "execution_count": 5,
   "metadata": {},
   "outputs": [
    {
     "name": "stdout",
     "output_type": "stream",
     "text": [
      "지오닝\n",
      "지오닝\n",
      "지오닝\n",
      "지오닝\n",
      "지오닝\n",
      "지오닝\n",
      "지오닝\n",
      "지오닝\n",
      "지오닝\n"
     ]
    }
   ],
   "source": [
    "for i in range(9):\n",
    "    print(\"지오닝\")"
   ]
  },
  {
   "cell_type": "code",
   "execution_count": 12,
   "metadata": {},
   "outputs": [
    {
     "data": {
      "text/plain": [
       "35"
      ]
     },
     "execution_count": 12,
     "metadata": {},
     "output_type": "execute_result"
    }
   ],
   "source": [
    "import random\n",
    "r=random.randint(1,100)\n",
    "r"
   ]
  },
  {
   "cell_type": "code",
   "execution_count": 17,
   "metadata": {},
   "outputs": [
    {
     "name": "stdout",
     "output_type": "stream",
     "text": [
      "숫자를 입력하세요34\n",
      "당신의 점수가 깎입니다\n",
      "숫자를 입력하세요34\n",
      "당신의 점수가 깎입니다\n",
      "숫자를 입력하세요34\n",
      "당신의 점수가 깎입니다\n",
      "숫자를 입력하세요34\n",
      "당신의 점수가 깎입니다\n",
      "숫자를 입력하세요35\n",
      "당신의 점수는 60 입니다\n"
     ]
    }
   ],
   "source": [
    "score=100\n",
    "for i in range(5):\n",
    "    a=int(input(\"숫자를 입력하세요\"))\n",
    "    if a==r:\n",
    "        print(\"당신의 점수는\",score, \"입니다\")\n",
    "        break\n",
    "    elif a>r:\n",
    "        print(\"당신의 점수가 깎입니다\")\n",
    "        score-=10\n",
    "    else:\n",
    "        print(\"당신의 점수가 깎입니다\")\n",
    "        score-=10"
   ]
  },
  {
   "cell_type": "code",
   "execution_count": 1,
   "metadata": {},
   "outputs": [
    {
     "name": "stdout",
     "output_type": "stream",
     "text": [
      "신호등 색상은 무엇인가요?red\n",
      "신호등 색상은 무엇인가요?red\n",
      "신호등 색상은 무엇인가요?yellow\n",
      "신호등 색상은 무엇인가요?blue\n",
      "전진\n"
     ]
    }
   ],
   "source": [
    "while True:\n",
    "    light=input(\"신호등 색상은 무엇인가요?\")\n",
    "    if light=='blue':\n",
    "        break\n",
    "print(\"전진\")"
   ]
  },
  {
   "cell_type": "code",
   "execution_count": 3,
   "metadata": {},
   "outputs": [
    {
     "name": "stdout",
     "output_type": "stream",
     "text": [
      "패스워드를 입력하세요ghdwldnjs\n",
      "패스워드를 입력하세요ghdwldnjs\n",
      "패스워드를 입력하세요ghdwldjs9\n",
      "패스워드를 입력하세요ghdwldnjs99\n",
      "로그인 성공\n"
     ]
    }
   ],
   "source": [
    "pwd=\"\"\n",
    "while pwd!=\"ghdwldnjs99\":\n",
    "    pwd=input(\"패스워드를 입력하세요\")\n",
    "print(\"로그인 성공\")"
   ]
  },
  {
   "cell_type": "code",
   "execution_count": 4,
   "metadata": {},
   "outputs": [
    {
     "name": "stdout",
     "output_type": "stream",
     "text": [
      "밥이 다 됐니?아니\n",
      "밥이 다 됐니?아니\n",
      "밥이 다 됐니?아니\n",
      "밥이 다 됐니?응\n",
      "밥 먹자\n"
     ]
    }
   ],
   "source": [
    "response='아니'\n",
    "while response=='아니':\n",
    "    response=input(\"밥이 다 됐니?\")\n",
    "print(\"밥 먹자\")"
   ]
  },
  {
   "cell_type": "code",
   "execution_count": 6,
   "metadata": {},
   "outputs": [],
   "source": [
    "import turtle\n",
    "t=turtle.Turtle()\n",
    "t.shape(\"turtle\")"
   ]
  },
  {
   "cell_type": "code",
   "execution_count": 8,
   "metadata": {},
   "outputs": [],
   "source": [
    "for i in range(4):\n",
    "    t.forward(100)\n",
    "    t.right(360/4)"
   ]
  },
  {
   "cell_type": "code",
   "execution_count": 9,
   "metadata": {},
   "outputs": [],
   "source": [
    "t.reset()"
   ]
  },
  {
   "cell_type": "code",
   "execution_count": 11,
   "metadata": {},
   "outputs": [],
   "source": [
    "i=0\n",
    "while i<4:\n",
    "    t.forward(100)\n",
    "    t.right(90)\n",
    "    i+=1"
   ]
  },
  {
   "cell_type": "code",
   "execution_count": null,
   "metadata": {},
   "outputs": [],
   "source": []
  }
 ],
 "metadata": {
  "kernelspec": {
   "display_name": "Python 3",
   "language": "python",
   "name": "python3"
  },
  "language_info": {
   "codemirror_mode": {
    "name": "ipython",
    "version": 3
   },
   "file_extension": ".py",
   "mimetype": "text/x-python",
   "name": "python",
   "nbconvert_exporter": "python",
   "pygments_lexer": "ipython3",
   "version": "3.7.4"
  }
 },
 "nbformat": 4,
 "nbformat_minor": 2
}
