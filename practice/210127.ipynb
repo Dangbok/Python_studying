{
 "cells": [
  {
   "cell_type": "code",
   "execution_count": 4,
   "metadata": {},
   "outputs": [
    {
     "ename": "FileNotFoundError",
     "evalue": "[Errno 2] No such file or directory: 'd:\\\\words.txt'",
     "output_type": "error",
     "traceback": [
      "\u001b[1;31m---------------------------------------------------------------------------\u001b[0m",
      "\u001b[1;31mFileNotFoundError\u001b[0m                         Traceback (most recent call last)",
      "\u001b[1;32m<ipython-input-4-f5218be3670c>\u001b[0m in \u001b[0;36m<module>\u001b[1;34m\u001b[0m\n\u001b[0;32m      4\u001b[0m \u001b[0mturns\u001b[0m\u001b[1;33m=\u001b[0m\u001b[1;36m10\u001b[0m\u001b[1;33m\u001b[0m\u001b[1;33m\u001b[0m\u001b[0m\n\u001b[0;32m      5\u001b[0m \u001b[1;33m\u001b[0m\u001b[0m\n\u001b[1;32m----> 6\u001b[1;33m \u001b[0minfile\u001b[0m\u001b[1;33m=\u001b[0m\u001b[0mopen\u001b[0m\u001b[1;33m(\u001b[0m\u001b[1;34m\"d:\\\\words.txt\"\u001b[0m\u001b[1;33m,\u001b[0m\u001b[1;34m\"r\"\u001b[0m\u001b[1;33m)\u001b[0m\u001b[1;33m\u001b[0m\u001b[1;33m\u001b[0m\u001b[0m\n\u001b[0m\u001b[0;32m      7\u001b[0m \u001b[0mlines\u001b[0m\u001b[1;33m=\u001b[0m\u001b[0minfile\u001b[0m\u001b[1;33m.\u001b[0m\u001b[0mreadlines\u001b[0m\u001b[1;33m(\u001b[0m\u001b[1;33m)\u001b[0m\u001b[1;33m\u001b[0m\u001b[1;33m\u001b[0m\u001b[0m\n\u001b[0;32m      8\u001b[0m \u001b[0mword\u001b[0m\u001b[1;33m=\u001b[0m\u001b[0mrandom\u001b[0m\u001b[1;33m.\u001b[0m\u001b[0mchoice\u001b[0m\u001b[1;33m(\u001b[0m\u001b[0mlines\u001b[0m\u001b[1;33m)\u001b[0m\u001b[1;33m\u001b[0m\u001b[1;33m\u001b[0m\u001b[0m\n",
      "\u001b[1;31mFileNotFoundError\u001b[0m: [Errno 2] No such file or directory: 'd:\\\\words.txt'"
     ]
    }
   ],
   "source": [
    "import random\n",
    "\n",
    "guessed=\"\"\n",
    "turns=10\n",
    "\n",
    "infile=open(\"d:\\\\words.txt\",\"r\")\n",
    "lines=infile.readlines()\n",
    "word=random.choice(lines)\n",
    "\n",
    "while turns>0:\n",
    "    failed=0\n",
    "    for char in word:\n",
    "        if char in guesses:\n",
    "            print(char,end=\"\")\n",
    "        else:\n",
    "            print(\"_\",end=\"\")\n",
    "            failed+=1\n",
    "    if failed==0:\n",
    "        print(\"사용자 승리\")\n",
    "        break\n",
    "    print(\"\")\n",
    "    guess=input(\"단어 추측: \")\n",
    "    guesses+=guess\n",
    "    if guess not in word:\n",
    "        turns-=1\n",
    "        print(\"틀렸음\")\n",
    "        print(str(turns)+\"기회가 남았음\")\n",
    "        if turns==0:\n",
    "            print(\"사용자 패배 정답은\"+word)\n",
    "            \n",
    "infile.close()"
   ]
  },
  {
   "cell_type": "code",
   "execution_count": 6,
   "metadata": {},
   "outputs": [],
   "source": [
    "from tkinter import*\n",
    "\n",
    "def open():\n",
    "    file=filedialog.askopenfile(parent=window,mode=\"r\")\n",
    "    if file!=None:\n",
    "        lines=file.read()\n",
    "        text.insert(\"1.0\",lines)\n",
    "        file.close()\n",
    "        \n",
    "def save():\n",
    "    file=filedialog.asksaveasfile(parent=window,mode=\"w\")\n",
    "    if file!=None:\n",
    "        lines=text.get(\"1.0\",END+\"-1c\")\n",
    "        file.write(lines)\n",
    "        file.close()\n",
    "        \n",
    "def exit():\n",
    "    if messagebox.askokcancel(\"Quit\",\"종료하시겠습니까?\"):\n",
    "        window.destroy()\n",
    "        \n",
    "def about():\n",
    "    label=messagebox.showinfo(\"About\",\"메모장 프로그램\")\n",
    "\n",
    "window=Tk()\n",
    "text=Text(window,height=30,width=80)\n",
    "text.pack()\n",
    "\n",
    "menu=Menu(window)\n",
    "window.config(menu=menu)\n",
    "filemenu=Menu(menu)\n",
    "menu.add_cascade(label=\"파일\",menu=filemenu)\n",
    "filemenu.add_command(label=\"열기\",command=open)\n",
    "filemenu.add_command(label=\"저장하기\",command=save)\n",
    "filemenu.add_command(label=\"종료\",command=exit)\n",
    "helpmenu=Menu(menu)\n",
    "menu.add_cascade(label=\"도움말\",menu=helpmenu)\n",
    "helpmenu.add_command(label=\"프로그램 정보\",command=about)\n",
    "\n",
    "window.mainloop()\n",
    "        "
   ]
  }
 ],
 "metadata": {
  "kernelspec": {
   "display_name": "Python 3",
   "language": "python",
   "name": "python3"
  },
  "language_info": {
   "codemirror_mode": {
    "name": "ipython",
    "version": 3
   },
   "file_extension": ".py",
   "mimetype": "text/x-python",
   "name": "python",
   "nbconvert_exporter": "python",
   "pygments_lexer": "ipython3",
   "version": "3.7.4"
  }
 },
 "nbformat": 4,
 "nbformat_minor": 2
}
