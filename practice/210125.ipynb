{
 "cells": [
  {
   "cell_type": "code",
   "execution_count": 5,
   "metadata": {},
   "outputs": [
    {
     "name": "stdout",
     "output_type": "stream",
     "text": [
      "['영화']\n",
      "드라마\n"
     ]
    }
   ],
   "source": [
    "num=[]\n",
    "num.append(\"영화\")\n",
    "num.append(\"드라마\")\n",
    "s=num.pop()\n",
    "print(num)\n",
    "print(s)"
   ]
  },
  {
   "cell_type": "code",
   "execution_count": 20,
   "metadata": {},
   "outputs": [
    {
     "name": "stdout",
     "output_type": "stream",
     "text": [
      "[10, 20, '슈퍼맨', 3, 30, ['친구', '가족']]\n",
      "10\n",
      "[10, 20, '슈퍼맨']\n",
      "[3, 30, ['친구', '가족']]\n",
      "[20, '슈퍼맨']\n",
      "[10, 20, '슈퍼맨', 3, 30, ['친구', '가족']]\n",
      "[15, 10, 20, '슈퍼맨', 3, 30, ['친구', '가족']]\n",
      "[10, 20, '슈퍼맨', 3, 30, ['친구', '가족']]\n"
     ]
    }
   ],
   "source": [
    "i=3\n",
    "other_list=[\"친구\",\"가족\"]\n",
    "list1=[10,20,\"슈퍼맨\",i,30,other_list]\n",
    "print(list1)\n",
    "print(list1[0])\n",
    "print(list1[:3])\n",
    "print(list1[3:])\n",
    "print(list1[1:3])\n",
    "print(list1[:])\n",
    "list1.insert(0,15)\n",
    "print(list1)\n",
    "list1.remove(15)\n",
    "print(list1)"
   ]
  },
  {
   "cell_type": "code",
   "execution_count": 23,
   "metadata": {},
   "outputs": [
    {
     "name": "stdout",
     "output_type": "stream",
     "text": [
      "[10, 20, 3, 30, ['친구', '가족']]\n"
     ]
    }
   ],
   "source": [
    "if \"슈퍼맨\" in list1:\n",
    "    list1.remove(\"슈퍼맨\")\n",
    "print(list1)"
   ]
  },
  {
   "cell_type": "code",
   "execution_count": 25,
   "metadata": {},
   "outputs": [
    {
     "name": "stdout",
     "output_type": "stream",
     "text": [
      "[3, 30, ['친구', '가족']]\n"
     ]
    }
   ],
   "source": [
    "del list1[0]\n",
    "print(list1)"
   ]
  },
  {
   "cell_type": "code",
   "execution_count": 29,
   "metadata": {},
   "outputs": [
    {
     "name": "stdout",
     "output_type": "stream",
     "text": [
      "[]\n",
      "10\n",
      "[10]\n"
     ]
    }
   ],
   "source": [
    "m=list1.pop()\n",
    "print(list1)\n",
    "print(m)\n",
    "\n",
    "list1.append(10)\n",
    "print(list1)\n"
   ]
  },
  {
   "cell_type": "code",
   "execution_count": 31,
   "metadata": {},
   "outputs": [
    {
     "name": "stdout",
     "output_type": "stream",
     "text": [
      "[10, 40, 30, 40, 30]\n"
     ]
    }
   ],
   "source": [
    "list1.append(40)\n",
    "list1.append(30)\n",
    "print(list1)"
   ]
  },
  {
   "cell_type": "code",
   "execution_count": 34,
   "metadata": {},
   "outputs": [
    {
     "name": "stdout",
     "output_type": "stream",
     "text": [
      "[10, 30, 30, 40, 40]\n"
     ]
    }
   ],
   "source": [
    "list1.sort()\n",
    "print(list1)"
   ]
  },
  {
   "cell_type": "code",
   "execution_count": 40,
   "metadata": {},
   "outputs": [
    {
     "name": "stdout",
     "output_type": "stream",
     "text": [
      "{'홍길동': '010383838383', '홍길순': '010388383839'}\n"
     ]
    },
    {
     "data": {
      "text/plain": [
       "dict_values(['010383838383', '010388383839'])"
      ]
     },
     "execution_count": 40,
     "metadata": {},
     "output_type": "execute_result"
    }
   ],
   "source": [
    "phone_book={}\n",
    "phone_book[\"홍길동\"]=\"010383838383\"\n",
    "phone_book[\"홍길순\"]=\"010388383839\"\n",
    "print(phone_book)\n",
    "phone_book.keys()\n",
    "phone_book.values()\n"
   ]
  }
 ],
 "metadata": {
  "kernelspec": {
   "display_name": "Python 3",
   "language": "python",
   "name": "python3"
  },
  "language_info": {
   "codemirror_mode": {
    "name": "ipython",
    "version": 3
   },
   "file_extension": ".py",
   "mimetype": "text/x-python",
   "name": "python",
   "nbconvert_exporter": "python",
   "pygments_lexer": "ipython3",
   "version": "3.7.4"
  }
 },
 "nbformat": 4,
 "nbformat_minor": 2
}
