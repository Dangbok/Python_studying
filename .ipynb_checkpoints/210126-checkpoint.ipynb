{
 "cells": [
  {
   "cell_type": "code",
   "execution_count": 2,
   "metadata": {},
   "outputs": [],
   "source": [
    "from tkinter import *\n",
    "\n",
    "window=Tk()\n",
    "button=Button(window,text=\"클릭하세요!\")\n",
    "button.pack()\n",
    "\n",
    "window.mainloop()"
   ]
  },
  {
   "cell_type": "code",
   "execution_count": 6,
   "metadata": {},
   "outputs": [],
   "source": [
    "from tkinter import *\n",
    "\n",
    "window=Tk()\n",
    "\n",
    "l1=Label(window,text=\"화씨\")\n",
    "l2=Label(window,text=\"섭씨\")\n",
    "l1.pack()\n",
    "l2.pack()\n",
    "\n",
    "e1=Entry(window)\n",
    "e2=Entry(window)\n",
    "e1.pack()\n",
    "e2.pack()\n",
    "\n",
    "b1=Button(window,text=\"화씨->섭씨\")\n",
    "b2=Button(window,text=\"섭씨->화씨\")\n",
    "b1.pack()\n",
    "b2.pack()\n",
    "\n",
    "window.mainloop()\n"
   ]
  },
  {
   "cell_type": "code",
   "execution_count": 9,
   "metadata": {},
   "outputs": [
    {
     "name": "stdout",
     "output_type": "stream",
     "text": [
      "안녕하세요\n"
     ]
    }
   ],
   "source": [
    "from tkinter import *\n",
    "\n",
    "def process():\n",
    "    print(\"안녕하세요\")\n",
    "!\n",
    "window=Tk()\n",
    "button=Button(window,text=\"클릭하세요!\",command=process)\n",
    "button.pack()\n",
    "window.mainloop()"
   ]
  },
  {
   "cell_type": "code",
   "execution_count": 17,
   "metadata": {},
   "outputs": [],
   "source": [
    "from tkinter import *\n",
    "\n",
    "mycolor=\"blue\"\n",
    "\n",
    "def paint(event):\n",
    "    x1,y1=(event.x-1),(event.y+1)\n",
    "    x2,y2=(event.x-1),(event.y+1)\n",
    "    canvas.create_oval(x1,y1,x2,y2,fill=mycolor)\n",
    "    \n",
    "def change_color():\n",
    "        global mycolor\n",
    "        mycolor=\"red\"\n",
    "        \n",
    "window=Tk()\n",
    "canvas=Canvas(window)\n",
    "canvas.pack()\n",
    "canvas.bind(\"<B1-Motion>\",paint)\n",
    "button=Button(window,text=\"빨간색\",command=change_color)\n",
    "button.pack()\n",
    "window.mainloop()\n"
   ]
  }
 ],
 "metadata": {
  "kernelspec": {
   "display_name": "Python 3",
   "language": "python",
   "name": "python3"
  },
  "language_info": {
   "codemirror_mode": {
    "name": "ipython",
    "version": 3
   },
   "file_extension": ".py",
   "mimetype": "text/x-python",
   "name": "python",
   "nbconvert_exporter": "python",
   "pygments_lexer": "ipython3",
   "version": "3.7.4"
  }
 },
 "nbformat": 4,
 "nbformat_minor": 2
}
