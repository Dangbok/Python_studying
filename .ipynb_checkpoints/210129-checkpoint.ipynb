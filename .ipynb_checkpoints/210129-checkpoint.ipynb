{
 "cells": [
  {
   "cell_type": "code",
   "execution_count": 2,
   "metadata": {},
   "outputs": [
    {
     "name": "stdout",
     "output_type": "stream",
     "text": [
      "자동차 객체를 생성하였습니다\n",
      "자동차의 속도는 0\n",
      "자동차의 색상은 blue\n",
      "자동차의 모델은 E-Class\n",
      "자동차를 주행합니다\n",
      "자동차의 속도는 60\n"
     ]
    }
   ],
   "source": [
    "class Car:\n",
    "    def drive(self):\n",
    "        self.speed=60\n",
    "        \n",
    "myCar=Car()\n",
    "\n",
    "myCar.speed=0\n",
    "myCar.model=\"E-Class\"\n",
    "\n",
    "myCar.color=\"blue\"\n",
    "myCar.year=\"2017\"\n",
    "\n",
    "print(\"자동차 객체를 생성하였습니다\")\n",
    "print(\"자동차의 속도는\",myCar.speed)\n",
    "print(\"자동차의 색상은\",myCar.color)\n",
    "\n",
    "print(\"자동차의 모델은\",myCar.model)\n",
    "print(\"자동차를 주행합니다\")\n",
    "myCar.drive()\n",
    "print(\"자동차의 속도는\",myCar.speed)\n"
   ]
  },
  {
   "cell_type": "code",
   "execution_count": 3,
   "metadata": {},
   "outputs": [
    {
     "name": "stdout",
     "output_type": "stream",
     "text": [
      "자동차 객체를 생성하였습니다\n",
      "자동차의 속도는 0\n",
      "자동차의 색상은 blue\n",
      "자동차의 모델은 E-class\n",
      "자동차를 주행합니다\n",
      "자동차의 속도는 60\n"
     ]
    }
   ],
   "source": [
    "class Car:\n",
    "    def __init__(self,speed,color,model):\n",
    "        self.speed=speed\n",
    "        self.color=color\n",
    "        self.model=model\n",
    "        \n",
    "    def drive(self):\n",
    "        self.speed=60\n",
    "        \n",
    "myCar=Car(0,\"blue\",\"E-class\")\n",
    "\n",
    "print(\"자동차 객체를 생성하였습니다\")\n",
    "print(\"자동차의 속도는\",myCar.speed)\n",
    "print(\"자동차의 색상은\",myCar.color)\n",
    "\n",
    "print(\"자동차의 모델은\",myCar.model)\n",
    "print(\"자동차를 주행합니다\")\n",
    "myCar.drive()\n",
    "print(\"자동차의 속도는\",myCar.speed)\n"
   ]
  },
  {
   "cell_type": "code",
   "execution_count": 6,
   "metadata": {},
   "outputs": [],
   "source": [
    "class Car:\n",
    "    def __init__(self,speed,color,model):\n",
    "        self.speed=speed\n",
    "        self.color=color\n",
    "        self.model=model\n",
    "        \n",
    "    def drive(self):\n",
    "        \n",
    "        self.speed=60\n",
    "        \n",
    "dadCar=Car(0,\"silver\",\"A6\")\n",
    "momCar=Car(0,\"white\",\"520d\")\n",
    "myCar=Car(0,\"blue\",\"E-class\")\n"
   ]
  },
  {
   "cell_type": "code",
   "execution_count": 11,
   "metadata": {},
   "outputs": [
    {
     "name": "stdout",
     "output_type": "stream",
     "text": [
      "속도: 0\n",
      "색상: blue\n",
      "모델: E-class\n",
      "\n"
     ]
    }
   ],
   "source": [
    "class Car:\n",
    "    def __init__(self,speed,color,model):\n",
    "        self.speed=speed\n",
    "        self.color=color\n",
    "        self.model=model\n",
    "        \n",
    "    def __str__(self):\n",
    "        msg=\"속도: \"+str(self.speed)+\"\\n\"+\"색상: \"+self.color+\"\\n\"+\"모델: \"+self.model+\"\\n\"\n",
    "        return msg\n",
    "    \n",
    "myCar=Car(0,\"blue\",\"E-class\")\n",
    "print(myCar)\n"
   ]
  },
  {
   "cell_type": "code",
   "execution_count": 15,
   "metadata": {},
   "outputs": [
    {
     "ename": "AttributeError",
     "evalue": "'Ball' object has no attribute 'cnavas'",
     "output_type": "error",
     "traceback": [
      "\u001b[1;31m---------------------------------------------------------------------------\u001b[0m",
      "\u001b[1;31mAttributeError\u001b[0m                            Traceback (most recent call last)",
      "\u001b[1;32m<ipython-input-15-855cbb4185d3>\u001b[0m in \u001b[0;36m<module>\u001b[1;34m\u001b[0m\n\u001b[0;32m     45\u001b[0m             \u001b[0mcanvas\u001b[0m\u001b[1;33m.\u001b[0m\u001b[0mdelete\u001b[0m\u001b[1;33m(\u001b[0m\u001b[0mbullet\u001b[0m\u001b[1;33m.\u001b[0m\u001b[0mid\u001b[0m\u001b[1;33m)\u001b[0m\u001b[1;33m\u001b[0m\u001b[1;33m\u001b[0m\u001b[0m\n\u001b[0;32m     46\u001b[0m             \u001b[0mbullets\u001b[0m\u001b[1;33m.\u001b[0m\u001b[0mremove\u001b[0m\u001b[1;33m(\u001b[0m\u001b[0mbullet\u001b[0m\u001b[1;33m)\u001b[0m\u001b[1;33m\u001b[0m\u001b[1;33m\u001b[0m\u001b[0m\n\u001b[1;32m---> 47\u001b[1;33m     \u001b[0menemy\u001b[0m\u001b[1;33m.\u001b[0m\u001b[0mmove\u001b[0m\u001b[1;33m(\u001b[0m\u001b[1;33m)\u001b[0m\u001b[1;33m\u001b[0m\u001b[1;33m\u001b[0m\u001b[0m\n\u001b[0m\u001b[0;32m     48\u001b[0m     \u001b[0mwindow\u001b[0m\u001b[1;33m.\u001b[0m\u001b[0mupdate\u001b[0m\u001b[1;33m(\u001b[0m\u001b[1;33m)\u001b[0m\u001b[1;33m\u001b[0m\u001b[1;33m\u001b[0m\u001b[0m\n\u001b[0;32m     49\u001b[0m     \u001b[0mtime\u001b[0m\u001b[1;33m.\u001b[0m\u001b[0msleep\u001b[0m\u001b[1;33m(\u001b[0m\u001b[1;36m0.03\u001b[0m\u001b[1;33m)\u001b[0m\u001b[1;33m\u001b[0m\u001b[1;33m\u001b[0m\u001b[0m\n",
      "\u001b[1;32m<ipython-input-15-855cbb4185d3>\u001b[0m in \u001b[0;36mmove\u001b[1;34m(self)\u001b[0m\n\u001b[0;32m     18\u001b[0m \u001b[1;33m\u001b[0m\u001b[0m\n\u001b[0;32m     19\u001b[0m     \u001b[1;32mdef\u001b[0m \u001b[0mmove\u001b[0m\u001b[1;33m(\u001b[0m\u001b[0mself\u001b[0m\u001b[1;33m)\u001b[0m\u001b[1;33m:\u001b[0m\u001b[1;33m\u001b[0m\u001b[1;33m\u001b[0m\u001b[0m\n\u001b[1;32m---> 20\u001b[1;33m         \u001b[0mself\u001b[0m\u001b[1;33m.\u001b[0m\u001b[0mcnavas\u001b[0m\u001b[1;33m.\u001b[0m\u001b[0mmove\u001b[0m\u001b[1;33m(\u001b[0m\u001b[0mself\u001b[0m\u001b[1;33m.\u001b[0m\u001b[0mid\u001b[0m\u001b[1;33m,\u001b[0m\u001b[0mself\u001b[0m\u001b[1;33m.\u001b[0m\u001b[0mxspeed\u001b[0m\u001b[1;33m,\u001b[0m\u001b[0mself\u001b[0m\u001b[1;33m.\u001b[0m\u001b[0myspeed\u001b[0m\u001b[1;33m)\u001b[0m\u001b[1;33m\u001b[0m\u001b[1;33m\u001b[0m\u001b[0m\n\u001b[0m\u001b[0;32m     21\u001b[0m         \u001b[1;33m(\u001b[0m\u001b[0mx1\u001b[0m\u001b[1;33m,\u001b[0m\u001b[0my1\u001b[0m\u001b[1;33m,\u001b[0m\u001b[0mx2\u001b[0m\u001b[1;33m,\u001b[0m\u001b[0my2\u001b[0m\u001b[1;33m)\u001b[0m\u001b[1;33m=\u001b[0m\u001b[0mself\u001b[0m\u001b[1;33m.\u001b[0m\u001b[0mcnavas\u001b[0m\u001b[1;33m.\u001b[0m\u001b[0mcoords\u001b[0m\u001b[1;33m(\u001b[0m\u001b[0mself\u001b[0m\u001b[1;33m.\u001b[0m\u001b[0mid\u001b[0m\u001b[1;33m)\u001b[0m\u001b[1;33m\u001b[0m\u001b[1;33m\u001b[0m\u001b[0m\n\u001b[0;32m     22\u001b[0m         \u001b[1;33m(\u001b[0m\u001b[0mself\u001b[0m\u001b[1;33m.\u001b[0m\u001b[0mx\u001b[0m\u001b[1;33m,\u001b[0m\u001b[0mself\u001b[0m\u001b[1;33m.\u001b[0m\u001b[0my\u001b[0m\u001b[1;33m)\u001b[0m\u001b[1;33m+\u001b[0m\u001b[1;33m(\u001b[0m\u001b[0mx1\u001b[0m\u001b[1;33m,\u001b[0m\u001b[0my1\u001b[0m\u001b[1;33m)\u001b[0m\u001b[1;33m\u001b[0m\u001b[1;33m\u001b[0m\u001b[0m\n",
      "\u001b[1;31mAttributeError\u001b[0m: 'Ball' object has no attribute 'cnavas'"
     ]
    }
   ],
   "source": [
    "from tkinter import*\n",
    "import time\n",
    "import random\n",
    "\n",
    "WIDTH=800\n",
    "HEIGHT=400\n",
    "\n",
    "class Ball:\n",
    "    def __init__(self,canvas,color,size,x,y,xspeed,yspeed):\n",
    "        self.canvas=canvas\n",
    "        self.color=color\n",
    "        self.size=size\n",
    "        self.x=x\n",
    "        self.y=y\n",
    "        self.xspeed=xspeed\n",
    "        self.yspeed=yspeed\n",
    "        self.id=canvas.create_oval(x,y,x+size,y+size,fill=color)\n",
    "        \n",
    "    def move(self):\n",
    "        self.cnavas.move(self.id,self.xspeed,self.yspeed)\n",
    "        (x1,y1,x2,y2)=self.cnavas.coords(self.id)\n",
    "        (self.x,self.y)+(x1,y1)\n",
    "        if x1<=0 or x2>=WIDTH:\n",
    "            \n",
    "            self.xspeed=- self.xspeed\n",
    "        if y1<=0 or y2>=HEIGHT:\n",
    "            \n",
    "            self.yspeed=- self.yspeed\n",
    "bullets=[]\n",
    "def fire(event):\n",
    "    bullets.append(Ball(canvas,\"red\",10,150,250,10,0))\n",
    "\n",
    "window= Tk()\n",
    "canvas=Canvas(window,width=WIDTH,height=HEIGHT)\n",
    "canvas.pack()\n",
    "canvas.bind(\"<Button-1>\",fire)\n",
    "\n",
    "spaceship=Ball(canvas,\"green\",100,100,200,0,0)\n",
    "enemy=Ball(canvas,\"red\",100,500,200,0,5)\n",
    "\n",
    "while True:\n",
    "    for bullet in bullets:\n",
    "        bullet.move()\n",
    "        if(bullet.x+bullet.size)>=WIDTH:\n",
    "            canvas.delete(bullet.id)\n",
    "            bullets.remove(bullet)\n",
    "    enemy.move()\n",
    "    window.update()\n",
    "    time.sleep(0.03)"
   ]
  },
  {
   "cell_type": "code",
   "execution_count": null,
   "metadata": {},
   "outputs": [],
   "source": []
  }
 ],
 "metadata": {
  "kernelspec": {
   "display_name": "Python 3",
   "language": "python",
   "name": "python3"
  },
  "language_info": {
   "codemirror_mode": {
    "name": "ipython",
    "version": 3
   },
   "file_extension": ".py",
   "mimetype": "text/x-python",
   "name": "python",
   "nbconvert_exporter": "python",
   "pygments_lexer": "ipython3",
   "version": "3.7.4"
  }
 },
 "nbformat": 4,
 "nbformat_minor": 2
}
