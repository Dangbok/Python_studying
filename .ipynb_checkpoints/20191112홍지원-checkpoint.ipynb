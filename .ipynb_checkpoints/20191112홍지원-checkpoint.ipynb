{
 "cells": [
  {
   "cell_type": "code",
   "execution_count": 1,
   "metadata": {},
   "outputs": [],
   "source": [
    "a=1; b=1"
   ]
  },
  {
   "cell_type": "code",
   "execution_count": 2,
   "metadata": {},
   "outputs": [
    {
     "data": {
      "text/plain": [
       "False"
      ]
     },
     "execution_count": 2,
     "metadata": {},
     "output_type": "execute_result"
    }
   ],
   "source": [
    "a<b"
   ]
  },
  {
   "cell_type": "code",
   "execution_count": 3,
   "metadata": {},
   "outputs": [
    {
     "data": {
      "text/plain": [
       "True"
      ]
     },
     "execution_count": 3,
     "metadata": {},
     "output_type": "execute_result"
    }
   ],
   "source": [
    "a==b"
   ]
  },
  {
   "cell_type": "code",
   "execution_count": 4,
   "metadata": {},
   "outputs": [
    {
     "data": {
      "text/plain": [
       "False"
      ]
     },
     "execution_count": 4,
     "metadata": {},
     "output_type": "execute_result"
    }
   ],
   "source": [
    "a!=b"
   ]
  },
  {
   "cell_type": "code",
   "execution_count": 5,
   "metadata": {},
   "outputs": [],
   "source": [
    "a=1; b=2"
   ]
  },
  {
   "cell_type": "code",
   "execution_count": 6,
   "metadata": {},
   "outputs": [
    {
     "name": "stdout",
     "output_type": "stream",
     "text": [
      "a는 b보다 작다\n"
     ]
    }
   ],
   "source": [
    "if a<b:\n",
    "    print(\"a는 b보다 작다\")"
   ]
  },
  {
   "cell_type": "code",
   "execution_count": 7,
   "metadata": {},
   "outputs": [],
   "source": [
    "a=2; b=1\n",
    "if a<b:\n",
    "    print(\"a는 b보다 작다\")"
   ]
  },
  {
   "cell_type": "code",
   "execution_count": 2,
   "metadata": {},
   "outputs": [
    {
     "name": "stdout",
     "output_type": "stream",
     "text": [
      "성별이 무엇입니까?남자\n"
     ]
    }
   ],
   "source": [
    "성별=str(input(\"성별이 무엇입니까?\"))\n",
    "if 성별==\"여자\":\n",
    "    print(\"성별은\", 성별, \"입니다\")"
   ]
  },
  {
   "cell_type": "code",
   "execution_count": 10,
   "metadata": {},
   "outputs": [],
   "source": [
    "import turtle\n",
    "t=turtle.Turtle()\n",
    "t.shape(\"turtle\")"
   ]
  },
  {
   "cell_type": "code",
   "execution_count": 11,
   "metadata": {},
   "outputs": [],
   "source": [
    "t.penup() #그리지 않고 이동\n",
    "t.goto(100,100)  #좌표(100,100 이동)\n",
    "t.write(\"양수\")  #글씨 쓰기\n",
    "t.goto(100,0)\n",
    "t.write(\"0\")\n",
    "t.goto(100,-100)\n",
    "t.write(\"음수\")"
   ]
  },
  {
   "cell_type": "code",
   "execution_count": 16,
   "metadata": {},
   "outputs": [],
   "source": [
    "t.goto(0,0) #원점 복귀\n",
    "t.pendown() #그림 그리기\n",
    "s=turtle.textinput(\"\",\"숫자 입력\") #입력받는 명령어\n",
    "n=int(s)   #정수형(integar)으로 변형\n",
    "\n",
    "if n>0:\n",
    "    t.goto(100,100)\n",
    "if n==0:\n",
    "    t.goto(100,0)\n",
    "if n<0:\n",
    "    t.goto(100,-100)"
   ]
  },
  {
   "cell_type": "code",
   "execution_count": 1,
   "metadata": {},
   "outputs": [],
   "source": [
    "a=1"
   ]
  },
  {
   "cell_type": "code",
   "execution_count": 4,
   "metadata": {},
   "outputs": [],
   "source": [
    "a=3; b=2"
   ]
  },
  {
   "cell_type": "code",
   "execution_count": 5,
   "metadata": {},
   "outputs": [
    {
     "name": "stdout",
     "output_type": "stream",
     "text": [
      "a는 b보다 크거나 같다\n"
     ]
    }
   ],
   "source": [
    "if a<b:\n",
    "    print(\"a는 b보다 작다\")\n",
    "else:\n",
    "    print(\"a는 b보다 크거나 같다\")"
   ]
  },
  {
   "cell_type": "code",
   "execution_count": 7,
   "metadata": {},
   "outputs": [
    {
     "name": "stdout",
     "output_type": "stream",
     "text": [
      "성적을 입력하세요30\n",
      "불합격입니다\n"
     ]
    }
   ],
   "source": [
    "score= int(input(\"성적을 입력하세요\"))\n",
    "if score>=60:\n",
    "    print(\"합격입니다\")\n",
    "else:\n",
    "    print(\"불합격입니다\")"
   ]
  },
  {
   "cell_type": "markdown",
   "metadata": {},
   "source": [
    "# 연습문제"
   ]
  },
  {
   "cell_type": "code",
   "execution_count": 19,
   "metadata": {},
   "outputs": [
    {
     "name": "stdout",
     "output_type": "stream",
     "text": [
      "정수를 입력하시오:10\n",
      "짝수입니다\n"
     ]
    }
   ],
   "source": [
    "num=int(input(\"정수를 입력하시오:\"))\n",
    "if num%2==0:\n",
    "    print(\"짝수입니다\")\n",
    "else:\n",
    "    print(\"홀수입니다\")"
   ]
  },
  {
   "cell_type": "code",
   "execution_count": 22,
   "metadata": {},
   "outputs": [
    {
     "name": "stdout",
     "output_type": "stream",
     "text": [
      "a가 b와 같다\n"
     ]
    }
   ],
   "source": [
    "a=2; b=2\n",
    "if a<b:\n",
    "    print(\"a가 b보다 작다\")\n",
    "elif a>b:\n",
    "    print(\"a가 b보다 크다\")\n",
    "else:\n",
    "    print(\"a가 b와 같다\")"
   ]
  },
  {
   "cell_type": "code",
   "execution_count": 26,
   "metadata": {},
   "outputs": [
    {
     "name": "stdout",
     "output_type": "stream",
     "text": [
      "1~4 사이의 숫자를 하나 입력하세요4\n",
      "4를 뽑았습니다\n"
     ]
    }
   ],
   "source": [
    "answer=int(input(\"1~4 사이의 숫자를 하나 입력하세요\"))\n",
    "if answer==1:\n",
    "    print(\"1을 뽑았습니다\")\n",
    "elif answer==2:\n",
    "    print(\"2를 뽑았습니다\")\n",
    "elif answer==3:\n",
    "    print(\"3을 뽑았습니다\")\n",
    "else:\n",
    "    print(\"4를 뽑았습니다\")"
   ]
  },
  {
   "cell_type": "markdown",
   "metadata": {},
   "source": [
    "# 연습문제"
   ]
  },
  {
   "cell_type": "code",
   "execution_count": 34,
   "metadata": {},
   "outputs": [
    {
     "name": "stdout",
     "output_type": "stream",
     "text": [
      "나이를 입력하세요40\n",
      "본인의 인상을 책임질 시기가 되었습니다\n"
     ]
    }
   ],
   "source": [
    "myage=int(input(\"나이를 입력하세요\"))\n",
    "if myage>=40:\n",
    "    print(\"본인의 인상을 책임질 시기가 되었습니다\")\n",
    "elif myage>=30:\n",
    "    print(\"조금씩 신경쓰세요\")\n",
    "else:\n",
    "    print(\"아직 마음껏 사세요\")"
   ]
  },
  {
   "cell_type": "code",
   "execution_count": 38,
   "metadata": {},
   "outputs": [
    {
     "name": "stdout",
     "output_type": "stream",
     "text": [
      "점수를 입력하세요55\n",
      "학점은 F 입니다\n"
     ]
    }
   ],
   "source": [
    "score=int(input(\"점수를 입력하세요\"))\n",
    "if score>=90:\n",
    "    grade='A'\n",
    "elif score>=80:\n",
    "    grade='B'\n",
    "elif score>=70:\n",
    "    grade='C'\n",
    "elif score>=60:\n",
    "    grade='D'\n",
    "else:\n",
    "    grade='F'\n",
    "print(\"학점은\",grade,\"입니다\")"
   ]
  },
  {
   "cell_type": "code",
   "execution_count": 41,
   "metadata": {},
   "outputs": [
    {
     "name": "stdout",
     "output_type": "stream",
     "text": [
      "키를 입력하세요170\n",
      "나이를 입력하세요8\n",
      "아직 이용하실 수 없습니다\n"
     ]
    }
   ],
   "source": [
    "키=int(input(\"키를 입력하세요\"))\n",
    "나이=int(input(\"나이를 입력하세요\"))\n",
    "if 키>=165 and 나이>=10: #두 조건이 맞는 경우\n",
    "    print(\"마음껏 타세요\")\n",
    "elif 키<165 or 나이<10: #둘 중에 하나라도 해당하는 경우\n",
    "    print(\"아직 이용하실 수 없습니다\")\n",
    "else:\n",
    "    print(\"-\")\n"
   ]
  },
  {
   "cell_type": "code",
   "execution_count": 43,
   "metadata": {},
   "outputs": [
    {
     "name": "stdout",
     "output_type": "stream",
     "text": [
      "to be\n"
     ]
    }
   ],
   "source": [
    "s='So many reasons to be happy'\n",
    "if 'Soo' in s:\n",
    "    print('Soo')\n",
    "elif 'many'not in s:\n",
    "    print('much')\n",
    "elif 'why'in s or 'what'in s:\n",
    "    print('why')\n",
    "elif 'to' in s and 'be' in s:\n",
    "    print('to be')\n",
    "elif 'happy' in s:\n",
    "    print('happy')\n",
    "else:\n",
    "    print('-')"
   ]
  },
  {
   "cell_type": "code",
   "execution_count": 8,
   "metadata": {},
   "outputs": [],
   "source": [
    "import turtle\n",
    "t=turtle.Turtle()\n",
    "t.shape(\"turtle\")\n",
    "t.forward(100)\n",
    "t.left(90)\n",
    "t.forward(100)\n",
    "t.left(90)\n",
    "t.forward(100)\n",
    "t.left(90)\n",
    "t.forward(100)\n",
    "t.left(90)\n",
    "t.color(\"red\")\n",
    "t.penup()\n"
   ]
  },
  {
   "cell_type": "code",
   "execution_count": 1,
   "metadata": {},
   "outputs": [],
   "source": [
    "a=6 ; b=4"
   ]
  },
  {
   "cell_type": "code",
   "execution_count": 3,
   "metadata": {},
   "outputs": [],
   "source": [
    "if a<b:\n",
    "    print(\"a가 b보다 크다\")"
   ]
  },
  {
   "cell_type": "code",
   "execution_count": 6,
   "metadata": {},
   "outputs": [
    {
     "name": "stdout",
     "output_type": "stream",
     "text": [
      "당신의 성별은?여\n"
     ]
    }
   ],
   "source": [
    "성별=str(input(\"당신의 성별은?\"))\n",
    "if 성별==\"여자\":\n",
    "    print(\"당신의 성별은\",성별,\"입니다\")"
   ]
  },
  {
   "cell_type": "code",
   "execution_count": 7,
   "metadata": {},
   "outputs": [],
   "source": [
    "import turtle\n",
    "t=turtle.Turtle()\n",
    "t.shape(\"turtle\")"
   ]
  },
  {
   "cell_type": "code",
   "execution_count": 8,
   "metadata": {},
   "outputs": [],
   "source": [
    "t.penup()\n",
    "t.goto(100,100)\n",
    "t.write(\"양수\")"
   ]
  },
  {
   "cell_type": "code",
   "execution_count": 9,
   "metadata": {},
   "outputs": [],
   "source": [
    "t.penup()\n",
    "t.goto(100,0)\n",
    "t.write(\"0\")\n",
    "t.penup()\n",
    "t.goto(100,-100)\n",
    "t.write(\"음수\")"
   ]
  },
  {
   "cell_type": "code",
   "execution_count": 10,
   "metadata": {},
   "outputs": [],
   "source": [
    "t.goto(0,0)\n",
    "t.pendown()"
   ]
  },
  {
   "cell_type": "code",
   "execution_count": 15,
   "metadata": {},
   "outputs": [],
   "source": [
    "s=turtle.textinput(\"\",\"숫자입력\")\n",
    "n=int(s)\n",
    "\n",
    "if n>0:\n",
    "    t.goto(100,100)\n",
    "if n==0:\n",
    "    t.goto(100,0)\n",
    "if n<0:\n",
    "    t.goto(100,-100)"
   ]
  },
  {
   "cell_type": "code",
   "execution_count": 16,
   "metadata": {},
   "outputs": [],
   "source": [
    "t.clear()"
   ]
  },
  {
   "cell_type": "code",
   "execution_count": 17,
   "metadata": {},
   "outputs": [],
   "source": [
    "t.reset()"
   ]
  },
  {
   "cell_type": "code",
   "execution_count": 19,
   "metadata": {},
   "outputs": [
    {
     "name": "stdout",
     "output_type": "stream",
     "text": [
      "성적을 입력하세요78\n",
      "불합격입니다\n"
     ]
    }
   ],
   "source": [
    "score=int(input(\"성적을 입력하세요\"))\n",
    "if score>=90:\n",
    "    print(\"합격입니다\")\n",
    "else:\n",
    "    print(\"불합격입니다\")"
   ]
  },
  {
   "cell_type": "code",
   "execution_count": 23,
   "metadata": {},
   "outputs": [
    {
     "name": "stdout",
     "output_type": "stream",
     "text": [
      "정수를 입력하시오59494993939332224323\n",
      "홀수\n"
     ]
    }
   ],
   "source": [
    "num=int(input(\"정수를 입력하시오\"))\n",
    "if num%2==0:\n",
    "    print(\"짝수\")\n",
    "else:\n",
    "    print(\"홀수\")"
   ]
  },
  {
   "cell_type": "code",
   "execution_count": 28,
   "metadata": {},
   "outputs": [
    {
     "name": "stdout",
     "output_type": "stream",
     "text": [
      "6~8 사이의 숫자를 입력하세요8\n",
      "8을 뽑았습니다\n"
     ]
    }
   ],
   "source": [
    "answer=int(input(\"6~8 사이의 숫자를 입력하세요\"))\n",
    "if answer==6:\n",
    "    print(\"6을 뽑았습니다\")\n",
    "elif answer==7:\n",
    "    print(\"7을 뽑았습니다\")\n",
    "else:\n",
    "    print(\"8을 뽑았습니다\")"
   ]
  },
  {
   "cell_type": "code",
   "execution_count": 32,
   "metadata": {},
   "outputs": [
    {
     "name": "stdout",
     "output_type": "stream",
     "text": [
      "점수를 입력하세요49\n",
      "당신의 학점은 F 입니다\n"
     ]
    }
   ],
   "source": [
    "score=int(input(\"점수를 입력하세요\"))\n",
    "if score>=90:\n",
    "    grade='A'\n",
    "elif score>=80:\n",
    "    grade='B'\n",
    "elif score>=70:\n",
    "    grade='C'\n",
    "elif score>=60:\n",
    "    grade='D'\n",
    "elif score>=50:\n",
    "    grade='E'\n",
    "else:\n",
    "    grade='F'\n",
    "    \n",
    "print(\"당신의 학점은\",grade,\"입니다\")"
   ]
  },
  {
   "cell_type": "code",
   "execution_count": 35,
   "metadata": {},
   "outputs": [
    {
     "name": "stdout",
     "output_type": "stream",
     "text": [
      "키를 입력해주세요150\n",
      "나이를 입력해주세요11\n",
      "이용 불가능\n"
     ]
    }
   ],
   "source": [
    "키=int(input(\"키를 입력해주세요\"))\n",
    "나이=int(input(\"나이를 입력해주세요\"))\n",
    "if 키>=160 and 나이>=10:\n",
    "    print(\"이용 가능\")\n",
    "elif 키<160 or 나이<10:\n",
    "    print(\"이용 불가능\")\n",
    "else:\n",
    "    print(\"-\")"
   ]
  },
  {
   "cell_type": "code",
   "execution_count": 37,
   "metadata": {},
   "outputs": [
    {
     "name": "stdout",
     "output_type": "stream",
     "text": [
      "haha\n"
     ]
    }
   ],
   "source": [
    "a='HONG is a happy woman'\n",
    "if 'Hoong' in a:\n",
    "    print('Hoong')\n",
    "elif 'is an' in a:\n",
    "    print(\"is\")\n",
    "elif 'happyy' in a and 'woman' in a:\n",
    "    print('happy woman')\n",
    "else:\n",
    "    print('haha')"
   ]
  },
  {
   "cell_type": "code",
   "execution_count": 38,
   "metadata": {},
   "outputs": [],
   "source": [
    "t.begin_fill()"
   ]
  },
  {
   "cell_type": "code",
   "execution_count": 39,
   "metadata": {},
   "outputs": [],
   "source": [
    "t.color('red')"
   ]
  },
  {
   "cell_type": "code",
   "execution_count": 40,
   "metadata": {},
   "outputs": [],
   "source": [
    "t.circle(100)"
   ]
  },
  {
   "cell_type": "code",
   "execution_count": 41,
   "metadata": {},
   "outputs": [],
   "source": [
    "t.begin_fill()"
   ]
  },
  {
   "cell_type": "code",
   "execution_count": 43,
   "metadata": {},
   "outputs": [],
   "source": [
    "t.fillcolor('red')"
   ]
  },
  {
   "cell_type": "code",
   "execution_count": 44,
   "metadata": {},
   "outputs": [],
   "source": [
    "t.forward(100)"
   ]
  },
  {
   "cell_type": "code",
   "execution_count": 45,
   "metadata": {},
   "outputs": [],
   "source": [
    "t.fillcolor('yellow')"
   ]
  },
  {
   "cell_type": "code",
   "execution_count": 48,
   "metadata": {},
   "outputs": [],
   "source": [
    "t.end_fill()\n",
    "t.begin_fill()\n",
    "t.circle(100)"
   ]
  },
  {
   "cell_type": "code",
   "execution_count": 49,
   "metadata": {},
   "outputs": [],
   "source": [
    "t.reset()"
   ]
  },
  {
   "cell_type": "code",
   "execution_count": 57,
   "metadata": {},
   "outputs": [],
   "source": [
    "t.begin_fill()\n",
    "t.fillcolor('red')\n",
    "t.circle(100)\n",
    "t.end_fill()\n",
    "t.forward(100)\n",
    "t.begin_fill()\n",
    "t.fillcolor('yellow')\n",
    "t.circle(100)\n",
    "t.end_fill()\n",
    "t.forward(100)\n",
    "t.begin_fill()\n",
    "t.fillcolor('blue')\n",
    "t.circle(100)\n",
    "t.end_fill()\n",
    "\n"
   ]
  },
  {
   "cell_type": "code",
   "execution_count": 58,
   "metadata": {},
   "outputs": [],
   "source": [
    "t.reset()"
   ]
  },
  {
   "cell_type": "code",
   "execution_count": null,
   "metadata": {},
   "outputs": [],
   "source": []
  }
 ],
 "metadata": {
  "kernelspec": {
   "display_name": "Python 3",
   "language": "python",
   "name": "python3"
  },
  "language_info": {
   "codemirror_mode": {
    "name": "ipython",
    "version": 3
   },
   "file_extension": ".py",
   "mimetype": "text/x-python",
   "name": "python",
   "nbconvert_exporter": "python",
   "pygments_lexer": "ipython3",
   "version": "3.7.4"
  }
 },
 "nbformat": 4,
 "nbformat_minor": 2
}
